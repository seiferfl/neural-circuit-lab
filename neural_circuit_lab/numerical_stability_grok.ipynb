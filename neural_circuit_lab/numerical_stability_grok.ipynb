{
 "cells": [
  {
   "cell_type": "markdown",
   "id": "a551357d",
   "metadata": {},
   "source": [
    "# Grokking at the edge of numerical stabiity\n",
    "In this notebook we would like to explore a bit about grokking, from a viewpoint that is inspired by the paper [Grokking at the edge of numerical stability](https://arxiv.org/abs/2501.04697)."
   ]
  },
  {
   "cell_type": "markdown",
   "id": "29291b64",
   "metadata": {},
   "source": [
    "The initial setup is same as in simple grokking demo - trainiing a network to do modular addition."
   ]
  },
  {
   "cell_type": "code",
   "execution_count": 1,
   "id": "3be2a5ce",
   "metadata": {},
   "outputs": [],
   "source": [
    "# Import stuff\n",
    "import numpy as np\n",
    "import torch as t\n",
    "import torch.nn as nn\n",
    "import torch.optim as optim\n",
    "import torch.nn.functional as F\n",
    "import einops"
   ]
  },
  {
   "cell_type": "code",
   "execution_count": 2,
   "id": "21a8dc14",
   "metadata": {},
   "outputs": [
    {
     "name": "stdout",
     "output_type": "stream",
     "text": [
      "Using cpu device\n"
     ]
    }
   ],
   "source": [
    "# Setup\n",
    "p = 97\n",
    "train_frac  = 0.3\n",
    "device = t.accelerator.current_accelerator().type if t.accelerator.is_available() else \"cpu\"\n",
    "device = \"cpu\"  # for the experiment we use cpu since mps cannot deal with float 64 apparently\n",
    "print(f\"Using {device} device\")"
   ]
  },
  {
   "cell_type": "markdown",
   "id": "ddd25b39",
   "metadata": {},
   "source": [
    "## Dataset\n",
    "The dataset consists of tupels of (a,b) and labels c, where a+b = c mod p"
   ]
  },
  {
   "cell_type": "code",
   "execution_count": 3,
   "id": "380cd02b",
   "metadata": {},
   "outputs": [
    {
     "name": "stdout",
     "output_type": "stream",
     "text": [
      "tensor([[27, 44],\n",
      "        [73, 24],\n",
      "        [31, 57],\n",
      "        ...,\n",
      "        [49, 67],\n",
      "        [34, 81],\n",
      "        [74, 67]])\n",
      "tensor([71,  0, 88,  ..., 19, 18, 44])\n"
     ]
    }
   ],
   "source": [
    "a_vec = einops.repeat(t.arange(p),\"i -> (i j)\",j=p)\n",
    "b_vec = einops.repeat(t.arange(p),\"j -> (i j)\",i=p)\n",
    "\n",
    "# The dataset consists of pairs (x,y) with x = (a,b) and y = a+b mod p\n",
    "# we randomly permute the dataset and split it into train and test dataset\n",
    "dataset = t.stack([a_vec,b_vec],dim=1).to(device=device)\n",
    "labels = (dataset[:,0] + dataset[:,1]) % p\n",
    "indices = t.randperm(p**2)\n",
    "train_indices = indices[:int(train_frac*p**2)]\n",
    "test_indices = indices[int(train_frac*p**2):]\n",
    "\n",
    "train_dataset = dataset[train_indices]\n",
    "train_labels = labels[train_indices]\n",
    "\n",
    "test_dataset = dataset[test_indices]\n",
    "test_labels = labels[test_indices]\n",
    "print(train_dataset)\n",
    "print(train_labels)"
   ]
  },
  {
   "cell_type": "markdown",
   "id": "048c6028",
   "metadata": {},
   "source": [
    "## Model architecture\n",
    "\n",
    "We take a simple one-layer MLP with a learned embedding and unembedding\n",
    "The architecture is:\n",
    "\n",
    "0. Token: the tokens $t_0,t_1$ are one hot encoded d_vocab dimensional vectors and the input sequence is $$t = (t_0,t_1)^T$$\n",
    "1. Embedding: The tokens are embedded in the d_model dimensional space by a learnable matrix W_E $$x_0 = Embed(t) = t @W_E$$\n",
    "2. Concat: We concatenate the n_ctx(=2) vectors to form a d_model * n_ctx dimensional vector $$x_1 = flat(x_0)$$\n",
    "3. MLP layer: A simple mlp with one hidden layer that is d_mlp = 4*d_model*n_ctx dimensional with ReLU activation function and bias:\n",
    "$$x_2 = ReLU(x_1 @ W_{in} + b_{in}) @ W_{out}$$\n",
    "4. Unembedding: a learned unembedding matrix W_U that maps back to the vocab.\n",
    "$$x_3 = x_2 @ W_U$$"
   ]
  },
  {
   "cell_type": "code",
   "execution_count": 4,
   "id": "7d7739f8",
   "metadata": {},
   "outputs": [],
   "source": [
    "#Config for the transformer architecture\n",
    "d_vocab = p   #The input consists of the numbers from 0 to p-1 and p for the equal sign\n",
    "d_model = 128   #dimension of the model\n",
    "n_ctx = 2       #context length (a,b,=) where = is encoded as 97\n",
    "d_mlp = 2 * d_model * n_ctx\n",
    "act_type = \"ReLU\"   #or GeLU"
   ]
  },
  {
   "cell_type": "code",
   "execution_count": null,
   "id": "c5684793",
   "metadata": {},
   "outputs": [],
   "source": [
    "from models.simple_models import SimpleMLP\n"
   ]
  },
  {
   "cell_type": "code",
   "execution_count": null,
   "id": "cf74b99d",
   "metadata": {},
   "outputs": [],
   "source": []
  }
 ],
 "metadata": {
  "kernelspec": {
   "display_name": "ncl",
   "language": "python",
   "name": "python3"
  },
  "language_info": {
   "codemirror_mode": {
    "name": "ipython",
    "version": 3
   },
   "file_extension": ".py",
   "mimetype": "text/x-python",
   "name": "python",
   "nbconvert_exporter": "python",
   "pygments_lexer": "ipython3",
   "version": "3.12.11"
  }
 },
 "nbformat": 4,
 "nbformat_minor": 5
}
