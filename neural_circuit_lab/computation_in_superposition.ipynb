{
 "cells": [
  {
   "cell_type": "markdown",
   "id": "795c7296",
   "metadata": {},
   "source": [
    "# Computation in superposition\n",
    "The goal of this notebook is to explore, how computation in superposition works. This is inspired by the paper [Mathematical Models of Computation in Superposition](https://arxiv.org/abs/2408.05451).\n",
    "\n",
    "According to the paper, a one layer MLP with ReLU activations is able to compute the Universal AND (UAND) of binary features in superposition. We do experiments to see if the model actually learns this:\n",
    "\n",
    "1. Naive Computation of UAND\n",
    "2. Computation of UAND in superposition for basis-aligned features\n",
    "3. Computation of UAND in superposition for not basis-aligned features"
   ]
  },
  {
   "cell_type": "markdown",
   "id": "62891583",
   "metadata": {},
   "source": [
    "## Notation\n",
    "We consider a fully-connected Neural Network $M:X \\rightarrow Y$ with $L$ layers and ReLU activation functions. Let $x$ be the input of the MLP and let $d$ be the dimension of the hidden layers. We denote by $m$ the number of features.\n",
    "\n",
    "For $k \\in \\{1,...,m \\}$ we call a function $f_k:X \\rightarrow \\{0,1\\}$ a boolean feature. A common assumption is that features are represented as directions in the activation space, i.e. that the activation of a given layer is given by $a(x) = \\sum_i v_i f_i(x)$, where $v_1,...,v_m \\in \\mathbb R^d$ are called feature vectors. We call these basis aligned, if they correspond to the coordinate directions. A NN can (noisily) represent more feaures than it has dimensions ($m>d$) by choosing almost orthohonal feature vectors [Toy Models of Superposition](https://arxiv.org/abs/2209.10652).\n",
    "\n",
    "Let $b \\in \\{ 0,1\\}^m$ be a boolean vector. The UAND of b has $m \\choose 2$ outputs, where each output is the AND of one of the ordered pairs.\n",
    "\n"
   ]
  },
  {
   "cell_type": "markdown",
   "id": "99a5b40b",
   "metadata": {},
   "source": [
    "## 1. Naive computation of UAND\n",
    "For two boolean variables $x_1,x_2$, we can calculate their AND via $x_1 \\wedge x_2 = ReLU(x_1+ x_2 -1)$. We can create a one-layer NN, with $m$ dimensional input and $m \\choose 2$ neurons, that are taking the AND of two inputs. This Implements the UAND, where the activation of the output gives us a basis aligned and of the input features."
   ]
  },
  {
   "cell_type": "code",
   "execution_count": 148,
   "id": "ae4cb405",
   "metadata": {},
   "outputs": [],
   "source": [
    "import torch\n",
    "import einops\n",
    "import torch.nn as nn\n",
    "import torch.nn.functional as F\n",
    "import numpy as np\n",
    "from torch.utils.data import DataLoader, TensorDataset\n",
    "import tqdm.auto as tqdm"
   ]
  },
  {
   "cell_type": "code",
   "execution_count": 149,
   "id": "284f5960",
   "metadata": {},
   "outputs": [],
   "source": [
    "class MLP(nn.Module):\n",
    "    def __init__(self, d_in, d_hidden):\n",
    "        super().__init__()\n",
    "        self.W_in = nn.Parameter(torch.randn(d_hidden, d_in) / np.sqrt(d_in))\n",
    "        self.b_in = nn.Parameter(torch.zeros(d_hidden) - 1)\n",
    "\n",
    "    def forward(self, x):           # x shape: (d_in, batch)\n",
    "        x = torch.einsum('dm, mb -> db', self.W_in, x)  # (d_hidden, batch)\n",
    "        x = x + self.b_in[:, None]                      # broadcast bias\n",
    "        return F.relu(x)"
   ]
  },
  {
   "cell_type": "code",
   "execution_count": 161,
   "id": "4b5f9515",
   "metadata": {},
   "outputs": [],
   "source": [
    "# Setup\n",
    "m = 20\n",
    "d = int(m*(m-1)/2)\n",
    "batch_size = 100000\n",
    "train_frac = 0.3\n",
    "device = \"cpu\""
   ]
  },
  {
   "cell_type": "code",
   "execution_count": 163,
   "id": "f173c8fb",
   "metadata": {},
   "outputs": [
    {
     "name": "stdout",
     "output_type": "stream",
     "text": [
      "torch.Size([20, 30000])\n",
      "torch.Size([190, 30000])\n",
      "190.0\n"
     ]
    }
   ],
   "source": [
    "bool_vecs = torch.randint(low = 0,high = 2, size = (m,batch_size))\n",
    "\n",
    "\n",
    "output_size  = int(m*(m-1)/2)\n",
    "out_vec = torch.zeros(size = (output_size,batch_size))\n",
    "#This for loop is inredibly inefficient and can probably be vecorized\n",
    "\"\"\"\n",
    "for batch in range(batch_size):\n",
    "    k = 0\n",
    "    for i in range(m):\n",
    "        for j in range(i+1,m):\n",
    "            if bool_vecs[i,batch] == 1 and bool_vecs[j,batch] == 1:\n",
    "                out_vec[k,batch] = 1\n",
    "            k +=1\n",
    "\"\"\"\n",
    "idx_i, idx_j = torch.triu_indices(m, m, offset=1)  # all pairs i<j\n",
    "out_vec = (bool_vecs[idx_i] & bool_vecs[idx_j]).float()  # (d, batch)\n",
    "\n",
    "\n",
    "#Split into train and test data\n",
    "split = int(train_frac*batch_size)\n",
    "train_data = bool_vecs[:,:split].to(torch.float32)\n",
    "train_labels = out_vec[:,:split].to(torch.float32)\n",
    "test_data = bool_vecs[:,split:].to(torch.float32)\n",
    "test_labels = out_vec[:,split:].to(torch.float32)\n",
    "\n",
    "print(train_data.shape)\n",
    "print(train_labels.shape)\n",
    "print(m*(m-1)/2)\n"
   ]
  },
  {
   "cell_type": "code",
   "execution_count": 164,
   "id": "d0d03256",
   "metadata": {},
   "outputs": [
    {
     "data": {
      "text/plain": [
       "tensor([[0.0000, 0.0000, 0.0000,  ..., 0.0000, 0.0000, 0.0000],\n",
       "        [0.0000, 0.0000, 0.0000,  ..., 0.0000, 0.0000, 0.0000],\n",
       "        [0.0000, 0.0000, 0.0000,  ..., 0.0000, 0.0000, 0.0000],\n",
       "        ...,\n",
       "        [0.0000, 0.0000, 0.0000,  ..., 0.0000, 0.0000, 0.0000],\n",
       "        [0.0000, 0.0000, 0.9027,  ..., 0.0000, 0.1156, 0.0000],\n",
       "        [0.0000, 0.0000, 0.0000,  ..., 0.0000, 0.0000, 0.0000]],\n",
       "       grad_fn=<ReluBackward0>)"
      ]
     },
     "execution_count": 164,
     "metadata": {},
     "output_type": "execute_result"
    }
   ],
   "source": [
    "one_layer_mlp = MLP(m,d).to(device=device)\n",
    "one_layer_mlp(train_data)"
   ]
  },
  {
   "cell_type": "code",
   "execution_count": 165,
   "id": "829bd01b",
   "metadata": {},
   "outputs": [],
   "source": [
    "#training parameters\n",
    "n_epoch = 10000\n",
    "lr = 1e-3\n",
    "wd = 1.\n",
    "DATA_SEED = 346\n",
    "betas = (0.9,0.98)\n"
   ]
  },
  {
   "cell_type": "code",
   "execution_count": 166,
   "id": "0ad85892",
   "metadata": {},
   "outputs": [],
   "source": [
    "# Define optimizer\n",
    "optimizer = torch.optim.AdamW(one_layer_mlp.parameters(),lr=lr, betas=betas,weight_decay=wd)"
   ]
  },
  {
   "cell_type": "code",
   "execution_count": 167,
   "id": "795e7bd8",
   "metadata": {},
   "outputs": [
    {
     "name": "stdout",
     "output_type": "stream",
     "text": [
      "tensor(0.2539, grad_fn=<MseLossBackward0>)\n"
     ]
    }
   ],
   "source": [
    "#Define loss\n",
    "def loss_fn(pred, target):\n",
    "    \"\"\"\n",
    "    pred   : Tensor of arbitrary shape\n",
    "    target : same shape as pred\n",
    "    returns: scalar mean((pred - target)^2)\n",
    "    \"\"\"\n",
    "    return (pred - target).pow(2).mean()\n",
    "\n",
    "\n",
    "pred = one_layer_mlp(train_data)\n",
    "loss2 = loss_fn(pred, train_labels)\n",
    "print(loss(one_layer_mlp(train_data),train_labels))\n"
   ]
  },
  {
   "cell_type": "code",
   "execution_count": null,
   "id": "87666576",
   "metadata": {},
   "outputs": [
    {
     "name": "stderr",
     "output_type": "stream",
     "text": [
      "  1%|          | 103/10000 [00:03<04:52, 33.87it/s]"
     ]
    },
    {
     "name": "stdout",
     "output_type": "stream",
     "text": [
      "Epoch 99 Train Loss 0.22292789816856384 Test loss 0.22165447473526\n"
     ]
    },
    {
     "name": "stderr",
     "output_type": "stream",
     "text": [
      "  2%|▏         | 203/10000 [00:06<05:01, 32.46it/s]"
     ]
    },
    {
     "name": "stdout",
     "output_type": "stream",
     "text": [
      "Epoch 199 Train Loss 0.18211495876312256 Test loss 0.18105600774288177\n"
     ]
    },
    {
     "name": "stderr",
     "output_type": "stream",
     "text": [
      "  3%|▎         | 304/10000 [00:09<04:47, 33.78it/s]"
     ]
    },
    {
     "name": "stdout",
     "output_type": "stream",
     "text": [
      "Epoch 299 Train Loss 0.15319542586803436 Test loss 0.1524365097284317\n"
     ]
    },
    {
     "name": "stderr",
     "output_type": "stream",
     "text": [
      "  4%|▍         | 404/10000 [00:12<04:42, 34.00it/s]"
     ]
    },
    {
     "name": "stdout",
     "output_type": "stream",
     "text": [
      "Epoch 399 Train Loss 0.1384338140487671 Test loss 0.13779056072235107\n"
     ]
    },
    {
     "name": "stderr",
     "output_type": "stream",
     "text": [
      "  4%|▍         | 420/10000 [00:12<05:07, 31.15it/s]"
     ]
    }
   ],
   "source": [
    "train_losses = []\n",
    "test_losses = []\n",
    "for epoch in tqdm.tqdm(range(n_epoch)):\n",
    "    train_pred = one_layer_mlp(train_data)\n",
    "    train_loss = loss_fn(train_pred,train_labels)\n",
    "    train_loss.backward()\n",
    "    train_losses.append(train_loss.item())\n",
    "    optimizer.step()\n",
    "    optimizer.zero_grad()\n",
    "    with torch.inference_mode():\n",
    "        test_pred = one_layer_mlp(test_data)\n",
    "        test_loss = loss_fn(test_pred,test_labels)\n",
    "        test_losses.append(test_loss.item())\n",
    "\n",
    "    if ((epoch+1)%100)==0:\n",
    "        print(f\"Epoch {epoch} Train Loss {train_loss.item()} Test loss {test_loss.item()}\")"
   ]
  },
  {
   "cell_type": "code",
   "execution_count": 160,
   "id": "361e9c8a",
   "metadata": {},
   "outputs": [
    {
     "data": {
      "image/png": "[encoded data removed]",
      "text/plain": [
       "<Figure size 640x480 with 1 Axes>"
      ]
     },
     "metadata": {},
     "output_type": "display_data"
    }
   ],
   "source": [
    "import matplotlib.pyplot as plt\n",
    "plt.plot(train_losses,label=\"Training Loss\")\n",
    "plt.plot(test_losses,label=\"Test Loss\")\n",
    "plt.xlabel(\"Epoch\")\n",
    "plt.ylabel(\"MSE Loss\")\n",
    "#plt.yscale(\"log\")\n",
    "plt.title(\"Traing and Test loss\")\n",
    "plt.legend()\n",
    "plt.show()"
   ]
  },
  {
   "cell_type": "code",
   "execution_count": null,
   "id": "5e952136",
   "metadata": {},
   "outputs": [],
   "source": []
  }
 ],
 "metadata": {
  "kernelspec": {
   "display_name": "ncl",
   "language": "python",
   "name": "python3"
  },
  "language_info": {
   "codemirror_mode": {
    "name": "ipython",
    "version": 3
   },
   "file_extension": ".py",
   "mimetype": "text/x-python",
   "name": "python",
   "nbconvert_exporter": "python",
   "pygments_lexer": "ipython3",
   "version": "3.12.11"
  }
 },
 "nbformat": 4,
 "nbformat_minor": 5
}
