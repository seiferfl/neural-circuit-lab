{
 "cells": [
  {
   "cell_type": "markdown",
   "id": "2c5aa590",
   "metadata": {},
   "source": [
    "# Simple grokking demo with superposition"
   ]
  },
  {
   "cell_type": "code",
   "execution_count": 58,
   "id": "f6d6818b",
   "metadata": {},
   "outputs": [],
   "source": [
    "# Import stuff\n",
    "import numpy as np\n",
    "import torch as t\n",
    "import torch.nn as nn\n",
    "import torch.optim as optim\n",
    "import torch.nn.functional as F\n",
    "import einops"
   ]
  },
  {
   "cell_type": "markdown",
   "id": "df155eba",
   "metadata": {},
   "source": [
    "## Generate Dataset"
   ]
  },
  {
   "cell_type": "code",
   "execution_count": 59,
   "id": "baf055e2",
   "metadata": {},
   "outputs": [
    {
     "name": "stdout",
     "output_type": "stream",
     "text": [
      "Using cpu device\n"
     ]
    }
   ],
   "source": [
    "# Setup\n",
    "p = 97\n",
    "train_frac  = 0.3\n",
    "device = t.accelerator.current_accelerator().type if t.accelerator.is_available() else \"cpu\"\n",
    "device = \"cpu\"  # for the experiment we use cpu since mps cannot deal with float 64 apparently\n",
    "print(f\"Using {device} device\")"
   ]
  },
  {
   "cell_type": "code",
   "execution_count": 60,
   "id": "18e6bf8f",
   "metadata": {},
   "outputs": [
    {
     "name": "stdout",
     "output_type": "stream",
     "text": [
      "tensor([[92, 90, 97],\n",
      "        [63, 59, 97],\n",
      "        [ 0, 27, 97],\n",
      "        ...,\n",
      "        [50, 43, 97],\n",
      "        [64, 33, 97],\n",
      "        [16, 58, 97]])\n",
      "tensor([85, 25, 27,  ..., 93,  0, 74])\n"
     ]
    }
   ],
   "source": [
    "a_vec = einops.repeat(t.arange(p),\"i -> (i j)\",j=p)\n",
    "b_vec = einops.repeat(t.arange(p),\"j -> (i j)\",i=p)\n",
    "eq_vec = einops.repeat(t.tensor(p),\" -> i\",i= p**2)\n",
    "# The dataset consists of pairs (x,y) with x = (a,b,eq) and y = a+b mod p\n",
    "# we randomly permute the dataset and split it into train and test dataset\n",
    "dataset = t.stack([a_vec,b_vec,eq_vec],dim=1).to(device=device)\n",
    "labels = (dataset[:,0] + dataset[:,1]) % p\n",
    "indices = t.randperm(p**2)\n",
    "train_indices = indices[:int(train_frac*p**2)]\n",
    "test_indices = indices[int(train_frac*p**2):]\n",
    "\n",
    "train_dataset = dataset[train_indices]\n",
    "train_labels = labels[train_indices]\n",
    "\n",
    "test_dataset = dataset[test_indices]\n",
    "test_labels = labels[test_indices]\n",
    "print(train_dataset)\n",
    "print(train_labels)"
   ]
  },
  {
   "cell_type": "markdown",
   "id": "2331a5f1",
   "metadata": {},
   "source": [
    "## Create a simple one layer transformer model\n",
    "\n",
    "This is sort of the easiest possible transformer model. It takes as input the one hot encoded token sequence (a,b,=), where = is set to p for convenience. The architecture is:\n",
    "\n",
    "0. Token: the tokens $t_0,t_1,t_2$ are one hot encoded d_vocab dimensional vectors and the input sequence is $$t = (t_0,t_1,t_2)^T$$\n",
    "1. Embedding: The tokens are embedded in the d_model dimensional space by a learnable matrix W_E $$x_0 = Embed(t) = t @W_E$$\n",
    "2. Positional Embedding: The positional Embedding is implemented by adding a d_model dimensional vector to each embedded vector, depending on the token position. It is also learned. $$x_1 = x_0 + W_{pos}$$\n",
    "3. Attention layer: A simple attention layer with num_heads = 4 attention heads\n",
    "$$x_2 = x_1 + Attention(x_1)$$\n",
    "4. MLP layer: A simple mlp with one hidden layer with ReLU activation function and no bias:\n",
    "$$x_3 = x_2 + MLP(x_2)$$\n",
    "5. Unembedding: a learned unembedding matrix W_U that maps back to the vocab.\n",
    "$$x_4 = x_3 @ W_U$$"
   ]
  },
  {
   "cell_type": "code",
   "execution_count": 62,
   "id": "5463f453",
   "metadata": {},
   "outputs": [],
   "source": [
    "#Config for the transformer architecture\n",
    "d_vocab = p+1   #The input consists of the numbers from 0 to p-1 and p for the equal sign\n",
    "d_model = 128   #dimension of the model\n",
    "n_ctx = 3       #context length (a,b,=) where = is encoded as 97\n",
    "num_heads = 4\n",
    "d_heads = d_model//num_heads\n",
    "d_mlp = 4 * d_model\n",
    "act_type = \"ReLU\"   #or GeLU"
   ]
  },
  {
   "cell_type": "code",
   "execution_count": 63,
   "id": "60cf6e1c",
   "metadata": {},
   "outputs": [],
   "source": [
    "from models.one_layer_transformer import Transformer"
   ]
  },
  {
   "cell_type": "code",
   "execution_count": 65,
   "id": "7fb75c58",
   "metadata": {},
   "outputs": [],
   "source": [
    "model = Transformer(d_model,d_mlp,d_heads,d_vocab,num_heads,n_ctx,act_type).to(device=device)\n"
   ]
  },
  {
   "cell_type": "markdown",
   "id": "da5e6bad",
   "metadata": {},
   "source": [
    "## Training"
   ]
  },
  {
   "cell_type": "code",
   "execution_count": 66,
   "id": "96a7b29e",
   "metadata": {},
   "outputs": [],
   "source": [
    "from torch.utils.data import DataLoader, TensorDataset\n",
    "\n",
    "import tqdm.auto as tqdm"
   ]
  },
  {
   "cell_type": "code",
   "execution_count": 67,
   "id": "cdf33d6e",
   "metadata": {},
   "outputs": [],
   "source": [
    "#training parameters\n",
    "n_epoch = 10000\n",
    "lr = 1e-3\n",
    "wd = 1.\n",
    "DATA_SEED = 346\n",
    "betas = (0.9,0.98)"
   ]
  },
  {
   "cell_type": "code",
   "execution_count": 68,
   "id": "ca09317c",
   "metadata": {},
   "outputs": [],
   "source": [
    "# Define optimizer\n",
    "optimizer = t.optim.AdamW(model.parameters(),lr=lr, betas=betas,weight_decay=wd)"
   ]
  },
  {
   "cell_type": "code",
   "execution_count": 69,
   "id": "3d621d1b",
   "metadata": {},
   "outputs": [],
   "source": [
    "#Define cross entropy loss\n",
    "def loss_fn(logits,labels):\n",
    "    if len(logits.shape) == 3:\n",
    "        logits = logits[:,-1]\n",
    "    logits = logits.to(t.float64)   #change to 64 to prevent slingshots\n",
    "    log_probs = logits.log_softmax(dim=-1)\n",
    "    correct_log_probs = log_probs.gather(dim=-1,index = labels[:,None])[:,0]\n",
    "    return -correct_log_probs.mean()"
   ]
  },
  {
   "cell_type": "code",
   "execution_count": 70,
   "id": "8f8c1bf9",
   "metadata": {},
   "outputs": [
    {
     "name": "stderr",
     "output_type": "stream",
     "text": [
      "  1%|          | 102/10000 [00:09<14:48, 11.14it/s]"
     ]
    },
    {
     "name": "stdout",
     "output_type": "stream",
     "text": [
      "Epoch 99 Train Loss 1.3439182312542688 Test loss 8.874910412899366\n"
     ]
    },
    {
     "name": "stderr",
     "output_type": "stream",
     "text": [
      "  2%|▏         | 202/10000 [00:18<14:12, 11.49it/s]"
     ]
    },
    {
     "name": "stdout",
     "output_type": "stream",
     "text": [
      "Epoch 199 Train Loss 0.014691730963595113 Test loss 15.35701322968056\n"
     ]
    },
    {
     "name": "stderr",
     "output_type": "stream",
     "text": [
      "  3%|▎         | 302/10000 [00:27<13:50, 11.68it/s]"
     ]
    },
    {
     "name": "stdout",
     "output_type": "stream",
     "text": [
      "Epoch 299 Train Loss 0.0049904384050587485 Test loss 15.809399003190657\n"
     ]
    },
    {
     "name": "stderr",
     "output_type": "stream",
     "text": [
      "  4%|▍         | 402/10000 [00:35<14:03, 11.38it/s]"
     ]
    },
    {
     "name": "stdout",
     "output_type": "stream",
     "text": [
      "Epoch 399 Train Loss 0.0016185028885607588 Test loss 16.57340890441617\n"
     ]
    },
    {
     "name": "stderr",
     "output_type": "stream",
     "text": [
      "  5%|▌         | 502/10000 [00:44<14:42, 10.76it/s]"
     ]
    },
    {
     "name": "stdout",
     "output_type": "stream",
     "text": [
      "Epoch 499 Train Loss 0.0005373991174209343 Test loss 17.39991610208931\n"
     ]
    },
    {
     "name": "stderr",
     "output_type": "stream",
     "text": [
      "  6%|▌         | 601/10000 [00:53<14:32, 10.77it/s]"
     ]
    },
    {
     "name": "stdout",
     "output_type": "stream",
     "text": [
      "Epoch 599 Train Loss 0.00018156394460617294 Test loss 18.28571486419774\n"
     ]
    },
    {
     "name": "stderr",
     "output_type": "stream",
     "text": [
      "  7%|▋         | 701/10000 [01:02<13:28, 11.50it/s]"
     ]
    },
    {
     "name": "stdout",
     "output_type": "stream",
     "text": [
      "Epoch 699 Train Loss 6.201914004185999e-05 Test loss 19.206031564409688\n"
     ]
    },
    {
     "name": "stderr",
     "output_type": "stream",
     "text": [
      "  8%|▊         | 802/10000 [01:12<13:59, 10.95it/s]"
     ]
    },
    {
     "name": "stdout",
     "output_type": "stream",
     "text": [
      "Epoch 799 Train Loss 2.15567685525897e-05 Test loss 20.11820225535521\n"
     ]
    },
    {
     "name": "stderr",
     "output_type": "stream",
     "text": [
      "  9%|▉         | 902/10000 [01:20<12:46, 11.86it/s]"
     ]
    },
    {
     "name": "stdout",
     "output_type": "stream",
     "text": [
      "Epoch 899 Train Loss 7.704782234665176e-06 Test loss 21.022706468223312\n"
     ]
    },
    {
     "name": "stderr",
     "output_type": "stream",
     "text": [
      " 10%|█         | 1002/10000 [01:29<13:13, 11.35it/s]"
     ]
    },
    {
     "name": "stdout",
     "output_type": "stream",
     "text": [
      "Epoch 999 Train Loss 2.9172605883117926e-06 Test loss 21.846661899443518\n"
     ]
    },
    {
     "name": "stderr",
     "output_type": "stream",
     "text": [
      " 11%|█         | 1102/10000 [01:38<12:26, 11.92it/s]"
     ]
    },
    {
     "name": "stdout",
     "output_type": "stream",
     "text": [
      "Epoch 1099 Train Loss 1.2312828148015588e-06 Test loss 22.534155643484322\n"
     ]
    },
    {
     "name": "stderr",
     "output_type": "stream",
     "text": [
      " 12%|█▏        | 1202/10000 [01:46<11:27, 12.79it/s]"
     ]
    },
    {
     "name": "stdout",
     "output_type": "stream",
     "text": [
      "Epoch 1199 Train Loss 6.213235240003018e-07 Test loss 23.011365337740173\n"
     ]
    },
    {
     "name": "stderr",
     "output_type": "stream",
     "text": [
      " 13%|█▎        | 1302/10000 [01:55<12:48, 11.31it/s]"
     ]
    },
    {
     "name": "stdout",
     "output_type": "stream",
     "text": [
      "Epoch 1299 Train Loss 3.9490265078324036e-07 Test loss 23.23404787037001\n"
     ]
    },
    {
     "name": "stderr",
     "output_type": "stream",
     "text": [
      " 14%|█▍        | 1402/10000 [02:04<12:09, 11.78it/s]"
     ]
    },
    {
     "name": "stdout",
     "output_type": "stream",
     "text": [
      "Epoch 1399 Train Loss 3.136298274987882e-07 Test loss 23.220260887667347\n"
     ]
    },
    {
     "name": "stderr",
     "output_type": "stream",
     "text": [
      " 15%|█▌        | 1502/10000 [02:12<11:59, 11.82it/s]"
     ]
    },
    {
     "name": "stdout",
     "output_type": "stream",
     "text": [
      "Epoch 1499 Train Loss 2.890658137523893e-07 Test loss 23.04698926626338\n"
     ]
    },
    {
     "name": "stderr",
     "output_type": "stream",
     "text": [
      " 16%|█▌        | 1602/10000 [02:21<11:46, 11.88it/s]"
     ]
    },
    {
     "name": "stdout",
     "output_type": "stream",
     "text": [
      "Epoch 1599 Train Loss 2.8326771265139966e-07 Test loss 22.79599786803725\n"
     ]
    },
    {
     "name": "stderr",
     "output_type": "stream",
     "text": [
      " 17%|█▋        | 1702/10000 [02:29<11:56, 11.58it/s]"
     ]
    },
    {
     "name": "stdout",
     "output_type": "stream",
     "text": [
      "Epoch 1699 Train Loss 2.817706038630765e-07 Test loss 22.535222741541155\n"
     ]
    },
    {
     "name": "stderr",
     "output_type": "stream",
     "text": [
      " 18%|█▊        | 1802/10000 [02:38<11:44, 11.64it/s]"
     ]
    },
    {
     "name": "stdout",
     "output_type": "stream",
     "text": [
      "Epoch 1799 Train Loss 2.805302810668097e-07 Test loss 22.268167109571316\n"
     ]
    },
    {
     "name": "stderr",
     "output_type": "stream",
     "text": [
      " 19%|█▉        | 1902/10000 [02:47<11:41, 11.54it/s]"
     ]
    },
    {
     "name": "stdout",
     "output_type": "stream",
     "text": [
      "Epoch 1899 Train Loss 2.793559537890972e-07 Test loss 21.99747347199342\n"
     ]
    },
    {
     "name": "stderr",
     "output_type": "stream",
     "text": [
      " 20%|██        | 2002/10000 [02:56<11:31, 11.56it/s]"
     ]
    },
    {
     "name": "stdout",
     "output_type": "stream",
     "text": [
      "Epoch 1999 Train Loss 2.7808461999380913e-07 Test loss 21.725222064425395\n"
     ]
    },
    {
     "name": "stderr",
     "output_type": "stream",
     "text": [
      " 21%|██        | 2102/10000 [03:04<11:21, 11.59it/s]"
     ]
    },
    {
     "name": "stdout",
     "output_type": "stream",
     "text": [
      "Epoch 2099 Train Loss 2.7694231265220723e-07 Test loss 21.45624591474814\n"
     ]
    },
    {
     "name": "stderr",
     "output_type": "stream",
     "text": [
      " 22%|██▏       | 2202/10000 [03:14<11:17, 11.51it/s]"
     ]
    },
    {
     "name": "stdout",
     "output_type": "stream",
     "text": [
      "Epoch 2199 Train Loss 2.7518490180429674e-07 Test loss 21.19184478298613\n"
     ]
    },
    {
     "name": "stderr",
     "output_type": "stream",
     "text": [
      " 23%|██▎       | 2302/10000 [03:23<10:56, 11.73it/s]"
     ]
    },
    {
     "name": "stdout",
     "output_type": "stream",
     "text": [
      "Epoch 2299 Train Loss 2.7359720418780794e-07 Test loss 20.92185202840603\n"
     ]
    },
    {
     "name": "stderr",
     "output_type": "stream",
     "text": [
      " 24%|██▍       | 2402/10000 [03:32<10:59, 11.52it/s]"
     ]
    },
    {
     "name": "stdout",
     "output_type": "stream",
     "text": [
      "Epoch 2399 Train Loss 2.7205204394708824e-07 Test loss 20.64547641389109\n"
     ]
    },
    {
     "name": "stderr",
     "output_type": "stream",
     "text": [
      " 25%|██▌       | 2502/10000 [03:40<10:42, 11.66it/s]"
     ]
    },
    {
     "name": "stdout",
     "output_type": "stream",
     "text": [
      "Epoch 2499 Train Loss 2.7033317977217795e-07 Test loss 20.36040001437947\n"
     ]
    },
    {
     "name": "stderr",
     "output_type": "stream",
     "text": [
      " 26%|██▌       | 2600/10000 [03:49<11:28, 10.75it/s]"
     ]
    },
    {
     "name": "stdout",
     "output_type": "stream",
     "text": [
      "Epoch 2599 Train Loss 2.687309774002763e-07 Test loss 20.071075391312217\n"
     ]
    },
    {
     "name": "stderr",
     "output_type": "stream",
     "text": [
      " 27%|██▋       | 2702/10000 [03:58<10:24, 11.69it/s]"
     ]
    },
    {
     "name": "stdout",
     "output_type": "stream",
     "text": [
      "Epoch 2699 Train Loss 2.66990673976771e-07 Test loss 19.77503825806075\n"
     ]
    },
    {
     "name": "stderr",
     "output_type": "stream",
     "text": [
      " 28%|██▊       | 2802/10000 [04:07<10:12, 11.75it/s]"
     ]
    },
    {
     "name": "stdout",
     "output_type": "stream",
     "text": [
      "Epoch 2799 Train Loss 2.6525907690040996e-07 Test loss 19.470712112052457\n"
     ]
    },
    {
     "name": "stderr",
     "output_type": "stream",
     "text": [
      " 29%|██▉       | 2902/10000 [04:15<10:10, 11.62it/s]"
     ]
    },
    {
     "name": "stdout",
     "output_type": "stream",
     "text": [
      "Epoch 2899 Train Loss 2.6370226675496515e-07 Test loss 19.17109066158621\n"
     ]
    },
    {
     "name": "stderr",
     "output_type": "stream",
     "text": [
      " 30%|███       | 3002/10000 [04:24<10:07, 11.52it/s]"
     ]
    },
    {
     "name": "stdout",
     "output_type": "stream",
     "text": [
      "Epoch 2999 Train Loss 2.620795940004844e-07 Test loss 18.854751278872065\n"
     ]
    },
    {
     "name": "stderr",
     "output_type": "stream",
     "text": [
      " 31%|███       | 3102/10000 [04:33<10:00, 11.49it/s]"
     ]
    },
    {
     "name": "stdout",
     "output_type": "stream",
     "text": [
      "Epoch 3099 Train Loss 2.6038591433710235e-07 Test loss 18.53714190554437\n"
     ]
    },
    {
     "name": "stderr",
     "output_type": "stream",
     "text": [
      " 32%|███▏      | 3202/10000 [04:42<10:02, 11.28it/s]"
     ]
    },
    {
     "name": "stdout",
     "output_type": "stream",
     "text": [
      "Epoch 3199 Train Loss 2.58863968664375e-07 Test loss 18.2135141755694\n"
     ]
    },
    {
     "name": "stderr",
     "output_type": "stream",
     "text": [
      " 33%|███▎      | 3302/10000 [04:50<09:42, 11.51it/s]"
     ]
    },
    {
     "name": "stdout",
     "output_type": "stream",
     "text": [
      "Epoch 3299 Train Loss 2.5719143856392507e-07 Test loss 17.88986830292269\n"
     ]
    },
    {
     "name": "stderr",
     "output_type": "stream",
     "text": [
      " 34%|███▍      | 3402/10000 [04:59<09:38, 11.41it/s]"
     ]
    },
    {
     "name": "stdout",
     "output_type": "stream",
     "text": [
      "Epoch 3399 Train Loss 2.5544803814110087e-07 Test loss 17.549896378802913\n"
     ]
    },
    {
     "name": "stderr",
     "output_type": "stream",
     "text": [
      " 35%|███▌      | 3500/10000 [05:08<09:20, 11.59it/s]"
     ]
    },
    {
     "name": "stdout",
     "output_type": "stream",
     "text": [
      "Epoch 3499 Train Loss 2.5382772343485596e-07 Test loss 17.201708024911984\n"
     ]
    },
    {
     "name": "stderr",
     "output_type": "stream",
     "text": [
      " 36%|███▌      | 3602/10000 [05:17<09:06, 11.70it/s]"
     ]
    },
    {
     "name": "stdout",
     "output_type": "stream",
     "text": [
      "Epoch 3599 Train Loss 2.520691921225148e-07 Test loss 16.83363206912106\n"
     ]
    },
    {
     "name": "stderr",
     "output_type": "stream",
     "text": [
      " 37%|███▋      | 3702/10000 [05:26<09:15, 11.34it/s]"
     ]
    },
    {
     "name": "stdout",
     "output_type": "stream",
     "text": [
      "Epoch 3699 Train Loss 2.5039927042694163e-07 Test loss 16.44706134716385\n"
     ]
    },
    {
     "name": "stderr",
     "output_type": "stream",
     "text": [
      " 38%|███▊      | 3802/10000 [05:35<09:38, 10.71it/s]"
     ]
    },
    {
     "name": "stdout",
     "output_type": "stream",
     "text": [
      "Epoch 3799 Train Loss 2.486388350923283e-07 Test loss 16.036243775015503\n"
     ]
    },
    {
     "name": "stderr",
     "output_type": "stream",
     "text": [
      " 39%|███▉      | 3902/10000 [05:44<10:03, 10.10it/s]"
     ]
    },
    {
     "name": "stdout",
     "output_type": "stream",
     "text": [
      "Epoch 3899 Train Loss 2.4682300812450144e-07 Test loss 15.607639535125669\n"
     ]
    },
    {
     "name": "stderr",
     "output_type": "stream",
     "text": [
      " 40%|████      | 4002/10000 [05:53<08:41, 11.50it/s]"
     ]
    },
    {
     "name": "stdout",
     "output_type": "stream",
     "text": [
      "Epoch 3999 Train Loss 2.4512452150653995e-07 Test loss 15.150184716696696\n"
     ]
    },
    {
     "name": "stderr",
     "output_type": "stream",
     "text": [
      " 41%|████      | 4102/10000 [06:02<08:34, 11.47it/s]"
     ]
    },
    {
     "name": "stdout",
     "output_type": "stream",
     "text": [
      "Epoch 4099 Train Loss 2.428499465702623e-07 Test loss 14.654742803702652\n"
     ]
    },
    {
     "name": "stderr",
     "output_type": "stream",
     "text": [
      " 42%|████▏     | 4202/10000 [06:11<08:31, 11.33it/s]"
     ]
    },
    {
     "name": "stdout",
     "output_type": "stream",
     "text": [
      "Epoch 4199 Train Loss 2.407861458325385e-07 Test loss 14.136149995340961\n"
     ]
    },
    {
     "name": "stderr",
     "output_type": "stream",
     "text": [
      " 43%|████▎     | 4302/10000 [06:19<08:26, 11.26it/s]"
     ]
    },
    {
     "name": "stdout",
     "output_type": "stream",
     "text": [
      "Epoch 4299 Train Loss 2.383123066071872e-07 Test loss 13.576092021827046\n"
     ]
    },
    {
     "name": "stderr",
     "output_type": "stream",
     "text": [
      " 44%|████▍     | 4402/10000 [06:28<08:15, 11.30it/s]"
     ]
    },
    {
     "name": "stdout",
     "output_type": "stream",
     "text": [
      "Epoch 4399 Train Loss 2.360916417717559e-07 Test loss 12.99747464750606\n"
     ]
    },
    {
     "name": "stderr",
     "output_type": "stream",
     "text": [
      " 45%|████▌     | 4502/10000 [06:37<07:59, 11.47it/s]"
     ]
    },
    {
     "name": "stdout",
     "output_type": "stream",
     "text": [
      "Epoch 4499 Train Loss 2.3372520155218713e-07 Test loss 12.39336575743311\n"
     ]
    },
    {
     "name": "stderr",
     "output_type": "stream",
     "text": [
      " 46%|████▌     | 4602/10000 [06:46<07:41, 11.71it/s]"
     ]
    },
    {
     "name": "stdout",
     "output_type": "stream",
     "text": [
      "Epoch 4599 Train Loss 2.3114043595525166e-07 Test loss 11.770795499361114\n"
     ]
    },
    {
     "name": "stderr",
     "output_type": "stream",
     "text": [
      " 47%|████▋     | 4702/10000 [06:55<07:40, 11.50it/s]"
     ]
    },
    {
     "name": "stdout",
     "output_type": "stream",
     "text": [
      "Epoch 4699 Train Loss 2.2860531657409514e-07 Test loss 11.121021730898963\n"
     ]
    },
    {
     "name": "stderr",
     "output_type": "stream",
     "text": [
      " 48%|████▊     | 4802/10000 [07:04<07:52, 11.00it/s]"
     ]
    },
    {
     "name": "stdout",
     "output_type": "stream",
     "text": [
      "Epoch 4799 Train Loss 2.261890135876761e-07 Test loss 10.45793848888763\n"
     ]
    },
    {
     "name": "stderr",
     "output_type": "stream",
     "text": [
      " 49%|████▉     | 4902/10000 [07:13<07:15, 11.72it/s]"
     ]
    },
    {
     "name": "stdout",
     "output_type": "stream",
     "text": [
      "Epoch 4899 Train Loss 2.2352845171542288e-07 Test loss 9.777106187795681\n"
     ]
    },
    {
     "name": "stderr",
     "output_type": "stream",
     "text": [
      " 50%|█████     | 5002/10000 [07:21<07:16, 11.46it/s]"
     ]
    },
    {
     "name": "stdout",
     "output_type": "stream",
     "text": [
      "Epoch 4999 Train Loss 2.2021236573592416e-07 Test loss 9.06373333825365\n"
     ]
    },
    {
     "name": "stderr",
     "output_type": "stream",
     "text": [
      " 51%|█████     | 5102/10000 [07:30<06:59, 11.68it/s]"
     ]
    },
    {
     "name": "stdout",
     "output_type": "stream",
     "text": [
      "Epoch 5099 Train Loss 2.1709176645286375e-07 Test loss 8.323533603609599\n"
     ]
    },
    {
     "name": "stderr",
     "output_type": "stream",
     "text": [
      " 52%|█████▏    | 5202/10000 [07:39<06:54, 11.56it/s]"
     ]
    },
    {
     "name": "stdout",
     "output_type": "stream",
     "text": [
      "Epoch 5199 Train Loss 2.1358899236415203e-07 Test loss 7.568443625863405\n"
     ]
    },
    {
     "name": "stderr",
     "output_type": "stream",
     "text": [
      " 53%|█████▎    | 5302/10000 [07:48<07:08, 10.96it/s]"
     ]
    },
    {
     "name": "stdout",
     "output_type": "stream",
     "text": [
      "Epoch 5299 Train Loss 2.099891633734615e-07 Test loss 6.776186880057601\n"
     ]
    },
    {
     "name": "stderr",
     "output_type": "stream",
     "text": [
      " 54%|█████▍    | 5402/10000 [07:57<06:45, 11.35it/s]"
     ]
    },
    {
     "name": "stdout",
     "output_type": "stream",
     "text": [
      "Epoch 5399 Train Loss 2.054188174741259e-07 Test loss 5.9455265698991635\n"
     ]
    },
    {
     "name": "stderr",
     "output_type": "stream",
     "text": [
      " 55%|█████▌    | 5502/10000 [08:06<07:10, 10.45it/s]"
     ]
    },
    {
     "name": "stdout",
     "output_type": "stream",
     "text": [
      "Epoch 5499 Train Loss 1.9988951347486957e-07 Test loss 5.065365725829364\n"
     ]
    },
    {
     "name": "stderr",
     "output_type": "stream",
     "text": [
      " 56%|█████▌    | 5602/10000 [08:15<06:15, 11.71it/s]"
     ]
    },
    {
     "name": "stdout",
     "output_type": "stream",
     "text": [
      "Epoch 5599 Train Loss 1.937086287470545e-07 Test loss 4.154633360167168\n"
     ]
    },
    {
     "name": "stderr",
     "output_type": "stream",
     "text": [
      " 57%|█████▋    | 5702/10000 [08:23<06:20, 11.30it/s]"
     ]
    },
    {
     "name": "stdout",
     "output_type": "stream",
     "text": [
      "Epoch 5699 Train Loss 1.8735891101725777e-07 Test loss 3.23873084726432\n"
     ]
    },
    {
     "name": "stderr",
     "output_type": "stream",
     "text": [
      " 58%|█████▊    | 5802/10000 [08:32<05:58, 11.73it/s]"
     ]
    },
    {
     "name": "stdout",
     "output_type": "stream",
     "text": [
      "Epoch 5799 Train Loss 1.8082604972874961e-07 Test loss 2.387041122177733\n"
     ]
    },
    {
     "name": "stderr",
     "output_type": "stream",
     "text": [
      " 59%|█████▉    | 5902/10000 [08:41<05:57, 11.47it/s]"
     ]
    },
    {
     "name": "stdout",
     "output_type": "stream",
     "text": [
      "Epoch 5899 Train Loss 1.7446477614976006e-07 Test loss 1.6664630855270213\n"
     ]
    },
    {
     "name": "stderr",
     "output_type": "stream",
     "text": [
      " 60%|██████    | 6002/10000 [08:49<05:59, 11.13it/s]"
     ]
    },
    {
     "name": "stdout",
     "output_type": "stream",
     "text": [
      "Epoch 5999 Train Loss 1.683655551333915e-07 Test loss 1.120076147693474\n"
     ]
    },
    {
     "name": "stderr",
     "output_type": "stream",
     "text": [
      " 61%|██████    | 6102/10000 [08:58<05:43, 11.34it/s]"
     ]
    },
    {
     "name": "stdout",
     "output_type": "stream",
     "text": [
      "Epoch 6099 Train Loss 1.624114872703019e-07 Test loss 0.7341974248245817\n"
     ]
    },
    {
     "name": "stderr",
     "output_type": "stream",
     "text": [
      " 62%|██████▏   | 6202/10000 [09:07<05:31, 11.44it/s]"
     ]
    },
    {
     "name": "stdout",
     "output_type": "stream",
     "text": [
      "Epoch 6199 Train Loss 1.5709648029095676e-07 Test loss 0.4731339969724772\n"
     ]
    },
    {
     "name": "stderr",
     "output_type": "stream",
     "text": [
      " 63%|██████▎   | 6302/10000 [09:15<05:16, 11.69it/s]"
     ]
    },
    {
     "name": "stdout",
     "output_type": "stream",
     "text": [
      "Epoch 6299 Train Loss 1.5096439043798357e-07 Test loss 0.29839055023583017\n"
     ]
    },
    {
     "name": "stderr",
     "output_type": "stream",
     "text": [
      " 64%|██████▍   | 6402/10000 [09:24<05:05, 11.79it/s]"
     ]
    },
    {
     "name": "stdout",
     "output_type": "stream",
     "text": [
      "Epoch 6399 Train Loss 1.450424433199453e-07 Test loss 0.18136901467856498\n"
     ]
    },
    {
     "name": "stderr",
     "output_type": "stream",
     "text": [
      " 65%|██████▌   | 6502/10000 [09:33<05:04, 11.51it/s]"
     ]
    },
    {
     "name": "stdout",
     "output_type": "stream",
     "text": [
      "Epoch 6499 Train Loss 1.3906719033755347e-07 Test loss 0.10343413352611473\n"
     ]
    },
    {
     "name": "stderr",
     "output_type": "stream",
     "text": [
      " 66%|██████▌   | 6602/10000 [09:42<05:09, 10.98it/s]"
     ]
    },
    {
     "name": "stdout",
     "output_type": "stream",
     "text": [
      "Epoch 6599 Train Loss 1.32803521620538e-07 Test loss 0.05561620471913447\n"
     ]
    },
    {
     "name": "stderr",
     "output_type": "stream",
     "text": [
      " 67%|██████▋   | 6702/10000 [09:50<04:45, 11.55it/s]"
     ]
    },
    {
     "name": "stdout",
     "output_type": "stream",
     "text": [
      "Epoch 6699 Train Loss 1.2639813627319026e-07 Test loss 0.02789057461978988\n"
     ]
    },
    {
     "name": "stderr",
     "output_type": "stream",
     "text": [
      " 68%|██████▊   | 6802/10000 [09:59<04:38, 11.48it/s]"
     ]
    },
    {
     "name": "stdout",
     "output_type": "stream",
     "text": [
      "Epoch 6799 Train Loss 1.2086629886936088e-07 Test loss 0.012991152198110366\n"
     ]
    },
    {
     "name": "stderr",
     "output_type": "stream",
     "text": [
      " 69%|██████▉   | 6902/10000 [10:08<04:28, 11.53it/s]"
     ]
    },
    {
     "name": "stdout",
     "output_type": "stream",
     "text": [
      "Epoch 6899 Train Loss 1.16478852213465e-07 Test loss 0.006051888538723004\n"
     ]
    },
    {
     "name": "stderr",
     "output_type": "stream",
     "text": [
      " 70%|███████   | 7002/10000 [10:16<04:19, 11.56it/s]"
     ]
    },
    {
     "name": "stdout",
     "output_type": "stream",
     "text": [
      "Epoch 6999 Train Loss 1.1308060523332151e-07 Test loss 0.00246790952949985\n"
     ]
    },
    {
     "name": "stderr",
     "output_type": "stream",
     "text": [
      " 71%|███████   | 7102/10000 [10:25<04:23, 11.00it/s]"
     ]
    },
    {
     "name": "stdout",
     "output_type": "stream",
     "text": [
      "Epoch 7099 Train Loss 1.1042830739671567e-07 Test loss 0.0009664939137750208\n"
     ]
    },
    {
     "name": "stderr",
     "output_type": "stream",
     "text": [
      " 72%|███████▏  | 7202/10000 [10:34<03:58, 11.71it/s]"
     ]
    },
    {
     "name": "stdout",
     "output_type": "stream",
     "text": [
      "Epoch 7199 Train Loss 1.0838298867668683e-07 Test loss 0.0003953343733231324\n"
     ]
    },
    {
     "name": "stderr",
     "output_type": "stream",
     "text": [
      " 73%|███████▎  | 7302/10000 [10:43<03:54, 11.50it/s]"
     ]
    },
    {
     "name": "stdout",
     "output_type": "stream",
     "text": [
      "Epoch 7299 Train Loss 1.066180529093978e-07 Test loss 0.00022068695999501173\n"
     ]
    },
    {
     "name": "stderr",
     "output_type": "stream",
     "text": [
      " 74%|███████▍  | 7400/10000 [10:51<03:48, 11.40it/s]"
     ]
    },
    {
     "name": "stdout",
     "output_type": "stream",
     "text": [
      "Epoch 7399 Train Loss 1.0504774862063048e-07 Test loss 0.00016185658700551724\n"
     ]
    },
    {
     "name": "stderr",
     "output_type": "stream",
     "text": [
      " 75%|███████▌  | 7502/10000 [11:00<03:36, 11.55it/s]"
     ]
    },
    {
     "name": "stdout",
     "output_type": "stream",
     "text": [
      "Epoch 7499 Train Loss 1.0376937874904233e-07 Test loss 0.0001350391321570483\n"
     ]
    },
    {
     "name": "stderr",
     "output_type": "stream",
     "text": [
      " 76%|███████▌  | 7602/10000 [11:09<03:24, 11.74it/s]"
     ]
    },
    {
     "name": "stdout",
     "output_type": "stream",
     "text": [
      "Epoch 7599 Train Loss 1.0269422940230857e-07 Test loss 0.00012601269743861717\n"
     ]
    },
    {
     "name": "stderr",
     "output_type": "stream",
     "text": [
      " 77%|███████▋  | 7702/10000 [11:18<03:08, 12.19it/s]"
     ]
    },
    {
     "name": "stdout",
     "output_type": "stream",
     "text": [
      "Epoch 7699 Train Loss 1.0171594646594936e-07 Test loss 0.00011812468584268227\n"
     ]
    },
    {
     "name": "stderr",
     "output_type": "stream",
     "text": [
      " 78%|███████▊  | 7802/10000 [11:26<03:06, 11.77it/s]"
     ]
    },
    {
     "name": "stdout",
     "output_type": "stream",
     "text": [
      "Epoch 7799 Train Loss 1.0082587199317435e-07 Test loss 9.928179074779628e-05\n"
     ]
    },
    {
     "name": "stderr",
     "output_type": "stream",
     "text": [
      " 79%|███████▉  | 7902/10000 [11:35<03:01, 11.57it/s]"
     ]
    },
    {
     "name": "stdout",
     "output_type": "stream",
     "text": [
      "Epoch 7899 Train Loss 9.994544746495957e-08 Test loss 8.270481085260342e-05\n"
     ]
    },
    {
     "name": "stderr",
     "output_type": "stream",
     "text": [
      " 80%|████████  | 8002/10000 [11:44<02:56, 11.30it/s]"
     ]
    },
    {
     "name": "stdout",
     "output_type": "stream",
     "text": [
      "Epoch 7999 Train Loss 9.907124060315697e-08 Test loss 6.942284951385831e-05\n"
     ]
    },
    {
     "name": "stderr",
     "output_type": "stream",
     "text": [
      " 81%|████████  | 8102/10000 [11:53<02:44, 11.54it/s]"
     ]
    },
    {
     "name": "stdout",
     "output_type": "stream",
     "text": [
      "Epoch 8099 Train Loss 9.8134123328864e-08 Test loss 5.168474316445609e-05\n"
     ]
    },
    {
     "name": "stderr",
     "output_type": "stream",
     "text": [
      " 82%|████████▏ | 8202/10000 [12:02<02:37, 11.43it/s]"
     ]
    },
    {
     "name": "stdout",
     "output_type": "stream",
     "text": [
      "Epoch 8199 Train Loss 9.741109454169169e-08 Test loss 3.8340310232017595e-05\n"
     ]
    },
    {
     "name": "stderr",
     "output_type": "stream",
     "text": [
      " 83%|████████▎ | 8302/10000 [12:10<02:21, 12.00it/s]"
     ]
    },
    {
     "name": "stdout",
     "output_type": "stream",
     "text": [
      "Epoch 8299 Train Loss 9.677322136178294e-08 Test loss 2.6139761836273596e-05\n"
     ]
    },
    {
     "name": "stderr",
     "output_type": "stream",
     "text": [
      " 84%|████████▍ | 8401/10000 [12:19<02:20, 11.41it/s]"
     ]
    },
    {
     "name": "stdout",
     "output_type": "stream",
     "text": [
      "Epoch 8399 Train Loss 9.625961554111973e-08 Test loss 1.8772244859260644e-05\n"
     ]
    },
    {
     "name": "stderr",
     "output_type": "stream",
     "text": [
      " 85%|████████▌ | 8501/10000 [12:28<02:04, 12.00it/s]"
     ]
    },
    {
     "name": "stdout",
     "output_type": "stream",
     "text": [
      "Epoch 8499 Train Loss 9.585254780550181e-08 Test loss 1.4057430436082815e-05\n"
     ]
    },
    {
     "name": "stderr",
     "output_type": "stream",
     "text": [
      " 86%|████████▌ | 8602/10000 [21:54<3:52:49,  9.99s/it] "
     ]
    },
    {
     "name": "stdout",
     "output_type": "stream",
     "text": [
      "Epoch 8599 Train Loss 9.545448212921132e-08 Test loss 1.1373852407539438e-05\n"
     ]
    },
    {
     "name": "stderr",
     "output_type": "stream",
     "text": [
      " 87%|████████▋ | 8702/10000 [22:03<02:01, 10.73it/s]  "
     ]
    },
    {
     "name": "stdout",
     "output_type": "stream",
     "text": [
      "Epoch 8699 Train Loss 9.51297210386108e-08 Test loss 9.821515571889348e-06\n"
     ]
    },
    {
     "name": "stderr",
     "output_type": "stream",
     "text": [
      " 88%|████████▊ | 8802/10000 [22:11<01:49, 10.98it/s]"
     ]
    },
    {
     "name": "stdout",
     "output_type": "stream",
     "text": [
      "Epoch 8799 Train Loss 9.485264810194725e-08 Test loss 8.698391674875623e-06\n"
     ]
    },
    {
     "name": "stderr",
     "output_type": "stream",
     "text": [
      " 89%|████████▉ | 8902/10000 [22:20<01:38, 11.13it/s]"
     ]
    },
    {
     "name": "stdout",
     "output_type": "stream",
     "text": [
      "Epoch 8899 Train Loss 9.460626421158388e-08 Test loss 7.643865882198319e-06\n"
     ]
    },
    {
     "name": "stderr",
     "output_type": "stream",
     "text": [
      " 90%|█████████ | 9001/10000 [22:29<01:36, 10.41it/s]"
     ]
    },
    {
     "name": "stdout",
     "output_type": "stream",
     "text": [
      "Epoch 8999 Train Loss 9.440412551104957e-08 Test loss 6.826866522585962e-06\n"
     ]
    },
    {
     "name": "stderr",
     "output_type": "stream",
     "text": [
      " 91%|█████████ | 9102/10000 [22:38<01:20, 11.18it/s]"
     ]
    },
    {
     "name": "stdout",
     "output_type": "stream",
     "text": [
      "Epoch 9099 Train Loss 9.420997485877115e-08 Test loss 6.023989076799295e-06\n"
     ]
    },
    {
     "name": "stderr",
     "output_type": "stream",
     "text": [
      " 92%|█████████▏| 9202/10000 [22:47<01:08, 11.70it/s]"
     ]
    },
    {
     "name": "stdout",
     "output_type": "stream",
     "text": [
      "Epoch 9199 Train Loss 9.403863341305149e-08 Test loss 5.29307981347603e-06\n"
     ]
    },
    {
     "name": "stderr",
     "output_type": "stream",
     "text": [
      " 93%|█████████▎| 9302/10000 [22:56<00:59, 11.64it/s]"
     ]
    },
    {
     "name": "stdout",
     "output_type": "stream",
     "text": [
      "Epoch 9299 Train Loss 9.38779943060358e-08 Test loss 4.786498059613126e-06\n"
     ]
    },
    {
     "name": "stderr",
     "output_type": "stream",
     "text": [
      " 94%|█████████▍| 9401/10000 [23:05<00:55, 10.85it/s]"
     ]
    },
    {
     "name": "stdout",
     "output_type": "stream",
     "text": [
      "Epoch 9399 Train Loss 9.372987462151899e-08 Test loss 4.314238454761477e-06\n"
     ]
    },
    {
     "name": "stderr",
     "output_type": "stream",
     "text": [
      " 95%|█████████▌| 9500/10000 [23:14<00:42, 11.66it/s]"
     ]
    },
    {
     "name": "stdout",
     "output_type": "stream",
     "text": [
      "Epoch 9499 Train Loss 9.359565734460673e-08 Test loss 3.7643383911458474e-06\n"
     ]
    },
    {
     "name": "stderr",
     "output_type": "stream",
     "text": [
      " 96%|█████████▌| 9602/10000 [23:23<00:33, 11.71it/s]"
     ]
    },
    {
     "name": "stdout",
     "output_type": "stream",
     "text": [
      "Epoch 9599 Train Loss 9.349073271637624e-08 Test loss 3.3702779071058988e-06\n"
     ]
    },
    {
     "name": "stderr",
     "output_type": "stream",
     "text": [
      " 97%|█████████▋| 9702/10000 [23:31<00:25, 11.83it/s]"
     ]
    },
    {
     "name": "stdout",
     "output_type": "stream",
     "text": [
      "Epoch 9699 Train Loss 9.337448002648841e-08 Test loss 3.0481066597226472e-06\n"
     ]
    },
    {
     "name": "stderr",
     "output_type": "stream",
     "text": [
      " 98%|█████████▊| 9802/10000 [23:40<00:16, 11.69it/s]"
     ]
    },
    {
     "name": "stdout",
     "output_type": "stream",
     "text": [
      "Epoch 9799 Train Loss 9.325912625584565e-08 Test loss 2.7255188806582855e-06\n"
     ]
    },
    {
     "name": "stderr",
     "output_type": "stream",
     "text": [
      " 99%|█████████▉| 9902/10000 [23:49<00:08, 11.46it/s]"
     ]
    },
    {
     "name": "stdout",
     "output_type": "stream",
     "text": [
      "Epoch 9899 Train Loss 9.309626499367074e-08 Test loss 2.5878161024902044e-06\n"
     ]
    },
    {
     "name": "stderr",
     "output_type": "stream",
     "text": [
      "100%|██████████| 10000/10000 [23:57<00:00,  6.96it/s]"
     ]
    },
    {
     "name": "stdout",
     "output_type": "stream",
     "text": [
      "Epoch 9999 Train Loss 9.302724853996974e-08 Test loss 2.456603284629905e-06\n"
     ]
    },
    {
     "name": "stderr",
     "output_type": "stream",
     "text": [
      "\n"
     ]
    }
   ],
   "source": [
    "train_losses = []\n",
    "test_losses = []\n",
    "for epoch in tqdm.tqdm(range(n_epoch)):\n",
    "    train_logits = model(train_dataset)\n",
    "    train_loss = loss_fn(train_logits,train_labels)\n",
    "    train_loss.backward()\n",
    "    train_losses.append(train_loss.item())\n",
    "    optimizer.step()\n",
    "    optimizer.zero_grad()\n",
    "    with t.inference_mode():\n",
    "        test_logits = model(test_dataset)\n",
    "        test_loss = loss_fn(test_logits,test_labels)\n",
    "        test_losses.append(test_loss.item())\n",
    "\n",
    "    if ((epoch+1)%100)==0:\n",
    "        print(f\"Epoch {epoch} Train Loss {train_loss.item()} Test loss {test_loss.item()}\")"
   ]
  },
  {
   "cell_type": "markdown",
   "id": "7caeb03f",
   "metadata": {},
   "source": [
    "## Plot results"
   ]
  },
  {
   "cell_type": "code",
   "execution_count": 71,
   "id": "b84d9f80",
   "metadata": {},
   "outputs": [],
   "source": [
    "import matplotlib.pyplot as plt"
   ]
  },
  {
   "cell_type": "code",
   "execution_count": null,
   "id": "7e1da371",
   "metadata": {},
   "outputs": [],
   "source": []
  },
  {
   "cell_type": "code",
   "execution_count": 72,
   "id": "24f5c884",
   "metadata": {},
   "outputs": [
    {
     "data": {
      "image/png": "[encoded data removed]",
      "text/plain": [
       "<Figure size 640x480 with 1 Axes>"
      ]
     },
     "metadata": {},
     "output_type": "display_data"
    }
   ],
   "source": [
    "plt.plot(train_losses,label=\"Training Loss\")\n",
    "plt.plot(test_losses,label=\"Test Loss\")\n",
    "plt.xlabel(\"Epoch\")\n",
    "plt.ylabel(\"Log Loss\")\n",
    "plt.yscale(\"log\")\n",
    "plt.title(\"Traing and Test loss\")\n",
    "plt.legend()\n",
    "plt.show()"
   ]
  },
  {
   "cell_type": "code",
   "execution_count": null,
   "id": "15eee9f0",
   "metadata": {},
   "outputs": [],
   "source": []
  },
  {
   "cell_type": "markdown",
   "id": "b46c5907",
   "metadata": {},
   "source": [
    "## Training with Orthograd instead\n",
    "In the paper https://arxiv.org/abs/2501.04697, the authors showed basically that the delay in generalization is due to the network following a \"naive loss minimization\" strategy by scaling the logits, which in return leads to an absorption error in the softmax which stops the training. The logits are scaled by simply scaling all the weights of the network (which works since it is approx. homogeneous). As fix, they suggest projecting the gradient to the subspace orthogonal to the direction of the weights.\n",
    "\n",
    "The following code which does the orthogonal projection of the gradient is also from this paper."
   ]
  },
  {
   "cell_type": "code",
   "execution_count": 73,
   "id": "12fe7a10",
   "metadata": {},
   "outputs": [],
   "source": [
    "class OrthoGrad(t.optim.Optimizer):\n",
    "    def __init__(self, params, base_optimizer_cls=t.optim.SGD):\n",
    "        \"\"\"\n",
    "        A wrapper optimizer that projects gradients to be orthogonal\n",
    "        to the current parameters before performing an update.\n",
    "        Args:\n",
    "            params (iterable): Parameter groups to optimize\n",
    "            base_optimizer_cls (Optimizer class): The base optimizer class\n",
    "                (e.g., torch.optim.SGD, torch.optim.AdamW).\n",
    "        \"\"\"\n",
    "        # Minimal defaults for OrthoGrad itself (nothing special needed).\n",
    "        defaults = {}\n",
    "        super().__init__(params, defaults)\n",
    "        # Create the wrapped/base optimizer using *our* param_groups.\n",
    "        self.base_optimizer = base_optimizer_cls(self.param_groups)\n",
    "\n",
    "    @staticmethod\n",
    "    def _orthogonalize_gradients(params):\n",
    "        \"\"\"\n",
    "        Projects the gradient g to be orthogonal to the current weights w.\n",
    "        g_orth = g - ( (w·g)/(w·w + eps) ) * w\n",
    "        And then re-scales g_orth to have the same norm as g.\n",
    "        \"\"\"\n",
    "        with t.no_grad():\n",
    "            for p in params:\n",
    "                if p.grad is not None:\n",
    "                    w = p.view(-1)\n",
    "                    g = p.grad.view(-1)\n",
    "\n",
    "                    w_norm_sq = t.dot(w, w) + 1e-30\n",
    "                    proj = t.dot(w, g) / w_norm_sq\n",
    "                    g_orth = g - proj * w\n",
    "\n",
    "                    g_norm = g.norm(2)\n",
    "                    g_orth_norm = g_orth.norm(2) + 1e-30\n",
    "                    g_orth_scaled = g_orth * (g_norm / g_orth_norm)\n",
    "\n",
    "                    p.grad.copy_(g_orth_scaled.view_as(p.grad))\n",
    "\n",
    "    def step(self, closure=None):\n",
    "        for group in self.param_groups:\n",
    "            self._orthogonalize_gradients(group['params'])\n",
    "        return self.base_optimizer.step(closure)\n",
    "\n",
    "def get_optimizer(model, lr,optimizer,beta2,orthogonal_gradients,weight_decay,adam_epsilon):\n",
    "\n",
    "    param_group = dict(params=model.parameters())\n",
    "\n",
    "    if optimizer in (\"Adam\", \"AdamW\"):\n",
    "        param_group |= dict(lr=lr, betas=(0.9, beta2), eps=adam_epsilon)\n",
    "    elif optimizer == \"SGD\":\n",
    "        param_group |= dict(lr=lr, momentum=0.8 if orthogonal_gradients else 0.2)\n",
    "    else:\n",
    "        raise ValueError(f'Unsupported optimizer type: {optimizer}')\n",
    "\n",
    "    param_group |= dict(weight_decay=weight_decay)\n",
    "    base_optimizer_cls = getattr(optim, optimizer)\n",
    "\n",
    "    if orthogonal_gradients:\n",
    "        optimizer = OrthoGrad([param_group], base_optimizer_cls)\n",
    "    else:\n",
    "        optimizer = base_optimizer_cls([param_group])\n",
    "\n",
    "    return optimizer"
   ]
  },
  {
   "cell_type": "code",
   "execution_count": 74,
   "id": "9e6e3966",
   "metadata": {},
   "outputs": [],
   "source": [
    "lr = 1e-3\n",
    "weight_decay = 0.\n",
    "optimizer = \"AdamW\"\n",
    "beta2 = 0.98\n",
    "orthogoal_gradients = True\n",
    "adam_epsilon = 1e-8\n",
    "\n",
    "model_ortho = Transformer(d_model,d_mlp,d_heads,d_vocab,num_heads,n_ctx,act_type).to(device=device)\n",
    "optimizer_ortho = get_optimizer(model_ortho, lr,optimizer,beta2,orthogoal_gradients,weight_decay,adam_epsilon)"
   ]
  },
  {
   "cell_type": "code",
   "execution_count": 75,
   "id": "ebe3d2e4",
   "metadata": {},
   "outputs": [
    {
     "name": "stderr",
     "output_type": "stream",
     "text": [
      "  1%|          | 101/10000 [00:09<15:02, 10.97it/s]"
     ]
    },
    {
     "name": "stdout",
     "output_type": "stream",
     "text": [
      "Epoch 99 Train Loss 2.49433670167115 Test loss 6.969461133367866\n"
     ]
    },
    {
     "name": "stderr",
     "output_type": "stream",
     "text": [
      "  2%|▏         | 201/10000 [00:18<15:12, 10.74it/s]"
     ]
    },
    {
     "name": "stdout",
     "output_type": "stream",
     "text": [
      "Epoch 199 Train Loss 0.0998236826548971 Test loss 4.834650650912399\n"
     ]
    },
    {
     "name": "stderr",
     "output_type": "stream",
     "text": [
      "  3%|▎         | 301/10000 [00:27<14:09, 11.41it/s]"
     ]
    },
    {
     "name": "stdout",
     "output_type": "stream",
     "text": [
      "Epoch 299 Train Loss 0.005210148332024914 Test loss 2.519393540978759\n"
     ]
    },
    {
     "name": "stderr",
     "output_type": "stream",
     "text": [
      "  4%|▍         | 401/10000 [00:36<14:05, 11.35it/s]"
     ]
    },
    {
     "name": "stdout",
     "output_type": "stream",
     "text": [
      "Epoch 399 Train Loss 0.0009193714360459748 Test loss 1.4700323528934138\n"
     ]
    },
    {
     "name": "stderr",
     "output_type": "stream",
     "text": [
      "  5%|▌         | 501/10000 [00:44<13:51, 11.43it/s]"
     ]
    },
    {
     "name": "stdout",
     "output_type": "stream",
     "text": [
      "Epoch 499 Train Loss 0.00019886711224771756 Test loss 0.8881048749551367\n"
     ]
    },
    {
     "name": "stderr",
     "output_type": "stream",
     "text": [
      "  6%|▌         | 601/10000 [00:53<13:51, 11.30it/s]"
     ]
    },
    {
     "name": "stdout",
     "output_type": "stream",
     "text": [
      "Epoch 599 Train Loss 4.523446464392589e-05 Test loss 0.5363559310366297\n"
     ]
    },
    {
     "name": "stderr",
     "output_type": "stream",
     "text": [
      "  7%|▋         | 701/10000 [01:02<14:11, 10.92it/s]"
     ]
    },
    {
     "name": "stdout",
     "output_type": "stream",
     "text": [
      "Epoch 699 Train Loss 1.0682350684668862e-05 Test loss 0.3162303580535751\n"
     ]
    },
    {
     "name": "stderr",
     "output_type": "stream",
     "text": [
      "  8%|▊         | 801/10000 [01:11<13:25, 11.42it/s]"
     ]
    },
    {
     "name": "stdout",
     "output_type": "stream",
     "text": [
      "Epoch 799 Train Loss 2.727939631947375e-06 Test loss 0.18458388167014475\n"
     ]
    },
    {
     "name": "stderr",
     "output_type": "stream",
     "text": [
      "  9%|▉         | 901/10000 [01:20<14:39, 10.35it/s]"
     ]
    },
    {
     "name": "stdout",
     "output_type": "stream",
     "text": [
      "Epoch 899 Train Loss 7.778370978794352e-07 Test loss 0.10916757253306361\n"
     ]
    },
    {
     "name": "stderr",
     "output_type": "stream",
     "text": [
      " 10%|█         | 1001/10000 [01:29<13:41, 10.96it/s]"
     ]
    },
    {
     "name": "stdout",
     "output_type": "stream",
     "text": [
      "Epoch 999 Train Loss 2.442144909521593e-07 Test loss 0.06466251590942884\n"
     ]
    },
    {
     "name": "stderr",
     "output_type": "stream",
     "text": [
      " 11%|█         | 1101/10000 [01:38<12:55, 11.47it/s]"
     ]
    },
    {
     "name": "stdout",
     "output_type": "stream",
     "text": [
      "Epoch 1099 Train Loss 8.451481886455029e-08 Test loss 0.039314020064079816\n"
     ]
    },
    {
     "name": "stderr",
     "output_type": "stream",
     "text": [
      " 12%|█▏        | 1201/10000 [01:47<13:47, 10.64it/s]"
     ]
    },
    {
     "name": "stdout",
     "output_type": "stream",
     "text": [
      "Epoch 1199 Train Loss 3.3013486463578725e-08 Test loss 0.024129518904757535\n"
     ]
    },
    {
     "name": "stderr",
     "output_type": "stream",
     "text": [
      " 13%|█▎        | 1301/10000 [01:56<12:38, 11.47it/s]"
     ]
    },
    {
     "name": "stdout",
     "output_type": "stream",
     "text": [
      "Epoch 1299 Train Loss 1.4975826154746486e-08 Test loss 0.01533641815377078\n"
     ]
    },
    {
     "name": "stderr",
     "output_type": "stream",
     "text": [
      " 14%|█▍        | 1401/10000 [02:05<12:25, 11.54it/s]"
     ]
    },
    {
     "name": "stdout",
     "output_type": "stream",
     "text": [
      "Epoch 1399 Train Loss 8.011207016064148e-09 Test loss 0.010440127594341693\n"
     ]
    },
    {
     "name": "stderr",
     "output_type": "stream",
     "text": [
      " 15%|█▌        | 1501/10000 [02:14<12:16, 11.54it/s]"
     ]
    },
    {
     "name": "stdout",
     "output_type": "stream",
     "text": [
      "Epoch 1499 Train Loss 4.98160351476086e-09 Test loss 0.007582592230455592\n"
     ]
    },
    {
     "name": "stderr",
     "output_type": "stream",
     "text": [
      " 16%|█▌        | 1601/10000 [02:23<13:00, 10.76it/s]"
     ]
    },
    {
     "name": "stdout",
     "output_type": "stream",
     "text": [
      "Epoch 1599 Train Loss 3.4740058159429654e-09 Test loss 0.005832521435357167\n"
     ]
    },
    {
     "name": "stderr",
     "output_type": "stream",
     "text": [
      " 17%|█▋        | 1702/10000 [17:33<34:10,  4.05it/s]     "
     ]
    },
    {
     "name": "stdout",
     "output_type": "stream",
     "text": [
      "Epoch 1699 Train Loss 2.6248189782472755e-09 Test loss 0.0047198499826174994\n"
     ]
    },
    {
     "name": "stderr",
     "output_type": "stream",
     "text": [
      " 18%|█▊        | 1801/10000 [17:42<13:17, 10.28it/s]"
     ]
    },
    {
     "name": "stdout",
     "output_type": "stream",
     "text": [
      "Epoch 1799 Train Loss 2.0963095914230433e-09 Test loss 0.003951376757645032\n"
     ]
    },
    {
     "name": "stderr",
     "output_type": "stream",
     "text": [
      " 19%|█▉        | 1901/10000 [17:52<12:31, 10.78it/s]"
     ]
    },
    {
     "name": "stdout",
     "output_type": "stream",
     "text": [
      "Epoch 1899 Train Loss 1.7402910905060409e-09 Test loss 0.003401351096455481\n"
     ]
    },
    {
     "name": "stderr",
     "output_type": "stream",
     "text": [
      " 20%|██        | 2001/10000 [18:01<12:27, 10.71it/s]"
     ]
    },
    {
     "name": "stdout",
     "output_type": "stream",
     "text": [
      "Epoch 1999 Train Loss 1.4853087351329637e-09 Test loss 0.002984962051154898\n"
     ]
    },
    {
     "name": "stderr",
     "output_type": "stream",
     "text": [
      " 21%|██        | 2101/10000 [31:29<39:43,  3.31it/s]     "
     ]
    },
    {
     "name": "stdout",
     "output_type": "stream",
     "text": [
      "Epoch 2099 Train Loss 1.293910479070873e-09 Test loss 0.002661242258839399\n"
     ]
    },
    {
     "name": "stderr",
     "output_type": "stream",
     "text": [
      " 22%|██▏       | 2201/10000 [31:55<2:15:57,  1.05s/it]"
     ]
    },
    {
     "name": "stdout",
     "output_type": "stream",
     "text": [
      "Epoch 2199 Train Loss 1.1453399346213334e-09 Test loss 0.002409151713983753\n"
     ]
    },
    {
     "name": "stderr",
     "output_type": "stream",
     "text": [
      " 23%|██▎       | 2301/10000 [35:44<1:37:00,  1.32it/s] "
     ]
    },
    {
     "name": "stdout",
     "output_type": "stream",
     "text": [
      "Epoch 2299 Train Loss 1.0267093727192152e-09 Test loss 0.002207303206608698\n"
     ]
    },
    {
     "name": "stderr",
     "output_type": "stream",
     "text": [
      " 24%|██▍       | 2402/10000 [48:23<14:28,  8.75it/s]     "
     ]
    },
    {
     "name": "stdout",
     "output_type": "stream",
     "text": [
      "Epoch 2399 Train Loss 9.298177028484806e-10 Test loss 0.0020368392147500115\n"
     ]
    },
    {
     "name": "stderr",
     "output_type": "stream",
     "text": [
      " 25%|██▌       | 2501/10000 [49:41<11:49, 10.58it/s]   "
     ]
    },
    {
     "name": "stdout",
     "output_type": "stream",
     "text": [
      "Epoch 2499 Train Loss 8.492551355636844e-10 Test loss 0.0018920658120821173\n"
     ]
    },
    {
     "name": "stderr",
     "output_type": "stream",
     "text": [
      " 26%|██▌       | 2601/10000 [49:50<12:14, 10.08it/s]"
     ]
    },
    {
     "name": "stdout",
     "output_type": "stream",
     "text": [
      "Epoch 2599 Train Loss 7.812796917182393e-10 Test loss 0.0017675810839635625\n"
     ]
    },
    {
     "name": "stderr",
     "output_type": "stream",
     "text": [
      " 27%|██▋       | 2701/10000 [50:00<10:56, 11.12it/s]"
     ]
    },
    {
     "name": "stdout",
     "output_type": "stream",
     "text": [
      "Epoch 2699 Train Loss 7.23101461907986e-10 Test loss 0.0016611827046008412\n"
     ]
    },
    {
     "name": "stderr",
     "output_type": "stream",
     "text": [
      " 28%|██▊       | 2802/10000 [50:11<09:53, 12.14it/s]"
     ]
    },
    {
     "name": "stdout",
     "output_type": "stream",
     "text": [
      "Epoch 2799 Train Loss 6.727451285235707e-10 Test loss 0.001568084893951121\n"
     ]
    },
    {
     "name": "stderr",
     "output_type": "stream",
     "text": [
      " 29%|██▉       | 2902/10000 [50:20<09:47, 12.07it/s]"
     ]
    },
    {
     "name": "stdout",
     "output_type": "stream",
     "text": [
      "Epoch 2899 Train Loss 6.288064736207862e-10 Test loss 0.0014862093718870733\n"
     ]
    },
    {
     "name": "stderr",
     "output_type": "stream",
     "text": [
      " 30%|███       | 3002/10000 [50:29<10:37, 10.98it/s]"
     ]
    },
    {
     "name": "stdout",
     "output_type": "stream",
     "text": [
      "Epoch 2999 Train Loss 5.901127319565065e-10 Test loss 0.0014133269325594274\n"
     ]
    },
    {
     "name": "stderr",
     "output_type": "stream",
     "text": [
      " 31%|███       | 3102/10000 [50:37<09:48, 11.72it/s]"
     ]
    },
    {
     "name": "stdout",
     "output_type": "stream",
     "text": [
      "Epoch 3099 Train Loss 5.55774995482646e-10 Test loss 0.0013464110091916629\n"
     ]
    },
    {
     "name": "stderr",
     "output_type": "stream",
     "text": [
      " 32%|███▏      | 3202/10000 [50:46<10:07, 11.19it/s]"
     ]
    },
    {
     "name": "stdout",
     "output_type": "stream",
     "text": [
      "Epoch 3199 Train Loss 5.251151487908175e-10 Test loss 0.0012868157507726393\n"
     ]
    },
    {
     "name": "stderr",
     "output_type": "stream",
     "text": [
      " 33%|███▎      | 3302/10000 [50:55<09:49, 11.37it/s]"
     ]
    },
    {
     "name": "stdout",
     "output_type": "stream",
     "text": [
      "Epoch 3299 Train Loss 4.975699312074079e-10 Test loss 0.0012321335562591191\n"
     ]
    },
    {
     "name": "stderr",
     "output_type": "stream",
     "text": [
      " 34%|███▍      | 3402/10000 [51:04<09:59, 11.01it/s]"
     ]
    },
    {
     "name": "stdout",
     "output_type": "stream",
     "text": [
      "Epoch 3399 Train Loss 4.726826545776494e-10 Test loss 0.0011834276023874825\n"
     ]
    },
    {
     "name": "stderr",
     "output_type": "stream",
     "text": [
      " 35%|███▌      | 3502/10000 [51:13<09:44, 11.12it/s]"
     ]
    },
    {
     "name": "stdout",
     "output_type": "stream",
     "text": [
      "Epoch 3499 Train Loss 4.5010414313890595e-10 Test loss 0.0011387774108474532\n"
     ]
    },
    {
     "name": "stderr",
     "output_type": "stream",
     "text": [
      " 36%|███▌      | 3602/10000 [51:22<09:35, 11.11it/s]"
     ]
    },
    {
     "name": "stdout",
     "output_type": "stream",
     "text": [
      "Epoch 3599 Train Loss 4.2952232492367227e-10 Test loss 0.001097745256387683\n"
     ]
    },
    {
     "name": "stderr",
     "output_type": "stream",
     "text": [
      " 37%|███▋      | 3702/10000 [51:31<08:49, 11.89it/s]"
     ]
    },
    {
     "name": "stdout",
     "output_type": "stream",
     "text": [
      "Epoch 3699 Train Loss 4.106971714456768e-10 Test loss 0.0010592922061515655\n"
     ]
    },
    {
     "name": "stderr",
     "output_type": "stream",
     "text": [
      " 38%|███▊      | 3802/10000 [51:39<09:06, 11.35it/s]"
     ]
    },
    {
     "name": "stdout",
     "output_type": "stream",
     "text": [
      "Epoch 3799 Train Loss 3.9341532349091287e-10 Test loss 0.0010233751214103087\n"
     ]
    },
    {
     "name": "stderr",
     "output_type": "stream",
     "text": [
      " 39%|███▉      | 3902/10000 [51:48<09:10, 11.07it/s]"
     ]
    },
    {
     "name": "stdout",
     "output_type": "stream",
     "text": [
      "Epoch 3899 Train Loss 3.774984980473769e-10 Test loss 0.0009897053993305875\n"
     ]
    },
    {
     "name": "stderr",
     "output_type": "stream",
     "text": [
      " 40%|████      | 4002/10000 [51:57<09:09, 10.91it/s]"
     ]
    },
    {
     "name": "stdout",
     "output_type": "stream",
     "text": [
      "Epoch 3999 Train Loss 3.627986332234785e-10 Test loss 0.0009580419376929381\n"
     ]
    },
    {
     "name": "stderr",
     "output_type": "stream",
     "text": [
      " 41%|████      | 4102/10000 [52:06<09:03, 10.85it/s]"
     ]
    },
    {
     "name": "stdout",
     "output_type": "stream",
     "text": [
      "Epoch 4099 Train Loss 3.491765682679241e-10 Test loss 0.0009281608708326442\n"
     ]
    },
    {
     "name": "stderr",
     "output_type": "stream",
     "text": [
      " 42%|████▏     | 4202/10000 [52:15<08:18, 11.64it/s]"
     ]
    },
    {
     "name": "stdout",
     "output_type": "stream",
     "text": [
      "Epoch 4199 Train Loss 3.365136846239572e-10 Test loss 0.0009001468088778799\n"
     ]
    },
    {
     "name": "stderr",
     "output_type": "stream",
     "text": [
      " 43%|████▎     | 4302/10000 [52:24<08:26, 11.24it/s]"
     ]
    },
    {
     "name": "stdout",
     "output_type": "stream",
     "text": [
      "Epoch 4299 Train Loss 3.247132754142885e-10 Test loss 0.0008737296022807094\n"
     ]
    },
    {
     "name": "stderr",
     "output_type": "stream",
     "text": [
      " 44%|████▍     | 4402/10000 [52:33<08:23, 11.12it/s]"
     ]
    },
    {
     "name": "stdout",
     "output_type": "stream",
     "text": [
      "Epoch 4399 Train Loss 3.1369025939392714e-10 Test loss 0.0008490612347476399\n"
     ]
    },
    {
     "name": "stderr",
     "output_type": "stream",
     "text": [
      " 45%|████▌     | 4502/10000 [52:42<08:07, 11.28it/s]"
     ]
    },
    {
     "name": "stdout",
     "output_type": "stream",
     "text": [
      "Epoch 4499 Train Loss 3.0337075196820863e-10 Test loss 0.0008257807645902681\n"
     ]
    },
    {
     "name": "stderr",
     "output_type": "stream",
     "text": [
      " 46%|████▌     | 4602/10000 [52:51<07:56, 11.32it/s]"
     ]
    },
    {
     "name": "stdout",
     "output_type": "stream",
     "text": [
      "Epoch 4599 Train Loss 2.936893035622097e-10 Test loss 0.0008035702672854296\n"
     ]
    },
    {
     "name": "stderr",
     "output_type": "stream",
     "text": [
      " 47%|████▋     | 4702/10000 [53:00<07:57, 11.09it/s]"
     ]
    },
    {
     "name": "stdout",
     "output_type": "stream",
     "text": [
      "Epoch 4699 Train Loss 2.8458941830181686e-10 Test loss 0.000782321779729502\n"
     ]
    },
    {
     "name": "stderr",
     "output_type": "stream",
     "text": [
      " 48%|████▊     | 4802/10000 [53:09<07:40, 11.30it/s]"
     ]
    },
    {
     "name": "stdout",
     "output_type": "stream",
     "text": [
      "Epoch 4799 Train Loss 2.760089502140561e-10 Test loss 0.0007620737219163288\n"
     ]
    },
    {
     "name": "stderr",
     "output_type": "stream",
     "text": [
      " 49%|████▉     | 4902/10000 [53:18<07:31, 11.29it/s]"
     ]
    },
    {
     "name": "stdout",
     "output_type": "stream",
     "text": [
      "Epoch 4899 Train Loss 2.6791804342690826e-10 Test loss 0.0007424786978532811\n"
     ]
    },
    {
     "name": "stderr",
     "output_type": "stream",
     "text": [
      " 50%|█████     | 5002/10000 [53:27<07:28, 11.15it/s]"
     ]
    },
    {
     "name": "stdout",
     "output_type": "stream",
     "text": [
      "Epoch 4999 Train Loss 2.6027614466427856e-10 Test loss 0.0007240131288047539\n"
     ]
    },
    {
     "name": "stderr",
     "output_type": "stream",
     "text": [
      " 51%|█████     | 5102/10000 [53:36<07:18, 11.16it/s]"
     ]
    },
    {
     "name": "stdout",
     "output_type": "stream",
     "text": [
      "Epoch 5099 Train Loss 2.5304203475233463e-10 Test loss 0.0007072387089620137\n"
     ]
    },
    {
     "name": "stderr",
     "output_type": "stream",
     "text": [
      " 52%|█████▏    | 5201/10000 [53:46<07:10, 11.16it/s]"
     ]
    },
    {
     "name": "stdout",
     "output_type": "stream",
     "text": [
      "Epoch 5199 Train Loss 2.4618959362898733e-10 Test loss 0.0006906405615134919\n"
     ]
    },
    {
     "name": "stderr",
     "output_type": "stream",
     "text": [
      " 53%|█████▎    | 5302/10000 [53:55<06:59, 11.20it/s]"
     ]
    },
    {
     "name": "stdout",
     "output_type": "stream",
     "text": [
      "Epoch 5299 Train Loss 2.396883232081551e-10 Test loss 0.0006745092344565308\n"
     ]
    },
    {
     "name": "stderr",
     "output_type": "stream",
     "text": [
      " 54%|█████▍    | 5402/10000 [54:04<06:56, 11.03it/s]"
     ]
    },
    {
     "name": "stdout",
     "output_type": "stream",
     "text": [
      "Epoch 5399 Train Loss 2.335134795220711e-10 Test loss 0.0006590931125893355\n"
     ]
    },
    {
     "name": "stderr",
     "output_type": "stream",
     "text": [
      " 55%|█████▌    | 5502/10000 [54:13<06:56, 10.79it/s]"
     ]
    },
    {
     "name": "stdout",
     "output_type": "stream",
     "text": [
      "Epoch 5499 Train Loss 2.2763879489857358e-10 Test loss 0.0006444001444624032\n"
     ]
    },
    {
     "name": "stderr",
     "output_type": "stream",
     "text": [
      " 56%|█████▌    | 5602/10000 [54:22<06:37, 11.05it/s]"
     ]
    },
    {
     "name": "stdout",
     "output_type": "stream",
     "text": [
      "Epoch 5599 Train Loss 2.2204547179052392e-10 Test loss 0.0006303576019263596\n"
     ]
    },
    {
     "name": "stderr",
     "output_type": "stream",
     "text": [
      " 57%|█████▋    | 5700/10000 [54:31<07:12,  9.95it/s]"
     ]
    },
    {
     "name": "stdout",
     "output_type": "stream",
     "text": [
      "Epoch 5699 Train Loss 2.167161763196821e-10 Test loss 0.0006166829267152132\n"
     ]
    },
    {
     "name": "stderr",
     "output_type": "stream",
     "text": [
      " 58%|█████▊    | 5802/10000 [54:40<06:19, 11.06it/s]"
     ]
    },
    {
     "name": "stdout",
     "output_type": "stream",
     "text": [
      "Epoch 5799 Train Loss 2.1162937582460382e-10 Test loss 0.0006037242375958651\n"
     ]
    },
    {
     "name": "stderr",
     "output_type": "stream",
     "text": [
      " 59%|█████▉    | 5902/10000 [54:50<06:06, 11.18it/s]"
     ]
    },
    {
     "name": "stdout",
     "output_type": "stream",
     "text": [
      "Epoch 5899 Train Loss 2.0676791645471937e-10 Test loss 0.0005911575926883481\n"
     ]
    },
    {
     "name": "stderr",
     "output_type": "stream",
     "text": [
      " 60%|██████    | 6002/10000 [54:59<06:01, 11.07it/s]"
     ]
    },
    {
     "name": "stdout",
     "output_type": "stream",
     "text": [
      "Epoch 5999 Train Loss 2.0212034481569897e-10 Test loss 0.000578837725687428\n"
     ]
    },
    {
     "name": "stderr",
     "output_type": "stream",
     "text": [
      " 61%|██████    | 6102/10000 [55:08<05:51, 11.10it/s]"
     ]
    },
    {
     "name": "stdout",
     "output_type": "stream",
     "text": [
      "Epoch 6099 Train Loss 1.9767117978775562e-10 Test loss 0.0005670194994469019\n"
     ]
    },
    {
     "name": "stderr",
     "output_type": "stream",
     "text": [
      " 62%|██████▏   | 6202/10000 [55:17<05:44, 11.01it/s]"
     ]
    },
    {
     "name": "stdout",
     "output_type": "stream",
     "text": [
      "Epoch 6199 Train Loss 1.9340881981568679e-10 Test loss 0.0005557490188137916\n"
     ]
    },
    {
     "name": "stderr",
     "output_type": "stream",
     "text": [
      " 63%|██████▎   | 6300/10000 [55:26<05:58, 10.31it/s]"
     ]
    },
    {
     "name": "stdout",
     "output_type": "stream",
     "text": [
      "Epoch 6299 Train Loss 1.8932064463007987e-10 Test loss 0.0005447287855794837\n"
     ]
    },
    {
     "name": "stderr",
     "output_type": "stream",
     "text": [
      " 64%|██████▍   | 6402/10000 [55:35<05:27, 10.97it/s]"
     ]
    },
    {
     "name": "stdout",
     "output_type": "stream",
     "text": [
      "Epoch 6399 Train Loss 1.8539686499089323e-10 Test loss 0.0005341814975622504\n"
     ]
    },
    {
     "name": "stderr",
     "output_type": "stream",
     "text": [
      " 65%|██████▌   | 6502/10000 [55:44<04:59, 11.69it/s]"
     ]
    },
    {
     "name": "stdout",
     "output_type": "stream",
     "text": [
      "Epoch 6499 Train Loss 1.8162717549486044e-10 Test loss 0.0005241001995446322\n"
     ]
    },
    {
     "name": "stderr",
     "output_type": "stream",
     "text": [
      " 66%|██████▌   | 6602/10000 [55:53<05:05, 11.12it/s]"
     ]
    },
    {
     "name": "stdout",
     "output_type": "stream",
     "text": [
      "Epoch 6599 Train Loss 1.7800203742993647e-10 Test loss 0.0005143568069858713\n"
     ]
    },
    {
     "name": "stderr",
     "output_type": "stream",
     "text": [
      " 67%|██████▋   | 6702/10000 [56:02<05:00, 10.98it/s]"
     ]
    },
    {
     "name": "stdout",
     "output_type": "stream",
     "text": [
      "Epoch 6699 Train Loss 1.7451492518688085e-10 Test loss 0.0005048231095376138\n"
     ]
    },
    {
     "name": "stderr",
     "output_type": "stream",
     "text": [
      " 68%|██████▊   | 6802/10000 [56:11<04:44, 11.23it/s]"
     ]
    },
    {
     "name": "stdout",
     "output_type": "stream",
     "text": [
      "Epoch 6799 Train Loss 1.7115896576915996e-10 Test loss 0.000495601222407587\n"
     ]
    },
    {
     "name": "stderr",
     "output_type": "stream",
     "text": [
      " 69%|██████▉   | 6902/10000 [56:20<04:47, 10.79it/s]"
     ]
    },
    {
     "name": "stdout",
     "output_type": "stream",
     "text": [
      "Epoch 6899 Train Loss 1.6792598168785758e-10 Test loss 0.00048661983217756767\n"
     ]
    },
    {
     "name": "stderr",
     "output_type": "stream",
     "text": [
      " 70%|███████   | 7002/10000 [56:29<04:28, 11.18it/s]"
     ]
    },
    {
     "name": "stdout",
     "output_type": "stream",
     "text": [
      "Epoch 6999 Train Loss 1.6480828848434896e-10 Test loss 0.00047791962207254055\n"
     ]
    },
    {
     "name": "stderr",
     "output_type": "stream",
     "text": [
      " 71%|███████   | 7102/10000 [56:38<04:20, 11.12it/s]"
     ]
    },
    {
     "name": "stdout",
     "output_type": "stream",
     "text": [
      "Epoch 7099 Train Loss 1.6180201674420695e-10 Test loss 0.00046935214828563174\n"
     ]
    },
    {
     "name": "stderr",
     "output_type": "stream",
     "text": [
      " 72%|███████▏  | 7202/10000 [56:47<04:12, 11.09it/s]"
     ]
    },
    {
     "name": "stdout",
     "output_type": "stream",
     "text": [
      "Epoch 7199 Train Loss 1.5889868864390516e-10 Test loss 0.0004612340089141991\n"
     ]
    },
    {
     "name": "stderr",
     "output_type": "stream",
     "text": [
      " 73%|███████▎  | 7301/10000 [56:56<04:00, 11.22it/s]"
     ]
    },
    {
     "name": "stdout",
     "output_type": "stream",
     "text": [
      "Epoch 7299 Train Loss 1.560954465590798e-10 Test loss 0.00045343533538403085\n"
     ]
    },
    {
     "name": "stderr",
     "output_type": "stream",
     "text": [
      " 74%|███████▍  | 7401/10000 [57:06<04:04, 10.63it/s]"
     ]
    },
    {
     "name": "stdout",
     "output_type": "stream",
     "text": [
      "Epoch 7399 Train Loss 1.5338664739369732e-10 Test loss 0.00044592182375831693\n"
     ]
    },
    {
     "name": "stderr",
     "output_type": "stream",
     "text": [
      " 75%|███████▌  | 7501/10000 [57:15<03:44, 11.12it/s]"
     ]
    },
    {
     "name": "stdout",
     "output_type": "stream",
     "text": [
      "Epoch 7499 Train Loss 1.507684328276871e-10 Test loss 0.0004387209076384077\n"
     ]
    },
    {
     "name": "stderr",
     "output_type": "stream",
     "text": [
      " 76%|███████▌  | 7601/10000 [57:24<03:36, 11.09it/s]"
     ]
    },
    {
     "name": "stdout",
     "output_type": "stream",
     "text": [
      "Epoch 7599 Train Loss 1.4823514505121836e-10 Test loss 0.0004317570273000031\n"
     ]
    },
    {
     "name": "stderr",
     "output_type": "stream",
     "text": [
      " 77%|███████▋  | 7701/10000 [57:33<03:28, 11.02it/s]"
     ]
    },
    {
     "name": "stdout",
     "output_type": "stream",
     "text": [
      "Epoch 7699 Train Loss 1.4578308468472471e-10 Test loss 0.00042493143780620386\n"
     ]
    },
    {
     "name": "stderr",
     "output_type": "stream",
     "text": [
      " 78%|███████▊  | 7801/10000 [57:42<03:21, 10.90it/s]"
     ]
    },
    {
     "name": "stdout",
     "output_type": "stream",
     "text": [
      "Epoch 7799 Train Loss 1.4340828112689848e-10 Test loss 0.00041828280602115603\n"
     ]
    },
    {
     "name": "stderr",
     "output_type": "stream",
     "text": [
      " 79%|███████▉  | 7901/10000 [57:51<03:09, 11.10it/s]"
     ]
    },
    {
     "name": "stdout",
     "output_type": "stream",
     "text": [
      "Epoch 7899 Train Loss 1.4110607663414574e-10 Test loss 0.0004117925077402453\n"
     ]
    },
    {
     "name": "stderr",
     "output_type": "stream",
     "text": [
      " 80%|████████  | 8001/10000 [58:00<03:01, 11.01it/s]"
     ]
    },
    {
     "name": "stdout",
     "output_type": "stream",
     "text": [
      "Epoch 7999 Train Loss 1.3887488557823242e-10 Test loss 0.00040563653333296624\n"
     ]
    },
    {
     "name": "stderr",
     "output_type": "stream",
     "text": [
      " 81%|████████  | 8101/10000 [58:09<02:52, 11.02it/s]"
     ]
    },
    {
     "name": "stdout",
     "output_type": "stream",
     "text": [
      "Epoch 8099 Train Loss 1.367112577699761e-10 Test loss 0.0003995952555309668\n"
     ]
    },
    {
     "name": "stderr",
     "output_type": "stream",
     "text": [
      " 82%|████████▏ | 8201/10000 [58:18<02:41, 11.11it/s]"
     ]
    },
    {
     "name": "stdout",
     "output_type": "stream",
     "text": [
      "Epoch 8199 Train Loss 1.3461014739916686e-10 Test loss 0.00039376437338189155\n"
     ]
    },
    {
     "name": "stderr",
     "output_type": "stream",
     "text": [
      " 83%|████████▎ | 8301/10000 [58:27<02:32, 11.14it/s]"
     ]
    },
    {
     "name": "stdout",
     "output_type": "stream",
     "text": [
      "Epoch 8299 Train Loss 1.3257144635478832e-10 Test loss 0.00038798851511542614\n"
     ]
    },
    {
     "name": "stderr",
     "output_type": "stream",
     "text": [
      " 84%|████████▍ | 8401/10000 [58:36<02:26, 10.94it/s]"
     ]
    },
    {
     "name": "stdout",
     "output_type": "stream",
     "text": [
      "Epoch 8399 Train Loss 1.3059263629537377e-10 Test loss 0.0003824156294775062\n"
     ]
    },
    {
     "name": "stderr",
     "output_type": "stream",
     "text": [
      " 85%|████████▌ | 8501/10000 [58:45<02:14, 11.16it/s]"
     ]
    },
    {
     "name": "stdout",
     "output_type": "stream",
     "text": [
      "Epoch 8499 Train Loss 1.2866942559127147e-10 Test loss 0.00037702456035930144\n"
     ]
    },
    {
     "name": "stderr",
     "output_type": "stream",
     "text": [
      " 86%|████████▌ | 8601/10000 [58:54<02:02, 11.41it/s]"
     ]
    },
    {
     "name": "stdout",
     "output_type": "stream",
     "text": [
      "Epoch 8599 Train Loss 1.268008291260916e-10 Test loss 0.00037169589509224545\n"
     ]
    },
    {
     "name": "stderr",
     "output_type": "stream",
     "text": [
      " 87%|████████▋ | 8701/10000 [59:03<01:55, 11.23it/s]"
     ]
    },
    {
     "name": "stdout",
     "output_type": "stream",
     "text": [
      "Epoch 8699 Train Loss 1.2498440315024765e-10 Test loss 0.0003665365596769012\n"
     ]
    },
    {
     "name": "stderr",
     "output_type": "stream",
     "text": [
      " 88%|████████▊ | 8801/10000 [59:12<01:46, 11.28it/s]"
     ]
    },
    {
     "name": "stdout",
     "output_type": "stream",
     "text": [
      "Epoch 8799 Train Loss 1.2321748871500446e-10 Test loss 0.0003614512405403273\n"
     ]
    },
    {
     "name": "stderr",
     "output_type": "stream",
     "text": [
      " 89%|████████▉ | 8901/10000 [59:21<01:40, 10.97it/s]"
     ]
    },
    {
     "name": "stdout",
     "output_type": "stream",
     "text": [
      "Epoch 8899 Train Loss 1.2149897882335794e-10 Test loss 0.00035653536114913826\n"
     ]
    },
    {
     "name": "stderr",
     "output_type": "stream",
     "text": [
      " 90%|█████████ | 9001/10000 [59:30<01:30, 11.07it/s]"
     ]
    },
    {
     "name": "stdout",
     "output_type": "stream",
     "text": [
      "Epoch 8999 Train Loss 1.1982611522810077e-10 Test loss 0.00035172561075369127\n"
     ]
    },
    {
     "name": "stderr",
     "output_type": "stream",
     "text": [
      " 91%|█████████ | 9101/10000 [59:40<01:20, 11.14it/s]"
     ]
    },
    {
     "name": "stdout",
     "output_type": "stream",
     "text": [
      "Epoch 9099 Train Loss 1.181952891142792e-10 Test loss 0.0003469023353986134\n"
     ]
    },
    {
     "name": "stderr",
     "output_type": "stream",
     "text": [
      " 92%|█████████▏| 9201/10000 [59:49<01:11, 11.15it/s]"
     ]
    },
    {
     "name": "stdout",
     "output_type": "stream",
     "text": [
      "Epoch 9199 Train Loss 1.166071259363812e-10 Test loss 0.0003422848263304438\n"
     ]
    },
    {
     "name": "stderr",
     "output_type": "stream",
     "text": [
      " 93%|█████████▎| 9301/10000 [59:58<01:03, 11.08it/s]"
     ]
    },
    {
     "name": "stdout",
     "output_type": "stream",
     "text": [
      "Epoch 9299 Train Loss 1.150598464262817e-10 Test loss 0.00033785373948063134\n"
     ]
    },
    {
     "name": "stderr",
     "output_type": "stream",
     "text": [
      " 94%|█████████▍| 9401/10000 [1:00:07<00:53, 11.13it/s]"
     ]
    },
    {
     "name": "stdout",
     "output_type": "stream",
     "text": [
      "Epoch 9399 Train Loss 1.1355235019638453e-10 Test loss 0.0003334838818333059\n"
     ]
    },
    {
     "name": "stderr",
     "output_type": "stream",
     "text": [
      " 95%|█████████▌| 9501/10000 [1:00:16<00:45, 11.02it/s]"
     ]
    },
    {
     "name": "stdout",
     "output_type": "stream",
     "text": [
      "Epoch 9499 Train Loss 1.1208294476637505e-10 Test loss 0.0003288713956336311\n"
     ]
    },
    {
     "name": "stderr",
     "output_type": "stream",
     "text": [
      " 96%|█████████▌| 9601/10000 [1:00:25<00:35, 11.22it/s]"
     ]
    },
    {
     "name": "stdout",
     "output_type": "stream",
     "text": [
      "Epoch 9599 Train Loss 1.1065037364075584e-10 Test loss 0.0003244430532577599\n"
     ]
    },
    {
     "name": "stderr",
     "output_type": "stream",
     "text": [
      " 97%|█████████▋| 9701/10000 [1:00:34<00:27, 10.96it/s]"
     ]
    },
    {
     "name": "stdout",
     "output_type": "stream",
     "text": [
      "Epoch 9699 Train Loss 1.0925321784277188e-10 Test loss 0.00032014379003027005\n"
     ]
    },
    {
     "name": "stderr",
     "output_type": "stream",
     "text": [
      " 98%|█████████▊| 9801/10000 [1:00:43<00:18, 11.01it/s]"
     ]
    },
    {
     "name": "stdout",
     "output_type": "stream",
     "text": [
      "Epoch 9799 Train Loss 1.0789029924560914e-10 Test loss 0.00031600870691309984\n"
     ]
    },
    {
     "name": "stderr",
     "output_type": "stream",
     "text": [
      " 99%|█████████▉| 9902/10000 [1:00:52<00:08, 11.11it/s]"
     ]
    },
    {
     "name": "stdout",
     "output_type": "stream",
     "text": [
      "Epoch 9899 Train Loss 1.0656020595402027e-10 Test loss 0.00031200888797886585\n"
     ]
    },
    {
     "name": "stderr",
     "output_type": "stream",
     "text": [
      "100%|██████████| 10000/10000 [1:01:01<00:00,  2.73it/s]"
     ]
    },
    {
     "name": "stdout",
     "output_type": "stream",
     "text": [
      "Epoch 9999 Train Loss 1.0526108977320666e-10 Test loss 0.000308072873718711\n"
     ]
    },
    {
     "name": "stderr",
     "output_type": "stream",
     "text": [
      "\n"
     ]
    }
   ],
   "source": [
    "train_losses_ortho = []\n",
    "test_losses_ortho = []\n",
    "for epoch in tqdm.tqdm(range(n_epoch)):\n",
    "    train_logits = model_ortho(train_dataset)\n",
    "    train_loss = loss_fn(train_logits,train_labels)\n",
    "    train_loss.backward()\n",
    "    train_losses_ortho.append(train_loss.item())\n",
    "    optimizer_ortho.step()\n",
    "    optimizer_ortho.zero_grad()\n",
    "    with t.inference_mode():\n",
    "        test_logits = model_ortho(test_dataset)\n",
    "        test_loss = loss_fn(test_logits,test_labels)\n",
    "        test_losses_ortho.append(test_loss.item())\n",
    "\n",
    "    if ((epoch+1)%100)==0:\n",
    "        print(f\"Epoch {epoch} Train Loss {train_loss.item()} Test loss {test_loss.item()}\")"
   ]
  },
  {
   "cell_type": "code",
   "execution_count": 76,
   "id": "9862ef6c",
   "metadata": {},
   "outputs": [
    {
     "name": "stdout",
     "output_type": "stream",
     "text": [
      "[4.632420038871681, 4.5918414052808405, 4.576953334068216, 4.570277016708376, 4.564112240609464, 4.557146215109135, 4.549958148686731, 4.543138123847747, 4.5366111583553606, 4.530169666756731, 4.52347083055826, 4.516427665117814, 4.508978009577815, 4.5011820890262495, 4.493072001996621, 4.4846227409783515, 4.475735065318686, 4.466266156335975, 4.456172965107057, 4.445517968783095, 4.434250780631692, 4.422339224101285, 4.409796994700354, 4.396548417823389, 4.382710160106736, 4.368299435522457, 4.353352018007906, 4.337903265437918, 4.32200286711236, 4.305600324379358, 4.288738374129205, 4.271490684400207, 4.253852535189546, 4.235930815089566, 4.217853977787011, 4.1996160222204635, 4.181283417479351, 4.1628710290263475, 4.14436569321273, 4.1257509650257695, 4.107058079019469, 4.088290099194472, 4.069356166228662, 4.050246058853954, 4.031007631752158, 4.011680618799173, 3.99225621266403, 3.972671095439648, 3.9528798559682383, 3.932890471176982, 3.912630300019275, 3.8920958688445544, 3.87124143261714, 3.8500630574472416, 3.8286122244089356, 3.806835579606215, 3.7847167576252283, 3.7622331278988246, 3.7393469788951834, 3.7160832049662256, 3.69246388648825, 3.668487919601981, 3.6440951980152514, 3.6192736108244383, 3.594026097350741, 3.5682944848265397, 3.5421579969514063, 3.515581461081141, 3.488627559370165, 3.461258681481841, 3.4334707098601225, 3.4051578628701447, 3.376343530340744, 3.3470670827558706, 3.3172905556805103, 3.2869609235738313, 3.2562122129625934, 3.2250817227968955, 3.1937539747677635, 3.162430939504341, 3.1308030057171754, 3.0986115518425628, 3.0662854137788487, 3.0338655047589738, 3.001104471354898, 2.967894205112944, 2.93463717739266, 2.901158684803687, 2.867314272724719, 2.833462291402485, 2.7995858532917137, 2.765665913272177, 2.7318596175629315, 2.698026151968904, 2.6639823713213135, 2.6301168762272003, 2.596382988073253, 2.5623999615521815, 2.528331989726205, 2.49433670167115, 2.460170891500653, 2.4258963408733454, 2.3917287339945927, 2.3574749938226596, 2.323105278837665, 2.2891780799144636, 2.255927061436475, 2.2227317166665057, 2.1891861385935973, 2.1561173285961477, 2.1235676131576744, 2.0911428027985344, 2.058520529122461, 2.026120457229881, 1.9941911402354788, 1.962422958250338, 1.9306041139770143, 1.8988154316723276, 1.867130475571562, 1.8357948250168663, 1.8045235505612962, 1.773321585079743, 1.7433889670007034, 1.7130452103853906, 1.682198652014794, 1.6523010535158436, 1.6224261552372923, 1.5925985276883956, 1.5632112829229616, 1.5336411616013874, 1.5039536235194224, 1.474523762755768, 1.445249633792121, 1.4161276909222456, 1.3875995633256337, 1.3589480838848595, 1.3299786263277735, 1.3013517104563055, 1.2730467727813188, 1.244898673680206, 1.2167070813993164, 1.1885302698998728, 1.1605091644687184, 1.1323768216531864, 1.104560605887255, 1.0769735185322382, 1.049219599775719, 1.021575344500102, 0.9940802971916693, 0.9665138223073483, 0.9391296443866701, 0.911862797636811, 0.8846917410860549, 0.8577430772021057, 0.8308720759857782, 0.804199015784888, 0.7778113183155407, 0.7515707472776777, 0.7254856582786984, 0.6996838375870762, 0.6742662990421779, 0.6492992070010908, 0.6246161793578476, 0.6002300438267917, 0.5763803753639379, 0.5528854130712985, 0.5298429678570947, 0.5074158832632145, 0.4855015915020811, 0.4640970586152974, 0.44326135590046983, 0.42296904023854326, 0.40325156101049614, 0.38418458309844183, 0.36577194534118185, 0.3480467250533945, 0.33090452174514845, 0.3143877078779265, 0.29855417386097094, 0.28341342342203196, 0.2689619893297477, 0.25519150422406817, 0.24205564671362434, 0.22952000083724933, 0.21760309120976049, 0.20628901273961664, 0.19557448580975492, 0.1854368710359944, 0.175854665050448, 0.1668004155333658, 0.15823735441232062, 0.15013789372281905, 0.1424903633903913, 0.1352690134161393, 0.12845264161820902, 0.12202767428603141, 0.11596532476609939, 0.11025693433087268, 0.10488294132820343, 0.0998236826548971, 0.09505173955652547, 0.09055186801420215, 0.08630866578623209, 0.08231221236776774, 0.07853700816825193, 0.07497061273120487, 0.07161221821050774, 0.06844193170972832, 0.0654552597098621, 0.06263043270289956, 0.05996599784575948, 0.05745107354376223, 0.055073541491719086, 0.05282574323245231, 0.05069560721685238, 0.048679310567187675, 0.04676746938038169, 0.04495566767869336, 0.043236090240730274, 0.041602687626412636, 0.04005198693425276, 0.038579041885502714, 0.03717984899406973, 0.035851033380902085, 0.03458649929121327, 0.033382507181015666, 0.0322367746009542, 0.031144733862128116, 0.03010315950686775, 0.02910841027942042, 0.028159128694570688, 0.02725216300807012, 0.026385039384550155, 0.025555398829626742, 0.024761642990631032, 0.024002340951677144, 0.023274470832813057, 0.02257711127971224, 0.02190870419960784, 0.021266661610500857, 0.02065001075632313, 0.020058161510863252, 0.01948999465712805, 0.018943964379112718, 0.018418885082043528, 0.017913464250787204, 0.017426854462102934, 0.01695824486735467, 0.016506399105687106, 0.016070437281184412, 0.015649789263880443, 0.015243983232030389, 0.01485202573799971, 0.014473258918329995, 0.014107209270770004, 0.013753385298094008, 0.01341109031178738, 0.013079267430218254, 0.012758184304758405, 0.012447703789741265, 0.01214736669227319, 0.011856432759286231, 0.011574575566949604, 0.011301325429007731, 0.011036451724817818, 0.010779614711055936, 0.010530242135141591, 0.010288042986446661, 0.0100529868976518, 0.009824579881305175, 0.009602926867690669, 0.00938754243466499, 0.009178170531390844, 0.008974902753574193, 0.008777460034994222, 0.008585463313210187, 0.00839851591198241, 0.008216519070247372, 0.008039403903807732, 0.00786683238801036, 0.007698861699354507, 0.007535329971679747, 0.0073761258869836045, 0.007221067801244435, 0.007070055553938443, 0.00692284276117156, 0.006779411408819219, 0.006639700393312609, 0.006503549370620465, 0.0063707902532861935, 0.006241365497086111, 0.006115109914975413, 0.005992013691369871, 0.005871918807233659, 0.005754761830034828, 0.005640508951684357, 0.005529086715707232, 0.005420320658193928, 0.0053139928167433735, 0.005210148332024914, 0.005108726026503971, 0.005009564396276797, 0.0049127059480243394, 0.004818000841199278, 0.004725420743209101, 0.0046349699206094525, 0.004546521874951608, 0.004460065429708496, 0.004375591905596291, 0.004293034424699112, 0.00421227392204399, 0.004133266968603897, 0.004055912410086272, 0.003980184968825062, 0.0039061601096494316, 0.003833850065327915, 0.0037631284403143736, 0.0036938770508252936, 0.003626075080697401, 0.003559656304025418, 0.0034945883926951744, 0.0034308620870708074, 0.0033685149317177476, 0.003307467637829816, 0.003247677063579165, 0.0031891195344553396, 0.003131818009531422, 0.003075638109479561, 0.0030206231890562226, 0.0029667732307905826, 0.002914052576523313, 0.0028624189171302093, 0.0028118444491106705, 0.0027622897510203104, 0.0027137258715205534, 0.002666138592914053, 0.002619534973811975, 0.0025738437154397367, 0.002529060745740975, 0.0024851783083523087, 0.002442141402035171, 0.0023999228927497015, 0.002358531745210842, 0.002317940533059995, 0.0022781229567516888, 0.002239073734915538, 0.0022007820336351143, 0.0021632270865998148, 0.0021264021460672203, 0.0020902732508622183, 0.0020548410928003962, 0.0020201003191165218, 0.0019860132548174883, 0.0019525694249850887, 0.0019197311580899852, 0.0018875290453735875, 0.0018559355017353975, 0.0018249139672184486, 0.0017944763450557526, 0.0017645959480345954, 0.001735271737242834, 0.0017064557202100933, 0.0016781621495889965, 0.001650401259148613, 0.0016231603556877338, 0.0015964057280771341, 0.00157014538276151, 0.0015443440113826394, 0.001519011105037572, 0.0014941271556570203, 0.001469672724800398, 0.0014456516119468726, 0.001422035887735044, 0.0013988359133909872, 0.0013760339754688624, 0.0013536326495865807, 0.0013316191799141424, 0.0013099908098887269, 0.0012887516662246877, 0.0012678906297408437, 0.0012474105649407992, 0.0012272999108322727, 0.0012075370922040019, 0.0011881168636869261, 0.0011690349492031473, 0.0011502737122779075, 0.001131857476898218, 0.0011137659928608554, 0.0010959993192239212, 0.001078538016359684, 0.0010613750593606063, 0.0010445016410540091, 0.0010279148050428588, 0.0010116053097215904, 0.0009955660496166617, 0.0009798084115259752, 0.0009643162860700059, 0.000949082026552448, 0.0009341024353941205, 0.0009193714360459748, 0.0009048891904239571, 0.0008906579677768229, 0.0008766688840595527, 0.0008629136030531341, 0.0008493846463651174, 0.0008360770955800211, 0.0008229995358950206, 0.0008101342080556492, 0.0007974847679151258, 0.0007850441214027007, 0.0007728163130858932, 0.0007607947497677188, 0.0007489800620131981, 0.0007373618387329652, 0.0007259386844600497, 0.0007147090117717294, 0.0007036691783307365, 0.0006928153262151694, 0.0006821345210418389, 0.0006716240552186622, 0.0006612845836798714, 0.0006511128129898112, 0.0006411046394603269, 0.0006312587564058649, 0.0006215739804139924, 0.0006120435989618711, 0.0006026661049780598, 0.0005934466402338546, 0.0005843811279050552, 0.0005754569166040958, 0.0005666707035396655, 0.0005580258839025528, 0.0005495183781473278, 0.0005411469827417349, 0.0005329100120828897, 0.0005247993698605163, 0.0005168186699586848, 0.0005089641340900547, 0.0005012339045097578, 0.0004936242993977532, 0.0004861309908425967, 0.00047875793869813757, 0.00047149860858058983, 0.0004643498722216082, 0.0004573071833921188, 0.00045037092348611116, 0.00044354187569904034, 0.00043682229455600926, 0.00043020919992470285, 0.0004236967168541943, 0.00041728515825192143, 0.000410972782025127, 0.00040476034799908115, 0.00039864596418443665, 0.00039262573696091587, 0.00038669541693051837, 0.00038085872592609943, 0.00037511011900295176, 0.0003694507174113276, 0.00036387976475653826, 0.0003583968656481539, 0.00035299744212727703, 0.0003476791435318613, 0.0003424378697954407, 0.00033727685222412234, 0.000332193192440708, 0.00032718610603422554, 0.00032225548920935084, 0.00031740246794190045, 0.00031262766542654926, 0.0003079265690269951, 0.00030329511484866354, 0.00029873761531529517, 0.0002942516106488988, 0.0002898349042510934, 0.00028548732924183406, 0.0002812047855612306, 0.000276985702213939, 0.0002728286255808403, 0.00026873370684629444, 0.00026470072135843944, 0.00026072856510962945, 0.0002568176092030149, 0.00025296728943959094, 0.000249178031722943, 0.00024544800411540436, 0.00024177744445202972, 0.00023816194000651832, 0.00023460350491154303, 0.000231101871874865, 0.00022765370078951095, 0.00022425693339443928, 0.00022091312200948345, 0.0002176180107706959, 0.0002143720699103958, 0.0002111773914390733, 0.00020803048860512034, 0.00020493022391391836, 0.00020187573258324975, 0.00019886711224771756, 0.0001959047375497686, 0.00019298666596207452, 0.0001901135207375754, 0.0001872812786457133, 0.00018449242168907618, 0.00018174481024343199, 0.00017903929691452035, 0.0001763736647699667, 0.00017374838458401117, 0.00017116340029177268, 0.00016861848252822413, 0.0001661118201060011, 0.00016364379689062924, 0.00016121424795663793, 0.00015881993954900743, 0.00015646254469942774, 0.00015414224960890398, 0.00015185654332128753, 0.0001496080913100165, 0.00014739455757242418, 0.00014521504497317443, 0.00014306842585655788, 0.00014095239897620623, 0.00013886877891330603, 0.0001368164726047104, 0.00013479677018666026, 0.000132807435374463, 0.00013084714686455742, 0.00012891634401412187, 0.00012701315409624248, 0.0001251403694192247, 0.00012329486975829162, 0.00012147575066605167, 0.0001196833596679404, 0.00011791751093676119, 0.00011617678111385427, 0.00011446169699111058, 0.00011277293943019998, 0.00011110956627900124, 0.00010947156716099823, 0.00010785753666432106, 0.00010626626468087375, 0.00010469865979220077, 0.00010315485203482703, 0.00010163464412811673, 0.00010013786795591377, 9.866437739816005e-05, 9.721312297861867e-05, 9.578374663201372e-05, 9.437463277273716e-05, 9.298610658257224e-05, 9.161730285971653e-05, 9.026902274653408e-05, 8.89411731019142e-05, 8.763243836593963e-05, 8.634317000766372e-05, 8.507276632713784e-05, 8.382150561449935e-05, 8.258910652938649e-05, 8.137498874349796e-05, 8.017949663430847e-05, 7.9001775404426e-05, 7.784229667085503e-05, 7.670091368004424e-05, 7.557727741504277e-05, 7.447038136405385e-05, 7.338006045865027e-05, 7.230586397834085e-05, 7.124788011644518e-05, 7.0205873120679e-05, 6.91792763831298e-05, 6.816784673722644e-05, 6.717140281836402e-05, 6.619022025497805e-05, 6.522403389791635e-05, 6.42722335479097e-05, 6.333463278208946e-05, 6.241157536919524e-05, 6.15022227825913e-05, 6.06063331623179e-05, 5.972382749636652e-05, 5.885474226596177e-05, 5.799885365914529e-05, 5.7155435907059097e-05, 5.6325195019258324e-05, 5.550723443271562e-05, 5.470130200044473e-05, 5.390724677041421e-05, 5.3124758856692106e-05, 5.2353793346150606e-05, 5.159357657089748e-05, 5.084468900329425e-05, 5.010662475988554e-05, 4.9378960552095675e-05, 4.8662129349498976e-05, 4.7955821132759184e-05, 4.726024934921819e-05, 4.657498541388364e-05, 4.589979202835594e-05, 4.523446464392589e-05, 4.457858212558096e-05, 4.3932338809853896e-05, 4.3295557394325084e-05, 4.2667507309622143e-05, 4.204872478554531e-05, 4.143944153889495e-05, 4.0839307360647594e-05, 4.024811059897053e-05, 3.966557638057753e-05, 3.909145116785478e-05, 3.8525774838113194e-05, 3.796823259002987e-05, 3.741884984401989e-05, 3.687737769194225e-05, 3.634334839213087e-05, 3.58169463249022e-05, 3.529824764343234e-05, 3.478691146401141e-05, 3.428320705239101e-05, 3.378612079151735e-05, 3.329581878668864e-05, 3.281250145043793e-05, 3.2336348324050786e-05, 3.186714435850503e-05, 3.140462718348776e-05, 3.09490286780107e-05, 3.0500140245696132e-05, 3.0058082202743042e-05, 2.962280916544202e-05, 2.919406113510152e-05, 2.8771806380555756e-05, 2.8355830145117397e-05, 2.794580782397948e-05, 2.754186184316981e-05, 2.7143680279735474e-05, 2.67513152071268e-05, 2.6364962621562103e-05, 2.598437743999353e-05, 2.5609560476301527e-05, 2.5240575996944194e-05, 2.4877199800501806e-05, 2.45191631476539e-05, 2.4166659797026102e-05, 2.381940221493513e-05, 2.3477390751955267e-05, 2.314044307471926e-05, 2.2808491076331352e-05, 2.248148823464014e-05, 2.2159206933278803e-05, 2.1841672846894015e-05, 2.1528883092495422e-05, 2.1220791492874622e-05, 2.091721872977974e-05, 2.0618144134586775e-05, 2.0323450955370195e-05, 2.0033145969127728e-05, 1.9746945822411646e-05, 1.9464908469636726e-05, 1.918700810133482e-05, 1.8913256704197517e-05, 1.8643283081433282e-05, 1.837716908464238e-05, 1.8114832967540642e-05, 1.785630592796005e-05, 1.760141927350005e-05, 1.735020274518455e-05, 1.7102430987449037e-05, 1.6858387589408942e-05, 1.6617748169782123e-05, 1.6380626262661232e-05, 1.6146999712251673e-05, 1.5916883518838458e-05, 1.5690147199257504e-05, 1.5466659739077358e-05, 1.5246393001169943e-05, 1.5029466279039955e-05, 1.481574091846378e-05, 1.4605184307128075e-05, 1.4397781360770436e-05, 1.4193430992888083e-05, 1.3992117182407653e-05, 1.3793772569320768e-05, 1.3598304860830912e-05, 1.3405741504640524e-05, 1.3216010214922148e-05, 1.3028950617345412e-05, 1.2844552611940492e-05, 1.2662922342538517e-05, 1.2484022271188917e-05, 1.2307795062550546e-05, 1.2134115666525726e-05, 1.196298187632145e-05, 1.179441818506433e-05, 1.162836368851773e-05, 1.146476934496786e-05, 1.1303589611719752e-05, 1.1144787606539607e-05, 1.0988327701399683e-05, 1.0834199953659246e-05, 1.0682350684668862e-05, 1.053269657638565e-05, 1.0385215982323256e-05, 1.0239813077483849e-05, 1.0096475281142943e-05, 9.955222458816014e-06, 9.815956597379288e-06, 9.67867138654513e-06, 9.543388415729438e-06, 9.410177024245395e-06, 9.278935751196625e-06, 9.149550906370642e-06, 9.022052860461042e-06, 8.896449897948903e-06, 8.772713735453286e-06, 8.650745775740696e-06, 8.530561426018676e-06, 8.412166347336469e-06, 8.295418469266327e-06, 8.180291005586246e-06, 8.06680842407121e-06, 7.954848512420102e-06, 7.844558275214462e-06, 7.735850450825827e-06, 7.62868717558379e-06, 7.523114883896235e-06, 7.419073058065234e-06, 7.316562205696851e-06, 7.2155174321385825e-06, 7.115934478830088e-06, 7.017786547769757e-06, 6.921115076104023e-06, 6.825865405513107e-06, 6.73201426129989e-06, 6.639521924382551e-06, 6.548393696256158e-06, 6.458542484386586e-06, 6.370012272587334e-06, 6.282808523585164e-06, 6.1968760567444194e-06, 6.112214803122514e-06, 6.028809032146191e-06, 5.9466294720584336e-06, 5.8656232679508e-06, 5.785726149326418e-06, 5.706914230659551e-06, 5.629244736246671e-06, 5.552711967598853e-06, 5.477289450449389e-06, 5.402979479379353e-06, 5.32972704380865e-06, 5.257486499619036e-06, 5.186244727605701e-06, 5.116010133522129e-06, 5.046772565119401e-06, 4.9785510114281476e-06, 4.911282527990235e-06, 4.8449829457568735e-06, 4.779610694785907e-06, 4.715169636899411e-06, 4.651651814355842e-06, 4.589024773446783e-06, 4.527311561704671e-06, 4.466448686013629e-06, 4.406473370513916e-06, 4.347346245107175e-06, 4.289044836942551e-06, 4.231532081963145e-06, 4.174850402552916e-06, 4.1189738926597925e-06, 4.06389981359292e-06, 4.009613821396334e-06, 3.956098248341977e-06, 3.9033459523816885e-06, 3.851330243491379e-06, 3.800038473937776e-06, 3.7494876946995233e-06, 3.6996525146582583e-06, 3.6505201224622805e-06, 3.602071855191342e-06, 3.5542978958180154e-06, 3.507198720038778e-06, 3.46077684201957e-06, 3.4150194886439304e-06, 3.369911545481455e-06, 3.3254547994151815e-06, 3.2816119340245084e-06, 3.2384040422026935e-06, 3.1957895138563947e-06, 3.1537546039663866e-06, 3.1122867200944585e-06, 3.0713848974233107e-06, 3.0310420466547884e-06, 2.9912486698413973e-06, 2.952008664206805e-06, 2.9133164065032364e-06, 2.87519002460103e-06, 2.837603819912421e-06, 2.800533860082313e-06, 2.763981234371794e-06, 2.727939631947375e-06, 2.6924081956241684e-06, 2.6573752673576422e-06, 2.6228309111336005e-06, 2.588785638603642e-06, 2.555205241955173e-06, 2.5220849209882337e-06, 2.4894367273618095e-06, 2.457236549050343e-06, 2.42547736135904e-06, 2.3941561516636293e-06, 2.363258454748277e-06, 2.332805264181038e-06, 2.3027706473984144e-06, 2.273147810668127e-06, 2.2439425611385982e-06, 2.2151332679510705e-06, 2.1867230640294704e-06, 2.158693490533045e-06, 2.131052726426965e-06, 2.103796269299695e-06, 2.076908753230191e-06, 2.0503925953024664e-06, 2.024236342508072e-06, 1.9984398863436877e-06, 1.972991184365616e-06, 1.947886440943121e-06, 1.923117975978041e-06, 1.8986988185193859e-06, 1.8746055295000208e-06, 1.8508446293442544e-06, 1.8274091303916216e-06, 1.804281106800678e-06, 1.7814630920750676e-06, 1.758957425415177e-06, 1.7367556361156363e-06, 1.7148592895437e-06, 1.6932597616291388e-06, 1.671945753167757e-06, 1.650922414322605e-06, 1.6301845067128352e-06, 1.6097255958179084e-06, 1.589540778059036e-06, 1.5696234300448092e-06, 1.5499683938819483e-06, 1.530581125795518e-06, 1.5114551732112885e-06, 1.4925769126976765e-06, 1.4739444955207852e-06, 1.4555617820218318e-06, 1.437424540060825e-06, 1.4195254063059019e-06, 1.401861933686393e-06, 1.384433884374509e-06, 1.3672391887251069e-06, 1.3502755595040833e-06, 1.333535748573577e-06, 1.3170190976589831e-06, 1.3007269011957702e-06, 1.284650801806243e-06, 1.2687846112770215e-06, 1.2531246473878207e-06, 1.2376740986917306e-06, 1.222424714899588e-06, 1.2073738958861652e-06, 1.1925173079834834e-06, 1.177857083575673e-06, 1.163390464867006e-06, 1.1491121743986777e-06, 1.1350204228375753e-06, 1.1211129067637675e-06, 1.1073890359735893e-06, 1.093842940314357e-06, 1.0804771088596485e-06, 1.067279786297552e-06, 1.0542569076057695e-06, 1.0414038539424842e-06, 1.02871461250235e-06, 1.0161866626464829e-06, 1.003810561426373e-06, 9.915961259444578e-07, 9.795398724836424e-07, 9.676391360997868e-07, 9.558932025293915e-07, 9.442970896364253e-07, 9.328480536727002e-07, 9.215509821540233e-07, 9.103998823692874e-07, 8.993939128284471e-07, 8.885295712165904e-07, 8.77808048792084e-07, 8.67221930637481e-07, 8.567734017236599e-07, 8.464569329629094e-07, 8.362729326427232e-07, 8.262188138701792e-07, 8.162945991542658e-07, 8.064956787053845e-07, 7.968244246081637e-07, 7.872707810573391e-07, 7.778370978794352e-07, 7.68524616754363e-07, 7.593295118489628e-07, 7.502550188146903e-07, 7.412971930700764e-07, 7.324509912357435e-07, 7.237161541662898e-07, 7.150931919828576e-07, 7.065811282734556e-07, 6.981741051329042e-07, 6.898743047678695e-07, 6.81681578738767e-07, 6.735970769200291e-07, 6.65612154753019e-07, 6.577311130587356e-07, 6.499519248231043e-07, 6.422693910182856e-07, 6.34683766585566e-07, 6.271928219045381e-07, 6.197989898745626e-07, 6.1249624592871e-07, 6.052886139078001e-07, 5.981718725339521e-07, 5.911438462407413e-07, 5.842015401969715e-07, 5.773485353661144e-07, 5.705818019471824e-07, 5.638981358031469e-07, 5.572977781027632e-07, 5.507808513840722e-07, 5.443434348356773e-07, 5.379860838927901e-07, 5.317058046860719e-07, 5.255074908913951e-07, 5.193818582722739e-07, 5.13331473163623e-07, 5.073527328106555e-07, 5.014474574976765e-07, 4.956150140795439e-07, 4.8985567704586e-07, 4.841688008183092e-07, 4.785522174000824e-07, 4.730097706548269e-07, 4.6753367203264077e-07, 4.62126172160338e-07, 4.56785850018652e-07, 4.5151156170042647e-07, 4.4630253604546953e-07, 4.4115907481884654e-07, 4.360786804334363e-07, 4.310600355041206e-07, 4.261038865895055e-07, 4.212084924950326e-07, 4.1637455157071244e-07, 4.1160144299324597e-07, 4.068846913098568e-07, 4.022278713146838e-07, 3.976274538910794e-07, 3.9308176646936914e-07, 3.8859240216247796e-07, 3.8415880068625737e-07, 3.7977979525285006e-07, 3.7545349304464283e-07, 3.7117874150821146e-07, 3.6695455991174527e-07, 3.627783659770202e-07, 3.5865167726536673e-07, 3.545750166608221e-07, 3.5054843088760487e-07, 3.465709043641831e-07, 3.426418932639785e-07, 3.3875757505507174e-07, 3.3491888070367537e-07, 3.3112580563408236e-07, 3.273774608279681e-07, 3.236745914959005e-07, 3.20016316647369e-07, 3.1640206753718076e-07, 3.128304140455763e-07, 3.092999493543207e-07, 3.0581158451169217e-07, 3.023648565267915e-07, 2.9895940459938125e-07, 2.9559507728994585e-07, 2.922716548687849e-07, 2.8898705890322534e-07, 2.857410532116698e-07, 2.825345022979864e-07, 2.79366278306599e-07, 2.7623629643415727e-07, 2.7314419591848133e-07, 2.700897433623861e-07, 2.6707219982845657e-07, 2.640907409531988e-07, 2.611457643219234e-07, 2.582363178036275e-07, 2.5536250612842747e-07, 2.525240378079935e-07, 2.497203948225953e-07, 2.4695096059830486e-07, 2.442144909521593e-07, 2.41510335587303e-07, 2.388387252622894e-07, 2.3619931202336207e-07, 2.3359182580684154e-07, 2.31015830457835e-07, 2.2847100221847896e-07, 2.2595728421284176e-07, 2.23473356802249e-07, 2.210194408587046e-07, 2.1859504220296037e-07, 2.1619945429507626e-07, 2.1383253259070463e-07, 2.1149210563005157e-07, 2.0917934574319383e-07, 2.0689435261324757e-07, 2.0463712936475473e-07, 2.0240651879029497e-07, 2.0020141103729056e-07, 1.980219855754141e-07, 1.9586816293848233e-07, 1.9373978572317693e-07, 1.91636548061817e-07, 1.8955791249310053e-07, 1.8750382427307223e-07, 1.854737234250116e-07, 1.8346754927814886e-07, 1.8148449863190714e-07, 1.795246034464084e-07, 1.775872328260967e-07, 1.7567294308521452e-07, 1.7378175213208027e-07, 1.719137666044988e-07, 1.7006781356768923e-07, 1.6824357914137548e-07, 1.6644005134875454e-07, 1.6465604321426237e-07, 1.6289316816492367e-07, 1.6115021576467053e-07, 1.5942668524950955e-07, 1.5772299428851527e-07, 1.560390798458618e-07, 1.5437511056554868e-07, 1.527303025526827e-07, 1.5110431669179336e-07, 1.4949703007873474e-07, 1.4790822260275647e-07, 1.463377775582976e-07, 1.447853760156987e-07, 1.4325155768408392e-07, 1.4173586702465656e-07, 1.4023775064449393e-07, 1.3875710284297315e-07, 1.3729384780554555e-07, 1.3584739762353523e-07, 1.3441806003922346e-07, 1.3300513306776586e-07, 1.3160893317227554e-07, 1.3022869574567593e-07, 1.2886502713471686e-07, 1.275164655578382e-07, 1.2618376057354127e-07, 1.2486635732209582e-07, 1.2356421712578466e-07, 1.222776938040761e-07, 1.2100531942575474e-07, 1.1974734264142964e-07, 1.1850452647926292e-07, 1.1727560414255233e-07, 1.1606113594779453e-07, 1.1486054782552757e-07, 1.1367414767189275e-07, 1.1250181436099185e-07, 1.1134261269471378e-07, 1.1019680492216042e-07, 1.0906289980125575e-07, 1.079421004513503e-07, 1.0683404884924494e-07, 1.057386175901819e-07, 1.0465553342105338e-07, 1.0358440508891263e-07, 1.0252556190011304e-07, 1.014785452966067e-07, 1.004434096046747e-07, 9.942015390701576e-08, 9.8408204356424e-08, 9.740771483533066e-08, 9.641821598076043e-08, 9.543914472947801e-08, 9.447119261059963e-08, 9.351394256323616e-08, 9.256734447475142e-08, 9.163169492246237e-08, 9.070659323158971e-08, 8.979195551248493e-08, 8.88876849714044e-08, 8.799337524824766e-08, 8.710909239132923e-08, 8.623464677686191e-08, 8.536990943202646e-08, 8.451481886455029e-08, 8.36692839114499e-08, 8.283323737430251e-08, 8.200647304896694e-08, 8.118894027076218e-08, 8.038027245540888e-08, 7.958065351516081e-08, 7.878998718138808e-08, 7.800843373893586e-08, 7.723559415144485e-08, 7.647128288572835e-08, 7.571532825429631e-08, 7.496754302488854e-08, 7.422815332300481e-08, 7.349712617154689e-08, 7.27740287481678e-08, 7.205909479083916e-08, 7.135190809685978e-08, 7.065287311594054e-08, 6.996105317852431e-08, 6.92767797829953e-08, 6.860000045450286e-08, 6.793108502406138e-08, 6.726991536709176e-08, 6.661597641840514e-08, 6.596936572371062e-08, 6.532998250346618e-08, 6.469752115148498e-08, 6.407202057492537e-08, 6.345334734649654e-08, 6.284179229609751e-08, 6.223702023440598e-08, 6.163879018410324e-08, 6.10473600894533e-08, 6.046227411593152e-08, 5.988350459248641e-08, 5.9311071686025676e-08, 5.874476544692357e-08, 5.8184729892121025e-08, 5.763074361449898e-08, 5.708280230371191e-08, 5.6540916642593885e-08, 5.600479428929356e-08, 5.5474621413527474e-08, 5.4950160899520525e-08, 5.443147025120996e-08, 5.3918398038942923e-08, 5.3410921217882396e-08, 5.290864930473632e-08, 5.241189382649274e-08, 5.1920726123488355e-08, 5.143474525773605e-08, 5.0954191931191354e-08, 5.047887364442087e-08, 5.000885961635931e-08, 4.954357240194139e-08, 4.908335230820306e-08, 4.86279779548511e-08, 4.817756895867403e-08, 4.773222874384633e-08, 4.729169972373165e-08, 4.6855841504031434e-08, 4.642452365924375e-08, 4.599799739040895e-08, 4.557569942900223e-08, 4.5157767910665836e-08, 4.47442237219091e-08, 4.433507919857728e-08, 4.393036544365736e-08, 4.352988021839685e-08, 4.313368143494371e-08, 4.274174850129503e-08, 4.2354025398709686e-08, 4.197034380494072e-08, 4.159089479098512e-08, 4.121548446526233e-08, 4.0844066638777204e-08, 4.047659279114178e-08, 4.011310685431278e-08, 3.9753518168927994e-08, 3.939782246548513e-08, 3.904565731391561e-08, 3.8697143549029996e-08, 3.8352458420804326e-08, 3.801146330222475e-08, 3.76740167607714e-08, 3.734013433367421e-08, 3.700964921821094e-08, 3.668266535026684e-08, 3.6359122032648886e-08, 3.603898685697703e-08, 3.5722159508135795e-08, 3.540850568496231e-08, 3.509819716989511e-08, 3.4791087919648614e-08, 3.448715771303831e-08, 3.4186207534694513e-08, 3.388847957848951e-08, 3.359373821760542e-08, 3.330212229746931e-08, 3.3013486463578725e-08, 3.27278551496519e-08, 3.2445234369267116e-08, 3.2165469944971844e-08, 3.188861280659358e-08, 3.161464436734109e-08, 3.134345912902129e-08, 3.107502471299121e-08, 3.080940328654186e-08, 3.054650734159405e-08, 3.028644998020377e-08, 3.002898522404319e-08, 2.97742345187331e-08, 2.952209805758684e-08, 2.9272706692192945e-08, 2.9025736175637648e-08, 2.878130482632037e-08, 2.8539273434492634e-08, 2.829974117936423e-08, 2.806262194268346e-08, 2.78279430316375e-08, 2.7595641485242536e-08, 2.7365842788885705e-08, 2.7138297915511336e-08, 2.6913117340923322e-08, 2.6690268198199793e-08, 2.6469638475205434e-08, 2.6251284843501593e-08, 2.603504921987545e-08, 2.5821119816555406e-08, 2.5609270767921094e-08, 2.5399525236940675e-08, 2.519192735550739e-08, 2.498641366931803e-08, 2.478303661869558e-08, 2.4581748221037103e-08, 2.4382420947228046e-08, 2.4185141382608587e-08, 2.3989793336940824e-08, 2.3796475122638644e-08, 2.360508680571622e-08, 2.341557669951634e-08, 2.3227999846951e-08, 2.304222924343953e-08, 2.2858320505938204e-08, 2.2676221195233866e-08, 2.249599352108832e-08, 2.2317528083155987e-08, 2.2140802391581703e-08, 2.196588902850226e-08, 2.1792649929936174e-08, 2.1621122723191898e-08, 2.145131895474129e-08, 2.128315742295769e-08, 2.111662657753301e-08, 2.0951723337232793e-08, 2.0788468768829546e-08, 2.0626720127468112e-08, 2.0466582556376456e-08, 2.0308004881614027e-08, 2.0151003513705773e-08, 1.9995562192713037e-08, 1.9841652440681363e-08, 1.9689260771034864e-08, 1.9538336746439292e-08, 1.938886497020264e-08, 1.92408738380959e-08, 1.909434005086498e-08, 1.8949214073348585e-08, 1.8805517315143546e-08, 1.8663175379760518e-08, 1.8522235286992525e-08, 1.838267255377035e-08, 1.8244459598499106e-08, 1.810758252443712e-08, 1.797204041428768e-08, 1.7837834495041756e-08, 1.770493112160029e-08, 1.7573299587753727e-08, 1.744292888547551e-08, 1.731380527442676e-08, 1.7185930574253332e-08, 1.705925401739035e-08, 1.693384760009739e-08, 1.6809616100730825e-08, 1.668657823627795e-08, 1.6564698992294812e-08, 1.6444010540694957e-08, 1.632443954436023e-08, 1.6206061763792766e-08, 1.608878454573582e-08, 1.597262938932913e-08, 1.5857573656486363e-08, 1.5743642957320042e-08, 1.5630757741881935e-08, 1.5519017106584264e-08, 1.5408286621660595e-08, 1.5298639444515662e-08, 1.5190001907338612e-08, 1.5082390889391057e-08, 1.4975826154746486e-08, 1.4870225612928137e-08, 1.4765661771333342e-08, 1.4662034687004622e-08, 1.455941964533151e-08, 1.4457718319888961e-08, 1.4356968462043976e-08, 1.4257147703759234e-08, 1.4158239404438142e-08, 1.4060250976912541e-08, 1.3963191855724811e-08, 1.3867003884627352e-08, 1.377169914026517e-08, 1.3677291521825378e-08, 1.3583777700608381e-08, 1.3491118413519307e-08, 1.3399332156820156e-08, 1.330839746505118e-08, 1.3218296480217383e-08, 1.3129062516875404e-08, 1.3040586007908083e-08, 1.2952947365006586e-08, 1.2866077888582422e-08, 1.2780034217711102e-08, 1.2694764591540568e-08, 1.2610249419146776e-08, 1.2526534525205666e-08, 1.244357916224918e-08, 1.2361374998650006e-08, 1.2279942311597457e-08, 1.2199213703084797e-08, 1.211924324505781e-08, 1.2039994514895996e-08, 1.1961471294037328e-08, 1.1883673417083815e-08, 1.1806561192507205e-08, 1.1730155197517503e-08, 1.1654443126346548e-08, 1.15794469315877e-08, 1.1505124217352657e-08, 1.1431458588855548e-08, 1.1358443777864145e-08, 1.1286101001277892e-08, 1.1214425000369785e-08, 1.1143361297498262e-08, 1.1072959252511398e-08, 1.1003174852096527e-08, 1.0933980810104788e-08, 1.086540809522968e-08, 1.079745456138189e-08, 1.0730112748195005e-08, 1.0663357437868164e-08, 1.0597192918252213e-08, 1.0531600073692083e-08, 1.0466621476948943e-08, 1.0402201505060637e-08, 1.0338351354048255e-08, 1.027505508745498e-08, 1.0212299191406884e-08, 1.015010118688482e-08, 1.0088463336824494e-08, 1.002732469392145e-08, 9.966729132679092e-09, 9.906677957349882e-09, 9.847134817064341e-09, 9.788108503747607e-09, 9.729615019404985e-09, 9.671616859039112e-09, 9.614111442221585e-09, 9.557108737751114e-09, 9.500624590577382e-09, 9.444597386395599e-09, 9.389052007500191e-09, 9.333991458177705e-09, 9.279409120919014e-09, 9.225287664442406e-09, 9.171622206368202e-09, 9.118434966807253e-09, 9.065668631343887e-09, 9.013404659502314e-09, 8.961518436274948e-09, 8.910089237167015e-09, 8.859094520395518e-09, 8.80852698744371e-09, 8.758375818242982e-09, 8.708670594456909e-09, 8.659389584431731e-09, 8.610521637862019e-09, 8.56207761785591e-09, 8.514042683624932e-09, 8.466391646879168e-09, 8.419146279869636e-09, 8.37228871492809e-09, 8.325825226347858e-09, 8.279753406732181e-09, 8.234053105650113e-09, 8.188734624649115e-09, 8.143783929442085e-09, 8.099232410618698e-09, 8.055048809620045e-09, 8.011207016064148e-09, 7.96774097263884e-09, 7.924611100800856e-09, 7.88183767223354e-09, 7.839414323095243e-09, 7.797334598432615e-09, 7.755590643911054e-09, 7.71417974684506e-09, 7.673105382209477e-09, 7.63238716562265e-09, 7.591979333075678e-09, 7.551891336569922e-09, 7.512125781160072e-09, 7.472668802908784e-09, 7.433552339802752e-09, 7.394744165396833e-09, 7.3562618879399645e-09, 7.318075222417988e-09, 7.280213341259281e-09, 7.2426281904625725e-09, 7.20535998527754e-09, 7.168382623658641e-09, 7.13168681458966e-09, 7.095280790167066e-09, 7.059181830998885e-09, 7.023362086145499e-09, 6.9878284704607486e-09, 6.952575297024606e-09, 6.917580682250752e-09, 6.882867582418401e-09, 6.848421984637263e-09, 6.814234821350973e-09, 6.78033292085319e-09, 6.746681653710521e-09, 6.713292794340721e-09, 6.680166682812039e-09, 6.647313186890645e-09, 6.6147136379161566e-09, 6.5823501332083566e-09, 6.550243468323416e-09, 6.518383450608773e-09, 6.486764207923118e-09, 6.455373395388261e-09, 6.424226233996964e-09, 6.393312403159045e-09, 6.362640409736089e-09, 6.332196019973517e-09, 6.301991020725567e-09, 6.271983443989349e-09, 6.242225892460507e-09, 6.212694298143468e-09, 6.183392945424471e-09, 6.1542907651377155e-09, 6.125425663331563e-09, 6.096780771463885e-09, 6.068347704636346e-09, 6.04012533673071e-09, 6.012102352286233e-09, 5.984281221410277e-09, 5.956677520744605e-09, 5.929275289437829e-09, 5.9020709223724214e-09, 5.875098256563113e-09, 5.84831074423825e-09, 5.8217251382005655e-09, 5.795325735366717e-09, 5.769131935918165e-09, 5.743106966608895e-09, 5.717285273464964e-09, 5.69164304885296e-09, 5.666191167921082e-09, 5.640914397011329e-09, 5.615825648857986e-09, 5.590907158318559e-09, 5.566183395462973e-09, 5.541622375561431e-09, 5.517262581963928e-09, 5.493074277297057e-09, 5.4690487761694335e-09, 5.4452190028710765e-09, 5.421544722719509e-09, 5.398029989639229e-09, 5.374698792549333e-09, 5.351526318634745e-09, 5.328525196586467e-09, 5.305678595077446e-09, 5.282989122302939e-09, 5.260475118266094e-09, 5.238109268492778e-09, 5.215898365644636e-09, 5.193853581189064e-09, 5.171953367123478e-09, 5.150222160470982e-09, 5.1286307996646615e-09, 5.107196441308308e-09, 5.085900041181327e-09, 5.064760026546978e-09, 5.043759291630171e-09, 5.022897917712138e-09, 5.0021899442739465e-09, 4.98160351476086e-09, 4.961177445511846e-09, 4.940891870066095e-09, 4.920737051429652e-09, 4.900720688458965e-09, 4.880830376792626e-09, 4.861093192416623e-09, 4.841484967090714e-09, 4.822007464187695e-09, 4.8026683321299766e-09, 4.783457675299941e-09, 4.7643760599019e-09, 4.745419990661297e-09, 4.726587549513452e-09, 4.707885334613063e-09, 4.68930701005552e-09, 4.670858998453745e-09, 4.652524671562553e-09, 4.634317346786069e-09, 4.616224312111318e-09, 4.598264238797678e-09, 4.58040571186148e-09, 4.562671334216281e-09, 4.545063259034393e-09, 4.527567681780161e-09, 4.510185641312835e-09, 4.492918149422193e-09, 4.475764860058194e-09, 4.458723695034137e-09, 4.44179442058317e-09, 4.424974541808994e-09, 4.408269934475284e-09, 4.3916669733699205e-09, 4.375177789506066e-09, 4.358795832253694e-09, 4.342521246627889e-09, 4.326350504147772e-09, 4.310281477528562e-09, 4.294314841640361e-09, 4.278451564839583e-09, 4.262687085846861e-09, 4.247024333809631e-09, 4.231456001794942e-09, 4.215988456706003e-09, 4.200614626161775e-09, 4.185342214922287e-09, 4.170160993670438e-09, 4.155074183390724e-09, 4.140088179471297e-09, 4.125185219288895e-09, 4.1103778872328715e-09, 4.095667360721502e-09, 4.0810422955736446e-09, 4.066501682201434e-09, 4.052060557164192e-09, 4.0377113562303965e-09, 4.023443976530067e-09, 4.009272085134975e-09, 3.99517550903392e-09, 3.981173231152345e-09, 3.9672549414442685e-09, 3.953417126852046e-09, 3.9396712605198914e-09, 3.926010419488212e-09, 3.912427182414387e-09, 3.898930561933864e-09, 3.885531031124519e-09, 3.872207000750181e-09, 3.858966800552886e-09, 3.845797859599629e-09, 3.8327160093868025e-09, 3.81971297469922e-09, 3.806787015374664e-09, 3.793934781153212e-09, 3.781167942122359e-09, 3.768461682004229e-09, 3.755843417327693e-09, 3.74328917758382e-09, 3.73081731025011e-09, 3.718415153590033e-09, 3.7060807174646625e-09, 3.6938236946479403e-09, 3.6816372661199552e-09, 3.6695226526545723e-09, 3.657475942977975e-09, 3.645501405193114e-09, 3.6335975276346314e-09, 3.6217581435677968e-09, 3.6099959023752327e-09, 3.598295807626402e-09, 3.5866646747218613e-09, 3.57509780334975e-09, 3.5635993451628746e-09, 3.5521667442878376e-09, 3.5408027897360213e-09, 3.5295040506751617e-09, 3.5182718484370235e-09, 3.5071027981374425e-09, 3.49600773235921e-09, 3.484970658069729e-09, 3.4740058159429654e-09, 3.4630923446448354e-09, 3.452241913555975e-09, 3.441447544716476e-09, 3.430714919461868e-09, 3.420045047615133e-09, 3.4094359116553257e-09, 3.3988789650684765e-09, 3.38838649489952e-09, 3.3779512660497704e-09, 3.3675750942190677e-09, 3.3572591926272306e-09, 3.346991181224525e-09, 3.3367786550062527e-09, 3.326614307588573e-09, 3.3165073650741426e-09, 3.306456856981534e-09, 3.2964613965935508e-09, 3.2865197318214837e-09, 3.2766338723186536e-09, 3.2667958893928015e-09, 3.2570188378818628e-09, 3.2472895184859226e-09, 3.2376116172863605e-09, 3.227986614239507e-09, 3.2184127883034626e-09, 3.208892139452669e-09, 3.1994186284202616e-09, 3.1899971098947443e-09, 3.1806270840001663e-09, 3.1713086194270632e-09, 3.1620384320090524e-09, 3.152820221125353e-09, 3.1436432154083907e-09, 3.134527811410503e-09, 3.1254573045641804e-09, 3.1164298840482844e-09, 3.1074540507407912e-09, 3.098522877117824e-09, 3.0896412971014343e-09, 3.0808044634001643e-09, 3.0720137451048617e-09, 3.0632722712196512e-09, 3.054569223876099e-09, 3.0459176180195715e-09, 3.03731090860555e-09, 3.028746580047289e-09, 3.02022341456071e-09, 3.011748543696193e-09, 3.0033194540697552e-09, 2.994927156572841e-09, 2.9865836583736823e-09, 2.978281189563938e-09, 2.9700213224734083e-09, 2.9618035772914633e-09, 2.9536361223796446e-09, 2.9454968111875285e-09, 2.9374068351275283e-09, 2.929362064500399e-09, 2.9213476911651152e-09, 2.913376777985717e-09, 2.9054510067420783e-09, 2.89756138446942e-09, 2.8897135833769456e-09, 2.8818977504130608e-09, 2.8741268046070785e-09, 2.866396337799598e-09, 2.8586994610215248e-09, 2.8510452437166047e-09, 2.8434255118584503e-09, 2.8358417554746574e-09, 2.82829901573299e-09, 2.8207903597593844e-09, 2.813324923721255e-09, 2.805891976852173e-09, 2.798492708138341e-09, 2.7911346283833923e-09, 2.7838118385338224e-09, 2.776520115494197e-09, 2.7692724923854264e-09, 2.7620544419664473e-09, 2.754871641875915e-09, 2.7477206530184506e-09, 2.7406065080643122e-09, 2.7335291402901986e-09, 2.72648881603874e-09, 2.719480915965026e-09, 2.7125051937891904e-09, 2.705568584982229e-09, 2.6986595715515495e-09, 2.691788805342962e-09, 2.684945282794952e-09, 2.6781374012384313e-09, 2.671363360081857e-09, 2.66461788588397e-09, 2.6579030128475896e-09, 2.6512237630196407e-09, 2.6445749516352422e-09, 2.6379557186068027e-09, 2.631374083976958e-09, 2.6248189782472755e-09, 2.6182897833605233e-09, 2.6118023580378777e-09, 2.6053391690170243e-09, 2.5989043817985143e-09, 2.5925029734233115e-09, 2.5861335359298322e-09, 2.5797918486611085e-09, 2.57347939645224e-09, 2.567196775880548e-09, 2.5609414636474102e-09, 2.554716998618962e-09, 2.548520712168093e-09, 2.542347388921296e-09, 2.5362097785035415e-09, 2.5300968954514534e-09, 2.524015305581199e-09, 2.5179554736423034e-09, 2.5119232856269138e-09, 2.505919654971202e-09, 2.499940727996914e-09, 2.4939894439232833e-09, 2.4880618645666993e-09, 2.4821660029676166e-09, 2.4762889762901607e-09, 2.470446074295753e-09, 2.4646223161342534e-09, 2.458826155236737e-09, 2.453054737048095e-09, 2.4473125528959853e-09, 2.4415923701223657e-09, 2.435897967813098e-09, 2.43022741790921e-09, 2.4245850678275147e-09, 2.4189669005433177e-09, 2.4133724821958967e-09, 2.4078053255280824e-09, 2.4022570208562886e-09, 2.3967336386059264e-09, 2.3912340613939165e-09, 2.3857641692319483e-09, 2.3803154086818248e-09, 2.37488844343843e-09, 2.3694866011803698e-09, 2.3641063284861056e-09, 2.3587551710169818e-09, 2.353418398135166e-09, 2.348111834256014e-09, 2.3428277152940893e-09, 2.337564243569112e-09, 2.3323235463653427e-09, 2.3271086901331277e-09, 2.321910781601165e-09, 2.3167395794799828e-09, 2.3115880569465897e-09, 2.306463269228358e-09, 2.301355012266961e-09, 2.2962728073065108e-09, 2.2912096972374024e-09, 2.2861648524217493e-09, 2.2811472285278815e-09, 2.276144254857073e-09, 2.2711666774391008e-09, 2.2662131213599846e-09, 2.261273396724349e-09, 2.2563572836445166e-09, 2.2514595839789015e-09, 2.2465855929644215e-09, 2.241729348758908e-09, 2.2368954652788744e-09, 2.232081091351861e-09, 2.2272845311146944e-09, 2.2225106194272236e-09, 2.2177526113891534e-09, 2.2130175961403814e-09, 2.2082997028754194e-09, 2.2036028808723266e-09, 2.1989260509877334e-09, 2.1942643342988257e-09, 2.18962263238962e-09, 2.1850049037439507e-09, 2.180397648490443e-09, 2.1758134038089583e-09, 2.171248397222886e-09, 2.1666990611474425e-09, 2.16216770439023e-09, 2.157655801399834e-09, 2.1531631984286536e-09, 2.1486847895524065e-09, 2.1442245475757376e-09, 2.1397833107916618e-09, 2.135356361735736e-09, 2.1309499685651994e-09, 2.126559218916957e-09, 2.1221876668421187e-09, 2.117828276548294e-09, 2.113494057866261e-09, 2.1091699894239653e-09, 2.1048662021832076e-09, 2.100581968636999e-09, 2.0963095914230433e-09, 2.092058592336129e-09, 2.0878228044058402e-09, 2.0836043652249096e-09, 2.0794002402887095e-09, 2.0752120739229237e-09, 2.0710444279562232e-09, 2.066889806141022e-09, 2.0627532547594086e-09, 2.058629115214566e-09, 2.054522475176483e-09, 2.050431330657279e-09, 2.0463570906406406e-09, 2.0422980290485347e-09, 2.038250853766946e-09, 2.0342197726274764e-09, 2.0302053447545536e-09, 2.026207491700856e-09, 2.022224802672625e-09, 2.01825479733244e-09, 2.0143009430227454e-09, 2.010361272421691e-09, 2.0064401487609984e-09, 2.0025288815361725e-09, 1.99863306151833e-09, 1.9947557949714187e-09, 1.99088881179648e-09, 1.9870389738954933e-09, 1.9832016782097495e-09, 1.979379576291884e-09, 1.9755707119935314e-09, 1.9717745350814373e-09, 1.9679917913957327e-09, 1.9642263841846728e-09, 1.960472470653823e-09, 1.9567326004604895e-09, 1.9530091728980677e-09, 1.9492969798328947e-09, 1.945598660857109e-09, 1.9419162688999486e-09, 1.938245785442076e-09, 1.934588194576676e-09, 1.930948738586442e-09, 1.927315695767121e-09, 1.9237034083742323e-09, 1.9200952513884013e-09, 1.9165117536282046e-09, 1.9129319140176513e-09, 1.9093681432918178e-09, 1.9058165646399802e-09, 1.9022793891451073e-09, 1.8987522869375126e-09, 1.895239175428186e-09, 1.8917397114000107e-09, 1.888251296412206e-09, 1.8847780120095855e-09, 1.8813139603188883e-09, 1.8778665101210585e-09, 1.874426697250674e-09, 1.8710072613396094e-09, 1.867590984567509e-09, 1.864192753758291e-09, 1.860800779775931e-09, 1.857424502112626e-09, 1.8540600226340731e-09, 1.8507043527866962e-09, 1.8473672436493915e-09, 1.844034860238363e-09, 1.8407189291364086e-09, 1.8374104669002986e-09, 1.8341167495431974e-09, 1.8308294522810939e-09, 1.8275579518951465e-09, 1.8242961659997226e-09, 1.8210485509877196e-09, 1.817805837323331e-09, 1.8145797600084252e-09, 1.8113610923108185e-09, 1.8081584702078824e-09, 1.8049608595305043e-09, 1.801778412249123e-09, 1.7986038289820534e-09, 1.795444088239996e-09, 1.7922912939060012e-09, 1.7891510913578836e-09, 1.7860205191880183e-09, 1.7828986561707462e-09, 1.7797940924107876e-09, 1.7766933771357076e-09, 1.7736063344420354e-09, 1.7705276037856787e-09, 1.767460881871099e-09, 1.7644013365138045e-09, 1.7613544299164577e-09, 1.7583142789197732e-09, 1.7552845928962269e-09, 1.752265568633212e-09, 1.7492585851361167e-09, 1.7462569377121937e-09, 1.7432689310029791e-09, 1.7402910905060409e-09, 1.7373204928175123e-09, 1.734360696631162e-09, 1.7314128822770009e-09, 1.7284738574899216e-09, 1.7255450894796752e-09, 1.722623531467101e-09, 1.7197123118260901e-09, 1.71681155723691e-09, 1.7139196415494303e-09, 1.7110390956944265e-09, 1.7081653085875057e-09, 1.7053037960937052e-09, 1.7024474922847395e-09, 1.6996018433119635e-09, 1.696766253463427e-09, 1.6939408961571601e-09, 1.6911234896529182e-09, 1.6883151087659985e-09, 1.6855166140571565e-09, 1.682727168570679e-09, 1.6799460197784014e-09, 1.6771740176973933e-09, 1.67441034779681e-09, 1.6716554913044119e-09, 1.6689090847816619e-09, 1.6661738767188063e-09, 1.6634450283218853e-09, 1.6607251732034214e-09, 1.6580160467263674e-09, 1.6553165017650826e-09, 1.6526243037890581e-09, 1.6499389801473269e-09, 1.647264366420246e-09, 1.644594748932688e-09, 1.6419380997312652e-09, 1.6392877585007736e-09, 1.636642780017121e-09, 1.634009509311297e-09, 1.6313847538036106e-09, 1.6287677640344995e-09, 1.6261560584862668e-09, 1.6235561106797358e-09, 1.6209623640706095e-09, 1.61837458103507e-09, 1.6157973458263294e-09, 1.6132283273694865e-09, 1.6106635708786508e-09, 1.6081118414503759e-09, 1.6055646772340269e-09, 1.6030275654537005e-09, 1.600495048155459e-09, 1.597972201993417e-09, 1.5954557497245061e-09, 1.5929506400636759e-09, 1.590449203738101e-09, 1.5879575865522363e-09, 1.5854703819323972e-09, 1.582993680683288e-09, 1.5805244990509503e-09, 1.5780618645871198e-09, 1.5756067746827737e-09, 1.5731593277707974e-09, 1.5707180031367718e-09, 1.5682845418087959e-09, 1.5658604589932755e-09, 1.5634391725078308e-09, 1.561028795871542e-09, 1.5586278768247317e-09, 1.5562292346399152e-09, 1.5538406970582282e-09, 1.5514593160481115e-09, 1.5490840706134604e-09, 1.5467153543287823e-09, 1.5443548101038524e-09, 1.542000101906636e-09, 1.5396525985138935e-09, 1.537313510863345e-09, 1.5349798056306523e-09, 1.5326538636186624e-09, 1.5303323916902802e-09, 1.5280200884257643e-09, 1.5257111521034002e-09, 1.5234122391041943e-09, 1.5211185805048582e-09, 1.5188316902531455e-09, 1.5165518833186732e-09, 1.514279065202664e-09, 1.5120112535552002e-09, 1.5097496436558996e-09, 1.5074961057310818e-09, 1.5052493059393743e-09, 1.503007274126692e-09, 1.5007737590070116e-09, 1.4985448029620078e-09, 1.4963250031489405e-09, 1.4941077836010956e-09, 1.4919004200954591e-09, 1.489696731026833e-09, 1.4874999614565595e-09, 1.4853087351329637e-09, 1.4831251307146187e-09, 1.4809461499699495e-09, 1.478773164193506e-09, 1.4766076346937778e-09, 1.4744456720706684e-09, 1.4722927463955007e-09, 1.4701451338180735e-09, 1.4680033737131648e-09, 1.4658653126730437e-09, 1.4637341271473424e-09, 1.4616120626033741e-09, 1.4594903426927384e-09, 1.4573759376646664e-09, 1.4552717444065888e-09, 1.4531692224629812e-09, 1.4510734056840852e-09, 1.4489859290327583e-09, 1.4469036233769225e-09, 1.4448242178344287e-09, 1.4427534530688414e-09, 1.4406873648521184e-09, 1.4386267901397704e-09, 1.4365691710126204e-09, 1.4345214980988914e-09, 1.4324771894520744e-09, 1.430438751138928e-09, 1.4284066266979768e-09, 1.4263785592526456e-09, 1.4243592844431993e-09, 1.4223437429258185e-09, 1.4203331308458967e-09, 1.4183293742159891e-09, 1.4163308774152494e-09, 1.414339398624535e-09, 1.4123504210222292e-09, 1.410367174011915e-09, 1.4083913695086833e-09, 1.4064202649232956e-09, 1.4044537463222634e-09, 1.4024944508589253e-09, 1.4005384284683478e-09, 1.3985898012961504e-09, 1.3966444280766704e-09, 1.394705635544778e-09, 1.392768674290778e-09, 1.390843276351718e-09, 1.388918342408834e-09, 1.3870009195063014e-09, 1.3850882754410255e-09, 1.3831792083239244e-09, 1.381276435408165e-09, 1.3793787596828593e-09, 1.3774869527961976e-09, 1.3755979391708828e-09, 1.3737150943255432e-09, 1.371838029249269e-09, 1.369965640249824e-09, 1.3680995897504252e-09, 1.3662352741416954e-09, 1.364378097007279e-09, 1.3625242300842649e-09, 1.3606750080007237e-09, 1.358833760324199e-09, 1.3569927865446405e-09, 1.355163973601905e-09, 1.3533335670839738e-09, 1.3515108753177723e-09, 1.3496914019393055e-09, 1.3478762295537657e-09, 1.346068210671186e-09, 1.344263576119781e-09, 1.342462798236052e-09, 1.340669145922536e-09, 1.3388763381969068e-09, 1.3370934745602895e-09, 1.335309750992504e-09, 1.333534725876473e-09, 1.3317640265387359e-09, 1.329995291217826e-09, 1.3282347498305437e-09, 1.3264760027398994e-09, 1.3247229113346302e-09, 1.3229731240821368e-09, 1.3212295868894806e-09, 1.319488490299084e-09, 1.3177531099803002e-09, 1.3160210967609412e-09, 1.3142952821425915e-09, 1.3125738461777168e-09, 1.3108546791278227e-09, 1.3091404899056656e-09, 1.3074324256367296e-09, 1.3057274456004263e-09, 1.3040268650686747e-09, 1.3023302892081454e-09, 1.3006358538513311e-09, 1.2989497642085116e-09, 1.2972664321047532e-09, 1.2955857808237198e-09, 1.293910479070873e-09, 1.2922407167879321e-09, 1.2905738254268769e-09, 1.2889097636788684e-09, 1.2872514905124645e-09, 1.2855958522963666e-09, 1.2839472913389275e-09, 1.2823005661442864e-09, 1.2806576982468295e-09, 1.2790203898049126e-09, 1.2773864144712435e-09, 1.2757554788353447e-09, 1.2741291313081858e-09, 1.2725058662825755e-09, 1.270889708651416e-09, 1.269275597890623e-09, 1.2676639914656831e-09, 1.2660589515653458e-09, 1.2644554523649722e-09, 1.2628600326139625e-09, 1.2612632770545606e-09, 1.2596741017769282e-09, 1.2580880429133776e-09, 1.2565058842294676e-09, 1.2549254783760586e-09, 1.253352501732189e-09, 1.2517802090046251e-09, 1.2502143041115898e-09, 1.2486509092982623e-09, 1.2470906067432194e-09, 1.2455354616501501e-09, 1.2439822351735125e-09, 1.242435645564453e-09, 1.2408914945119022e-09, 1.2393513128016555e-09, 1.2378133208509486e-09, 1.2362790355973494e-09, 1.2347491712502098e-09, 1.2332247511661004e-09, 1.231701992010227e-09, 1.2301843423981127e-09, 1.2286678980585995e-09, 1.227157076514729e-09, 1.2256508367062748e-09, 1.2241470370279794e-09, 1.2226453691194958e-09, 1.2211481181046804e-09, 1.2196560553957023e-09, 1.2181658193222636e-09, 1.2166799586763355e-09, 1.2151980794899476e-09, 1.2137197681243887e-09, 1.2122456845762794e-09, 1.2107730881448101e-09, 1.2093062596011673e-09, 1.2078402126985708e-09, 1.2063813582471993e-09, 1.2049215440155427e-09, 1.2034689674780354e-09, 1.2020170451931085e-09, 1.2005703825011937e-09, 1.1991264111756184e-09, 1.1976862048515788e-09, 1.1962479672652817e-09, 1.1948145945172949e-09, 1.1933832092337961e-09, 1.191957180402622e-09, 1.190532786848853e-09, 1.1891130717324389e-09, 1.1876963139322876e-09, 1.1862816787746395e-09, 1.1848721677171658e-09, 1.183464224584205e-09, 1.1820606796968812e-09, 1.1806601132129533e-09, 1.1792630263457592e-09, 1.1778681839231067e-09, 1.1764763261198319e-09, 1.1750906810804741e-09, 1.1737055522043734e-09, 1.172324733841911e-09, 1.1709466857651714e-09, 1.1695706232645107e-09, 1.1681981749292792e-09, 1.166828781792419e-09, 1.1654637832030852e-09, 1.1641005766286195e-09, 1.1627398960279042e-09, 1.1613819705270154e-09, 1.1600281146111872e-09, 1.1586790081838076e-09, 1.1573325340314286e-09, 1.1559893707985603e-09, 1.1546464278006247e-09, 1.1533084015720927e-09, 1.1519731384691007e-09, 1.1506417265259474e-09, 1.149312328799611e-09, 1.1479868598150033e-09, 1.146662320553631e-09, 1.1453399346213334e-09, 1.14402462822952e-09, 1.1427088545368833e-09, 1.1413983010169256e-09, 1.1400892775746935e-09, 1.1387830260706176e-09, 1.1374799396069821e-09, 1.1361819723651643e-09, 1.1348834111422347e-09, 1.13358944534558e-09, 1.1322978936348715e-09, 1.1310082616421687e-09, 1.1297230293114166e-09, 1.1284410997958339e-09, 1.1271612743534898e-09, 1.1258834440078928e-09, 1.124610466698144e-09, 1.1233385381596399e-09, 1.122070049266692e-09, 1.1208037245611516e-09, 1.1195425722674533e-09, 1.118281528242088e-09, 1.1170240137974632e-09, 1.1157691382373144e-09, 1.1145171890708657e-09, 1.1132689332253003e-09, 1.1120221310558347e-09, 1.110778989002927e-09, 1.1095370444329882e-09, 1.1082993889747801e-09, 1.1070642097623783e-09, 1.1058301691777291e-09, 1.1046003382346344e-09, 1.1033737476320229e-09, 1.102148874845748e-09, 1.1009264955370018e-09, 1.099706543926407e-09, 1.0984897020418253e-09, 1.0972735554825886e-09, 1.0960626189458747e-09, 1.0948526039493091e-09, 1.0936455961542592e-09, 1.0924412954622197e-09, 1.0912392801300447e-09, 1.0900406621904513e-09, 1.0888433906814861e-09, 1.0876501513042739e-09, 1.0864563192048817e-09, 1.0852679179135975e-09, 1.0840810545684221e-09, 1.0828964965687158e-09, 1.0817141031497911e-09, 1.0805371886145721e-09, 1.0793592164168785e-09, 1.0781842696752922e-09, 1.0770116402389963e-09, 1.0758440034228842e-09, 1.0746757184914856e-09, 1.0735115971718027e-09, 1.072349377158189e-09, 1.0711888890453e-09, 1.0700317743265877e-09, 1.0688771757462042e-09, 1.0677241320288001e-09, 1.0665742764061087e-09, 1.0654254419368062e-09, 1.0642795344119536e-09, 1.0631364784528167e-09, 1.0619950831858932e-09, 1.0608567925305626e-09, 1.0597209848091747e-09, 1.0585880683099782e-09, 1.0574556489325696e-09, 1.0563267733775777e-09, 1.0551998185635317e-09, 1.0540760223378781e-09, 1.0529545676520318e-09, 1.0518354130398616e-09, 1.0507179226606849e-09, 1.0496046578170564e-09, 1.0484900323797549e-09, 1.0473808757547008e-09, 1.0462719664316533e-09, 1.0451666549865766e-09, 1.0440634011128279e-09, 1.0429624640722741e-09, 1.0418619636460523e-09, 1.0407669297502633e-09, 1.0396724360947915e-09, 1.038580148564943e-09, 1.037490430127366e-09, 1.0364016668278257e-09, 1.035317352524747e-09, 1.0342332688427654e-09, 1.0331519225568731e-09, 1.0320724449234655e-09, 1.0309958504078532e-09, 1.029920602244164e-09, 1.0288479041313513e-09, 1.0277777484371573e-09, 1.0267093727192152e-09, 1.0256440541667605e-09, 1.0245799973816053e-09, 1.0235164038844216e-09, 1.022458304614224e-09, 1.0214001918104657e-09, 1.020344605216504e-09, 1.0192924309650025e-09, 1.0182407552516157e-09, 1.0171915774220187e-09, 1.016144550954398e-09, 1.0150997216425223e-09, 1.0140560615662548e-09, 1.0130153746215986e-09, 1.0119770634440227e-09, 1.0109402166435457e-09, 1.0099066446469098e-09, 1.008873827775011e-09, 1.007843374474268e-09, 1.0068158216017003e-09, 1.0057911832416248e-09, 1.00476745099974e-09, 1.0037442698564822e-09, 1.0027246068062165e-09, 1.00170740096041e-09, 1.0006915010232692e-09, 9.99678215893437e-10, 9.986662350986127e-10, 9.976560845587846e-10, 9.966469051297117e-10, 9.956414958952522e-10, 9.94637412712413e-10, 9.936344410902174e-10, 9.926339361144898e-10, 9.916357770061634e-10, 9.906388226983532e-10, 9.89644822874149e-10, 9.886534111835896e-10, 9.876621786551796e-10, 9.866739250022864e-10, 9.856870686881878e-10, 9.847024498157402e-10, 9.83717782002215e-10, 9.827372674142126e-10, 9.817583183114635e-10, 9.80781615698968e-10, 9.798060219719082e-10, 9.788332344102211e-10, 9.778604048315794e-10, 9.7689153987432e-10, 9.759226307756448e-10, 9.74957894888051e-10, 9.739939279735047e-10, 9.730321905536042e-10, 9.720702629558553e-10, 9.711129286599717e-10, 9.701560692185382e-10, 9.692000193507627e-10, 9.682486946582455e-10, 9.672970291091945e-10, 9.663487748797117e-10, 9.654001015036514e-10, 9.64456307679709e-10, 9.635121788218052e-10, 9.625695517942831e-10, 9.616293778796396e-10, 9.60691631977879e-10, 9.59754767881206e-10, 9.588197454486032e-10, 9.578856243345255e-10, 9.5695512769339e-10, 9.560257682637181e-10, 9.550982761489028e-10, 9.54172043519523e-10, 9.53248304918449e-10, 9.523258326483186e-10, 9.514056665891394e-10, 9.504868512881677e-10, 9.495700531152954e-10, 9.486541720763586e-10, 9.477410123820705e-10, 9.468278127952696e-10, 9.459176313470315e-10, 9.450097997003765e-10, 9.44101935872173e-10, 9.431962654229259e-10, 9.42293828547419e-10, 9.413917093168499e-10, 9.404906248519046e-10, 9.395931402320082e-10, 9.386961377840806e-10, 9.378015349443286e-10, 9.369066128072988e-10, 9.360145962128e-10, 9.351251588607126e-10, 9.342366625623207e-10, 9.33348447478455e-10, 9.324645196966092e-10, 9.315805303056789e-10, 9.306981955483457e-10, 9.298177028484806e-10, 9.289398548556333e-10, 9.280619083511824e-10, 9.271870099636348e-10, 9.263137035776575e-10, 9.254413223513046e-10, 9.245713276717017e-10, 9.237014186783269e-10, 9.228343485826245e-10, 9.219686022567777e-10, 9.21104510879245e-10, 9.202419836493452e-10, 9.193796495872356e-10, 9.185205228186164e-10, 9.176640978811775e-10, 9.168064475281938e-10, 9.159521744248516e-10, 9.150975416596131e-10, 9.142457412613491e-10, 9.133965663713261e-10, 9.125461618168945e-10, 9.116989092414834e-10, 9.108530652565845e-10, 9.100093675192716e-10, 9.091666956563716e-10, 9.083252005039582e-10, 9.074857196470544e-10, 9.066464906557695e-10, 9.05810678727919e-10, 9.049758452283864e-10, 9.041415555099441e-10, 9.033095421814475e-10, 9.024782326761149e-10, 9.016485918100192e-10, 9.008210909755167e-10, 8.999936113068475e-10, 8.991674320390187e-10, 8.983451064489325e-10, 8.975222612335606e-10, 8.967015442472693e-10, 8.958823471098619e-10, 8.950645196147066e-10, 8.942478800817723e-10, 8.934318195014346e-10, 8.926187763514804e-10, 8.918056819786082e-10, 8.909947224442303e-10, 8.901861498500057e-10, 8.89378109549092e-10, 8.885712905721916e-10, 8.877654662323522e-10, 8.869617951429284e-10, 8.861591366304054e-10, 8.853589037702705e-10, 8.845590226250253e-10, 8.837606831239778e-10, 8.829642098362066e-10, 8.821688919357627e-10, 8.81376035409968e-10, 8.805827927059618e-10, 8.797912217098496e-10, 8.79000915549666e-10, 8.782148296532569e-10, 8.774260136783389e-10, 8.76641048233794e-10, 8.758579770138578e-10, 8.750745535282565e-10, 8.742923449932968e-10, 8.735139098789988e-10, 8.727344790260467e-10, 8.719573576100916e-10, 8.711812855161823e-10, 8.704065223209356e-10, 8.696333735520278e-10, 8.688616594965538e-10, 8.680911753415954e-10, 8.673215788929345e-10, 8.665528871462269e-10, 8.657865217534291e-10, 8.650224347963629e-10, 8.642596611442138e-10, 8.634953158694809e-10, 8.627338046140799e-10, 8.619741745218272e-10, 8.612151931743432e-10, 8.604580680473635e-10, 8.597013010086184e-10, 8.589476101767516e-10, 8.581934021587904e-10, 8.574410487089911e-10, 8.566898888079295e-10, 8.559404384614827e-10, 8.551933007780665e-10, 8.54445596888765e-10, 8.536997190055169e-10, 8.529556607549974e-10, 8.522134036465983e-10, 8.51470564831668e-10, 8.507306557937777e-10, 8.499914802427261e-10, 8.492551355636844e-10, 8.485164007971289e-10, 8.477823465136471e-10, 8.470474547239e-10, 8.463150110900094e-10, 8.455826688003467e-10, 8.448530931769904e-10, 8.441242163410817e-10, 8.433946314331168e-10, 8.426697231527441e-10, 8.419435827687157e-10, 8.412199722926029e-10, 8.404963334118007e-10, 8.397751037385768e-10, 8.390549092243842e-10, 8.383346054975828e-10, 8.376163137844539e-10, 8.36899555453782e-10, 8.36184249068219e-10, 8.35469899866417e-10, 8.347564678772012e-10, 8.340436124014026e-10, 8.333323490058807e-10, 8.326227169536425e-10, 8.319140092741766e-10, 8.312053912938197e-10, 8.304989306554028e-10, 8.297943036553441e-10, 8.290906178663384e-10, 8.283863081965114e-10, 8.276862367302804e-10, 8.269851834523635e-10, 8.262844683557722e-10, 8.255860087980399e-10, 8.248890736528267e-10, 8.241926680470122e-10, 8.234969425806728e-10, 8.228040492452576e-10, 8.221101803141362e-10, 8.214196374884345e-10, 8.207275813445845e-10, 8.200394810882278e-10, 8.193509441388922e-10, 8.18663171441604e-10, 8.179774515946821e-10, 8.172934476757083e-10, 8.166095177191672e-10, 8.159262936315551e-10, 8.152451035889565e-10, 8.145655054692783e-10, 8.1388510123798e-10, 8.132072313995603e-10, 8.12530085684645e-10, 8.118539038415847e-10, 8.111785440828596e-10, 8.105029709347198e-10, 8.098310460219038e-10, 8.091599081006268e-10, 8.084878666576882e-10, 8.078194048381275e-10, 8.071521519105898e-10, 8.064837601192879e-10, 8.058171602641312e-10, 8.051538909206546e-10, 8.044901763864164e-10, 8.038264985186588e-10, 8.031645861494083e-10, 8.025028317764464e-10, 8.018436701007905e-10, 8.011848620284229e-10, 8.005266251189663e-10, 7.998712086952887e-10, 7.992157604835283e-10, 7.985622560669196e-10, 7.979080037644075e-10, 7.972557392410622e-10, 7.966040933267654e-10, 7.959543466728093e-10, 7.953040199646826e-10, 7.946579733197194e-10, 7.940105120256153e-10, 7.933636277170247e-10, 7.927183868689666e-10, 7.92075183921404e-10, 7.914322969664471e-10, 7.907897455962871e-10, 7.901486666289047e-10, 7.895078563653844e-10, 7.888688799762892e-10, 7.882325215418597e-10, 7.875956891185118e-10, 7.86959424474722e-10, 7.86323697946825e-10, 7.856898527394246e-10, 7.850564682234329e-10, 7.844238795115345e-10, 7.837939113508475e-10, 7.831623478051827e-10, 7.825343528672513e-10, 7.819051831858843e-10, 7.812796917182393e-10, 7.806522131008967e-10, 7.80026863027358e-10, 7.794024378773869e-10, 7.787788599117705e-10, 7.781554068954346e-10, 7.775346784497836e-10, 7.769139839166782e-10, 7.762952124063133e-10, 7.756768615374894e-10, 7.750591978896278e-10, 7.744422482938002e-10, 7.738268229531284e-10, 7.732120894757314e-10, 7.725987536518939e-10, 7.719863267788968e-10, 7.713747580272491e-10, 7.707634320926253e-10, 7.701533950710673e-10, 7.695438909723018e-10, 7.689347556627055e-10, 7.683274350287611e-10, 7.677212875645822e-10, 7.671151296354985e-10, 7.66510133309711e-10, 7.659069468599038e-10, 7.653033204124102e-10, 7.64702045104123e-10, 7.641018685310908e-10, 7.635020527215144e-10, 7.629027846271973e-10, 7.623047279427941e-10, 7.617081664793722e-10, 7.611119454004047e-10, 7.605157424186144e-10, 7.599214334253838e-10, 7.593287853604172e-10, 7.587360107725017e-10, 7.581443790612262e-10, 7.575520985264989e-10, 7.569641052151455e-10, 7.563750961008583e-10, 7.557861666141859e-10, 7.551989234705228e-10, 7.546121255176403e-10, 7.540265907483421e-10, 7.534417056680097e-10, 7.528579454458253e-10, 7.522746578749481e-10, 7.516928993589106e-10, 7.511107038351634e-10, 7.505314417865922e-10, 7.499522485073423e-10, 7.493735986157649e-10, 7.487955309027869e-10, 7.482185335203373e-10, 7.476428828832665e-10, 7.470663188103964e-10, 7.464922315341405e-10, 7.459190562773844e-10, 7.453467695924566e-10, 7.447747643581184e-10, 7.442028610188158e-10, 7.436323157552887e-10, 7.43064219041029e-10, 7.424947095660163e-10, 7.419277896409559e-10, 7.413600522738632e-10, 7.407934351225846e-10, 7.40228555694588e-10, 7.396629232662739e-10, 7.390992682309391e-10, 7.38535884732072e-10, 7.379735765994804e-10, 7.37412510720686e-10, 7.36850662413982e-10, 7.362914485854649e-10, 7.357325435893626e-10, 7.351745184312306e-10, 7.346169867754926e-10, 7.34060261703475e-10, 7.335049047000276e-10, 7.329500016998931e-10, 7.323959406123422e-10, 7.318419452254368e-10, 7.312899435976476e-10, 7.307384517597266e-10, 7.301870289271605e-10, 7.296370657506642e-10, 7.290885214722501e-10, 7.285403392949218e-10, 7.279923642910211e-10, 7.274455608832102e-10, 7.269000594499186e-10, 7.263550614331187e-10, 7.258105279632248e-10, 7.252668931366464e-10, 7.24723840567347e-10, 7.241819972048173e-10, 7.236415349723151e-10, 7.23101461907986e-10, 7.225618725893131e-10, 7.220218688450848e-10, 7.21483692365849e-10, 7.209465844074335e-10, 7.204111308465602e-10, 7.198743231440586e-10, 7.193395936279832e-10, 7.188061078606942e-10, 7.182716659325157e-10, 7.177388937451338e-10, 7.1720693231169e-10, 7.166755353530883e-10, 7.161449334904096e-10, 7.15615571678402e-10, 7.150872067066067e-10, 7.145582985044893e-10, 7.140306843298664e-10, 7.135040164020176e-10, 7.129773539820103e-10, 7.124530312921084e-10, 7.11928094556807e-10, 7.11405016402515e-10, 7.108820266883921e-10, 7.10359878099991e-10, 7.098384002090409e-10, 7.093171638761933e-10, 7.087974145025638e-10, 7.08278189711278e-10, 7.077602519446584e-10, 7.072422241642026e-10, 7.067255790087648e-10, 7.062104569282414e-10, 7.056943053538776e-10, 7.051787240769221e-10, 7.046640374304317e-10, 7.041521753612633e-10, 7.036390174548773e-10, 7.031275960128509e-10, 7.026160548146627e-10, 7.021061152961186e-10, 7.015968928195489e-10, 7.010875007015401e-10, 7.005805234563045e-10, 7.000729174518744e-10, 6.995656501008653e-10, 6.990583957326244e-10, 6.985535859008035e-10, 6.980488188727615e-10, 6.975448193227683e-10, 6.9704170928881e-10, 6.965390157261883e-10, 6.960371611648406e-10, 6.955355242418341e-10, 6.950350276775955e-10, 6.945354734259607e-10, 6.940358563062714e-10, 6.93537135390716e-10, 6.930392806222213e-10, 6.925430702584655e-10, 6.920458202507161e-10, 6.915510937775396e-10, 6.910551056157527e-10, 6.905609278020384e-10, 6.900662763928397e-10, 6.895744686810253e-10, 6.890803411460179e-10, 6.885899940344818e-10, 6.880987462338708e-10, 6.876092809274042e-10, 6.87119856457621e-10, 6.866307284669617e-10, 6.861426936250275e-10, 6.856554099736701e-10, 6.851686552322534e-10, 6.846831508490202e-10, 6.841970959965891e-10, 6.837129266349037e-10, 6.832283515028335e-10, 6.827449347480369e-10, 6.822629251674768e-10, 6.817798208645383e-10, 6.812984654579129e-10, 6.808179049898523e-10, 6.803372567110931e-10, 6.79858445454092e-10, 6.793800010978701e-10, 6.789016022993378e-10, 6.784236922821921e-10, 6.779468345770832e-10, 6.774713801907312e-10, 6.769952938191613e-10, 6.765217329492394e-10, 6.760465812579845e-10, 6.755729605886766e-10, 6.750995206551756e-10, 6.746277579373933e-10, 6.741564497737179e-10, 6.736853946559147e-10, 6.732148335126057e-10, 6.727451285235707e-10, 6.722763283151493e-10, 6.718074701957352e-10, 6.71339669109345e-10, 6.708728359863626e-10, 6.704058026927644e-10, 6.699388353358616e-10, 6.694744735016575e-10, 6.690097089657233e-10, 6.685461316051919e-10, 6.68082852218761e-10, 6.676199812779545e-10, 6.671574755068807e-10, 6.666961665892756e-10, 6.662345927446079e-10, 6.657739648319751e-10, 6.653142380018427e-10, 6.648561586451148e-10, 6.643981853536346e-10, 6.639391721821019e-10, 6.634824228898614e-10, 6.630254079624052e-10, 6.625708837585278e-10, 6.62114229909266e-10, 6.616593578460034e-10, 6.612054336031894e-10, 6.607532218262743e-10, 6.602997541046438e-10, 6.598480526683841e-10, 6.593962621624855e-10, 6.589454507143484e-10, 6.584954541116871e-10, 6.580458934938395e-10, 6.575962672540182e-10, 6.571469553544518e-10, 6.566989040419173e-10, 6.562519162931348e-10, 6.558051016478827e-10, 6.553590734433841e-10, 6.549135661231058e-10, 6.544691533678579e-10, 6.540250766694841e-10, 6.535814287170513e-10, 6.531367813278437e-10, 6.526949260197068e-10, 6.522528550403209e-10, 6.518111849529465e-10, 6.513703974574718e-10, 6.509302281776108e-10, 6.50490546498886e-10, 6.500504986275344e-10, 6.49611945977168e-10, 6.491742532578705e-10, 6.487369221675639e-10, 6.483000516899819e-10, 6.478634290651626e-10, 6.474273797277249e-10, 6.469925597400015e-10, 6.465573876439813e-10, 6.461227389500596e-10, 6.456892456434394e-10, 6.452562703097585e-10, 6.448241626181256e-10, 6.443920022872845e-10, 6.439615046944214e-10, 6.435299115136519e-10, 6.430997366801655e-10, 6.426696441495342e-10, 6.422410557311164e-10, 6.418116669449719e-10, 6.41383882592395e-10, 6.409574618234445e-10, 6.405300718321601e-10, 6.401033593050987e-10, 6.39677531415696e-10, 6.392528669393152e-10, 6.38828325759849e-10, 6.384048633300248e-10, 6.379811222035464e-10, 6.375589763833622e-10, 6.371375731772673e-10, 6.36715055499234e-10, 6.362939062045269e-10, 6.358739824040547e-10, 6.354542129017612e-10, 6.350342243448296e-10, 6.346154355526444e-10, 6.341968794273329e-10, 6.337798134872674e-10, 6.333628122249667e-10, 6.3294591726396e-10, 6.325288883837777e-10, 6.321138841066157e-10, 6.3169867430837e-10, 6.312838303880126e-10, 6.308696364713708e-10, 6.304553792932619e-10, 6.300425206342118e-10, 6.296297058018277e-10, 6.29217611316127e-10, 6.288064736207862e-10, 6.283948970293409e-10, 6.279839457350187e-10, 6.275741166235947e-10, 6.271643960166042e-10, 6.267564599495272e-10, 6.263472345759666e-10, 6.259394246384061e-10, 6.255321309427488e-10, 6.251243579077095e-10, 6.247185641540439e-10, 6.243124353663801e-10, 6.239065461697232e-10, 6.235018384045832e-10, 6.230973074410845e-10, 6.226942474640737e-10, 6.222903576917376e-10, 6.218876000951021e-10, 6.214857490887993e-10, 6.210830992097595e-10, 6.206814944038771e-10, 6.202801609770929e-10, 6.198810601136061e-10, 6.194800895747561e-10, 6.190809551921308e-10, 6.186822454639051e-10, 6.182840103540613e-10, 6.178854727851626e-10, 6.174878744602161e-10, 6.170918616061283e-10, 6.166955304776231e-10, 6.162993832322628e-10, 6.159035109067596e-10, 6.155086569807321e-10, 6.15113637426115e-10, 6.147200460542014e-10, 6.143268083642517e-10, 6.139332402039569e-10, 6.135419467812637e-10, 6.131491669501221e-10, 6.127577710816078e-10, 6.12366627157404e-10, 6.119757926950864e-10, 6.115862697279668e-10, 6.111967055307349e-10, 6.108065503423524e-10, 6.104185229896351e-10, 6.100299225855846e-10, 6.09643153852812e-10, 6.092554168419014e-10, 6.088688064988469e-10, 6.084825247377481e-10, 6.08095947599098e-10, 6.077114219731936e-10, 6.073256443367516e-10, 6.069414742025304e-10, 6.065569303220678e-10, 6.061733423664548e-10, 6.057907535328775e-10, 6.054083077457472e-10, 6.050269133264407e-10, 6.046454988428697e-10, 6.042638357196991e-10, 6.038829831930909e-10, 6.035031834506072e-10, 6.031230006772568e-10, 6.027439330839851e-10, 6.023646232244688e-10, 6.01986282036499e-10, 6.016079402190609e-10, 6.012301971037502e-10, 6.008529216826765e-10, 6.0047725895693e-10, 6.001003955222253e-10, 5.997242077420238e-10, 5.993489422101664e-10, 5.98975520466836e-10, 5.985998701730637e-10, 5.982260819223648e-10, 5.978527990552616e-10, 5.974795117818882e-10, 5.971074225422297e-10, 5.9673461232641e-10, 5.963627189297752e-10, 5.959917539974708e-10, 5.956207402027636e-10, 5.95249737502419e-10, 5.948794367368436e-10, 5.945109647312567e-10, 5.94141570792065e-10, 5.93772957785796e-10, 5.934053082579711e-10, 5.930373255058709e-10, 5.926699246176481e-10, 5.923029748214615e-10, 5.919363360608225e-10, 5.915709468715317e-10, 5.912057676882873e-10, 5.908407507502556e-10, 5.904764181219037e-10, 5.901127319565065e-10, 5.897491205403478e-10, 5.893859122193436e-10, 5.890225859519011e-10, 5.886599496593453e-10, 5.88298440270695e-10, 5.87936154276712e-10, 5.875760566259398e-10, 5.872154088207106e-10, 5.868547347352252e-10, 5.864944656332879e-10, 5.86134826313418e-10, 5.857761295422147e-10, 5.854174650312162e-10, 5.850598359153036e-10, 5.847014697718165e-10, 5.843445875189061e-10, 5.839878578331415e-10, 5.836309953297642e-10, 5.83274933194111e-10, 5.829199199871013e-10, 5.825642602384513e-10, 5.822092325536909e-10, 5.818553441261285e-10, 5.81502052276239e-10, 5.811480202514444e-10, 5.807950521838231e-10, 5.804420033083285e-10, 5.800901865364697e-10, 5.797375998473724e-10, 5.793863093102157e-10, 5.790354286349738e-10, 5.786839335209278e-10, 5.783342121671667e-10, 5.779850819619194e-10, 5.776353226827491e-10, 5.772864982412597e-10, 5.76937928183261e-10, 5.765896291109529e-10, 5.762418343993471e-10, 5.758950997107477e-10, 5.755479785292062e-10, 5.75201075064675e-10, 5.748550235841878e-10, 5.745095277659991e-10, 5.741634287607292e-10, 5.738182904013102e-10, 5.734744612552708e-10, 5.731298307186233e-10, 5.727866385148484e-10, 5.72443077600579e-10, 5.721004285484373e-10, 5.717576130021821e-10, 5.714158152259333e-10, 5.710733946704388e-10, 5.707323670474825e-10, 5.703911284742788e-10, 5.700512506521051e-10, 5.69710633441859e-10, 5.693718346053915e-10, 5.69031604517557e-10, 5.686933161790986e-10, 5.68354639774025e-10, 5.680161163295184e-10, 5.676783526520917e-10, 5.67341158563919e-10, 5.670048759444592e-10, 5.666678976849052e-10, 5.66331231877199e-10, 5.659957685094859e-10, 5.656607768488577e-10, 5.6532577850014e-10, 5.64990771653616e-10, 5.646565392879733e-10, 5.643228294589056e-10, 5.639891865107404e-10, 5.636562495101936e-10, 5.633233976451077e-10, 5.629914710183311e-10, 5.626588712549106e-10, 5.62327139526955e-10, 5.619962493968395e-10, 5.616654624993653e-10, 5.613348356439595e-10, 5.610048240928829e-10, 5.606756157421352e-10, 5.603460280586315e-10, 5.600169234913085e-10, 5.596889570009341e-10, 5.593598016041233e-10, 5.590325734002614e-10, 5.58704778282371e-10, 5.583778111500835e-10, 5.580508311924041e-10, 5.577249054351509e-10, 5.573993859990646e-10, 5.570728918328053e-10, 5.567483354030715e-10, 5.564238946379525e-10, 5.560986717596708e-10, 5.55774995482646e-10, 5.554514478530051e-10, 5.551276774706066e-10, 5.548045127144777e-10, 5.544825849403539e-10, 5.541604836692995e-10, 5.538377103631681e-10, 5.535172867012558e-10, 5.531964268184805e-10, 5.52875263217712e-10, 5.52554759456081e-10, 5.522344073173939e-10, 5.519156127956413e-10, 5.515958344164405e-10, 5.512773296070374e-10, 5.509589125296394e-10, 5.506402594019865e-10, 5.503227072127152e-10, 5.500052253664249e-10, 5.496879662728845e-10, 5.493710311976562e-10, 5.490546294386369e-10, 5.487387348729246e-10, 5.484231754985683e-10, 5.481077255728511e-10, 5.47792910071528e-10, 5.47478700511203e-10, 5.471635710630445e-10, 5.468501450321928e-10, 5.46536648973096e-10, 5.462225914291337e-10, 5.459100665594622e-10, 5.455977405227856e-10, 5.452849810978445e-10, 5.449737999048977e-10, 5.446616440604553e-10, 5.443501623755327e-10, 5.440393312451103e-10, 5.437282691788571e-10, 5.434183373998931e-10, 5.43108770633305e-10, 5.427994328354625e-10, 5.424901257241514e-10, 5.421806011318776e-10, 5.418726923822632e-10, 5.415638177150164e-10, 5.412565012154918e-10, 5.409490854174916e-10, 5.406418177803664e-10, 5.403340916549685e-10, 5.400277045639713e-10, 5.397215927862522e-10, 5.394156856640997e-10, 5.391097285779792e-10, 5.388047555066808e-10, 5.385000106959726e-10, 5.38194919756911e-10, 5.378914495388843e-10, 5.375871359133084e-10, 5.37283226799181e-10, 5.369802862779212e-10, 5.36677783865931e-10, 5.363742145854864e-10, 5.360725983848323e-10, 5.35770348153196e-10, 5.354682187792887e-10, 5.351671085916916e-10, 5.348659628391925e-10, 5.345650348823879e-10, 5.342650965269263e-10, 5.339655280622158e-10, 5.336657552566643e-10, 5.333652856307672e-10, 5.330671839036441e-10, 5.327684590825336e-10, 5.324700685085801e-10, 5.321719028118355e-10, 5.318740014126921e-10, 5.315768301956628e-10, 5.312793716267938e-10, 5.309832528791573e-10, 5.306866517234848e-10, 5.303903093575755e-10, 5.30094005546543e-10, 5.297995378917406e-10, 5.295039534831896e-10, 5.292092963587198e-10, 5.28914796679769e-10, 5.286207074922056e-10, 5.283262405455522e-10, 5.280326685440937e-10, 5.277396774623058e-10, 5.274468900918846e-10, 5.271548574528083e-10, 5.268625999365234e-10, 5.265705377911624e-10, 5.262785880844071e-10, 5.259872251198956e-10, 5.256962719386252e-10, 5.254054582630518e-10, 5.251151487908175e-10, 5.248249102910286e-10, 5.245352524748632e-10, 5.24246045514679e-10, 5.23956506274419e-10, 5.236678086319943e-10, 5.233787874433599e-10, 5.230904054001231e-10, 5.228026373235941e-10, 5.225155909313715e-10, 5.222277105736075e-10, 5.219413766597305e-10, 5.216541459909432e-10, 5.213679949373321e-10, 5.210820125809685e-10, 5.207959582292754e-10, 5.205100363804552e-10, 5.202250641618024e-10, 5.199405184859589e-10, 5.196554294224326e-10, 5.193718845209743e-10, 5.190877451662968e-10, 5.18803879079133e-10, 5.185205320664722e-10, 5.18237585473723e-10, 5.179551913172466e-10, 5.176721814630319e-10, 5.173897385228399e-10, 5.171083219291482e-10, 5.168261000893569e-10, 5.165457774312166e-10, 5.162646779316942e-10, 5.159836874087065e-10, 5.157026834308531e-10, 5.154232762542763e-10, 5.151435350665917e-10, 5.148637087434501e-10, 5.145844177035982e-10, 5.143057106520721e-10, 5.140271210748893e-10, 5.137486173413152e-10, 5.134700601816976e-10, 5.13192090000376e-10, 5.129150566238288e-10, 5.126380010585522e-10, 5.123613853335802e-10, 5.12084319618146e-10, 5.118086458123698e-10, 5.11532426179724e-10, 5.112560559470152e-10, 5.109813283093324e-10, 5.107065538550205e-10, 5.104317179489584e-10, 5.101566264004694e-10, 5.098827789941799e-10, 5.096085379347548e-10, 5.093350075439545e-10, 5.090611286642969e-10, 5.087888623226031e-10, 5.085162588224664e-10, 5.082442076799196e-10, 5.079710263287601e-10, 5.076996279438439e-10, 5.074280129434825e-10, 5.071559990181927e-10, 5.06885166445732e-10, 5.066144138156271e-10, 5.063444325190648e-10, 5.0607409179665e-10, 5.058035704171062e-10, 5.055344834362686e-10, 5.052650899835184e-10, 5.049952869048962e-10, 5.047268902923669e-10, 5.044581454270259e-10, 5.041898739998094e-10, 5.039218952749079e-10, 5.036549263729854e-10, 5.033865580864825e-10, 5.031197009936977e-10, 5.028529797871753e-10, 5.025869771963029e-10, 5.02319757609013e-10, 5.02054000510408e-10, 5.017872709634401e-10, 5.015221441976908e-10, 5.01256666897319e-10, 5.009920276540254e-10, 5.007270586485285e-10, 5.004623969017785e-10, 5.001982249593028e-10, 4.999339143766456e-10, 4.99670982091414e-10, 4.994066941695805e-10, 4.991435603761167e-10, 4.98880639106562e-10, 4.986181265973654e-10, 4.98355945030622e-10, 4.980928955070975e-10, 4.978311965844355e-10, 4.975699312074079e-10, 4.973083057750601e-10, 4.970467433681255e-10, 4.967863763983604e-10, 4.965256965833262e-10, 4.962654040480712e-10, 4.960052301674091e-10, 4.957448235411968e-10, 4.95486132685593e-10, 4.952259444845495e-10, 4.949668934162587e-10, 4.94707970365888e-10, 4.944497750584446e-10, 4.941916085491344e-10, 4.939334493573803e-10, 4.936755521814055e-10, 4.93418029617186e-10, 4.931612144168872e-10, 4.929037348924928e-10, 4.926465730130589e-10, 4.923907108263183e-10, 4.921339420492367e-10, 4.918788693719012e-10, 4.916227922220613e-10, 4.913672351696141e-10, 4.911120574499208e-10, 4.908576974869829e-10, 4.906028654235426e-10, 4.903481630303747e-10, 4.900940236957429e-10, 4.898404687428526e-10, 4.895863116257695e-10, 4.893325688555629e-10, 4.89079707890418e-10, 4.888273789038554e-10, 4.885739388287545e-10, 4.883224623770267e-10, 4.880700701289991e-10, 4.87818134480841e-10, 4.875664062421733e-10, 4.873150046970609e-10, 4.870638442379381e-10, 4.868125634718674e-10, 4.865625026135003e-10, 4.8631183817464e-10, 4.860622006330647e-10, 4.858116758572721e-10, 4.855628573313847e-10, 4.853134049318869e-10, 4.850638506373658e-10, 4.848149835638149e-10, 4.845668815291306e-10, 4.843186314122557e-10, 4.840703069395522e-10, 4.83822222923373e-10, 4.835748299836471e-10, 4.833280220551332e-10, 4.83080213666966e-10, 4.828335842711242e-10, 4.825868796539393e-10, 4.823411835221189e-10, 4.82095304057932e-10, 4.818489100828764e-10, 4.816031074137049e-10, 4.813575985484184e-10, 4.811123536659946e-10, 4.808672703993098e-10, 4.806228564924595e-10, 4.803788248296522e-10, 4.801344453861397e-10, 4.798905389086467e-10, 4.796469352049475e-10, 4.794031981328594e-10, 4.791604665561587e-10, 4.789170487026901e-10, 4.786744545072403e-10, 4.784315465223195e-10, 4.78190086233603e-10, 4.779484634636234e-10, 4.777065960669019e-10, 4.774645620187003e-10, 4.772238399378023e-10, 4.769824045130427e-10, 4.767412735931089e-10, 4.765009116462157e-10, 4.762611364415652e-10, 4.760202855559152e-10, 4.757798892243692e-10, 4.755404123085552e-10, 4.753016886291007e-10, 4.750617800560571e-10, 4.748230829715973e-10, 4.745842119967835e-10, 4.743459051033898e-10, 4.741079108978981e-10, 4.738697202199119e-10, 4.736318971508531e-10, 4.733938602202662e-10, 4.731565728279158e-10, 4.729193329603487e-10, 4.726826545776494e-10, 4.724459787128203e-10, 4.722096896556705e-10, 4.71973202237628e-10, 4.717374675051546e-10, 4.715020833859903e-10, 4.712659920602701e-10, 4.710307354082436e-10, 4.70795533991975e-10, 4.705611641807488e-10, 4.703261058109346e-10, 4.700918076016166e-10, 4.69857545350624e-10, 4.696242181733655e-10, 4.693898569386316e-10, 4.691564329807663e-10, 4.689234262810673e-10, 4.686898782394561e-10, 4.684578578363963e-10, 4.68224904956152e-10, 4.679933048012257e-10, 4.677604780505031e-10, 4.6752847094494e-10, 4.672970658462022e-10, 4.670657484794798e-10, 4.66834620818479e-10, 4.666034472063588e-10, 4.663725564611235e-10, 4.661419409504828e-10, 4.659120083332246e-10, 4.65682347095078e-10, 4.6545202829960713e-10, 4.6522244889220785e-10, 4.6499353475310767e-10, 4.647637712265149e-10, 4.645352695458905e-10, 4.6430615515749013e-10, 4.6407833290817355e-10, 4.638501173991369e-10, 4.636215369564119e-10, 4.633936916528586e-10, 4.631662987002697e-10, 4.6293808625988433e-10, 4.627113091624065e-10, 4.6248424313942314e-10, 4.622577585082091e-10, 4.620308736144479e-10, 4.618048141884194e-10, 4.6157858543567735e-10, 4.613523199377802e-10, 4.6112668555957715e-10, 4.6090135899090065e-10, 4.606760799470104e-10, 4.6045071088929e-10, 4.602256491690015e-10, 4.600013605919719e-10, 4.5977648000090904e-10, 4.595519342077885e-10, 4.59328425698161e-10, 4.591045542219296e-10, 4.588805862011421e-10, 4.586568219704089e-10, 4.5843369011830124e-10, 4.582104327661439e-10, 4.579880353450581e-10, 4.577654713511771e-10, 4.5754306204889333e-10, 4.5732045800514964e-10, 4.5709865582411783e-10, 4.5687657652009014e-10, 4.566553511671924e-10, 4.5643439019057725e-10, 4.5621273451806747e-10, 4.559920023528309e-10, 4.557709479003158e-10, 4.5555059750702175e-10, 4.553298057784397e-10, 4.5511006746345323e-10, 4.548901203226724e-10, 4.546702779095225e-10, 4.5445030181324697e-10, 4.542313953393479e-10, 4.54012021564633e-10, 4.537934941874451e-10, 4.5357419185727123e-10, 4.533564846760242e-10, 4.53138234972616e-10, 4.5291971743085257e-10, 4.5270212166532466e-10, 4.5248473079141627e-10, 4.522669689251975e-10, 4.5204967853001457e-10, 4.518322107824065e-10, 4.51615163597667e-10, 4.51399010728654e-10, 4.5118261126580795e-10, 4.5096692860889254e-10, 4.5075128781155946e-10, 4.505348372044944e-10, 4.5031936148497185e-10, 4.5010414313890595e-10, 4.4988836134088797e-10, 4.496733210553996e-10, 4.494582697542335e-10, 4.4924363043943973e-10, 4.4902907366355165e-10, 4.488148232022082e-10, 4.486005717179806e-10, 4.4838734484921785e-10, 4.481730943091895e-10, 4.4795958960927664e-10, 4.477464715596794e-10, 4.4753354321580133e-10, 4.4732012168426016e-10, 4.4710763821642505e-10, 4.468955207051679e-10, 4.466832692747322e-10, 4.4647075260249306e-10, 4.462590608472064e-10, 4.460468125641066e-10, 4.4583585209250184e-10, 4.4562422470025075e-10, 4.4541275270774923e-10, 4.452015356495204e-10, 4.449911691590362e-10, 4.44780269588398e-10, 4.4456951479524773e-10, 4.443598477216625e-10, 4.4414956306193236e-10, 4.43939410354293e-10, 4.4373015369341424e-10, 4.435205771057605e-10, 4.433111327849295e-10, 4.4310192687485593e-10, 4.4289326128381094e-10, 4.426846149702035e-10, 4.424757027066406e-10, 4.4226715907489297e-10, 4.420593619127303e-10, 4.418518089052087e-10, 4.4164341311960154e-10, 4.4143628838592246e-10, 4.4122892933302775e-10, 4.4102191530691755e-10, 4.4081525063518054e-10, 4.4060880257889456e-10, 4.404018246684747e-10, 4.4019610034226504e-10, 4.399895510991027e-10, 4.3978362833331176e-10, 4.395772506200004e-10, 4.3937152550695426e-10, 4.3916608176580996e-10, 4.3896107440289945e-10, 4.387564554213372e-10, 4.3855111507020515e-10, 4.383469876239559e-10, 4.381415775593118e-10, 4.379378354257569e-10, 4.3773352960419946e-10, 4.375300312318742e-10, 4.3732580676896984e-10, 4.3712302056025346e-10, 4.3691902427926045e-10, 4.3671573819479403e-10, 4.365127952487113e-10, 4.363100027453249e-10, 4.361073430595459e-10, 4.359050407538497e-10, 4.357025157740819e-10, 4.354999889845965e-10, 4.352989135107479e-10, 4.3509722698147654e-10, 4.348951913338838e-10, 4.346935910416426e-10, 4.3449296256828896e-10, 4.342918487756161e-10, 4.3409152158106924e-10, 4.338901424679139e-10, 4.3369015872648433e-10, 4.3348984813413694e-10, 4.3328974959360155e-10, 4.3308951870755933e-10, 4.32889927045601e-10, 4.326907193587175e-10, 4.3249137751660995e-10, 4.3229216927894636e-10, 4.320937448068061e-10, 4.31894231592214e-10, 4.3169569499620016e-10, 4.314975147573863e-10, 4.3129857333519155e-10, 4.311012293437419e-10, 4.309030225886148e-10, 4.3070534733997463e-10, 4.3050794992248507e-10, 4.3030993476148413e-10, 4.3011288960965277e-10, 4.299160098503637e-10, 4.2971885658751734e-10, 4.2952232492367227e-10, 4.293257633601264e-10, 4.291290048519841e-10, 4.2893331675305645e-10, 4.2873723405679107e-10, 4.2854102719809203e-10, 4.2834572999838237e-10, 4.281502829854467e-10, 4.2795450416453876e-10, 4.2775952036088335e-10, 4.2756481989621374e-10, 4.273707064098401e-10, 4.2717573834286706e-10, 4.269810119126686e-10, 4.267863934361206e-10, 4.265926918574386e-10, 4.263984671127117e-10, 4.262054426048384e-10, 4.2601105986381115e-10, 4.2581799082112273e-10, 4.256238527855213e-10, 4.254315439033293e-10, 4.2523839208568704e-10, 4.2504588688837e-10, 4.248530504338636e-10, 4.246604614387054e-10, 4.244685077334622e-10, 4.242763115259246e-10, 4.2408422154100137e-10, 4.2389220182037115e-10, 4.237000246542208e-10, 4.235090883255658e-10, 4.233179315259769e-10, 4.231272323491428e-10, 4.229360634323056e-10, 4.2274599506043227e-10, 4.2255446073780366e-10, 4.2236407251783626e-10, 4.221743688436031e-10, 4.2198396771955464e-10, 4.217943982792311e-10, 4.216043341562626e-10, 4.2141466675508524e-10, 4.2122565887831254e-10, 4.2103670246049563e-10, 4.208476401348005e-10, 4.2065826826853827e-10, 4.2046937700059086e-10, 4.202813164721675e-10, 4.200927931278834e-10, 4.1990401925559663e-10, 4.1971627401162673e-10, 4.1952788230469875e-10, 4.1934078730049284e-10, 4.1915264997705195e-10, 4.189648714499971e-10, 4.187782071588209e-10, 4.1859103433671464e-10, 4.1840398166418686e-10, 4.182172695334919e-10, 4.180303750933175e-10, 4.1784396707403137e-10, 4.1765755630082594e-10, 4.174715450820149e-10, 4.1728590666523567e-10, 4.170998487084738e-10, 4.1691458089059305e-10, 4.1672830883625183e-10, 4.165430040371644e-10, 4.163577258330725e-10, 4.161729298796452e-10, 4.1598811488483325e-10, 4.158033253834492e-10, 4.156189887838143e-10, 4.154349821037491e-10, 4.15250223839681e-10, 4.150664133173791e-10, 4.1488209324126346e-10, 4.146990309982609e-10, 4.1451541301427956e-10, 4.143319483842805e-10, 4.141484261580196e-10, 4.139654739931168e-10, 4.137826702251429e-10, 4.1360063086657117e-10, 4.134178167910694e-10, 4.1323458388373164e-10, 4.13053065015966e-10, 4.1287078276168315e-10, 4.12689124860319e-10, 4.125067787150991e-10, 4.1232563083964766e-10, 4.1214398395396286e-10, 4.1196258067213906e-10, 4.117815540478335e-10, 4.116007390032386e-10, 4.11419918686856e-10, 4.1123866734271143e-10, 4.110585325949451e-10, 4.1087762643495276e-10, 4.106971714456768e-10, 4.10517758382216e-10, 4.103375913742489e-10, 4.101575137506451e-10, 4.099780380551863e-10, 4.0979889566268263e-10, 4.096195556961182e-10, 4.09440125873092e-10, 4.092609439028304e-10, 4.090822467797866e-10, 4.089034265171951e-10, 4.087247250665643e-10, 4.0854605516798415e-10, 4.0836796398594015e-10, 4.0818993095094194e-10, 4.0801180648581206e-10, 4.0783419259737967e-10, 4.0765633628533815e-10, 4.074790835537917e-10, 4.0730144975845507e-10, 4.071239029869786e-10, 4.069466752767607e-10, 4.067701759389394e-10, 4.0659304272750543e-10, 4.064160033067056e-10, 4.062395980742514e-10, 4.060631011756135e-10, 4.058872426355462e-10, 4.0571156490997336e-10, 4.055350709226238e-10, 4.0535931278259734e-10, 4.051835766739271e-10, 4.0500891947228015e-10, 4.048331312751861e-10, 4.046583354333559e-10, 4.0448302484460845e-10, 4.043084104467411e-10, 4.0413344276032745e-10, 4.0395870962918125e-10, 4.0378442263301424e-10, 4.036100231195595e-10, 4.0343616479065003e-10, 4.0326178833143683e-10, 4.030884818880197e-10, 4.029145850829198e-10, 4.0274065302764896e-10, 4.0256800162368324e-10, 4.023946165755327e-10, 4.022214787506772e-10, 4.02048645351968e-10, 4.018757398792487e-10, 4.0170363650528614e-10, 4.0153019527717426e-10, 4.0135820040764525e-10, 4.0118572714293744e-10, 4.010135717592364e-10, 4.0084212696547945e-10, 4.0067034580011346e-10, 4.004978931504594e-10, 4.00326802196032e-10, 4.001547559462323e-10, 3.9998390584174646e-10, 3.998124368921813e-10, 3.996415786833041e-10, 3.994711230187914e-10, 3.9930001554084674e-10, 3.99130129072177e-10, 3.989591126309473e-10, 3.9878912497540286e-10, 3.9861936030866173e-10, 3.984489014181295e-10, 3.9827943677126285e-10, 3.981091403619866e-10, 3.9793984378289896e-10, 3.977707007938418e-10, 3.976013427630041e-10, 3.974323369191444e-10, 3.9726294387418663e-10, 3.97094354108239e-10, 3.9692571146703585e-10, 3.9675725562026485e-10, 3.965889760243503e-10, 3.9642062388232364e-10, 3.9625220501675977e-10, 3.9608399245911716e-10, 3.959163926879312e-10, 3.957487453132768e-10, 3.955811660784612e-10, 3.954134909285595e-10, 3.952460975439785e-10, 3.9507910788401307e-10, 3.9491185258882784e-10, 3.9474493578970627e-10, 3.9457853877324184e-10, 3.9441215741477737e-10, 3.942449723838854e-10, 3.9407866372889735e-10, 3.9391269427812413e-10, 3.93746430079269e-10, 3.9358048761690843e-10, 3.9341532349091287e-10, 3.932487605311202e-10, 3.93083763922123e-10, 3.9291856352307304e-10, 3.927532458857316e-10, 3.925879011812934e-10, 3.924229359669791e-10, 3.922581505442734e-10, 3.9209347268180127e-10, 3.9192883006949824e-10, 3.9176456694731837e-10, 3.9159982582337834e-10, 3.9143590568221866e-10, 3.9127187491217163e-10, 3.911083706128718e-10, 3.9094441113000285e-10, 3.907807591419286e-10, 3.9061752000574705e-10, 3.9045419360965586e-10, 3.902908610762576e-10, 3.901278328116352e-10, 3.8996420277623404e-10, 3.898017167190421e-10, 3.896387986898886e-10, 3.894769249470519e-10, 3.8931407875585853e-10, 3.89152075185384e-10, 3.889896589203846e-10, 3.8882701573240803e-10, 3.886653732401361e-10, 3.885031494347753e-10, 3.88341802949523e-10, 3.881810886068464e-10, 3.8801915545802963e-10, 3.8785801559543184e-10, 3.8769720455083583e-10, 3.875357959056815e-10, 3.8737505567615993e-10, 3.872141808979944e-10, 3.870539428260457e-10, 3.8689343368972057e-10, 3.867330467487448e-10, 3.8657291419125864e-10, 3.8641302185424505e-10, 3.8625275671520005e-10, 3.86092570416939e-10, 3.8593315214751835e-10, 3.8577360074575343e-10, 3.856145165661237e-10, 3.854548609875149e-10, 3.8529583652859866e-10, 3.851367195379843e-10, 3.849777464593377e-10, 3.848190305181035e-10, 3.846604861067197e-10, 3.845021001637381e-10, 3.843437882618517e-10, 3.841852416473297e-10, 3.8402682690621744e-10, 3.838692399933415e-10, 3.8371122740317567e-10, 3.8355392980922616e-10, 3.8339628364773825e-10, 3.832385452692826e-10, 3.8308114947842844e-10, 3.8292405811371796e-10, 3.827668277154082e-10, 3.826098134604456e-10, 3.824527999136327e-10, 3.822964979796503e-10, 3.8213998832144575e-10, 3.8198310743487664e-10, 3.8182708309599154e-10, 3.816706532227717e-10, 3.815142892075731e-10, 3.8135818901787317e-10, 3.812022594138223e-10, 3.810467429763982e-10, 3.808911555665324e-10, 3.8073537372994073e-10, 3.8057980740722954e-10, 3.8042462458749727e-10, 3.80269521395383e-10, 3.8011461341682746e-10, 3.7995952871531693e-10, 3.79804939325919e-10, 3.7965001112572537e-10, 3.7949568548314445e-10, 3.793414223938811e-10, 3.7918695527851403e-10, 3.7903304752356277e-10, 3.7887846867774455e-10, 3.7872503742957163e-10, 3.7857164292655336e-10, 3.784175675759231e-10, 3.7826403561297586e-10, 3.781109318451873e-10, 3.779574096389837e-10, 3.778044615069939e-10, 3.776512844062595e-10, 3.774984980473769e-10, 3.773461494043481e-10, 3.7719339357463204e-10, 3.770401759519361e-10, 3.7688840130443703e-10, 3.767356645947918e-10, 3.7658359063557485e-10, 3.7643180969340293e-10, 3.762795955990157e-10, 3.761279450352669e-10, 3.7597650479229394e-10, 3.758244924421905e-10, 3.756730578644228e-10, 3.755217697951789e-10, 3.7537065372788585e-10, 3.752194165668139e-10, 3.750686465491918e-10, 3.749175311900496e-10, 3.747669466292429e-10, 3.746159097961517e-10, 3.7446565137811093e-10, 3.7431543946196984e-10, 3.7416490667485293e-10, 3.7401475440074303e-10, 3.738646347802524e-10, 3.737146032065047e-10, 3.7356504695928196e-10, 3.7341512908307304e-10, 3.7326594461500065e-10, 3.7311667595566934e-10, 3.729670242654626e-10, 3.728178758343952e-10, 3.7266915575585254e-10, 3.725202410932184e-10, 3.723712545139406e-10, 3.7222254663132853e-10, 3.7207413215918054e-10, 3.7192525825455746e-10, 3.7177703073420824e-10, 3.7162862255673353e-10, 3.714804376827984e-10, 3.713324942095878e-10, 3.7118483431141436e-10, 3.710368784849069e-10, 3.7088938956580035e-10, 3.707415787528327e-10, 3.7059370090159264e-10, 3.7044650082931217e-10, 3.702993058714543e-10, 3.701523371284217e-10, 3.700051597956471e-10, 3.698581090644943e-10, 3.6971162933890255e-10, 3.695657711336254e-10, 3.6941819700037783e-10, 3.69271876766075e-10, 3.691256810089376e-10, 3.689794865107333e-10, 3.6883333772759563e-10, 3.686871668344184e-10, 3.6854163909949703e-10, 3.6839606084982015e-10, 3.6824998752408056e-10, 3.681042850332883e-10, 3.6795918911296186e-10, 3.6781360842410006e-10, 3.6766870897626713e-10, 3.675232156259987e-10, 3.673783439534135e-10, 3.672331141139113e-10, 3.67088457483106e-10, 3.669441044129259e-10, 3.667998087816414e-10, 3.666552110060312e-10, 3.6651120099555305e-10, 3.663668644488914e-10, 3.662229499600803e-10, 3.6607895183079696e-10, 3.6593532422172907e-10, 3.6579128627863746e-10, 3.656472726487203e-10, 3.65504378290421e-10, 3.6536088806259996e-10, 3.6521753576680815e-10, 3.650744325827169e-10, 3.6493185925276124e-10, 3.6478805594362077e-10, 3.6464545192713083e-10, 3.645027290986809e-10, 3.6435985771593907e-10, 3.642180216496061e-10, 3.6407543203218317e-10, 3.6393284233607545e-10, 3.637913874909015e-10, 3.636490321140136e-10, 3.635073431069884e-10, 3.633649222654947e-10, 3.6322325528982727e-10, 3.630817170402301e-10, 3.629402410292172e-10, 3.627986332234785e-10, 3.626575824176542e-10, 3.625155970888782e-10, 3.623753855203859e-10, 3.6223413163266034e-10, 3.62093102700826e-10, 3.6195247466100426e-10, 3.6181150741696886e-10, 3.6167071658115536e-10, 3.6153020963511326e-10, 3.6138997603526474e-10, 3.61249478688599e-10, 3.611092372990922e-10, 3.6096940112918576e-10, 3.6082922166352734e-10, 3.6068902685460373e-10, 3.6054921775179217e-10, 3.604099933454572e-10, 3.602700507955708e-10, 3.6013063353617886e-10, 3.5999105450368094e-10, 3.598521533288282e-10, 3.5971237829593674e-10, 3.595737358321574e-10, 3.594352534891357e-10, 3.592957901999477e-10, 3.591575897009264e-10, 3.5901932680595454e-10, 3.5888069071553354e-10, 3.5874213952452217e-10, 3.586041904977042e-10, 3.584657960440577e-10, 3.583278841558128e-10, 3.581901570949166e-10, 3.5805213292543554e-10, 3.5791494712776823e-10, 3.5777738860675155e-10, 3.57639633298508e-10, 3.575019965661751e-10, 3.573648628569314e-10, 3.572273490280965e-10, 3.5709082330562077e-10, 3.569534568508265e-10, 3.5681675873298146e-10, 3.5667981677522654e-10, 3.565428656115116e-10, 3.564061000619784e-10, 3.562702142717378e-10, 3.5613302839538774e-10, 3.559965686882983e-10, 3.5586043465187584e-10, 3.557245060578554e-10, 3.555879432754901e-10, 3.55452454679142e-10, 3.553161960081845e-10, 3.551805815183691e-10, 3.550447696905405e-10, 3.5490975162102966e-10, 3.547736389864968e-10, 3.54638089567866e-10, 3.545033629417353e-10, 3.5436842418511e-10, 3.5423325268293357e-10, 3.5409859144272207e-10, 3.539634480305278e-10, 3.5382880669721953e-10, 3.5369455036187554e-10, 3.5355968226295935e-10, 3.53425553316067e-10, 3.532906910397236e-10, 3.53157215558617e-10, 3.530228621279343e-10, 3.5288880234376693e-10, 3.5275510088388417e-10, 3.52621179975949e-10, 3.524877053603586e-10, 3.5235396754873585e-10, 3.5222056791844383e-10, 3.5208716506213037e-10, 3.519540156451047e-10, 3.518206168016455e-10, 3.5168715996850915e-10, 3.515546293965634e-10, 3.514217759865546e-10, 3.5128870690529903e-10, 3.511562093803907e-10, 3.5102362278585196e-10, 3.508909122649309e-10, 3.507588091799937e-10, 3.5062640985198905e-10, 3.504937039733885e-10, 3.50361564143296e-10, 3.5022976477634957e-10, 3.500978061541665e-10, 3.499659222025489e-10, 3.498341005681971e-10, 3.497025709280069e-10, 3.49571461535951e-10, 3.4943981339853567e-10, 3.493083275850102e-10, 3.491765682679241e-10, 3.4904558862482397e-10, 3.48914296451189e-10, 3.487836594743723e-10, 3.4865295939345517e-10, 3.4852170010948927e-10, 3.483914472651179e-10, 3.482607677992556e-10, 3.481297915395427e-10, 3.4799963531840815e-10, 3.478691837984068e-10, 3.477386919924957e-10, 3.476085061077135e-10, 3.4747845595182584e-10, 3.4734889371181104e-10, 3.4721868209755046e-10, 3.470888757028912e-10, 3.4695913902173914e-10, 3.4682946922149307e-10, 3.4669987118052316e-10, 3.465706668713766e-10, 3.464412970910015e-10, 3.4631177812686495e-10, 3.4618260214374835e-10, 3.460535477265121e-10, 3.459244089606505e-10, 3.457957225457568e-10, 3.4566678922229965e-10, 3.4553835561722924e-10, 3.4541011494389693e-10, 3.4528137943055027e-10, 3.451529990941524e-10, 3.4502520754576997e-10, 3.448965198719419e-10, 3.44768191151865e-10, 3.4464072535283015e-10, 3.44512727732576e-10, 3.4438472743708575e-10, 3.4425738462023243e-10, 3.4412956136243077e-10, 3.440017533692139e-10, 3.438750006779933e-10, 3.4374714177660317e-10, 3.4362036791954376e-10, 3.434930347807515e-10, 3.433660679132674e-10, 3.4323880409456603e-10, 3.431120008885921e-10, 3.4298494754803247e-10, 3.428584365722698e-10, 3.4273218501573683e-10, 3.4260536859094893e-10, 3.4247878585591e-10, 3.4235243539431917e-10, 3.4222687050797216e-10, 3.421005839373189e-10, 3.4197424881899564e-10, 3.4184866536336003e-10, 3.4172258533667675e-10, 3.4159693020045033e-10, 3.414715242546065e-10, 3.413457513293023e-10, 3.412199223814047e-10, 3.4109426150128686e-10, 3.409693204957593e-10, 3.4084421126508364e-10, 3.407187992606158e-10, 3.405939718739414e-10, 3.40469188786032e-10, 3.403442885385128e-10, 3.4021936421386823e-10, 3.400944296603797e-10, 3.3996994973967845e-10, 3.3984544684341857e-10, 3.3972102648606446e-10, 3.3959653271708125e-10, 3.394722877450651e-10, 3.3934762354779886e-10, 3.392234811002753e-10, 3.390997120055689e-10, 3.389757569032624e-10, 3.3885153608705366e-10, 3.3872778390928273e-10, 3.3860431467708e-10, 3.3848012879631036e-10, 3.383569843692562e-10, 3.3823311031087063e-10, 3.38110051963477e-10, 3.3798657596450105e-10, 3.3786348881897447e-10, 3.3774054700172193e-10, 3.376173886477034e-10, 3.3749419905636713e-10, 3.373715732317186e-10, 3.372491000529008e-10, 3.3712650129534817e-10, 3.3700371841859766e-10, 3.3688115278676366e-10, 3.367587145433834e-10, 3.366360913152879e-10, 3.365136846239572e-10, 3.3639144883301097e-10, 3.3626961542906325e-10, 3.36147779900661e-10, 3.3602593296316376e-10, 3.3590425975865305e-10, 3.3578213089847064e-10, 3.356608751881742e-10, 3.35539251475532e-10, 3.3541795783982887e-10, 3.3529645758147073e-10, 3.3517519101286203e-10, 3.350542971676024e-10, 3.349334761831891e-10, 3.348123912945925e-10, 3.3469097861087644e-10, 3.3457007823489326e-10, 3.344494947170345e-10, 3.3432851833286927e-10, 3.3420828086467993e-10, 3.340880522877177e-10, 3.3396765627244266e-10, 3.3384712397748705e-10, 3.3372666556626187e-10, 3.3360683489134307e-10, 3.334868927220203e-10, 3.333665720854579e-10, 3.3324668058825664e-10, 3.3312724270095835e-10, 3.33007689542452e-10, 3.3288772825305875e-10, 3.3276809814217074e-10, 3.3264858644982555e-10, 3.3252928909111103e-10, 3.3240975678371215e-10, 3.322906096316415e-10, 3.3217162212822527e-10, 3.3205244830247697e-10, 3.319333122447683e-10, 3.3181483728513385e-10, 3.31695875353829e-10, 3.315772807954005e-10, 3.314581108251385e-10, 3.3133979905491364e-10, 3.3122150365083906e-10, 3.311027324481379e-10, 3.3098407541507575e-10, 3.3086624369238274e-10, 3.307480307485292e-10, 3.3062983605922935e-10, 3.3051204533059715e-10, 3.303940132012389e-10, 3.302767531922561e-10, 3.3015857911801237e-10, 3.3004083780256627e-10, 3.2992352649199593e-10, 3.2980571129281887e-10, 3.296885500315269e-10, 3.2957084766437126e-10, 3.2945358387858574e-10, 3.2933656102142485e-10, 3.2921927764346927e-10, 3.2910262475573836e-10, 3.289852602551782e-10, 3.2886811606818703e-10, 3.2875175076834844e-10, 3.286350765574117e-10, 3.2851825859187015e-10, 3.284014518780584e-10, 3.282850769788422e-10, 3.2816881695741586e-10, 3.2805223685184605e-10, 3.279361994258082e-10, 3.2782011699285543e-10, 3.2770402039688646e-10, 3.275879591297731e-10, 3.274721996922496e-10, 3.273559654003004e-10, 3.2724015230068655e-10, 3.271249899916201e-10, 3.2700931136196624e-10, 3.268935957511065e-10, 3.2677805953844017e-10, 3.2666269532772234e-10, 3.265474526828855e-10, 3.264319182799376e-10, 3.263170669277375e-10, 3.2620197441086137e-10, 3.260870394968715e-10, 3.2597215855970735e-10, 3.258573595319797e-10, 3.2574240337346654e-10, 3.256278981496201e-10, 3.25513241381512e-10, 3.253983784628492e-10, 3.2528436052540767e-10, 3.2516974884289824e-10, 3.250557172932261e-10, 3.2494141318419505e-10, 3.2482744686307647e-10, 3.247132754142885e-10, 3.245990728855502e-10, 3.244857114825465e-10, 3.2437170747207014e-10, 3.2425834536091673e-10, 3.2414443986208113e-10, 3.2403091684333793e-10, 3.23917071143898e-10, 3.238038944895589e-10, 3.236910530265801e-10, 3.235772851450405e-10, 3.234642632609841e-10, 3.233508354491757e-10, 3.232378803673408e-10, 3.231249137190433e-10, 3.2301251422082025e-10, 3.228992108074957e-10, 3.2278606782965953e-10, 3.226736395333055e-10, 3.2256076179727094e-10, 3.2244909547113355e-10, 3.223365250725282e-10, 3.222236810916783e-10, 3.2211158153464425e-10, 3.2199922460414996e-10, 3.218874909250072e-10, 3.217752250312268e-10, 3.216631850375399e-10, 3.215511835987273e-10, 3.214399598668138e-10, 3.213274869569627e-10, 3.212159076546856e-10, 3.2110452222834954e-10, 3.2099275739057396e-10, 3.208813061849002e-10, 3.2077026381826565e-10, 3.206586315620481e-10, 3.2054732182915974e-10, 3.204362957499922e-10, 3.20325107032201e-10, 3.2021376275729213e-10, 3.2010295895877923e-10, 3.1999166433310747e-10, 3.1988131485264703e-10, 3.197704809970689e-10, 3.196597140223955e-10, 3.195494512510625e-10, 3.1943897808027075e-10, 3.1932835320785037e-10, 3.192179488850487e-10, 3.1910778871689245e-10, 3.189974088646343e-10, 3.1888767020354613e-10, 3.1877783491922187e-10, 3.1866764406453224e-10, 3.1855734698722935e-10, 3.1844771313245316e-10, 3.1833840321730836e-10, 3.18228628283165e-10, 3.181190856224693e-10, 3.1800910028886806e-10, 3.1789989525871884e-10, 3.1779041365635566e-10, 3.176813747269004e-10, 3.1757213161397775e-10, 3.1746325847048406e-10, 3.17354293346075e-10, 3.172450500757852e-10, 3.1713638379099724e-10, 3.1702722943296764e-10, 3.1691900715870466e-10, 3.168101936572425e-10, 3.16702056518438e-10, 3.1659312027084264e-10, 3.164847989341565e-10, 3.1637641386390274e-10, 3.1626808347862417e-10, 3.161600759314083e-10, 3.160515415200273e-10, 3.159437467327731e-10, 3.158357032272344e-10, 3.157276199078874e-10, 3.156199250485729e-10, 3.1551188941137716e-10, 3.15404168350485e-10, 3.1529639354881786e-10, 3.151885906571717e-10, 3.150812852807752e-10, 3.149733571251276e-10, 3.1486614923748437e-10, 3.1475917346592485e-10, 3.1465175667380964e-10, 3.1454446813566377e-10, 3.1443748001080556e-10, 3.143306669565534e-10, 3.1422380645620046e-10, 3.1411697947498276e-10, 3.1401011653544334e-10, 3.139036871415353e-10, 3.137969049311831e-10, 3.1369025939392714e-10, 3.135831948674708e-10, 3.134770470815141e-10, 3.133710596523638e-10, 3.132647902218436e-10, 3.1315836672919195e-10, 3.130522375125222e-10, 3.1294582857630297e-10, 3.1283968173454765e-10, 3.1273381594996017e-10, 3.1262787234747236e-10, 3.125217735026019e-10, 3.1241621269494075e-10, 3.12310677852808e-10, 3.122049679400709e-10, 3.12098848558829e-10, 3.1199372900777457e-10, 3.1188836907887987e-10, 3.1178285076026497e-10, 3.1167792587198574e-10, 3.115723922101042e-10, 3.1146705273889825e-10, 3.113619552978837e-10, 3.112569561324577e-10, 3.111518003083478e-10, 3.110471682797492e-10, 3.1094225613818313e-10, 3.1083735949725096e-10, 3.1073310750956046e-10, 3.1062801219299856e-10, 3.105234593986019e-10, 3.1041889779166233e-10, 3.1031485612474587e-10, 3.1021062742734584e-10, 3.1010592088555113e-10, 3.1000174490604157e-10, 3.0989712641098985e-10, 3.0979334077991475e-10, 3.0968952005603593e-10, 3.095856092396438e-10, 3.0948187428068946e-10, 3.0937791200534183e-10, 3.092744063298679e-10, 3.091704195839775e-10, 3.0906686559688396e-10, 3.0896345331862665e-10, 3.088598425221056e-10, 3.0875631930022833e-10, 3.086530068712272e-10, 3.0854982112252877e-10, 3.0844651758475443e-10, 3.083434372718356e-10, 3.082402332685845e-10, 3.081369686004175e-10, 3.0803407759980165e-10, 3.079314622271984e-10, 3.0782871568933683e-10, 3.077259510542895e-10, 3.0762308735682023e-10, 3.075205599522771e-10, 3.0741807692518095e-10, 3.073153719321652e-10, 3.072133942886615e-10, 3.071113464595488e-10, 3.070085821392351e-10, 3.069068837431808e-10, 3.0680438434993407e-10, 3.067024773641399e-10, 3.066005070381942e-10, 3.064984681003083e-10, 3.0639638761757704e-10, 3.062946978766993e-10, 3.06192947785639e-10, 3.060910553562765e-10, 3.0598978248014493e-10, 3.0588819046407057e-10, 3.0578660442793606e-10, 3.0568544391172565e-10, 3.0558399014241613e-10, 3.0548255950603193e-10, 3.0538161678552135e-10, 3.0528052464519987e-10, 3.051795428977132e-10, 3.0507841582195445e-10, 3.0497714868971224e-10, 3.048764528777654e-10, 3.047756240121597e-10, 3.0467477752146836e-10, 3.045744818147004e-10, 3.0447357505251034e-10, 3.0437291763807167e-10, 3.0427237376380526e-10, 3.041716435672048e-10, 3.040718922710035e-10, 3.0397126680203244e-10, 3.03871079127597e-10, 3.037709243428301e-10, 3.0367079410728933e-10, 3.035708088066046e-10, 3.0347090919216146e-10, 3.0337075196820863e-10, 3.032707346433733e-10, 3.031711775378473e-10, 3.03071534903446e-10, 3.0297186410038155e-10, 3.028719463887515e-10, 3.027726568855287e-10, 3.0267329294779323e-10, 3.025734654073596e-10, 3.0247406558998544e-10, 3.023747978820699e-10, 3.0227599660945293e-10, 3.021763302913434e-10, 3.0207725622331847e-10, 3.019783624190033e-10, 3.0187955980876897e-10, 3.017806316984837e-10, 3.016819493951952e-10, 3.0158252723173007e-10, 3.0148406012758865e-10, 3.0138520228159507e-10, 3.012867526451718e-10, 3.011883615492123e-10, 3.010895065358216e-10, 3.009911423495907e-10, 3.0089291727564215e-10, 3.0079427203224333e-10, 3.0069612776616493e-10, 3.0059792370068836e-10, 3.0049986150141433e-10, 3.0040204424361987e-10, 3.003039005283253e-10, 3.00205937863574e-10, 3.0010807119259297e-10, 3.000106160358864e-10, 2.999128581053889e-10, 2.9981487270113007e-10, 2.9971727559953744e-10, 2.9961950114552184e-10, 2.995227485530509e-10, 2.994250411373073e-10, 2.9932748054482084e-10, 2.992303361089303e-10, 2.9913320363291926e-10, 2.9903563768996046e-10, 2.98938834818786e-10, 2.9884174105501657e-10, 2.987445612115881e-10, 2.9864740473713427e-10, 2.985505376602911e-10, 2.984540579419128e-10, 2.9835682994423255e-10, 2.9826030584840744e-10, 2.9816352272677075e-10, 2.9806718440249426e-10, 2.9797072262393597e-10, 2.978739515408623e-10, 2.9777789364428614e-10, 2.9768122807567525e-10, 2.9758522478539143e-10, 2.974886017058259e-10, 2.9739240249383145e-10, 2.972970104163355e-10, 2.9720062228545613e-10, 2.971047466983589e-10, 2.9700845550545015e-10, 2.969127457829976e-10, 2.968167952892868e-10, 2.967211212104223e-10, 2.9662559206641245e-10, 2.9653022540366065e-10, 2.964342236870449e-10, 2.9633858454361714e-10, 2.9624357431674773e-10, 2.9614829145183586e-10, 2.960525711071213e-10, 2.9595741500119516e-10, 2.9586212576292693e-10, 2.957669405441357e-10, 2.9567201364300556e-10, 2.955768100122949e-10, 2.954821739250763e-10, 2.95387347581353e-10, 2.9529249259686674e-10, 2.9519739983109145e-10, 2.9510269757111816e-10, 2.9500826299213246e-10, 2.9491369528080335e-10, 2.948190513252428e-10, 2.947249251065708e-10, 2.946302362227789e-10, 2.945358578237531e-10, 2.9444147714290813e-10, 2.943469733225142e-10, 2.9425328544916186e-10, 2.941588265569991e-10, 2.940648089214432e-10, 2.939710636091963e-10, 2.938768571334379e-10, 2.9378314030458767e-10, 2.936893035622097e-10, 2.935958921823867e-10, 2.935019946177254e-10, 2.934077647729923e-10, 2.933144059536932e-10, 2.932210002390756e-10, 2.931274434522967e-10, 2.9303393080691567e-10, 2.9294085996892456e-10, 2.928474250627595e-10, 2.92754110620907e-10, 2.9266111988263494e-10, 2.9256762116421794e-10, 2.924746401826895e-10, 2.923816503099354e-10, 2.9228870072309067e-10, 2.9219585035603576e-10, 2.921026465430687e-10, 2.920099073556835e-10, 2.919176246894865e-10, 2.9182439026867043e-10, 2.917322222442137e-10, 2.9163951043865685e-10, 2.915471878799672e-10, 2.9145459724687407e-10, 2.9136225800730004e-10, 2.912699223084801e-10, 2.911779248696732e-10, 2.9108573245335636e-10, 2.9099314701336934e-10, 2.909012362050052e-10, 2.9080931005337386e-10, 2.907173901177325e-10, 2.906255475278915e-10, 2.905333100259765e-10, 2.904416218916837e-10, 2.903500842000862e-10, 2.9025805969418324e-10, 2.901665338837803e-10, 2.900752869274114e-10, 2.899834640871085e-10, 2.8989182473653453e-10, 2.898009623060267e-10, 2.897094508160073e-10, 2.8961817175680366e-10, 2.895272034184156e-10, 2.894358460692106e-10, 2.8934441782624695e-10, 2.8925340361542666e-10, 2.891620402075984e-10, 2.890710889435134e-10, 2.889806400730488e-10, 2.8888976702027936e-10, 2.88799220110277e-10, 2.887083096828851e-10, 2.8861763680073036e-10, 2.885269960214104e-10, 2.8843635949099586e-10, 2.8834608687138775e-10, 2.8825535733717233e-10, 2.8816525656214724e-10, 2.8807456141258617e-10, 2.8798441130305883e-10, 2.878940053937407e-10, 2.8780392617797203e-10, 2.8771366520350967e-10, 2.876236571962346e-10, 2.8753360717201403e-10, 2.874432925354607e-10, 2.873534076677345e-10, 2.872635763834149e-10, 2.871737332965837e-10, 2.870838491370079e-10, 2.86994292929917e-10, 2.8690431482234063e-10, 2.86814333646111e-10, 2.867244721473595e-10, 2.866356843625252e-10, 2.865457262405372e-10, 2.864563241742616e-10, 2.863671423428719e-10, 2.8627776781579264e-10, 2.8618840320282423e-10, 2.8609919713694155e-10, 2.8600987359671677e-10, 2.8592077516975067e-10, 2.858318297820311e-10, 2.8574246957533326e-10, 2.85653649136881e-10, 2.855647940777255e-10, 2.8547573058619574e-10, 2.853866667799322e-10, 2.852984367818466e-10, 2.8520935873388487e-10, 2.8512072178516205e-10, 2.850322660443503e-10, 2.8494301922045776e-10, 2.848551262234496e-10, 2.8476654246471774e-10, 2.8467802747529273e-10, 2.8458941830181686e-10, 2.845016327076741e-10, 2.844131822386514e-10, 2.8432507687509936e-10, 2.8423680242088205e-10, 2.8414841261677444e-10, 2.8406060758782747e-10, 2.839727020801562e-10, 2.8388472583609164e-10, 2.8379678358326413e-10, 2.8370896627970356e-10, 2.836209726466041e-10, 2.835334220011457e-10, 2.83445610756209e-10, 2.8335794578374535e-10, 2.8327026003885894e-10, 2.8318270404292867e-10, 2.8309542273080956e-10, 2.830076510636312e-10, 2.8292057999360397e-10, 2.8283261995832404e-10, 2.827454288960848e-10, 2.826579378139736e-10, 2.82571353243518e-10, 2.824841680038519e-10, 2.8239689707794346e-10, 2.8231008212244094e-10, 2.822225941876665e-10, 2.821354178392268e-10, 2.820489897700889e-10, 2.819620249226756e-10, 2.818750151470305e-10, 2.817886907826371e-10, 2.817017232599872e-10, 2.8161493977785104e-10, 2.815284261798381e-10, 2.814415010675506e-10, 2.8135553620769193e-10, 2.812686757731742e-10, 2.811824226172738e-10, 2.8109605607856814e-10, 2.810096682166568e-10, 2.8092378731200554e-10, 2.80837678540176e-10, 2.807512468516009e-10, 2.806655473909105e-10, 2.805794389338148e-10, 2.804932332240151e-10, 2.804075399006309e-10, 2.8032140406170595e-10, 2.802354957752248e-10, 2.801497858496398e-10, 2.800640709669988e-10, 2.799783020288508e-10, 2.798928388544639e-10, 2.798071580417437e-10, 2.797216076861294e-10, 2.796360768440034e-10, 2.7955084893303446e-10, 2.7946537891318984e-10, 2.7938003785546705e-10, 2.7929476470153323e-10, 2.7920981430697817e-10, 2.791244818257476e-10, 2.790395612522088e-10, 2.7895410838534894e-10, 2.788696799765873e-10, 2.787847005478526e-10, 2.7869962237142853e-10, 2.7861453121223965e-10, 2.785296569045509e-10, 2.784455129363443e-10, 2.7836043617622134e-10, 2.782756352801599e-10, 2.7819158683362246e-10, 2.781070444912719e-10, 2.7802233463192525e-10, 2.779378354080879e-10, 2.778533185591648e-10, 2.7776906561442473e-10, 2.776851428253055e-10, 2.7760050858072335e-10, 2.775161317882841e-10, 2.774323320600295e-10, 2.773478723352679e-10, 2.772639302687111e-10, 2.7718011551192426e-10, 2.7709656757060624e-10, 2.7701227040578517e-10, 2.7692799299050243e-10, 2.768441707587902e-10, 2.7676075949056873e-10, 2.7667693537045533e-10, 2.765930885108336e-10, 2.765097912548845e-10, 2.764261776915965e-10, 2.7634278286820925e-10, 2.7625937246550536e-10, 2.761757380511116e-10, 2.760923647869813e-10, 2.760089502140561e-10, 2.7592544727965323e-10, 2.758423625476158e-10, 2.75759160892019e-10, 2.75676140759067e-10, 2.755932454966988e-10, 2.7551004596555496e-10, 2.754270314978089e-10, 2.7534378703843314e-10, 2.7526097392155287e-10, 2.751782911044122e-10, 2.750954836527384e-10, 2.750126558220589e-10, 2.749298788995509e-10, 2.7484718207676234e-10, 2.7476489692561477e-10, 2.7468231922951985e-10, 2.7459954270042927e-10, 2.7451738470168474e-10, 2.7443499631789276e-10, 2.7435269786924796e-10, 2.7427016761925437e-10, 2.7418805958447994e-10, 2.741056841834528e-10, 2.7402346268719027e-10, 2.7394127085457534e-10, 2.738593359233201e-10, 2.7377746448958297e-10, 2.7369538163350184e-10, 2.736135161010206e-10, 2.7353178834320433e-10, 2.734501447766442e-10, 2.733682251099723e-10, 2.7328654353932183e-10, 2.732049406520891e-10, 2.7312286959852096e-10, 2.7304179381150297e-10, 2.729603069823107e-10, 2.728786005476998e-10, 2.727976656826835e-10, 2.727159036975798e-10, 2.7263441852073943e-10, 2.725531928418111e-10, 2.724718936725707e-10, 2.723907210262658e-10, 2.723097572844346e-10, 2.7222848471018944e-10, 2.721477910098476e-10, 2.720666473190397e-10, 2.71985355231307e-10, 2.7190480536425287e-10, 2.7182371179478287e-10, 2.7174318631958795e-10, 2.7166208826516307e-10, 2.7158154516488296e-10, 2.715008262071641e-10, 2.7142026367207963e-10, 2.7133974441287534e-10, 2.712592159477108e-10, 2.71178867746256e-10, 2.710983521064884e-10, 2.7101757775564397e-10, 2.7093757442360897e-10, 2.7085730750212444e-10, 2.70776996203193e-10, 2.706966187315072e-10, 2.7061624960026366e-10, 2.7053640851343594e-10, 2.704563675707274e-10, 2.703763076653157e-10, 2.702966030942173e-10, 2.702162637839891e-10, 2.701363764313119e-10, 2.700562435863715e-10, 2.6997670314888253e-10, 2.698972357296052e-10, 2.6981753312559264e-10, 2.697376928255994e-10, 2.6965790547954555e-10, 2.6957858858164704e-10, 2.6949907694228906e-10, 2.694192922714716e-10, 2.6933997671119056e-10, 2.692605970239238e-10, 2.691814636157544e-10, 2.6910217118839816e-10, 2.6902266513556296e-10, 2.689435587944894e-10, 2.6886437022924516e-10, 2.687848987184299e-10, 2.687061935054198e-10, 2.686273100744688e-10, 2.6854843364634196e-10, 2.6846947286959095e-10, 2.68390632478469e-10, 2.683115063091745e-10, 2.6823283327768256e-10, 2.681541338085615e-10, 2.6807576181982496e-10, 2.6799675926217945e-10, 2.6791804342690826e-10, 2.67839681116232e-10, 2.677610261819251e-10, 2.6768258243391207e-10, 2.676041008391756e-10, 2.6752581414326415e-10, 2.6744753177494027e-10, 2.6736886401523676e-10, 2.672909148711876e-10, 2.672127637468044e-10, 2.671347233299897e-10, 2.6705619570545324e-10, 2.669780206613112e-10, 2.6690047791711393e-10, 2.668222356773333e-10, 2.6674436395776634e-10, 2.666662768030018e-10, 2.6658823481251967e-10, 2.6651084085866477e-10, 2.664331473570384e-10, 2.6635559375452963e-10, 2.6627748614207705e-10, 2.661997678551744e-10, 2.6612234234926913e-10, 2.660449524869521e-10, 2.6596720225458235e-10, 2.658901718968002e-10, 2.65812334089787e-10, 2.6573477757599107e-10, 2.65657918354643e-10, 2.655803242301733e-10, 2.655033388006233e-10, 2.6542599158471836e-10, 2.653490332222639e-10, 2.6527194306508515e-10, 2.6519483599097144e-10, 2.651177340312798e-10, 2.6504070752898523e-10, 2.6496411858517687e-10, 2.648870204809728e-10, 2.6481027826186616e-10, 2.6473343265274915e-10, 2.6465688139829754e-10, 2.6458019252654873e-10, 2.645032477763257e-10, 2.6442670509836707e-10, 2.6435024267749426e-10, 2.642733678768295e-10, 2.64197058495204e-10, 2.6412082929198105e-10, 2.6404380420598865e-10, 2.6396783182544086e-10, 2.6389106159503823e-10, 2.6381476928771435e-10, 2.637385510214863e-10, 2.6366246533681737e-10, 2.6358651624656103e-10, 2.63510181686242e-10, 2.6343400110937144e-10, 2.6335842253932904e-10, 2.6328227705526294e-10, 2.632062698179613e-10, 2.631301289762167e-10, 2.630544418230579e-10, 2.6297810112543234e-10, 2.629027202868187e-10, 2.6282687836337763e-10, 2.6275082297182407e-10, 2.6267532237704954e-10, 2.6259979683963037e-10, 2.625239884353252e-10, 2.6244879273879423e-10, 2.6237303201664017e-10, 2.622976500764584e-10, 2.6222242628994717e-10, 2.6214675817817524e-10, 2.620713645928477e-10, 2.619961710207681e-10, 2.619209937361562e-10, 2.618458624026601e-10, 2.6177056827317245e-10, 2.616957966802622e-10, 2.6162053197837367e-10, 2.6154549718943136e-10, 2.6147009951256595e-10, 2.6139510264903085e-10, 2.613204343674481e-10, 2.612457277670403e-10, 2.6117059367962443e-10, 2.610960691526455e-10, 2.610211833900962e-10, 2.6094664824085586e-10, 2.608718993087702e-10, 2.6079729688520745e-10, 2.607225300133024e-10, 2.60648173632787e-10, 2.605735238418064e-10, 2.604991138778835e-10, 2.6042455378600015e-10, 2.6035051158837184e-10, 2.6027614466427856e-10, 2.6020198239575454e-10, 2.60127251875588e-10, 2.6005331763160897e-10, 2.599787371607203e-10, 2.599050152046014e-10, 2.598308508903084e-10, 2.597568461459863e-10, 2.596824358673302e-10, 2.5960864860397476e-10, 2.5953467250041665e-10, 2.594607984492519e-10, 2.593870583959478e-10, 2.5931307670586734e-10, 2.5923957734513685e-10, 2.591653317508735e-10, 2.5909186488639555e-10, 2.590182438024185e-10, 2.5894476796802993e-10, 2.588712485430285e-10, 2.587975903991619e-10, 2.58724198992081e-10, 2.586508181285779e-10, 2.585776147748647e-10, 2.5850395899150026e-10, 2.584305394157562e-10, 2.5835756479473894e-10, 2.5828384834645965e-10, 2.5821086483421657e-10, 2.5813788958373253e-10, 2.5806459755380835e-10, 2.5799120630409464e-10, 2.5791829470849517e-10, 2.5784493752870175e-10, 2.577720816409619e-10, 2.576991185077231e-10, 2.576263318613908e-10, 2.575535958084962e-10, 2.574807026248164e-10, 2.574076187912153e-10, 2.5733515427479524e-10, 2.5726256402227376e-10, 2.571895295231758e-10, 2.5711704651615197e-10, 2.5704434571342854e-10, 2.569717092737408e-10, 2.568993964589497e-10, 2.568266913286374e-10, 2.567544265894153e-10, 2.5668180785349607e-10, 2.5660941375873436e-10, 2.565371180969283e-10, 2.564650207960183e-10, 2.5639284323802184e-10, 2.5632037793476724e-10, 2.562482488457565e-10, 2.561760071607746e-10, 2.5610424174652036e-10, 2.560319321577499e-10, 2.559598834831919e-10, 2.558883424740441e-10, 2.558162372261087e-10, 2.557442286800941e-10, 2.5567243391692465e-10, 2.5560072295159485e-10, 2.555288931743045e-10, 2.5545711753120595e-10, 2.5538557140763636e-10, 2.55314102393816e-10, 2.5524219007762074e-10, 2.551708118644648e-10, 2.550993779434489e-10, 2.5502761292261155e-10, 2.549561834078672e-10, 2.548849319536964e-10, 2.5481377499831073e-10, 2.5474231888857127e-10, 2.5467110811372757e-10, 2.5459989395549705e-10, 2.5452859788782896e-10, 2.544572372997587e-10, 2.543864195485863e-10, 2.5431519476809423e-10, 2.5424414450742336e-10, 2.541732745891455e-10, 2.5410197073181875e-10, 2.5403100961945934e-10, 2.539604099787212e-10, 2.538894339951962e-10, 2.538184344853292e-10, 2.537476452175541e-10, 2.5367690292377967e-10, 2.536061665312614e-10, 2.5353563770559883e-10, 2.5346497629837795e-10, 2.533945459843542e-10, 2.533239164439173e-10, 2.5325342546497883e-10, 2.531828213392856e-10, 2.5311232799984456e-10, 2.5304203475233463e-10, 2.5297164755682406e-10, 2.5290137555383707e-10, 2.528310485511407e-10, 2.527611154376334e-10, 2.52690731310776e-10, 2.5262058291943776e-10, 2.525504637983314e-10, 2.5247999241156406e-10, 2.524101997479571e-10, 2.523401564776657e-10, 2.522699313699955e-10, 2.521998712614521e-10, 2.5213017750290144e-10, 2.5206010645736285e-10, 2.5199047084585794e-10, 2.519208632456497e-10, 2.5185084224276497e-10, 2.5178100166095684e-10, 2.517117316912942e-10, 2.51642095686372e-10, 2.515722877581821e-10, 2.5150255095980227e-10, 2.5143323134090304e-10, 2.5136369077896673e-10, 2.5129455858396777e-10, 2.5122491132731706e-10, 2.5115567959779483e-10, 2.5108606389319435e-10, 2.5101679400221496e-10, 2.5094748689397855e-10, 2.5087813422804386e-10, 2.5080908284091487e-10, 2.50740034207706e-10, 2.506708518126872e-10, 2.5060203592502735e-10, 2.5053269128480097e-10, 2.5046397776426804e-10, 2.503948683874604e-10, 2.503261585650472e-10, 2.502572645447541e-10, 2.5018787670733153e-10, 2.5011940269912154e-10, 2.500505142653503e-10, 2.499816553378614e-10, 2.4991316559296846e-10, 2.498442308933482e-10, 2.4977562131360936e-10, 2.4970751727482956e-10, 2.496386095636221e-10, 2.495703515413943e-10, 2.4950207967088415e-10, 2.494334241400295e-10, 2.4936480425276325e-10, 2.492961518692455e-10, 2.492284222061674e-10, 2.4915941370150095e-10, 2.4909146986215924e-10, 2.490233213672488e-10, 2.4895475459128963e-10, 2.488867983986514e-10, 2.4881864785797156e-10, 2.487507013433942e-10, 2.4868295082920976e-10, 2.48614680847102e-10, 2.485466691826544e-10, 2.4847869308311205e-10, 2.4841058841486455e-10, 2.483430750525009e-10, 2.4827517543324025e-10, 2.482073484387745e-10, 2.481397053274554e-10, 2.480718880897329e-10, 2.4800431484928864e-10, 2.4793649021532463e-10, 2.478683827144746e-10, 2.4780101483775027e-10, 2.477336738707548e-10, 2.476659724550234e-10, 2.475985122039671e-10, 2.4753128642949513e-10, 2.4746356471344184e-10, 2.4739625726558257e-10, 2.4732915077517246e-10, 2.4726169595327177e-10, 2.471941776338533e-10, 2.47127274382711e-10, 2.470600419201486e-10, 2.469929824824218e-10, 2.469257537179803e-10, 2.4685886809192366e-10, 2.4679161493562275e-10, 2.4672458594837845e-10, 2.466574858313246e-10, 2.465906496184538e-10, 2.465234958393094e-10, 2.4645667567785566e-10, 2.4638970656869235e-10, 2.4632307320167247e-10, 2.4625643047132586e-10, 2.4618959362898733e-10, 2.4612295357387704e-10, 2.4605642753103916e-10, 2.4598955953006727e-10, 2.459231908540645e-10, 2.4585648525566764e-10, 2.457900742479857e-10, 2.457232714755676e-10, 2.456570184641885e-10, 2.4559070706971396e-10, 2.455241696964636e-10, 2.454579101543608e-10, 2.453915409275737e-10, 2.4532529617795384e-10, 2.4525884126492515e-10, 2.4519295232171976e-10, 2.4512654753002793e-10, 2.4506061995326476e-10, 2.4499406534834583e-10, 2.4492814941672836e-10, 2.44862004831099e-10, 2.4479616553713025e-10, 2.4473016273901957e-10, 2.4466403255245564e-10, 2.445983550315935e-10, 2.445325345429614e-10, 2.4446679698665206e-10, 2.4440083880203854e-10, 2.4433516505798063e-10, 2.4426971981056827e-10, 2.442037006463067e-10, 2.4413785419214647e-10, 2.4407245922343743e-10, 2.4400702554248717e-10, 2.439414459824802e-10, 2.438758495055381e-10, 2.4381015703482696e-10, 2.43744854912551e-10, 2.436791782572066e-10, 2.4361377376780375e-10, 2.435483639279285e-10, 2.4348328007345287e-10, 2.4341797291543775e-10, 2.4335289441143454e-10, 2.4328734900003085e-10, 2.43222401189184e-10, 2.431570607480836e-10, 2.4309186044214996e-10, 2.430266528973413e-10, 2.429617346714603e-10, 2.428969506008058e-10, 2.428318650939787e-10, 2.4276659798582305e-10, 2.4270169022483605e-10, 2.426369163830263e-10, 2.425721484424726e-10, 2.4250732794139604e-10, 2.4244251774784724e-10, 2.4237788018571684e-10, 2.423130064946496e-10, 2.422485576940383e-10, 2.4218381469612845e-10, 2.421192081352644e-10, 2.4205471165250167e-10, 2.4199004206622053e-10, 2.419256584941619e-10, 2.418611256596603e-10, 2.417964544210269e-10, 2.41732242929603e-10, 2.416678916964294e-10, 2.4160344541368736e-10, 2.4153903721371954e-10, 2.414746093428972e-10, 2.4141060533964584e-10, 2.4134630713909597e-10, 2.412822143809495e-10, 2.412177971323885e-10, 2.4115385985267543e-10, 2.4108956251764305e-10, 2.4102567158246293e-10, 2.4096168953188515e-10, 2.4089748488591906e-10, 2.4083351251340153e-10, 2.4076944674366695e-10, 2.4070591885377625e-10, 2.406419727615201e-10, 2.405785333904741e-10, 2.405144558182268e-10, 2.4045032812464285e-10, 2.403867584538572e-10, 2.403234851048227e-10, 2.402592435563333e-10, 2.401958547000412e-10, 2.401322009953655e-10, 2.4006881709612905e-10, 2.400053606507814e-10, 2.399418076608799e-10, 2.3987843044973395e-10, 2.398148991764564e-10, 2.397514480815806e-10, 2.396883232081551e-10, 2.39625009258477e-10, 2.395618793493127e-10, 2.3949833745377315e-10, 2.3943524421108116e-10, 2.3937183552656827e-10, 2.3930903986456276e-10, 2.392456092273761e-10, 2.39182613552122e-10, 2.391194535858922e-10, 2.390565903348308e-10, 2.3899361252071305e-10, 2.3893042698237205e-10, 2.388675937883756e-10, 2.388047398219571e-10, 2.3874200506091666e-10, 2.3867927014250926e-10, 2.3861645394413096e-10, 2.385534893488273e-10, 2.384914274096912e-10, 2.38428384524387e-10, 2.383657352922211e-10, 2.3830288974492846e-10, 2.382401610425111e-10, 2.381776786978743e-10, 2.3811507462999015e-10, 2.3805259669162483e-10, 2.379900819294202e-10, 2.379274968242395e-10, 2.3786536383397727e-10, 2.378027740077921e-10, 2.3774049671214174e-10, 2.376780480440077e-10, 2.376157960844182e-10, 2.3755354947530074e-10, 2.3749131459001257e-10, 2.374291979659013e-10, 2.3736721297914765e-10, 2.3730505512492524e-10, 2.3724268521889264e-10, 2.3718063681330407e-10, 2.3711872649711405e-10, 2.370566776981082e-10, 2.369947224536868e-10, 2.3693267066471167e-10, 2.368711215054082e-10, 2.368089443737485e-10, 2.367471952798816e-10, 2.366851023394791e-10, 2.3662334010548067e-10, 2.3656171840006655e-10, 2.364999918883404e-10, 2.3643829779418195e-10, 2.363765035360328e-10, 2.3631494776732296e-10, 2.3625338853654264e-10, 2.3619181474932985e-10, 2.361303604035446e-10, 2.3606897223051414e-10, 2.360074705173118e-10, 2.359457525033944e-10, 2.3588422749990067e-10, 2.358231384025411e-10, 2.357615332206445e-10, 2.35700359223877e-10, 2.356391204706569e-10, 2.355779384481804e-10, 2.355168148088003e-10, 2.354555566994594e-10, 2.3539424673774593e-10, 2.3533344987059935e-10, 2.3527200543892503e-10, 2.352111732429243e-10, 2.3514991639251797e-10, 2.3508903021969243e-10, 2.3502824484032504e-10, 2.349668503726211e-10, 2.3490610441364593e-10, 2.3484518417090036e-10, 2.3478426440025535e-10, 2.347232662609263e-10, 2.3466301553538193e-10, 2.3460208183777173e-10, 2.3454132895465575e-10, 2.344802307300195e-10, 2.3442008677787265e-10, 2.3435926048312793e-10, 2.342984031084332e-10, 2.3423815316972275e-10, 2.3417757488511047e-10, 2.3411705537701127e-10, 2.34056538858882e-10, 2.3399581634756504e-10, 2.339353464887025e-10, 2.3387509765156007e-10, 2.338147099381854e-10, 2.33754420421716e-10, 2.3369399242243165e-10, 2.336334929786039e-10, 2.335734317227288e-10, 2.335134795220711e-10, 2.334531734820845e-10, 2.333928750743889e-10, 2.3333278132226246e-10, 2.332726856030509e-10, 2.332125271731552e-10, 2.3315231665483726e-10, 2.3309249569812024e-10, 2.330324423892709e-10, 2.3297236610486324e-10, 2.3291267072688075e-10, 2.3285265707447397e-10, 2.3279283548828954e-10, 2.3273301295790399e-10, 2.3267335424639427e-10, 2.3261337230340441e-10, 2.3255381713927205e-10, 2.3249421980082793e-10, 2.3243433448107506e-10, 2.3237453634254886e-10, 2.3231519260075966e-10, 2.3225547833875708e-10, 2.3219588981285571e-10, 2.3213642230205082e-10, 2.3207701860349775e-10, 2.320173724813345e-10, 2.3195779182377497e-10, 2.318981896856424e-10, 2.3183924880295185e-10, 2.317797482451111e-10, 2.3172005027057584e-10, 2.316610070994428e-10, 2.3160136703590238e-10, 2.3154234715506036e-10, 2.3148321947793655e-10, 2.3142392931955528e-10, 2.3136492549013035e-10, 2.3130596894943985e-10, 2.3124639962229242e-10, 2.3118734512074727e-10, 2.3112889530126628e-10, 2.3106980476271527e-10, 2.3101064458933987e-10, 2.3095172329882097e-10, 2.3089260561449127e-10, 2.3083384263500795e-10, 2.3077528887473246e-10, 2.307165651582751e-10, 2.3065732063627595e-10, 2.3059881550235245e-10, 2.3054012129217645e-10, 2.304815451071272e-10, 2.3042277921635764e-10, 2.3036373573049042e-10, 2.3030557452178633e-10, 2.3024695120536972e-10, 2.3018813299012745e-10, 2.3012972337787328e-10, 2.3007139701267518e-10, 2.300127053990524e-10, 2.2995393958696625e-10, 2.298956436722506e-10, 2.298368395413403e-10, 2.2977870343264603e-10, 2.2972052271045376e-10, 2.296621927258186e-10, 2.2960419368363784e-10, 2.2954568721209645e-10, 2.294875885567092e-10, 2.2942937069594392e-10, 2.2937125968726008e-10, 2.2931301161206267e-10, 2.292547241164728e-10, 2.2919651616981824e-10, 2.2913847007495368e-10, 2.2908042460955693e-10, 2.2902238905827015e-10, 2.2896451008698544e-10, 2.2890674300352007e-10, 2.288488109996112e-10, 2.2879103518228665e-10, 2.2873279072652624e-10, 2.286749953957141e-10, 2.286174712866427e-10, 2.2855936853971744e-10, 2.28501622622092e-10, 2.2844380809252562e-10, 2.283860684695731e-10, 2.283284736241093e-10, 2.2827067239204083e-10, 2.2821356467561568e-10, 2.281556426645009e-10, 2.280979594575591e-10, 2.2804049593471945e-10, 2.2798341615090748e-10, 2.2792574915274953e-10, 2.2786797742696284e-10, 2.2781093926667902e-10, 2.2775336629520526e-10, 2.2769589096985303e-10, 2.2763879489857358e-10, 2.2758151919305197e-10, 2.2752397981939752e-10, 2.2746720021282432e-10, 2.2740976509469825e-10, 2.2735247955374914e-10, 2.2729527340436862e-10, 2.272380177631187e-10, 2.2718111407279574e-10, 2.2712399541937532e-10, 2.2706676456340175e-10, 2.2700975795516896e-10, 2.2695314775399417e-10, 2.2689612761221284e-10, 2.2683935131034308e-10, 2.2678233156197914e-10, 2.267252073220366e-10, 2.2666849955342395e-10, 2.2661186338672077e-10, 2.265547950906881e-10, 2.264980268145272e-10, 2.2644144706383511e-10, 2.263847935080971e-10, 2.263281416047106e-10, 2.2627132714138298e-10, 2.2621473629632885e-10, 2.261581581193049e-10, 2.261014142350035e-10, 2.2604491190879387e-10, 2.259884408985849e-10, 2.259320410181855e-10, 2.2587553829855908e-10, 2.2581901763911376e-10, 2.2576262594178958e-10, 2.2570618105447517e-10, 2.2565011612938463e-10, 2.2559362891039193e-10, 2.2553723540334934e-10, 2.2548113593623848e-10, 2.2542477272231169e-10, 2.2536876350508104e-10, 2.2531261816553734e-10, 2.2525633048769157e-10, 2.252002584024107e-10, 2.2514380076838232e-10, 2.2508809519046031e-10, 2.2503188619603236e-10, 2.2497592245781732e-10, 2.2491994550078858e-10, 2.248642171833589e-10, 2.2480814816673044e-10, 2.247522240062741e-10, 2.2469616545454062e-10, 2.2464048214402635e-10, 2.2458461070145986e-10, 2.2452878969496426e-10, 2.2447289157871928e-10, 2.244173515507088e-10, 2.243617156076113e-10, 2.2430579105373792e-10, 2.2425019248526427e-10, 2.2419463168483112e-10, 2.2413886693697927e-10, 2.2408321439168087e-10, 2.2402796690861688e-10, 2.239723127109669e-10, 2.2391695837582176e-10, 2.2386135957129785e-10, 2.2380608069355006e-10, 2.2375038361343745e-10, 2.2369488096004973e-10, 2.2364007001258738e-10, 2.2358448293189256e-10, 2.2352891489258502e-10, 2.234736586756617e-10, 2.2341876888741446e-10, 2.2336312468255843e-10, 2.2330823568114541e-10, 2.232528999152869e-10, 2.2319786023512913e-10, 2.2314268081322115e-10, 2.2308753632675108e-10, 2.2303241025220097e-10, 2.229771602512675e-10, 2.2292225504107045e-10, 2.228671675213949e-10, 2.2281235767549997e-10, 2.2275741005494083e-10, 2.2270242206978848e-10, 2.226476193054013e-10, 2.2259271448862113e-10, 2.225378533411378e-10, 2.2248319708527472e-10, 2.2242829549451474e-10, 2.223735963561885e-10, 2.2231904443453703e-10, 2.2226410279391727e-10, 2.2220949626597413e-10, 2.2215496897223242e-10, 2.2209992071558177e-10, 2.2204547179052392e-10, 2.2199122759971902e-10, 2.2193643994254814e-10, 2.218820390930584e-10, 2.218276188087644e-10, 2.2177311999841987e-10, 2.217184908883353e-10, 2.2166441130324015e-10, 2.2160990958160895e-10, 2.215555219509335e-10, 2.2150132079995794e-10, 2.21446901617232e-10, 2.2139279425689034e-10, 2.2133856328489924e-10, 2.2128391749393045e-10, 2.2123004319387185e-10, 2.211756033960907e-10, 2.2112171776561998e-10, 2.2106764833068533e-10, 2.2101340760195073e-10, 2.2095961733578222e-10, 2.2090534112082636e-10, 2.2085095695222057e-10, 2.2079715134278594e-10, 2.207437561460582e-10, 2.2068922727864764e-10, 2.2063535864379503e-10, 2.2058147222649027e-10, 2.2052748533046106e-10, 2.2047388925496744e-10, 2.2041994295958178e-10, 2.203662515984693e-10, 2.2031262105963873e-10, 2.2025885809661596e-10, 2.2020489535639572e-10, 2.201512675714849e-10, 2.2009773688191123e-10, 2.2004392647278803e-10, 2.1999040837256138e-10, 2.1993702316862706e-10, 2.198835462985116e-10, 2.1982979002357956e-10, 2.197761578323972e-10, 2.1972278506044309e-10, 2.1966941496372506e-10, 2.1961592094062426e-10, 2.195622548368886e-10, 2.1950911772177064e-10, 2.1945558750429798e-10, 2.1940241875844596e-10, 2.1934897194539532e-10, 2.1929551820820422e-10, 2.1924244333166978e-10, 2.1918900163304187e-10, 2.1913605115499018e-10, 2.190826506864728e-10, 2.190296453660795e-10, 2.1897672644007876e-10, 2.18923491600156e-10, 2.1887031821198192e-10, 2.188174484631172e-10, 2.1876438468094428e-10, 2.187113935235659e-10, 2.186582272168995e-10, 2.1860549484928188e-10, 2.1855239274828482e-10, 2.1849960742672708e-10, 2.1844680062459637e-10, 2.183940302528883e-10, 2.1834127380814475e-10, 2.1828814456136834e-10, 2.1823557365212405e-10, 2.1818284868074765e-10, 2.181298964716612e-10, 2.1807725254420497e-10, 2.1802481531808706e-10, 2.1797212481004744e-10, 2.1791934255714306e-10, 2.1786700683263435e-10, 2.178142389787952e-10, 2.177617944351197e-10, 2.1770926483466989e-10, 2.176567789821999e-10, 2.1760424332312624e-10, 2.1755178217724963e-10, 2.1749937343452875e-10, 2.1744688498550623e-10, 2.1739462109895767e-10, 2.173421420132614e-10, 2.1728971737649045e-10, 2.1723744593633375e-10, 2.1718540157652038e-10, 2.17132867176382e-10, 2.1708106287967618e-10, 2.1702867357175944e-10, 2.169763750645071e-10, 2.1692440057556873e-10, 2.1687232379818705e-10, 2.1682009626337732e-10, 2.1676829849739557e-10, 2.167161763196821e-10, 2.1666398120244033e-10, 2.1661213827217638e-10, 2.165599540132464e-10, 2.1650827010216984e-10, 2.164562033175823e-10, 2.164042970471668e-10, 2.1635234946795723e-10, 2.1630047223172318e-10, 2.162484716985736e-10, 2.1619638610864948e-10, 2.1614465624645646e-10, 2.1609293834414328e-10, 2.1604127032711688e-10, 2.1598965392641217e-10, 2.159379936203605e-10, 2.1588655118869266e-10, 2.1583458252232737e-10, 2.157831308846996e-10, 2.157313442130791e-10, 2.1567981310519924e-10, 2.1562843598076814e-10, 2.1557663294299672e-10, 2.1552524291448512e-10, 2.1547370346616294e-10, 2.1542220855265544e-10, 2.1537073299526856e-10, 2.1531941661443546e-10, 2.1526826649166464e-10, 2.152167785809815e-10, 2.1516516131475914e-10, 2.1511398325937455e-10, 2.1506270614156718e-10, 2.150113204406437e-10, 2.1496011948838457e-10, 2.1490901020230684e-10, 2.148574989226483e-10, 2.148065418889843e-10, 2.1475557856064661e-10, 2.1470429664315031e-10, 2.1465312323008776e-10, 2.1460229224725896e-10, 2.1455110199594433e-10, 2.1449981291825734e-10, 2.1444889011187965e-10, 2.1439795904374366e-10, 2.14347061101326e-10, 2.1429602790211334e-10, 2.1424536821308439e-10, 2.1419413681034286e-10, 2.1414350914546537e-10, 2.14092459658785e-10, 2.1404168265278035e-10, 2.139910144659431e-10, 2.1394025618659194e-10, 2.1388935391658628e-10, 2.138387496993667e-10, 2.1378804846549364e-10, 2.137377731449604e-10, 2.1368675033195902e-10, 2.1363615177994558e-10, 2.1358524486761832e-10, 2.1353495805930592e-10, 2.1348434243299078e-10, 2.1343379573334998e-10, 2.1338340246637366e-10, 2.1333302517213107e-10, 2.132822301476235e-10, 2.1323181508534055e-10, 2.13181411746887e-10, 2.131311275351278e-10, 2.1308069343145734e-10, 2.1303044557143638e-10, 2.1297982884355362e-10, 2.1292960065438787e-10, 2.1287954116246913e-10, 2.1282920006259824e-10, 2.1277873912788291e-10, 2.1272892622979541e-10, 2.1267865452869915e-10, 2.1262823875826507e-10, 2.1257821152654762e-10, 2.1252823229171527e-10, 2.124780315630618e-10, 2.1242794602693186e-10, 2.1237781941805794e-10, 2.1232776614212935e-10, 2.1227767832418054e-10, 2.1222777195019257e-10, 2.121776091469466e-10, 2.1212780868083887e-10, 2.1207763336692923e-10, 2.1202790639113391e-10, 2.1197799647639263e-10, 2.119280226707158e-10, 2.1187821118892984e-10, 2.1182814367130243e-10, 2.117784401431654e-10, 2.1172874393258605e-10, 2.116790707762483e-10, 2.1162937582460382e-10, 2.115793084643436e-10, 2.1153000724452098e-10, 2.1148022519033335e-10, 2.1143047523898004e-10, 2.1138071395721443e-10, 2.113312199630189e-10, 2.1128178671242143e-10, 2.1123238178785454e-10, 2.1118274466852227e-10, 2.1113304578270672e-10, 2.1108370356882353e-10, 2.1103399634256597e-10, 2.1098483573001123e-10, 2.109351240187988e-10, 2.108858361751576e-10, 2.1083654069922486e-10, 2.1078717834238685e-10, 2.107379174871577e-10, 2.106887035272455e-10, 2.106393520287193e-10, 2.1058986960098592e-10, 2.1054077122701444e-10, 2.1049169362546523e-10, 2.1044242136114061e-10, 2.1039321298775124e-10, 2.1034388249769746e-10, 2.1029479010366586e-10, 2.1024566009896042e-10, 2.1019658367766235e-10, 2.1014723241518635e-10, 2.1009838700840248e-10, 2.1004940665955765e-10, 2.1000043299880323e-10, 2.0995151984559661e-10, 2.0990226009193552e-10, 2.098534245992625e-10, 2.0980477605839e-10, 2.0975580853494224e-10, 2.097067810547299e-10, 2.096579660197456e-10, 2.0960924044780737e-10, 2.0956031014161594e-10, 2.095113936050226e-10, 2.0946298654355925e-10, 2.0941427245939935e-10, 2.0936562061382295e-10, 2.0931698371809635e-10, 2.0926809062916189e-10, 2.0921942351900275e-10, 2.0917094454089518e-10, 2.0912243369600334e-10, 2.0907383362411637e-10, 2.0902503731578553e-10, 2.0897674214214166e-10, 2.089282521483556e-10, 2.0887978772668044e-10, 2.0883112100993817e-10, 2.087827809867461e-10, 2.0873457016172658e-10, 2.0868588668541684e-10, 2.0863780277674984e-10, 2.0858911489416815e-10, 2.0854097574974145e-10, 2.084925559415641e-10, 2.0844432583910707e-10, 2.083961656862081e-10, 2.083481301678427e-10, 2.082999722967626e-10, 2.0825162220209356e-10, 2.0820338981781695e-10, 2.0815518001568137e-10, 2.0810717526253234e-10, 2.0805905775604602e-10, 2.0801087100815177e-10, 2.0796274838724278e-10, 2.0791491492789447e-10, 2.078667108696486e-10, 2.0781893878336556e-10, 2.0777089248537187e-10, 2.0772289418426307e-10, 2.0767478588373646e-10, 2.076269847632722e-10, 2.0757931638173412e-10, 2.0753131579880648e-10, 2.0748345480026124e-10, 2.0743539024771477e-10, 2.0738779693015686e-10, 2.0733999525890894e-10, 2.0729243270656734e-10, 2.0724445777443354e-10, 2.071966970185626e-10, 2.0714861011992554e-10, 2.0710140455425025e-10, 2.0705361208896205e-10, 2.070060400946103e-10, 2.0695839815070028e-10, 2.0691082607766547e-10, 2.0686319302498142e-10, 2.068155893212123e-10, 2.0676791645471937e-10, 2.0672063676926418e-10, 2.066730421140879e-10, 2.0662571246466273e-10, 2.0657809625023006e-10, 2.065305617091851e-10, 2.064833577958615e-10, 2.0643607283861746e-10, 2.0638852507875844e-10, 2.06341524483386e-10, 2.0629387986423984e-10, 2.0624657350510617e-10, 2.0619932080806356e-10, 2.0615188383445664e-10, 2.061049210071247e-10, 2.0605767334582044e-10, 2.0601048650679837e-10, 2.0596320516899146e-10, 2.059159442888732e-10, 2.0586886587560055e-10, 2.0582191028714326e-10, 2.05774530359014e-10, 2.057274675250581e-10, 2.0568042947637897e-10, 2.0563332344522669e-10, 2.05586610280379e-10, 2.0553922122497297e-10, 2.0549220143084674e-10, 2.0544549692117543e-10, 2.0539854896500932e-10, 2.0535168016436136e-10, 2.05304628503451e-10, 2.052580743577907e-10, 2.0521135599983742e-10, 2.0516431684958997e-10, 2.0511742161131391e-10, 2.050707924803565e-10, 2.0502417302745935e-10, 2.0497736693749506e-10, 2.049305912193306e-10, 2.04883876323448e-10, 2.0483740495274302e-10, 2.047908116227405e-10, 2.0474399278606272e-10, 2.0469745052159816e-10, 2.0465090880791784e-10, 2.046041902139143e-10, 2.045578370257023e-10, 2.0451110584235205e-10, 2.044649125388454e-10, 2.0441828891572732e-10, 2.043715391630903e-10, 2.0432520053131078e-10, 2.042790608898949e-10, 2.0423254246650633e-10, 2.0418619927108893e-10, 2.0413984112582163e-10, 2.0409335905417156e-10, 2.0404709761082473e-10, 2.0400084427187053e-10, 2.0395461131192119e-10, 2.039082997472372e-10, 2.0386221825286664e-10, 2.0381592447063555e-10, 2.03769675065852e-10, 2.0372363676867782e-10, 2.0367754874358377e-10, 2.0363141704919303e-10, 2.035852387742189e-10, 2.0353889479196704e-10, 2.0349301763843239e-10, 2.0344666720414047e-10, 2.0340077470733952e-10, 2.0335499527860963e-10, 2.0330872494403697e-10, 2.0326284991495467e-10, 2.0321671224062383e-10, 2.0317100370565354e-10, 2.0312494377053992e-10, 2.0307911461388992e-10, 2.0303344250934146e-10, 2.0298717799734186e-10, 2.029416345401818e-10, 2.02895959681714e-10, 2.0284989573374557e-10, 2.0280451892806376e-10, 2.02758503842498e-10, 2.027126772037179e-10, 2.0266715475503015e-10, 2.0262123290931423e-10, 2.0257574547474737e-10, 2.0252993221214816e-10, 2.0248437411987244e-10, 2.0243906529666377e-10, 2.0239337076734167e-10, 2.0234788986349864e-10, 2.0230227928938295e-10, 2.0225671238456425e-10, 2.0221100644614663e-10, 2.021655087827356e-10, 2.0212034481569897e-10, 2.02074804977976e-10, 2.020292568784943e-10, 2.0198383176119438e-10, 2.0193849712982453e-10, 2.0189288576887492e-10, 2.018476094419179e-10, 2.018023850460165e-10, 2.017570409726363e-10, 2.017120014827666e-10, 2.0166654709523534e-10, 2.0162127722031868e-10, 2.0157628108501205e-10, 2.0153109020824644e-10, 2.0148564974768022e-10, 2.014404874329954e-10, 2.0139550703437224e-10, 2.0135028043533499e-10, 2.0130524228308347e-10, 2.012599163068896e-10, 2.01214919463432e-10, 2.0117006661062916e-10, 2.0112506402328209e-10, 2.0108013830963436e-10, 2.0103495419964274e-10, 2.0098991297873775e-10, 2.0094490519828516e-10, 2.0090015132922136e-10, 2.0085506706848706e-10, 2.0081035647530305e-10, 2.0076516906060798e-10, 2.0072030928366435e-10, 2.0067559648734467e-10, 2.0063081295463261e-10, 2.0058573522462165e-10, 2.0054111259949898e-10, 2.0049619774416267e-10, 2.004513065725352e-10, 2.004068309280365e-10, 2.0036204251695285e-10, 2.0031742579308626e-10, 2.0027284258835563e-10, 2.0022793371295897e-10, 2.001833379975649e-10, 2.0013868035832134e-10, 2.0009405686768095e-10, 2.0004944376325128e-10, 2.0000508236707505e-10, 1.9996038577953962e-10, 1.9991593232376503e-10, 1.9987140057798934e-10, 1.9982697104197364e-10, 1.9978239452533368e-10, 1.997379653040514e-10, 1.996936299520866e-10, 1.9964932324088565e-10, 1.9960485979231677e-10, 1.9956055725133716e-10, 1.9951615431031656e-10, 1.994717418486024e-10, 1.9942752790515107e-10, 1.9938312016444186e-10, 1.9933873838926056e-10, 1.9929450619125638e-10, 1.9925033528763454e-10, 1.9920592975006112e-10, 1.991619266781691e-10, 1.9911785106016613e-10, 1.9907362106529762e-10, 1.9902955630560608e-10, 1.989852762680838e-10, 1.9894108703122584e-10, 1.9889709867313306e-10, 1.9885299480778287e-10, 1.9880906845222325e-10, 1.9876505200415045e-10, 1.98720817524327e-10, 1.9867704373591396e-10, 1.9863294482761954e-10, 1.9858907929434222e-10, 1.985454054338698e-10, 1.9850121013838827e-10, 1.984573190329998e-10, 1.9841337174765118e-10, 1.9836957285922814e-10, 1.9832600986369127e-10, 1.9828219405833363e-10, 1.982383707780512e-10, 1.9819431003121395e-10, 1.981505431669419e-10, 1.981070214801996e-10, 1.980633997081498e-10, 1.980195399974448e-10, 1.9797589871190748e-10, 1.9793252959231192e-10, 1.9788868766405938e-10, 1.9784499043461226e-10, 1.9780138156664314e-10, 1.9775789843477521e-10, 1.9771422174169998e-10, 1.9767117978775562e-10, 1.9762724037074864e-10, 1.9758389044990678e-10, 1.97540527152884e-10, 1.9749698642475486e-10, 1.9745368001584325e-10, 1.974103783279365e-10, 1.9736688858666156e-10, 1.973234320497891e-10, 1.9728016954622471e-10, 1.9723682206456873e-10, 1.9719341706533467e-10, 1.9715012151473474e-10, 1.9710688788798449e-10, 1.97063496894399e-10, 1.9702039758024272e-10, 1.9697712185786411e-10, 1.969340403261602e-10, 1.9689098161264754e-10, 1.9684758825855944e-10, 1.9680453536761964e-10, 1.967611267489483e-10, 1.9671804057492291e-10, 1.9667508517273797e-10, 1.9663222214488482e-10, 1.9658905476957216e-10, 1.9654585599957606e-10, 1.9650284756476722e-10, 1.964598774487828e-10, 1.9641697578737187e-10, 1.9637377174558656e-10, 1.9633085788824583e-10, 1.9628791011835225e-10, 1.9624507573126346e-10, 1.962021300858218e-10, 1.9615938524046233e-10, 1.961164298382772e-10, 1.9607346231884545e-10, 1.9603091646384903e-10, 1.9598762744397288e-10, 1.9594484451583927e-10, 1.9590222430501327e-10, 1.958595118772218e-10, 1.9581661068791141e-10, 1.957739216290949e-10, 1.9573122989504226e-10, 1.9568844114433567e-10, 1.9564568890273517e-10, 1.9560297419312455e-10, 1.9556056398834049e-10, 1.955178251229207e-10, 1.954751309496822e-10, 1.9543251176174083e-10, 1.9538989100013098e-10, 1.9534750849191e-10, 1.9530492447545604e-10, 1.9526248106626977e-10, 1.9521996975329382e-10, 1.951774257866996e-10, 1.9513503352173492e-10, 1.9509232888360185e-10, 1.9504994409356166e-10, 1.950073633818114e-10, 1.9496491769080601e-10, 1.9492266862966175e-10, 1.948804618215122e-10, 1.9483801133081831e-10, 1.9479573480916112e-10, 1.9475353177781566e-10, 1.9471113416237833e-10, 1.946686918547599e-10, 1.9462646868045992e-10, 1.9458428665758705e-10, 1.9454222399745895e-10, 1.944998128484737e-10, 1.944578274554621e-10, 1.944156120708202e-10, 1.943733743400878e-10, 1.943311653288029e-10, 1.9428913980724795e-10, 1.9424702663236562e-10, 1.9420504934374586e-10, 1.9416268272957497e-10, 1.941209122209768e-10, 1.9407883232918036e-10, 1.940369528440489e-10, 1.9399467443398911e-10, 1.9395269407671612e-10, 1.9391086723079106e-10, 1.9386890851145745e-10, 1.9382698158022494e-10, 1.9378510233114355e-10, 1.9374314817544845e-10, 1.9370121022853747e-10, 1.9365927660921436e-10, 1.9361757502729022e-10, 1.9357585849551639e-10, 1.935340255909681e-10, 1.9349208693590642e-10, 1.9345037551855485e-10, 1.9340881981568679e-10, 1.933669016183136e-10, 1.9332515369185643e-10, 1.9328359342535016e-10, 1.932418333029631e-10, 1.9320016020443617e-10, 1.9315853455200994e-10, 1.9311695972907168e-10, 1.9307519464962927e-10, 1.9303371920384756e-10, 1.9299215830787413e-10, 1.9295050204759836e-10, 1.9290899992813804e-10, 1.9286740606381243e-10, 1.9282612276293661e-10, 1.9278422777717162e-10, 1.92742910799793e-10, 1.927014851606146e-10, 1.9266001923552637e-10, 1.9261870335971576e-10, 1.9257710737093794e-10, 1.9253609678678776e-10, 1.924945949820612e-10, 1.9245314392813868e-10, 1.924117331601262e-10, 1.9237043994513993e-10, 1.9232917002044513e-10, 1.9228772250727643e-10, 1.9224657123717566e-10, 1.922055334285632e-10, 1.921642248703103e-10, 1.9212301427291232e-10, 1.9208180210184616e-10, 1.9204076508006763e-10, 1.9199953418234807e-10, 1.9195853846936404e-10, 1.9191709551983372e-10, 1.9187618974199614e-10, 1.9183485694925033e-10, 1.9179408273008717e-10, 1.9175309063654058e-10, 1.917119586438769e-10, 1.916711613704721e-10, 1.9162965799207733e-10, 1.9158912548837326e-10, 1.9154794400383977e-10, 1.915070538053188e-10, 1.9146641161693034e-10, 1.9142517041168316e-10, 1.913840804359646e-10, 1.9134350213851158e-10, 1.9130272666041357e-10, 1.9126169184177073e-10, 1.9122085231537092e-10, 1.9117999925542307e-10, 1.9113947139404057e-10, 1.9109852108138825e-10, 1.91057782820547e-10, 1.9101713630457065e-10, 1.9097624665683356e-10, 1.909357915776124e-10, 1.9089503514090163e-10, 1.908543628167644e-10, 1.9081351109443471e-10, 1.9077294680262972e-10, 1.9073229839825135e-10, 1.906917935911104e-10, 1.9065122591591841e-10, 1.9061057192501734e-10, 1.9056994759776506e-10, 1.9052968230294756e-10, 1.9048867722663667e-10, 1.904482957164111e-10, 1.904079823460251e-10, 1.9036739374104425e-10, 1.9032695345430579e-10, 1.9028643054997863e-10, 1.9024613197207514e-10, 1.9020553298088332e-10, 1.9016538752091085e-10, 1.9012485391563883e-10, 1.9008445005932284e-10, 1.9004394548823213e-10, 1.9000390947689355e-10, 1.8996362545542233e-10, 1.8992327636276505e-10, 1.8988266069068863e-10, 1.8984241852879576e-10, 1.8980239888360824e-10, 1.897622660129827e-10, 1.8972179299394216e-10, 1.8968164816343725e-10, 1.8964175763773806e-10, 1.8960124252306934e-10, 1.895612481352589e-10, 1.8952098472884332e-10, 1.8948093282345442e-10, 1.8944056051918902e-10, 1.894007339631085e-10, 1.8936062469750806e-10, 1.8932064463007987e-10, 1.8928050845475058e-10, 1.8924040068413524e-10, 1.8920031856431408e-10, 1.8916043944771055e-10, 1.8912029060435122e-10, 1.8908042045765757e-10, 1.890406379642908e-10, 1.8900052201059998e-10, 1.889607376288316e-10, 1.8892102854709367e-10, 1.8888114274239959e-10, 1.8884119021416724e-10, 1.8880127600475965e-10, 1.887619124219088e-10, 1.887218761745202e-10, 1.8868208250810822e-10, 1.8864231173857099e-10, 1.886025375856467e-10, 1.8856307855981027e-10, 1.8852302807072288e-10, 1.8848331521218114e-10, 1.8844344522285392e-10, 1.8840386290010192e-10, 1.883643455698532e-10, 1.8832491046377588e-10, 1.8828521460085194e-10, 1.8824568830069348e-10, 1.882061191967558e-10, 1.881664078331989e-10, 1.8812695801332212e-10, 1.880873222645296e-10, 1.8804779722330573e-10, 1.8800823142407185e-10, 1.8796887578824618e-10, 1.8792947184080195e-10, 1.8788985411051212e-10, 1.8785036966993195e-10, 1.8781089679581392e-10, 1.8777156964338556e-10, 1.8773211612538837e-10, 1.8769277945226646e-10, 1.8765331633489254e-10, 1.87614116728284e-10, 1.875746462146687e-10, 1.8753555275199106e-10, 1.8749612331111976e-10, 1.8745686272486277e-10, 1.8741752770409268e-10, 1.873784257436059e-10, 1.873392783041035e-10, 1.872997960666587e-10, 1.8726058662462326e-10, 1.8722143776881948e-10, 1.871824318021022e-10, 1.871431439913826e-10, 1.8710396145907618e-10, 1.8706480150891023e-10, 1.8702576493434365e-10, 1.8698689390968762e-10, 1.8694764677829513e-10, 1.8690840539079208e-10, 1.8686946591156244e-10, 1.8683058182545934e-10, 1.8679136852793647e-10, 1.867525030111198e-10, 1.8671337689482362e-10, 1.8667468078340528e-10, 1.8663567631167294e-10, 1.8659639094013942e-10, 1.8655762826254966e-10, 1.8651875747394388e-10, 1.8647965000561767e-10, 1.8644069809440843e-10, 1.864020925476038e-10, 1.863633079960239e-10, 1.8632458977456514e-10, 1.8628557082508417e-10, 1.862469319951939e-10, 1.862080267432511e-10, 1.861693709177423e-10, 1.8613028886416039e-10, 1.8609175617820033e-10, 1.8605301380093236e-10, 1.8601431273245876e-10, 1.8597567272231714e-10, 1.8593686928671696e-10, 1.8589801100877475e-10, 1.8585984246967198e-10, 1.8582092258261374e-10, 1.8578204707300309e-10, 1.8574376727554757e-10, 1.8570514788046146e-10, 1.856667059951656e-10, 1.8562788139372608e-10, 1.855891717487598e-10, 1.8555088093562612e-10, 1.855124810672751e-10, 1.8547387095683247e-10, 1.85435434972793e-10, 1.8539686499089323e-10, 1.8535824504502316e-10, 1.8531988687888388e-10, 1.852817253426053e-10, 1.8524316503876585e-10, 1.8520470096474627e-10, 1.851664001588185e-10, 1.851279126371403e-10, 1.8508960364813702e-10, 1.8505121322179635e-10, 1.8501334706306788e-10, 1.8497452623843238e-10, 1.849362340876805e-10, 1.8489792336764203e-10, 1.8485965269746305e-10, 1.8482162083145697e-10, 1.847834382867059e-10, 1.847450015945157e-10, 1.8470710498530447e-10, 1.8466872423702422e-10, 1.8463082345759223e-10, 1.8459259834511197e-10, 1.8455430824012893e-10, 1.8451621696814252e-10, 1.8447819839963393e-10, 1.8444018148347707e-10, 1.844018224518201e-10, 1.8436385982722164e-10, 1.843257552577375e-10, 1.8428773267637437e-10, 1.8424990625277204e-10, 1.8421180892216234e-10, 1.8417392820700157e-10, 1.8413613270598215e-10, 1.8409799028977401e-10, 1.8406005252913548e-10, 1.8402214726474842e-10, 1.839843458624726e-10, 1.839462516791996e-10, 1.8390854084153762e-10, 1.838707543104278e-10, 1.8383274211527614e-10, 1.8379508124158456e-10, 1.8375718179977037e-10, 1.8371925041248838e-10, 1.8368144531209223e-10, 1.8364396753471356e-10, 1.8360623883591576e-10, 1.8356839211199133e-10, 1.835306372902987e-10, 1.834929023755112e-10, 1.834553247488755e-10, 1.8341771462598796e-10, 1.8337995665695896e-10, 1.8334232536823248e-10, 1.8330478157546629e-10, 1.8326712447857852e-10, 1.832295238763847e-10, 1.8319202060557887e-10, 1.8315421290862974e-10, 1.831170741780979e-10, 1.8307954014207543e-10, 1.830419070436303e-10, 1.830043670276681e-10, 1.8296692992961622e-10, 1.829294324026999e-10, 1.828920776861865e-10, 1.8285454978747047e-10, 1.8281709742483566e-10, 1.8277983594817256e-10, 1.8274226729144624e-10, 1.8270489652351572e-10, 1.8266757737190696e-10, 1.8263020754817736e-10, 1.8259301051323306e-10, 1.8255557412333204e-10, 1.8251812781932042e-10, 1.8248104039037688e-10, 1.8244377356324092e-10, 1.8240647077778305e-10, 1.8236915028855645e-10, 1.8233187866173207e-10, 1.8229476880801449e-10, 1.8225765218752307e-10, 1.8222035420175393e-10, 1.8218330013457945e-10, 1.8214609090370546e-10, 1.8210868402008603e-10, 1.8207155654128276e-10, 1.820345797412247e-10, 1.8199738837148649e-10, 1.8196032415415104e-10, 1.8192334255440437e-10, 1.81886342936155e-10, 1.818492237191108e-10, 1.818121203961168e-10, 1.8177485364766429e-10, 1.8173818568002073e-10, 1.8170111186330856e-10, 1.8166408738109908e-10, 1.8162717549486044e-10, 1.8159019121987759e-10, 1.815530704291649e-10, 1.815163203947166e-10, 1.814792097541648e-10, 1.8144229511400662e-10, 1.81405739270233e-10, 1.8136875334289838e-10, 1.8133196223570593e-10, 1.8129510078553799e-10, 1.8125836530752188e-10, 1.8122141927267995e-10, 1.8118455467517542e-10, 1.8114791338121019e-10, 1.8111121338941544e-10, 1.8107450340482666e-10, 1.8103756618252754e-10, 1.810009504606728e-10, 1.8096418476822422e-10, 1.8092738256666984e-10, 1.8089064708865365e-10, 1.808541964446096e-10, 1.8081756057980032e-10, 1.807808915892721e-10, 1.8074422071034186e-10, 1.807075417270195e-10, 1.8067074582013869e-10, 1.8063423844535032e-10, 1.805978270643317e-10, 1.8056131370960363e-10, 1.805246737532565e-10, 1.8048830722178594e-10, 1.8045174673569066e-10, 1.804150009501468e-10, 1.8037883474665772e-10, 1.8034186463468998e-10, 1.8030567285909022e-10, 1.8026930554078548e-10, 1.802329454613552e-10, 1.8019643147715993e-10, 1.8016016817833341e-10, 1.801236973126508e-10, 1.8008714957326922e-10, 1.8005093167477485e-10, 1.800144446789918e-10, 1.7997814974943113e-10, 1.7994178589319688e-10, 1.799057440881912e-10, 1.798690510205371e-10, 1.7983296003839544e-10, 1.7979694947070649e-10, 1.797606140191859e-10, 1.7972447134203875e-10, 1.7968827468806683e-10, 1.7965199329205442e-10, 1.796157585553085e-10, 1.7957967654307637e-10, 1.7954343039723491e-10, 1.795074844286319e-10, 1.7947125724549428e-10, 1.7943520820161398e-10, 1.793990445159942e-10, 1.793629166313296e-10, 1.7932684689371059e-10, 1.7929089470911766e-10, 1.7925470954292506e-10, 1.7921877466868392e-10, 1.7918258729935552e-10, 1.7914660812635034e-10, 1.7911068717907432e-10, 1.7907462271324414e-10, 1.7903874622209923e-10, 1.7900271118386762e-10, 1.789668741131147e-10, 1.7893088337364722e-10, 1.788949675407932e-10, 1.7885900607155722e-10, 1.7882312698385931e-10, 1.7878723097922652e-10, 1.7875152790633395e-10, 1.7871562584307818e-10, 1.786798946802057e-10, 1.7864404132198532e-10, 1.7860833746225875e-10, 1.7857244413286234e-10, 1.7853662799189854e-10, 1.785007539399395e-10, 1.784652718887673e-10, 1.784294175076625e-10, 1.7839383946272082e-10, 1.783581244299488e-10, 1.7832251530505712e-10, 1.7828680633090845e-10, 1.7825113764266953e-10, 1.7821562742283402e-10, 1.7817986761919732e-10, 1.781443887940453e-10, 1.7810866274559505e-10, 1.780730827335678e-10, 1.780375005970882e-10, 1.7800203742993647e-10, 1.7796644530066306e-10, 1.779309492438424e-10, 1.7789536427475994e-10, 1.778598232110246e-10, 1.7782452992137147e-10, 1.7778908831347597e-10, 1.7775370611156096e-10, 1.7771843036831012e-10, 1.7768284618606185e-10, 1.7764733281888943e-10, 1.7761200317749744e-10, 1.7757680808474973e-10, 1.7754120171377772e-10, 1.7750595484734101e-10, 1.7747058853947635e-10, 1.7743506769737937e-10, 1.773997447440778e-10, 1.7736448859299777e-10, 1.7732938697615033e-10, 1.772939064199632e-10, 1.772588200676986e-10, 1.772235130084476e-10, 1.7718824104200074e-10, 1.771531576010227e-10, 1.7711777185835378e-10, 1.7708265725874238e-10, 1.7704743706598436e-10, 1.7701226833218147e-10, 1.7697716372536418e-10, 1.7694206753767254e-10, 1.7690685702297481e-10, 1.76871685849986e-10, 1.7683662176512874e-10, 1.7680165453955863e-10, 1.7676665591930477e-10, 1.7673142636322008e-10, 1.766963539379205e-10, 1.766610831517249e-10, 1.7662619169828607e-10, 1.7659132337777202e-10, 1.7655625142457306e-10, 1.7652134706705375e-10, 1.7648612451379317e-10, 1.7645131914001326e-10, 1.7641630077022192e-10, 1.7638158005979944e-10, 1.7634654689752514e-10, 1.763115954086386e-10, 1.762767093056722e-10, 1.7624187529112824e-10, 1.762070813264439e-10, 1.7617264568604371e-10, 1.761374743556881e-10, 1.7610259061322414e-10, 1.7606767500397603e-10, 1.760329232922869e-10, 1.7599803034386314e-10, 1.7596330727293805e-10, 1.7592859262113884e-10, 1.758938618392389e-10, 1.7585910296735886e-10, 1.7582429869514695e-10, 1.7578965076688583e-10, 1.7575487017838235e-10, 1.757202716633078e-10, 1.7568564198959962e-10, 1.7565102986229335e-10, 1.756165599159232e-10, 1.7558190915505923e-10, 1.7554723872334067e-10, 1.7551248520193314e-10, 1.7547828694940415e-10, 1.754433850310708e-10, 1.7540872278242742e-10, 1.7537440713423942e-10, 1.7533975542917434e-10, 1.753055039866547e-10, 1.7527061819842195e-10, 1.75236189167429e-10, 1.7520198225972416e-10, 1.7516742725657956e-10, 1.7513277854148425e-10, 1.750986391441517e-10, 1.7506394030771927e-10, 1.7502946485351005e-10, 1.7499514243854802e-10, 1.7496081797781693e-10, 1.7492635786687383e-10, 1.7489201790550986e-10, 1.7485769391687944e-10, 1.748233406580176e-10, 1.747888994310948e-10, 1.7475462328198236e-10, 1.747205029260371e-10, 1.746861887728339e-10, 1.7465197619992306e-10, 1.746177056373332e-10, 1.7458342342959739e-10, 1.7454919960495786e-10, 1.7451492518688085e-10, 1.7448078728453322e-10, 1.7444673758629688e-10, 1.7441259409742658e-10, 1.7437834123860582e-10, 1.7434421364378607e-10, 1.743102293314699e-10, 1.7427601880432774e-10, 1.742418085919194e-10, 1.742077796661055e-10, 1.7417373563307528e-10, 1.7413955878243608e-10, 1.7410588172886604e-10, 1.740717679823279e-10, 1.740376458953474e-10, 1.740037251592326e-10, 1.7396945923896457e-10, 1.7393556769439794e-10, 1.7390164750906718e-10, 1.7386753344779506e-10, 1.738336807728368e-10, 1.737997085777671e-10, 1.7376567343596287e-10, 1.737319641221914e-10, 1.7369797060391558e-10, 1.7366420455940022e-10, 1.7363035400889424e-10, 1.735962811777331e-10, 1.7356253803009223e-10, 1.7352883076208985e-10, 1.7349495676392542e-10, 1.7346100227262452e-10, 1.7342727533376774e-10, 1.7339366256455003e-10, 1.7335997827210557e-10, 1.733260637519809e-10, 1.7329216323750472e-10, 1.7325874520974573e-10, 1.732248535078122e-10, 1.7319118739123724e-10, 1.7315760231858254e-10, 1.7312385492203707e-10, 1.7309024388385439e-10, 1.7305639836908724e-10, 1.7302279905473388e-10, 1.7298927779433087e-10, 1.729555754047005e-10, 1.7292201031763383e-10, 1.7288840557412488e-10, 1.7285473512996202e-10, 1.728212012015287e-10, 1.7278760023482356e-10, 1.7275429448830178e-10, 1.7272051766415831e-10, 1.7268698090312178e-10, 1.7265350582988492e-10, 1.726200568008595e-10, 1.7258656638435636e-10, 1.725531608672608e-10, 1.7251981648718098e-10, 1.7248639775127123e-10, 1.7245257796598148e-10, 1.7241934248375177e-10, 1.723858588340224e-10, 1.723526475076018e-10, 1.723192018619634e-10, 1.7228600336093983e-10, 1.7225253300870807e-10, 1.7221907123296907e-10, 1.7218587761031745e-10, 1.7215245446813643e-10, 1.7211940397062166e-10, 1.720860161572952e-10, 1.720526761834866e-10, 1.720193384914973e-10, 1.7198620860241403e-10, 1.7195290088880668e-10, 1.7191964502757164e-10, 1.718863274785372e-10, 1.7185336447698278e-10, 1.7181993732194742e-10, 1.7178690743948823e-10, 1.7175375252907816e-10, 1.7172051602396393e-10, 1.7168747245059e-10, 1.716543626257783e-10, 1.7162115090594072e-10, 1.7158816618776298e-10, 1.7155481087068798e-10, 1.715220938334975e-10, 1.714888607904535e-10, 1.7145570580136006e-10, 1.7142272297158453e-10, 1.7138967129381852e-10, 1.7135676266250593e-10, 1.713236035818748e-10, 1.7129075002895454e-10, 1.7125783919450618e-10, 1.7122484904717264e-10, 1.7119201721087566e-10, 1.7115896576915996e-10, 1.7112598797512308e-10, 1.7109306612499622e-10, 1.7106032815801663e-10, 1.7102715003599833e-10, 1.7099415508897643e-10, 1.7096164176315438e-10, 1.7092848291857333e-10, 1.7089557090387369e-10, 1.7086285237169814e-10, 1.7083006444074802e-10, 1.7079729169569794e-10, 1.707646088857943e-10, 1.7073171622721542e-10, 1.706990918790908e-10, 1.7066620409888362e-10, 1.7063360996519179e-10, 1.7060073430223138e-10, 1.7056813938170508e-10, 1.7053541785955977e-10, 1.7050268288254985e-10, 1.7047006215386245e-10, 1.7043737108219965e-10, 1.7040472792873864e-10, 1.7037221428818275e-10, 1.7033940723716228e-10, 1.7030679571443488e-10, 1.702743297560303e-10, 1.7024167613767435e-10, 1.702092056943148e-10, 1.7017669748291492e-10, 1.7014396730559365e-10, 1.7011171214006492e-10, 1.700789918768542e-10, 1.7004656935169605e-10, 1.7001388016843549e-10, 1.6998129649963797e-10, 1.6994887279422875e-10, 1.6991632351008472e-10, 1.698839634595603e-10, 1.6985160938897577e-10, 1.6981899652863014e-10, 1.6978657290190428e-10, 1.697541553338014e-10, 1.6972199875859523e-10, 1.6968941162772735e-10, 1.6965692151351358e-10, 1.6962445343065665e-10, 1.6959223375134924e-10, 1.6955996111810196e-10, 1.6952759902180872e-10, 1.694950196019158e-10, 1.6946280283389484e-10, 1.6943053437086882e-10, 1.6939826527837523e-10, 1.6936617109911922e-10, 1.6933393820099782e-10, 1.6930154667710642e-10, 1.6926924996673301e-10, 1.6923710464325562e-10, 1.6920466472906223e-10, 1.6917270313136498e-10, 1.6914052334455047e-10, 1.6910840925838993e-10, 1.6907603929375491e-10, 1.6904378216114077e-10, 1.6901197305190717e-10, 1.6897956697158354e-10, 1.6894747066787524e-10, 1.6891532235442776e-10, 1.6888314941307067e-10, 1.6885107010498065e-10, 1.6881917782737438e-10, 1.687871247995458e-10, 1.6875495500552555e-10, 1.6872283934569644e-10, 1.686909474615071e-10, 1.686590000268251e-10, 1.6862691733534831e-10, 1.685950690417728e-10, 1.6856313938954315e-10, 1.685313811097971e-10, 1.684993003854057e-10, 1.6846719589862222e-10, 1.684351207607532e-10, 1.6840347177227443e-10, 1.6837135296510888e-10, 1.6833937822728095e-10, 1.6830766975413863e-10, 1.6827571972290377e-10, 1.6824398851025373e-10, 1.6821218388597489e-10, 1.6818019246726237e-10, 1.68148570467196e-10, 1.6811651201021163e-10, 1.680849066910299e-10, 1.680530226751825e-10, 1.680212864267937e-10, 1.6798954278216354e-10, 1.6795747448975204e-10, 1.6792598168785758e-10, 1.678940601400201e-10, 1.6786203480875447e-10, 1.6783049220025663e-10, 1.6779918351755962e-10, 1.677672617336719e-10, 1.6773569913958576e-10, 1.677039923187951e-10, 1.6767231177826609e-10, 1.676405787558975e-10, 1.676090224564849e-10, 1.6757732145826734e-10, 1.67545548228672e-10, 1.6751416676381365e-10, 1.6748230651035847e-10, 1.6745056538359783e-10, 1.674193718147407e-10, 1.6738765893532702e-10, 1.6735615944534217e-10, 1.6732457253808006e-10, 1.672929344865964e-10, 1.6726161187693442e-10, 1.6722994549942057e-10, 1.6719857080133612e-10, 1.671672562960661e-10, 1.671354525373048e-10, 1.6710419617908064e-10, 1.6707270148878418e-10, 1.6704136023115214e-10, 1.6701003565440474e-10, 1.6697826761791518e-10, 1.6694714612306886e-10, 1.6691582595259271e-10, 1.6688460704767536e-10, 1.6685298308052365e-10, 1.668216978454851e-10, 1.6679028947089775e-10, 1.6675905191801037e-10, 1.6672767981647861e-10, 1.6669658373637624e-10, 1.6666500076328503e-10, 1.6663394898194686e-10, 1.666026757067878e-10, 1.665714600278907e-10, 1.665400603871627e-10, 1.665086072417108e-10, 1.6647745191299487e-10, 1.6644637251377687e-10, 1.664152070349e-10, 1.6638382879606183e-10, 1.6635276521221092e-10, 1.6632166126376677e-10, 1.6629045888236694e-10, 1.662593509210685e-10, 1.6622825011996124e-10, 1.661970229532849e-10, 1.661661393970936e-10, 1.6613529549734502e-10, 1.6610401002625624e-10, 1.6607283927559054e-10, 1.6604152240981807e-10, 1.6601067772323508e-10, 1.6597976261499344e-10, 1.6594877141988699e-10, 1.6591758194256768e-10, 1.6588673788545234e-10, 1.6585567406555123e-10, 1.6582470490180146e-10, 1.6579381882774087e-10, 1.657628260589659e-10, 1.6573168599483318e-10, 1.6570088285309485e-10, 1.6566989496269183e-10, 1.656388675732131e-10, 1.6560806230702252e-10, 1.6557718630443948e-10, 1.6554595599042655e-10, 1.6551533515816718e-10, 1.6548468261649022e-10, 1.6545374256560523e-10, 1.6542282493949407e-10, 1.6539213108902307e-10, 1.653609230424173e-10, 1.6533023690292111e-10, 1.6529960387473204e-10, 1.6526895204120598e-10, 1.652380536138488e-10, 1.6520729115143757e-10, 1.6517651059184037e-10, 1.6514582822914817e-10, 1.6511494514505748e-10, 1.6508429984225522e-10, 1.650536367570005e-10, 1.6502276689172386e-10, 1.6499217666731395e-10, 1.649616379805428e-10, 1.6493092784260427e-10, 1.6490034934202345e-10, 1.6486975644237726e-10, 1.6483905503829805e-10, 1.6480828848434896e-10, 1.6477788379543807e-10, 1.6474709284962962e-10, 1.6471651316879765e-10, 1.6468603192092113e-10, 1.6465545397112432e-10, 1.6462485155078468e-10, 1.6459434465211396e-10, 1.6456380195248838e-10, 1.6453317986129424e-10, 1.645027794999712e-10, 1.6447223845269733e-10, 1.6444173682581586e-10, 1.6441125101430113e-10, 1.6438087103198343e-10, 1.643503125169909e-10, 1.643199404816981e-10, 1.6428936261058478e-10, 1.642590024564882e-10, 1.6422870469834182e-10, 1.6419862103777502e-10, 1.6416786667975602e-10, 1.6413738614003032e-10, 1.641071992468196e-10, 1.6407661948730423e-10, 1.6404652850917972e-10, 1.640162180830031e-10, 1.6398588302891674e-10, 1.639555840905192e-10, 1.6392536517315752e-10, 1.6389492885351266e-10, 1.63864713712955e-10, 1.6383441076170308e-10, 1.6380432025567895e-10, 1.6377398732604505e-10, 1.637437123860899e-10, 1.6371338244642578e-10, 1.636831609325112e-10, 1.6365305634215543e-10, 1.6362297024240284e-10, 1.6359271324226694e-10, 1.6356251171394055e-10, 1.6353239374740375e-10, 1.6350228585234445e-10, 1.6347217284286279e-10, 1.6344218674973416e-10, 1.6341184304047198e-10, 1.6338174199086986e-10, 1.6335190500281758e-10, 1.6332151235246968e-10, 1.6329154585151205e-10, 1.6326158186842346e-10, 1.63231605217305e-10, 1.6320158741475896e-10, 1.6317140933409083e-10, 1.631413973541178e-10, 1.6311144737667774e-10, 1.6308138275749822e-10, 1.6305145441799806e-10, 1.6302147713741198e-10, 1.6299171741647606e-10, 1.6296155538722521e-10, 1.62931769464711e-10, 1.6290195718325218e-10, 1.6287158404639164e-10, 1.6284190757251142e-10, 1.628118319376534e-10, 1.6278213028507987e-10, 1.6275259496925112e-10, 1.6272243097291482e-10, 1.6269264560118471e-10, 1.6266273465072014e-10, 1.6263313025085058e-10, 1.6260312905050532e-10, 1.6257335618943864e-10, 1.6254357876473377e-10, 1.6251385917234073e-10, 1.6248401541751444e-10, 1.6245446137503234e-10, 1.6242459401518109e-10, 1.6239475608292785e-10, 1.6236512681909846e-10, 1.6233539849284592e-10, 1.6230569148979996e-10, 1.622760399585632e-10, 1.6224617432974698e-10, 1.6221651681857045e-10, 1.6218659021010555e-10, 1.6215701862122133e-10, 1.621274245288795e-10, 1.6209786686696023e-10, 1.6206826097210578e-10, 1.6203863760953264e-10, 1.6200879967727946e-10, 1.619793809702758e-10, 1.6194962187880708e-10, 1.6192024093984393e-10, 1.6189093774009743e-10, 1.6186122208187536e-10, 1.6183158856914135e-10, 1.6180201674420695e-10, 1.6177256601305223e-10, 1.6174297483199692e-10, 1.617135663538376e-10, 1.6168395644612897e-10, 1.6165427910673114e-10, 1.6162485638687311e-10, 1.615954563278396e-10, 1.6156609120424334e-10, 1.6153659822009343e-10, 1.6150719383347176e-10, 1.614776353847184e-10, 1.614482131369609e-10, 1.6141863997440834e-10, 1.6138944283990888e-10, 1.6135987620807987e-10, 1.6133057198544906e-10, 1.6130130954371285e-10, 1.612719213658753e-10, 1.612424645760975e-10, 1.6121300692080205e-10, 1.6118393497162024e-10, 1.611544116156711e-10, 1.6112517482472907e-10, 1.6109579443654993e-10, 1.6106637871951603e-10, 1.6103738828635508e-10, 1.6100779490216412e-10, 1.6097873703731397e-10, 1.6094919904624923e-10, 1.6092004369264463e-10, 1.6089104161433766e-10, 1.6086174486663162e-10, 1.6083248911298606e-10, 1.6080322053394322e-10, 1.6077418564465112e-10, 1.6074509693590143e-10, 1.607156415624251e-10, 1.6068628580215572e-10, 1.6065744722799072e-10, 1.606283825176834e-10, 1.6059928413087323e-10, 1.6057020045786216e-10, 1.605410954616449e-10, 1.6051187771209e-10, 1.6048282189300877e-10, 1.6045364883563524e-10, 1.6042459954727766e-10, 1.6039561210408652e-10, 1.6036647374610022e-10, 1.603373605668076e-10, 1.6030842206470216e-10, 1.6027930109575103e-10, 1.6025062193419057e-10, 1.6022139033635408e-10, 1.6019244160540447e-10, 1.601635666795005e-10, 1.6013446435851953e-10, 1.6010540586420207e-10, 1.6007667406343507e-10, 1.6004781306449615e-10, 1.6001887999154653e-10, 1.5998989758409412e-10, 1.5996105586259263e-10, 1.5993215473511055e-10, 1.5990319986685421e-10, 1.5987439410367453e-10, 1.5984537691815144e-10, 1.598165662765998e-10, 1.5978787326675764e-10, 1.5975900337659271e-10, 1.5973016220587481e-10, 1.597011716940304e-10, 1.5967244429953473e-10, 1.5964363019591273e-10, 1.5961489115627113e-10, 1.5958600962096023e-10, 1.5955740339892785e-10, 1.595286783649347e-10, 1.5949983459766422e-10, 1.5947122727406405e-10, 1.5944244928613078e-10, 1.594138023847714e-10, 1.5938482729487675e-10, 1.5935636270299615e-10, 1.5932766229691282e-10, 1.5929904718365421e-10, 1.5927020947500683e-10, 1.5924188368067523e-10, 1.5921311875418925e-10, 1.5918427781952192e-10, 1.5915567458745932e-10, 1.5912711557547764e-10, 1.590984676512339e-10, 1.590698301132012e-10, 1.5904120351216354e-10, 1.5901293798932984e-10, 1.5898438409177018e-10, 1.5895551129031875e-10, 1.5892704929499084e-10, 1.5889868864390516e-10, 1.5887025426645715e-10, 1.5884163663532913e-10, 1.5881315024814182e-10, 1.5878461901140657e-10, 1.5875612058565637e-10, 1.5872742922816592e-10, 1.5869941061389704e-10, 1.586706359306674e-10, 1.5864232917772263e-10, 1.5861386513662603e-10, 1.5858551731093746e-10, 1.5855702502249394e-10, 1.5852888665206318e-10, 1.5850025375635214e-10, 1.5847183511558764e-10, 1.5844360830499536e-10, 1.584152333335274e-10, 1.5838684443509483e-10, 1.5835850463511486e-10, 1.5833009252507382e-10, 1.5830174344045069e-10, 1.5827349656558683e-10, 1.582452467007533e-10, 1.5821683152205913e-10, 1.5818857174311487e-10, 1.5816034272938683e-10, 1.5813218909437313e-10, 1.5810383159062414e-10, 1.580757653728875e-10, 1.5804741959296766e-10, 1.5801923621562198e-10, 1.5799118675745336e-10, 1.5796288480419737e-10, 1.5793465177761507e-10, 1.5790640938770619e-10, 1.5787837912829137e-10, 1.578501564879203e-10, 1.578220593476003e-10, 1.577937483457511e-10, 1.5776571061141185e-10, 1.577378105730534e-10, 1.5770941750439952e-10, 1.5768143414030168e-10, 1.576533836592486e-10, 1.576253406531202e-10, 1.575972137704684e-10, 1.575690875959674e-10, 1.575410603265225e-10, 1.575129842733586e-10, 1.574850397788692e-10, 1.5745682673787505e-10, 1.5742890254370744e-10, 1.5740098094609252e-10, 1.573729945920248e-10, 1.5734494536990636e-10, 1.5731687293617968e-10, 1.5728902301915837e-10, 1.57260794870948e-10, 1.5723290364513234e-10, 1.572050611243523e-10, 1.571772712427784e-10, 1.5714921210654948e-10, 1.5712122559511496e-10, 1.5709336505583218e-10, 1.5706555534603719e-10, 1.5703757261140662e-10, 1.5700967658590263e-10, 1.569819569686209e-10, 1.5695407022776012e-10, 1.5692625280699025e-10, 1.5689829296923437e-10, 1.568704310923335e-10, 1.5684282123841955e-10, 1.5681480097179875e-10, 1.5678738664617795e-10, 1.5675931413376784e-10, 1.5673171993785407e-10, 1.567039172308832e-10, 1.5667593087681544e-10, 1.5664838231728392e-10, 1.5662067654828387e-10, 1.5659278658140283e-10, 1.565652584795599e-10, 1.5653732413523133e-10, 1.5650997519553056e-10, 1.564820854646999e-10, 1.5645440180574e-10, 1.5642692893965635e-10, 1.563990210329561e-10, 1.5637153951169642e-10, 1.5634377976587168e-10, 1.5631623970414938e-10, 1.5628857996494858e-10, 1.562608416996969e-10, 1.5623324372697914e-10, 1.5620587055278565e-10, 1.5617812969098116e-10, 1.5615065100232463e-10, 1.5612291029788703e-10, 1.560954465590798e-10, 1.5606797156854386e-10, 1.560402800412423e-10, 1.5601297862632571e-10, 1.5598514413125424e-10, 1.55957908338308e-10, 1.5593025615271537e-10, 1.5590279107629e-10, 1.5587531718732194e-10, 1.558478758732886e-10, 1.5582022943158547e-10, 1.5579287750191483e-10, 1.5576550535060576e-10, 1.5573798810707447e-10, 1.5571061469683075e-10, 1.556830345852488e-10, 1.5565580461487544e-10, 1.5562831215662064e-10, 1.5560095015547255e-10, 1.5557348138092655e-10, 1.5554613173307493e-10, 1.5551876091938396e-10, 1.554914094618138e-10, 1.5546421316794338e-10, 1.554371389120538e-10, 1.5540948633304415e-10, 1.5538218428866009e-10, 1.5535498823083997e-10, 1.5532773969118011e-10, 1.5530039704615268e-10, 1.5527305479454233e-10, 1.5524587840757662e-10, 1.5521860980364533e-10, 1.5519125622162287e-10, 1.5516405158731008e-10, 1.5513664300557866e-10, 1.5510949510201018e-10, 1.5508237017399965e-10, 1.5505535304227113e-10, 1.5502808184178702e-10, 1.5500089609149446e-10, 1.5497380586287113e-10, 1.5494665213672954e-10, 1.549193768447078e-10, 1.5489234224526077e-10, 1.5486504224664571e-10, 1.5483790866345914e-10, 1.5481102450670699e-10, 1.5478379933602207e-10, 1.5475665269138806e-10, 1.5472960668284544e-10, 1.5470261441507728e-10, 1.5467546415100618e-10, 1.5464834598976947e-10, 1.546214149377e-10, 1.5459430928712683e-10, 1.545672937290668e-10, 1.5454015141202087e-10, 1.545133699371286e-10, 1.5448630189722904e-10, 1.5445929562381225e-10, 1.5443242429245695e-10, 1.544053404371903e-10, 1.5437827483647671e-10, 1.5435132348408552e-10, 1.5432445105116247e-10, 1.5429741424857974e-10, 1.5427064630723522e-10, 1.5424358589962723e-10, 1.542167278657696e-10, 1.5418993081156048e-10, 1.5416292406604326e-10, 1.5413609569583402e-10, 1.5410920280522214e-10, 1.5408232281869088e-10, 1.540553158371235e-10, 1.5402857236632194e-10, 1.5400172361710742e-10, 1.539750091018036e-10, 1.539480468911009e-10, 1.5392144481440093e-10, 1.53894278577596e-10, 1.538677149770874e-10, 1.5384095860220533e-10, 1.5381409411630747e-10, 1.5378739195430025e-10, 1.537604659379695e-10, 1.5373370649443419e-10, 1.5370703061268848e-10, 1.5368007634901084e-10, 1.5365335073934516e-10, 1.5362686401253555e-10, 1.5359993791752153e-10, 1.5357336542578658e-10, 1.535467914390669e-10, 1.535200348281346e-10, 1.534932359642069e-10, 1.5346656134139583e-10, 1.5343992118192185e-10, 1.5341345774540403e-10, 1.5338664739369732e-10, 1.533600778919323e-10, 1.5333349824000647e-10, 1.5330691032632177e-10, 1.5328033169728028e-10, 1.5325368752495185e-10, 1.5322708237959872e-10, 1.5320046307123027e-10, 1.531738667384199e-10, 1.5314728653571011e-10, 1.5312081908633775e-10, 1.5309427169461319e-10, 1.5306773870195412e-10, 1.5304125543721487e-10, 1.5301478366025456e-10, 1.529884197582602e-10, 1.5296181374738947e-10, 1.5293537108329382e-10, 1.5290884084455417e-10, 1.528824062848507e-10, 1.528560463957105e-10, 1.5282955243002665e-10, 1.5280314674713716e-10, 1.5277659101497033e-10, 1.5275014512485458e-10, 1.5272400381824875e-10, 1.5269762315668624e-10, 1.5267091485737255e-10, 1.5264470147675604e-10, 1.5261844434815943e-10, 1.525919967270085e-10, 1.5256564092940606e-10, 1.5253932179827622e-10, 1.5251301014207105e-10, 1.524866308968101e-10, 1.524604197193294e-10, 1.5243389191977574e-10, 1.5240787029064823e-10, 1.5238145870650269e-10, 1.5235520441050898e-10, 1.5232874223292565e-10, 1.5230262948840064e-10, 1.5227628242465734e-10, 1.522500904459307e-10, 1.522239851763302e-10, 1.5219771443550226e-10, 1.5217151230661463e-10, 1.521453958639687e-10, 1.5211906784161277e-10, 1.5209303393787217e-10, 1.5206687980586925e-10, 1.520404783718845e-10, 1.5201427687246414e-10, 1.5198813430692364e-10, 1.5196208332888133e-10, 1.5193603164268835e-10, 1.5190977010782034e-10, 1.518835490949123e-10, 1.5185753871751367e-10, 1.5183152007835606e-10, 1.518053320338001e-10, 1.517792235381794e-10, 1.5175318420528299e-10, 1.5172720475046746e-10, 1.5170106643383148e-10, 1.5167507446835245e-10, 1.5164886258272105e-10, 1.516229600016046e-10, 1.5159698094020604e-10, 1.5157082649346948e-10, 1.515446489924914e-10, 1.5151864286399727e-10, 1.5149279347287118e-10, 1.5146674186536138e-10, 1.5144068797603265e-10, 1.514149400865154e-10, 1.5138874291468313e-10, 1.5136294875931613e-10, 1.5133684049974572e-10, 1.5131117916198803e-10, 1.5128497860676873e-10, 1.5125920538119086e-10, 1.5123335953081843e-10, 1.512074894459536e-10, 1.5118155979774148e-10, 1.5115570560692679e-10, 1.5112974401324705e-10, 1.511039699221516e-10, 1.510780467259797e-10, 1.5105206349436017e-10, 1.5102636879483322e-10, 1.5100051413191814e-10, 1.5097468897528463e-10, 1.509488804208524e-10, 1.509230455861584e-10, 1.508971038206998e-10, 1.508712778772322e-10, 1.5084568743323388e-10, 1.508197602242077e-10, 1.507940842513342e-10, 1.507684328276871e-10, 1.5074246273619827e-10, 1.5071683145550601e-10, 1.5069093139225892e-10, 1.5066532300844115e-10, 1.5063966686378903e-10, 1.506138945824122e-10, 1.505883154688259e-10, 1.5056254365954964e-10, 1.5053663454770951e-10, 1.5051117046927988e-10, 1.5048524121448486e-10, 1.5045977579843717e-10, 1.5043424554725337e-10, 1.5040838962540365e-10, 1.503827952472344e-10, 1.5035724414494481e-10, 1.503314768206234e-10, 1.5030598119014333e-10, 1.5028065653872982e-10, 1.5025488622443852e-10, 1.502292240998466e-10, 1.50203605015084e-10, 1.5017818791065475e-10, 1.5015272249460727e-10, 1.501270779951008e-10, 1.5010165782201828e-10, 1.5007606486015057e-10, 1.5005067403598293e-10, 1.5002498020197364e-10, 1.4999956451384595e-10, 1.4997402348303385e-10, 1.4994853320302622e-10, 1.4992308155657667e-10, 1.4989771968790674e-10, 1.4987221304174817e-10, 1.4984670057301674e-10, 1.498209910810072e-10, 1.4979580247322308e-10, 1.4977046798638252e-10, 1.497448026357705e-10, 1.4971956272639803e-10, 1.4969409251066185e-10, 1.4966863110746855e-10, 1.4964326498989395e-10, 1.4961802201186813e-10, 1.4959244761928698e-10, 1.4956724122905056e-10, 1.4954186307291303e-10, 1.4951652630425338e-10, 1.4949125547229764e-10, 1.4946605333096568e-10, 1.494404148900824e-10, 1.494153608309425e-10, 1.493898980901311e-10, 1.4936471231495005e-10, 1.493394439221803e-10, 1.4931422667363203e-10, 1.49288899425666e-10, 1.4926355219211173e-10, 1.4923828694667872e-10, 1.4921320440414184e-10, 1.491878640160449e-10, 1.491626990132861e-10, 1.4913739348194316e-10, 1.4911217757101312e-10, 1.4908705214601333e-10, 1.4906189060532485e-10, 1.4903665903639476e-10, 1.4901145901951503e-10, 1.4898630408823368e-10, 1.4896105111741386e-10, 1.489358417372075e-10, 1.4891077186270072e-10, 1.4888562047217302e-10, 1.4886055335158595e-10, 1.4883545790496848e-10, 1.4881043319474353e-10, 1.4878540840583497e-10, 1.487603564711474e-10, 1.4873520909347432e-10, 1.4870996493519722e-10, 1.4868504267078206e-10, 1.4865983069402289e-10, 1.4863495941646252e-10, 1.4860976388453767e-10, 1.4858492345087692e-10, 1.485599422525818e-10, 1.4853474955325996e-10, 1.4850980502143762e-10, 1.4848472350178506e-10, 1.484598831468077e-10, 1.4843468651331484e-10, 1.4840972829057793e-10, 1.483848965120931e-10, 1.4835979075794773e-10, 1.4833486259227628e-10, 1.4830989484884585e-10, 1.482849308822192e-10, 1.482600601554425e-10, 1.4823514505121836e-10, 1.482101725080993e-10, 1.4818543215974595e-10, 1.4816039187020402e-10, 1.4813542160890417e-10, 1.481106478200983e-10, 1.480859247820967e-10, 1.480609673461938e-10, 1.4803621291350862e-10, 1.4801119914027868e-10, 1.4798641535867875e-10, 1.4796163307206362e-10, 1.479366101715572e-10, 1.4791202002984828e-10, 1.4788719879494134e-10, 1.4786251793125171e-10, 1.4783765515150038e-10, 1.4781278536892486e-10, 1.4778805674440062e-10, 1.4776331497974568e-10, 1.4773844574795395e-10, 1.477137104353394e-10, 1.476889483703627e-10, 1.476640124937163e-10, 1.4763936373286108e-10, 1.4761460788387436e-10, 1.4758992646940085e-10, 1.475652853408372e-10, 1.4754074225181197e-10, 1.475159628764833e-10, 1.4749121308611963e-10, 1.4746655952557618e-10, 1.474421339108936e-10, 1.4741729929980576e-10, 1.47392605059935e-10, 1.4736802207841694e-10, 1.4734340549907965e-10, 1.4731865138112814e-10, 1.4729423135296803e-10, 1.472695461616905e-10, 1.4724489771556893e-10, 1.4722028326068395e-10, 1.471958169666744e-10, 1.4717108401456226e-10, 1.471464479217373e-10, 1.4712196360922512e-10, 1.470973125665509e-10, 1.4707283116532502e-10, 1.4704820939288212e-10, 1.4702377040201858e-10, 1.469992962396672e-10, 1.469746332371134e-10, 1.469503444528943e-10, 1.469258689529248e-10, 1.4690131146483414e-10, 1.468767594058993e-10, 1.4685238210283528e-10, 1.468277392432364e-10, 1.4680331897902617e-10, 1.4677883159786065e-10, 1.4675423398122691e-10, 1.4672996054027423e-10, 1.4670573029651786e-10, 1.4668095753059633e-10, 1.466566967576738e-10, 1.4663234990509244e-10, 1.4660787904744472e-10, 1.4658358231620035e-10, 1.4655900067230037e-10, 1.4653469678086504e-10, 1.4651041885495756e-10, 1.4648586679602254e-10, 1.4646156188170285e-10, 1.4643730622320256e-10, 1.4641288957842956e-10, 1.463887658720207e-10, 1.463643447422929e-10, 1.4633999434895766e-10, 1.4631580525662875e-10, 1.4629172301638119e-10, 1.4626719802454204e-10, 1.4624286785284512e-10, 1.46218659325712e-10, 1.461944872290013e-10, 1.461700969431733e-10, 1.4614581775833108e-10, 1.4612153479668477e-10, 1.4609738300029586e-10, 1.4607300758563374e-10, 1.460490027698692e-10, 1.4602467456525767e-10, 1.4600046178922014e-10, 1.459764223527517e-10, 1.4595209273183876e-10, 1.4592787916896687e-10, 1.459037514497038e-10, 1.4587967188469235e-10, 1.458553730289957e-10, 1.4583116103979224e-10, 1.4580721500054063e-10, 1.4578308468472471e-10, 1.4575879818232466e-10, 1.4573482074838945e-10, 1.4571045092024998e-10, 1.456864343806561e-10, 1.4566244781944447e-10, 1.4563822575876355e-10, 1.4561415233105856e-10, 1.4559026255045075e-10, 1.4556610194151903e-10, 1.4554204920755294e-10, 1.45517901738752e-10, 1.4549411778734093e-10, 1.4547012375120458e-10, 1.4544605221190164e-10, 1.4542198476413653e-10, 1.453978629461298e-10, 1.4537392752913964e-10, 1.4534993931557614e-10, 1.4532585266905712e-10, 1.4530179906957338e-10, 1.4527810497462538e-10, 1.4525418914980613e-10, 1.4522993915651172e-10, 1.452061103555527e-10, 1.4518228304957838e-10, 1.4515816752624507e-10, 1.4513436319582866e-10, 1.4511036097661674e-10, 1.450864010890837e-10, 1.4506274625716116e-10, 1.4503890297845297e-10, 1.4501485724731114e-10, 1.449911050053174e-10, 1.4496716683440763e-10, 1.4494339263974023e-10, 1.4491948869611714e-10, 1.4489562283526817e-10, 1.4487180402710303e-10, 1.4484780692231332e-10, 1.448240855242193e-10, 1.4480033107908979e-10, 1.447764464915875e-10, 1.4475263067339212e-10, 1.44728930362454e-10, 1.4470509377183656e-10, 1.446813100564756e-10, 1.4465747818686315e-10, 1.446338043135534e-10, 1.4460986425424144e-10, 1.4458637528696345e-10, 1.4456250069225503e-10, 1.4453879093930684e-10, 1.4451489675242748e-10, 1.4449134515314895e-10, 1.4446770165163847e-10, 1.444438953541366e-10, 1.4442026939902825e-10, 1.443965217206728e-10, 1.4437277593071937e-10, 1.4434920709977224e-10, 1.4432549703209028e-10, 1.4430188484658005e-10, 1.4427821530085836e-10, 1.4425453757206112e-10, 1.4423098447779757e-10, 1.4420703639277716e-10, 1.4418359495028332e-10, 1.4416022573916698e-10, 1.4413651897618857e-10, 1.44112921583161e-10, 1.440890893988147e-10, 1.440655876061396e-10, 1.4404217338810832e-10, 1.4401856647438704e-10, 1.4399508828673712e-10, 1.439714329040306e-10, 1.4394785911602817e-10, 1.4392430909041793e-10, 1.4390073388611404e-10, 1.43877322343319e-10, 1.4385374690296478e-10, 1.438302845306819e-10, 1.4380682310260002e-10, 1.4378319297727042e-10, 1.4375976561910844e-10, 1.4373615461384952e-10, 1.4371262520329465e-10, 1.4368930634956565e-10, 1.4366599032843962e-10, 1.4364240686237693e-10, 1.4361885715150032e-10, 1.4359567622980255e-10, 1.4357229474407315e-10, 1.4354847042806867e-10, 1.4352531499979826e-10, 1.43501787949746e-10, 1.4347840001197624e-10, 1.4345498917733192e-10, 1.4343176128163377e-10, 1.4340828112689848e-10, 1.4338490908317915e-10, 1.4336151721123843e-10, 1.4333829749861577e-10, 1.4331501342295736e-10, 1.4329150801084495e-10, 1.432683286628156e-10, 1.4324482812907503e-10, 1.4322148582768762e-10, 1.4319825565017036e-10, 1.431748120045409e-10, 1.431514353184998e-10, 1.431284776216582e-10, 1.4310518906104497e-10, 1.430819390553065e-10, 1.430585783419993e-10, 1.4303531039644171e-10, 1.430121046894673e-10, 1.4298892833140776e-10, 1.4296565062910625e-10, 1.4294255122342924e-10, 1.4291902999594987e-10, 1.428959397962328e-10, 1.4287252384716631e-10, 1.4284930476401104e-10, 1.428262287273091e-10, 1.4280307739057649e-10, 1.427797050321234e-10, 1.4275664638445685e-10, 1.4273355563395582e-10, 1.427103960354643e-10, 1.4268722549997766e-10, 1.4266390782649988e-10, 1.4264090181803978e-10, 1.4261783160391078e-10, 1.4259465729162003e-10, 1.4257128438238308e-10, 1.4254820543439483e-10, 1.4252520737295982e-10, 1.425019297493417e-10, 1.424789356220776e-10, 1.424557552511638e-10, 1.4243270974362793e-10, 1.42409641811318e-10, 1.423866915107176e-10, 1.4236360713357342e-10, 1.4234051441598685e-10, 1.4231745427333532e-10, 1.4229429160619053e-10, 1.422714092880629e-10, 1.4224838895922071e-10, 1.4222544920219824e-10, 1.4220229125605854e-10, 1.4217927777267368e-10, 1.4215621062719796e-10, 1.421333346037439e-10, 1.4211018153597605e-10, 1.4208730039809976e-10, 1.4206434026207211e-10, 1.4204146793673878e-10, 1.4201836939657929e-10, 1.4199551737156753e-10, 1.419725288308262e-10, 1.4194950574806436e-10, 1.419267800886215e-10, 1.4190363654154713e-10, 1.4188081315729954e-10, 1.418579670335441e-10, 1.4183507905021052e-10, 1.4181206753391116e-10, 1.4178923746157288e-10, 1.4176653296796945e-10, 1.417433789560006e-10, 1.4172056115827564e-10, 1.4169776043485232e-10, 1.4167486757314687e-10, 1.4165201145659747e-10, 1.416292499175162e-10, 1.4160646359315824e-10, 1.4158369221864974e-10, 1.4156069455063172e-10, 1.4153807849718973e-10, 1.4151514196618749e-10, 1.414925173362529e-10, 1.4146945908200344e-10, 1.4144679432352596e-10, 1.4142404749824377e-10, 1.4140133490024814e-10, 1.413785662796592e-10, 1.4135578034871844e-10, 1.413329959914459e-10, 1.413103843442754e-10, 1.4128752563117326e-10, 1.4126475913503656e-10, 1.4124211971261944e-10, 1.412193811490962e-10, 1.4119669561819633e-10, 1.4117405273370887e-10, 1.4115139489937212e-10, 1.41128684819246e-10, 1.4110607663414574e-10, 1.4108347985814117e-10, 1.4106081022129174e-10, 1.410379985608733e-10, 1.4101533907418474e-10, 1.4099269681916474e-10, 1.409701938337941e-10, 1.4094762742958862e-10, 1.4092500154071944e-10, 1.4090219743390911e-10, 1.408799238893845e-10, 1.4085708461108647e-10, 1.408346077486104e-10, 1.408120213588169e-10, 1.4078959154902458e-10, 1.4076686022437565e-10, 1.407443668383819e-10, 1.4072171144323108e-10, 1.4069917871552844e-10, 1.4067676149508317e-10, 1.4065427251536075e-10, 1.406317513541205e-10, 1.4060934302490132e-10, 1.405867379084545e-10, 1.4056427206165674e-10, 1.40541712188175e-10, 1.4051907654256214e-10, 1.4049669551648896e-10, 1.4047443031240654e-10, 1.4045167435984783e-10, 1.404294353573435e-10, 1.4040692898858583e-10, 1.4038446172548682e-10, 1.4036212586369523e-10, 1.4033967677646568e-10, 1.403173089692066e-10, 1.40294895289515e-10, 1.402724890060646e-10, 1.4025015762922798e-10, 1.402275849303492e-10, 1.4020528219427653e-10, 1.4018267149130692e-10, 1.401604470452349e-10, 1.401379579081457e-10, 1.4011561724666578e-10, 1.4009346219936813e-10, 1.4007120447021047e-10, 1.4004869353781454e-10, 1.4002655288958245e-10, 1.4000410427445336e-10, 1.3998172560888266e-10, 1.3995946654210684e-10, 1.3993696040939943e-10, 1.3991481307307685e-10, 1.3989251088778804e-10, 1.3987031492511339e-10, 1.3984797229654793e-10, 1.3982571330845552e-10, 1.3980339255388023e-10, 1.397811814839892e-10, 1.3975886969932357e-10, 1.397367037937143e-10, 1.3971441506329e-10, 1.396922355454496e-10, 1.396700784523832e-10, 1.3964797281827193e-10, 1.3962573381576761e-10, 1.3960350693050967e-10, 1.3958128594650815e-10, 1.3955909234433582e-10, 1.3953701102340056e-10, 1.395147788663537e-10, 1.394925423817188e-10, 1.3947038796388858e-10, 1.3944827729403864e-10, 1.394262218599478e-10, 1.3940409269949473e-10, 1.3938196873214714e-10, 1.3935972060236625e-10, 1.393376870422657e-10, 1.3931564671539116e-10, 1.3929350622452589e-10, 1.3927132292988145e-10, 1.3924926285346907e-10, 1.3922725612441387e-10, 1.3920512531160897e-10, 1.391830910433575e-10, 1.3916107754752836e-10, 1.3913902856547786e-10, 1.391168831962408e-10, 1.3909484389225064e-10, 1.39072668701998e-10, 1.390505768374849e-10, 1.390286557159882e-10, 1.3900670744871243e-10, 1.389848045030852e-10, 1.3896271869719513e-10, 1.3894101419114742e-10, 1.3891880422282444e-10, 1.3889695556875547e-10, 1.3887488557823242e-10, 1.3885293196048409e-10, 1.388309727562132e-10, 1.388091009692195e-10, 1.3878708047056626e-10, 1.3876511709607413e-10, 1.3874312177611445e-10, 1.3872121080477868e-10, 1.3869934491904122e-10, 1.3867738461320255e-10, 1.3865556420648055e-10, 1.3863376268377878e-10, 1.3861194880778045e-10, 1.3858991194297622e-10, 1.385679716227256e-10, 1.3854614311161156e-10, 1.3852414834243594e-10, 1.3850231267113082e-10, 1.3848051217131346e-10, 1.3845863503384738e-10, 1.3843686167980909e-10, 1.3841504937747904e-10, 1.3839332189587336e-10, 1.3837153673932257e-10, 1.3834963190529324e-10, 1.38327880031828e-10, 1.3830593727239141e-10, 1.3828421466915769e-10, 1.3826235342574188e-10, 1.3824082902603725e-10, 1.3821901153060174e-10, 1.3819708734045172e-10, 1.3817522531020168e-10, 1.381533643028361e-10, 1.3813194919439884e-10, 1.3811003019735431e-10, 1.3808841940325712e-10, 1.3806664101348009e-10, 1.3804497671465892e-10, 1.3802315158693176e-10, 1.3800160145774955e-10, 1.3797991811754124e-10, 1.3795826365414717e-10, 1.3793666812463304e-10, 1.3791488698093644e-10, 1.3789320017865771e-10, 1.3787153886980627e-10, 1.3784983428507512e-10, 1.3782799200436305e-10, 1.378066096282274e-10, 1.3778487585194823e-10, 1.3776336829049508e-10, 1.3774165206061807e-10, 1.37719950701907e-10, 1.3769853433453494e-10, 1.3767679410621563e-10, 1.376551971603998e-10, 1.3763356590861401e-10, 1.3761196510731083e-10, 1.375905115226822e-10, 1.3756868002159826e-10, 1.3754747011951432e-10, 1.375258975655581e-10, 1.3750413499114806e-10, 1.374827940024902e-10, 1.3746106943217095e-10, 1.3743960207794418e-10, 1.374179600465302e-10, 1.373964906465346e-10, 1.3737490125432693e-10, 1.3735339495180838e-10, 1.3733196851295895e-10, 1.3731060006378821e-10, 1.3728912114309907e-10, 1.3726775355944605e-10, 1.3724621121992228e-10, 1.3722455974649795e-10, 1.3720315526032198e-10, 1.3718167256282878e-10, 1.371602992352863e-10, 1.3713881960644628e-10, 1.371172970164603e-10, 1.3709611756485902e-10, 1.370744753760781e-10, 1.3705305908738935e-10, 1.370317072404199e-10, 1.3701035728185246e-10, 1.3698881801098192e-10, 1.3696740227307714e-10, 1.369460739524495e-10, 1.3692474791364108e-10, 1.3690330266945474e-10, 1.3688193705288698e-10, 1.368606509065713e-10, 1.368390180024338e-10, 1.3681768810813767e-10, 1.3679646278410386e-10, 1.3677514272523512e-10, 1.367538283315725e-10, 1.3673254769309588e-10, 1.367112577699761e-10, 1.366898694139008e-10, 1.3666860663656006e-10, 1.3664737588337035e-10, 1.3662599366460158e-10, 1.366046512596422e-10, 1.3658346039894537e-10, 1.3656209234319174e-10, 1.365408264185143e-10, 1.3651962233900342e-10, 1.3649838961872827e-10, 1.3647701164886406e-10, 1.3645577074551352e-10, 1.364344734261525e-10, 1.364132551049428e-10, 1.3639212380759315e-10, 1.3637078022238242e-10, 1.3634948054251893e-10, 1.3632821343759026e-10, 1.3630713234026107e-10, 1.3628603778806751e-10, 1.362647359837516e-10, 1.3624355023747687e-10, 1.3622224237453796e-10, 1.362011192602637e-10, 1.3618007207548755e-10, 1.361588748414339e-10, 1.3613761922428424e-10, 1.3611646023037157e-10, 1.3609532389728318e-10, 1.36074213214989e-10, 1.3605311701044356e-10, 1.360319314215357e-10, 1.3601088651857877e-10, 1.3598969943468582e-10, 1.3596850959687338e-10, 1.359474597368612e-10, 1.359263782461149e-10, 1.3590511775059324e-10, 1.3588423241760744e-10, 1.358633141162695e-10, 1.35842096188477e-10, 1.3582112619213365e-10, 1.3580004037379944e-10, 1.3577882040023797e-10, 1.3575800108263956e-10, 1.357368889840439e-10, 1.3571582740020234e-10, 1.3569480484333587e-10, 1.3567378747957508e-10, 1.356529136343682e-10, 1.3563190114897934e-10, 1.356108471974292e-10, 1.3558981433303512e-10, 1.3556875912255047e-10, 1.3554773562148308e-10, 1.3552689978036694e-10, 1.3550610784459795e-10, 1.3548502249836422e-10, 1.3546396783866336e-10, 1.3544295913007853e-10, 1.3542214870370634e-10, 1.3540125392871035e-10, 1.35380268117e-10, 1.3535938246928045e-10, 1.353384822651287e-10, 1.353175634130068e-10, 1.3529665675681478e-10, 1.3527555347076183e-10, 1.3525464091331347e-10, 1.352338438631222e-10, 1.3521303493173492e-10, 1.3519209278932153e-10, 1.3517126599679843e-10, 1.351503338471789e-10, 1.3512953349228417e-10, 1.3510875973238468e-10, 1.3508795552200242e-10, 1.350669817488551e-10, 1.3504619178017152e-10, 1.3502535113936686e-10, 1.3500449531266258e-10, 1.3498374106625072e-10, 1.349628817774761e-10, 1.3494215097872257e-10, 1.3492122174038965e-10, 1.349005209987017e-10, 1.3487982183068214e-10, 1.348590026704506e-10, 1.3483797861859927e-10, 1.3481738630266092e-10, 1.3479681003813982e-10, 1.3477590117881208e-10, 1.347551540925911e-10, 1.347342802473842e-10, 1.3471352033576614e-10, 1.346927783639674e-10, 1.3467212325866178e-10, 1.3465162732991017e-10, 1.3463077181793952e-10, 1.3461014739916686e-10, 1.345894250982224e-10, 1.345687925750577e-10, 1.3454826784817526e-10, 1.3452753964597458e-10, 1.34506808453804e-10, 1.344861445359556e-10, 1.3446542695601636e-10, 1.3444475729427845e-10, 1.3442408668833944e-10, 1.3440351443667267e-10, 1.3438282061912544e-10, 1.3436225025586075e-10, 1.3434170884809376e-10, 1.3432098709793326e-10, 1.3430046929519152e-10, 1.342798498334742e-10, 1.3425928403384757e-10, 1.3423854174731513e-10, 1.3421813772079547e-10, 1.3419726938342784e-10, 1.3417688534249625e-10, 1.3415637957831737e-10, 1.3413576082475071e-10, 1.341152043097675e-10, 1.340947356841618e-10, 1.3407413298201235e-10, 1.3405367851942187e-10, 1.340331875477257e-10, 1.3401264063211936e-10, 1.3399192124246143e-10, 1.339717065282448e-10, 1.3395103765334104e-10, 1.3393055344841877e-10, 1.3391015658209007e-10, 1.3388957433762921e-10, 1.3386925033214535e-10, 1.3384871986137336e-10, 1.338281593335359e-10, 1.3380780755280554e-10, 1.337874017165672e-10, 1.3376686424297106e-10, 1.337463624916465e-10, 1.3372603289963998e-10, 1.3370559708501941e-10, 1.3368501995498088e-10, 1.336647158564017e-10, 1.3364443355312907e-10, 1.336238537478542e-10, 1.3360356483517461e-10, 1.33583202432183e-10, 1.3356284026524153e-10, 1.335424789638176e-10, 1.335223014668575e-10, 1.3350176131802515e-10, 1.3348145926521487e-10, 1.3346100944494607e-10, 1.3344064625512013e-10, 1.3342041336503391e-10, 1.3340007322944947e-10, 1.333798424638155e-10, 1.3335931333066165e-10, 1.3333913575501818e-10, 1.3331878979686078e-10, 1.332985046609852e-10, 1.3327823833044651e-10, 1.332578504340275e-10, 1.3323759165709688e-10, 1.3321728236541218e-10, 1.3319703554836102e-10, 1.3317678322347063e-10, 1.3315640311670997e-10, 1.3313629769376048e-10, 1.3311598580552288e-10, 1.3309574260790899e-10, 1.330756561476633e-10, 1.3305540217042118e-10, 1.3303526912959205e-10, 1.33014817184871e-10, 1.3299459074682505e-10, 1.3297442882918175e-10, 1.3295428886421187e-10, 1.3293416951429747e-10, 1.329138237135068e-10, 1.3289370184572306e-10, 1.3287343897725473e-10, 1.3285336817500902e-10, 1.3283313615044045e-10, 1.3281312113473802e-10, 1.3279290343055148e-10, 1.3277267400253567e-10, 1.3275263451629017e-10, 1.327323991870181e-10, 1.3271230446501342e-10, 1.326922171392501e-10, 1.3267205301847095e-10, 1.32651941851632e-10, 1.3263188599923569e-10, 1.3261155270910855e-10, 1.3259153155609943e-10, 1.3257144635478832e-10, 1.325516570818113e-10, 1.3253141876256936e-10, 1.3251150084220426e-10, 1.3249133097753574e-10, 1.3247124184205373e-10, 1.3245117088244122e-10, 1.3243115862065829e-10, 1.3241116241029262e-10, 1.3239123795920392e-10, 1.3237108957510847e-10, 1.3235108895847134e-10, 1.3233114570204585e-10, 1.3231106813302618e-10, 1.322908615232016e-10, 1.3227089529121796e-10, 1.3225101867964717e-10, 1.3223098651095973e-10, 1.3221114798216308e-10, 1.3219105160780663e-10, 1.3217090613499765e-10, 1.3215134819126864e-10, 1.3213121963539437e-10, 1.3211116559271662e-10, 1.3209125829461304e-10, 1.320714062322686e-10, 1.3205133330557066e-10, 1.3203134087200905e-10, 1.320114290889505e-10, 1.3199158025262624e-10, 1.31971776423217e-10, 1.3195182702948482e-10, 1.3193217498038827e-10, 1.3191210614522802e-10, 1.3189208090068128e-10, 1.3187217793016554e-10, 1.3185236993053503e-10, 1.3183254879077388e-10, 1.3181280098395793e-10, 1.3179289643977384e-10, 1.317730391843239e-10, 1.3175309411817976e-10, 1.317332550385992e-10, 1.31713440508245e-10, 1.316936546973384e-10, 1.3167380279236076e-10, 1.316539065099356e-10, 1.31634180419743e-10, 1.3161445527375133e-10, 1.3159466576472404e-10, 1.3157493920243085e-10, 1.3155518140282094e-10, 1.3153511540026378e-10, 1.3151541448876477e-10, 1.3149567966471275e-10, 1.314759697833042e-10, 1.3145613172660817e-10, 1.314363746351489e-10, 1.3141658803740807e-10, 1.3139699744006073e-10, 1.313771576523295e-10, 1.3135731322227655e-10, 1.3133761388444593e-10, 1.313178838600824e-10, 1.3129824196114674e-10, 1.3127867370988996e-10, 1.3125877624721356e-10, 1.3123913403354433e-10, 1.3121954524591553e-10, 1.3119965698919896e-10, 1.3118005246488673e-10, 1.311604701292983e-10, 1.3114095522539887e-10, 1.3112112889253203e-10, 1.3110156614911448e-10, 1.310819062316762e-10, 1.3106217817439817e-10, 1.3104268254793597e-10, 1.3102299705838682e-10, 1.3100333674753137e-10, 1.309837176667869e-10, 1.309641441437412e-10, 1.3094448627207163e-10, 1.3092478189850233e-10, 1.309050456581488e-10, 1.3088575035966823e-10, 1.30866131357607e-10, 1.308465980417878e-10, 1.3082710721501425e-10, 1.3080745548065126e-10, 1.3078784946135405e-10, 1.307682746793737e-10, 1.3074879416012775e-10, 1.3072935306127406e-10, 1.3070986561788743e-10, 1.3069000450695004e-10, 1.306705704109204e-10, 1.3065109075719206e-10, 1.3063164273419768e-10, 1.3061232265044046e-10, 1.3059263629537377e-10, 1.305729072152112e-10, 1.305535038057147e-10, 1.3053410031753474e-10, 1.3051467047040985e-10, 1.304950819975147e-10, 1.3047572689963662e-10, 1.3045611789036957e-10, 1.3043683234863274e-10, 1.3041731980523573e-10, 1.3039787776218106e-10, 1.3037852195615222e-10, 1.3035887887696524e-10, 1.3033948081794108e-10, 1.303199514362927e-10, 1.3030053126722815e-10, 1.3028110677057568e-10, 1.302618151702156e-10, 1.3024258879840895e-10, 1.3022294752894069e-10, 1.3020365883986706e-10, 1.3018419106733473e-10, 1.3016487468169823e-10, 1.3014548394023185e-10, 1.3012601475139803e-10, 1.301067445529277e-10, 1.3008754438269908e-10, 1.3006797148912058e-10, 1.3004857421693072e-10, 1.3002936735861164e-10, 1.300100045497586e-10, 1.2999080689739932e-10, 1.2997134683584192e-10, 1.2995195924171228e-10, 1.2993281029438874e-10, 1.2991326218608695e-10, 1.2989414801683395e-10, 1.2987480991457402e-10, 1.2985542224176102e-10, 1.2983606226551102e-10, 1.2981698271696172e-10, 1.2979761927864133e-10, 1.2977839739178954e-10, 1.297589451198905e-10, 1.297397971954513e-10, 1.2972049827753342e-10, 1.2970123028219872e-10, 1.2968195559877357e-10, 1.296627982323241e-10, 1.2964349671785345e-10, 1.2962443786304317e-10, 1.2960503280119484e-10, 1.2958594664323848e-10, 1.2956660979991327e-10, 1.295473653309205e-10, 1.2952816398044069e-10, 1.2950906861652442e-10, 1.2948994736576377e-10, 1.2947057983590566e-10, 1.2945145795567775e-10, 1.294322691158613e-10, 1.2941300096315974e-10, 1.2939375515654882e-10, 1.2937475617981931e-10, 1.293555394073896e-10, 1.2933647032373495e-10, 1.2931728069708437e-10, 1.2929802135692567e-10, 1.2927897894694952e-10, 1.292597845992939e-10, 1.2924064084507588e-10, 1.292216407667785e-10, 1.292023040021367e-10, 1.2918340574018187e-10, 1.2916419998343053e-10, 1.2914507361824777e-10, 1.2912595543614038e-10, 1.291069821888885e-10, 1.2908795173879192e-10, 1.2906877123941768e-10, 1.2904971702692904e-10, 1.2903060451002776e-10, 1.290115517925239e-10, 1.289925082022966e-10, 1.289734238540589e-10, 1.289543188907658e-10, 1.289353948206499e-10, 1.2891631023636196e-10, 1.2889737318348222e-10, 1.2887842023655214e-10, 1.288594273184458e-10, 1.2884038058088175e-10, 1.288212204605128e-10, 1.2880234698383464e-10, 1.2878331629768777e-10, 1.2876418883093714e-10, 1.287453659476965e-10, 1.287263090599716e-10, 1.2870735776539323e-10, 1.2868831157861316e-10, 1.2866942559127147e-10, 1.2865053976129663e-10, 1.2863156533379345e-10, 1.286125296119079e-10, 1.2859372136378288e-10, 1.2857476070587784e-10, 1.2855582758716909e-10, 1.2853684513395728e-10, 1.285179951836209e-10, 1.284990435743088e-10, 1.2848026679955104e-10, 1.2846133674949552e-10, 1.2844243494678692e-10, 1.284234761772838e-10, 1.2840457823006262e-10, 1.283856931082386e-10, 1.2836682340836452e-10, 1.2834808392954653e-10, 1.2832907094716875e-10, 1.283102617548428e-10, 1.2829128598972151e-10, 1.2827267846299514e-10, 1.2825381647409596e-10, 1.2823492757546789e-10, 1.2821619871891134e-10, 1.281971879396692e-10, 1.2817858182924442e-10, 1.2815970276604348e-10, 1.2814088696431045e-10, 1.2812201726443627e-10, 1.281032160191355e-10, 1.2808441886537244e-10, 1.2806569701164016e-10, 1.2804693219676181e-10, 1.2802817312577301e-10, 1.2800936133689424e-10, 1.2799049895457788e-10, 1.279719435949575e-10, 1.2795312842269178e-10, 1.2793435503132094e-10, 1.2791566764092556e-10, 1.2789686922822786e-10, 1.2787822912656655e-10, 1.2785944888973837e-10, 1.278405894187084e-10, 1.2782200762145974e-10, 1.2780322352914394e-10, 1.2778449003026588e-10, 1.2776585339067491e-10, 1.2774724790971746e-10, 1.2772845051990414e-10, 1.2770990932329887e-10, 1.276911131924203e-10, 1.2767238134589403e-10, 1.2765374478498647e-10, 1.276351734526323e-10, 1.2761647205658864e-10, 1.275977402100623e-10, 1.275789494296561e-10, 1.2756047597947353e-10, 1.2754186742986274e-10, 1.2752313574070332e-10, 1.2750463577420897e-10, 1.2748604060077916e-10, 1.2746746942579187e-10, 1.2744888550409075e-10, 1.2743007143339295e-10, 1.2741149876342068e-10, 1.2739276133037167e-10, 1.273743143965008e-10, 1.2735579106103155e-10, 1.2733715048726968e-10, 1.2731860850383036e-10, 1.2730004456771736e-10, 1.2728137299268905e-10, 1.2726289969987326e-10, 1.2724427722329759e-10, 1.2722571871634046e-10, 1.2720727563795718e-10, 1.2718868754603503e-10, 1.2717015169990218e-10, 1.2715155912302523e-10, 1.2713322801114536e-10, 1.2711451898281015e-10, 1.2709604647682856e-10, 1.2707774707436603e-10, 1.2705914938306695e-10, 1.270406026786225e-10, 1.270220813889219e-10, 1.270037527949113e-10, 1.269850307051289e-10, 1.2696679920645588e-10, 1.2694836383904745e-10, 1.269299700164836e-10, 1.2691149035031101e-10, 1.2689295883176622e-10, 1.268746197728612e-10, 1.2685581380655532e-10, 1.2683756358122882e-10, 1.2681904591096552e-10, 1.268008291260916e-10, 1.2678259440139837e-10, 1.267639297505108e-10, 1.2674546424735344e-10, 1.2672706051067902e-10, 1.2670865897714017e-10, 1.2669038656308995e-10, 1.2667188887841475e-10, 1.2665360993364073e-10, 1.2663518180510685e-10, 1.26616860292604e-10, 1.2659833790133567e-10, 1.265802218312364e-10, 1.2656175278732532e-10, 1.2654346384975732e-10, 1.265251213287818e-10, 1.2650665330775507e-10, 1.2648838994229788e-10, 1.264701715050721e-10, 1.2645166414233647e-10, 1.2643334971134114e-10, 1.264151448863467e-10, 1.2639680275878834e-10, 1.2637837998072682e-10, 1.2636028971878857e-10, 1.2634187048148083e-10, 1.2632367226589352e-10, 1.2630530645462634e-10, 1.2628708337507901e-10, 1.2626864187036412e-10, 1.2625050581467677e-10, 1.2623222694858621e-10, 1.2621393242449556e-10, 1.2619556094802238e-10, 1.261774395274507e-10, 1.2615934548870847e-10, 1.261409707075317e-10, 1.2612277705558263e-10, 1.2610450306786394e-10, 1.2608624505287915e-10, 1.2606792715981345e-10, 1.2604982053172428e-10, 1.2603148910511075e-10, 1.260134230776652e-10, 1.2599521361034897e-10, 1.2597707070920433e-10, 1.2595886257950635e-10, 1.2594071708180884e-10, 1.2592247661322616e-10, 1.2590425817600047e-10, 1.2588610898018237e-10, 1.2586807930447573e-10, 1.2584977258445533e-10, 1.25831616936597e-10, 1.2581342375674835e-10, 1.2579537220705162e-10, 1.2577724803256035e-10, 1.2575912433016963e-10, 1.2574088504183816e-10, 1.2572286992256387e-10, 1.2570475125591174e-10, 1.2568665304694827e-10, 1.2566848528184374e-10, 1.2565036834622682e-10, 1.2563235991504302e-10, 1.2561421449602882e-10, 1.2559624894730767e-10, 1.2557798259188067e-10, 1.2555995291617406e-10, 1.255419580972215e-10, 1.255239087506605e-10, 1.2550579944733514e-10, 1.2548782949234258e-10, 1.254698649665058e-10, 1.2545175117822568e-10, 1.254337228401372e-10, 1.2541568812869192e-10, 1.253976027451255e-10, 1.2537965521490705e-10, 1.2536140176356044e-10, 1.2534351426878968e-10, 1.2532537396419781e-10, 1.253073550681194e-10, 1.2528959842387232e-10, 1.252715367240147e-10, 1.252534831285491e-10, 1.2523565732157778e-10, 1.2521767454118826e-10, 1.251995938786269e-10, 1.2518161511109153e-10, 1.2516364507741562e-10, 1.2514569967164944e-10, 1.2512776056055658e-10, 1.2510989698554482e-10, 1.2509194072146697e-10, 1.250739152159816e-10, 1.2505593967446624e-10, 1.2503798372512208e-10, 1.2502020575766883e-10, 1.2500222832775163e-10, 1.2498440315024765e-10, 1.2496642147142582e-10, 1.2494849510704677e-10, 1.249306433345477e-10, 1.2491276677677196e-10, 1.2489489737918722e-10, 1.2487701342517028e-10, 1.248593212226423e-10, 1.2484141421438392e-10, 1.2482343096189374e-10, 1.2480553315959517e-10, 1.247876134833066e-10, 1.247697579340034e-10, 1.2475191764928327e-10, 1.2473407138462342e-10, 1.247162907419339e-10, 1.2469846926255055e-10, 1.2468053794111616e-10, 1.246627568263261e-10, 1.246449946742398e-10, 1.2462705941863443e-10, 1.2460934219477955e-10, 1.245915914517888e-10, 1.2457379003667703e-10, 1.2455596792782633e-10, 1.2453821671273503e-10, 1.245202040326467e-10, 1.2450275724369854e-10, 1.244845861738903e-10, 1.2446702442846888e-10, 1.244491662039295e-10, 1.2443124322293733e-10, 1.2441365834459123e-10, 1.2439603782265667e-10, 1.2437816449090102e-10, 1.2436020791208953e-10, 1.2434264844848728e-10, 1.243250018823416e-10, 1.2430727804907955e-10, 1.2428942903050005e-10, 1.2427177758598254e-10, 1.242541333016559e-10, 1.242364147401829e-10, 1.24218809954932e-10, 1.242009852495286e-10, 1.2418318469993442e-10, 1.2416562720341763e-10, 1.2414796324823654e-10, 1.241302601087135e-10, 1.241125830920851e-10, 1.2409490143313507e-10, 1.2407728098988407e-10, 1.2405964370838162e-10, 1.240419535516225e-10, 1.2402427236477301e-10, 1.2400665294440637e-10, 1.2398897608514486e-10, 1.2397142873878895e-10, 1.239537259139996e-10, 1.2393618454758334e-10, 1.239186139896191e-10, 1.2390093610747307e-10, 1.2388318127294462e-10, 1.2386569411940318e-10, 1.238480311084231e-10, 1.2383052042853985e-10, 1.238129297276207e-10, 1.2379552188696436e-10, 1.2377773864772206e-10, 1.237602026317782e-10, 1.237425566164165e-10, 1.2372508968451338e-10, 1.237076455708015e-10, 1.236900459786561e-10, 1.236724020877467e-10, 1.2365475575765122e-10, 1.2363716639435012e-10, 1.2361974037782435e-10, 1.2360221931172985e-10, 1.235847773224702e-10, 1.2356707166507784e-10, 1.2354958836702383e-10, 1.2353212324483936e-10, 1.2351451924642266e-10, 1.2349696568407665e-10, 1.2347954202805337e-10, 1.234621644805128e-10, 1.2344443183470813e-10, 1.2342721070980202e-10, 1.2340969161079298e-10, 1.2339211853495938e-10, 1.2337448880706512e-10, 1.2335695884974438e-10, 1.2333966934894836e-10, 1.233220932044615e-10, 1.2330478080679074e-10, 1.2328741789436595e-10, 1.232699706333174e-10, 1.2325243375185596e-10, 1.2323492763561076e-10, 1.2321748871500446e-10, 1.2320016073801704e-10, 1.2318271119514933e-10, 1.2316526558645242e-10, 1.2314802298097325e-10, 1.2313067312999574e-10, 1.231131221642026e-10, 1.230957899383106e-10, 1.2307834968008613e-10, 1.2306090603847476e-10, 1.230436244060205e-10, 1.23026121987896e-10, 1.2300890692161308e-10, 1.2299156100480646e-10, 1.2297415520991894e-10, 1.2295699530071188e-10, 1.2293953568636662e-10, 1.2292213351091636e-10, 1.2290483708597946e-10, 1.228874803895446e-10, 1.2287008246299888e-10, 1.228528498503138e-10, 1.22835380321858e-10, 1.2281809318156444e-10, 1.2280067566284768e-10, 1.2278347035330855e-10, 1.2276632995758897e-10, 1.227489565802696e-10, 1.227316734528303e-10, 1.227143966200645e-10, 1.226969896449257e-10, 1.226798176971557e-10, 1.2266250144399755e-10, 1.2264536388088113e-10, 1.2262797398004398e-10, 1.2261077512254507e-10, 1.2259337058659232e-10, 1.2257613230870114e-10, 1.2255903786409755e-10, 1.2254162656137085e-10, 1.2252445099416357e-10, 1.2250717762346815e-10, 1.22489974202331e-10, 1.2247285552323474e-10, 1.2245561976321297e-10, 1.2243829532697943e-10, 1.224212415617028e-10, 1.224038195580313e-10, 1.2238672196609096e-10, 1.2236966434532679e-10, 1.2235220559649922e-10, 1.2233532816076178e-10, 1.223179883812618e-10, 1.2230098481600564e-10, 1.222836412597015e-10, 1.2226652738029378e-10, 1.2224936802187064e-10, 1.2223224407098546e-10, 1.2221491900528459e-10, 1.2219788050459095e-10, 1.2218081769072128e-10, 1.22163480114357e-10, 1.2214661141247878e-10, 1.2212947723274926e-10, 1.221122646056522e-10, 1.2209539818559326e-10, 1.220781669105263e-10, 1.2206100047059553e-10, 1.2204383772878537e-10, 1.2202678467165954e-10, 1.2200955260975833e-10, 1.219925031720697e-10, 1.2197551432061279e-10, 1.2195843254403941e-10, 1.2194138885024028e-10, 1.2192433539969732e-10, 1.2190717564785706e-10, 1.2188998513080043e-10, 1.218730825163693e-10, 1.2185579175663853e-10, 1.2183893155256944e-10, 1.2182182278758392e-10, 1.2180471842886978e-10, 1.2178775467742298e-10, 1.2177078707048874e-10, 1.2175372441398595e-10, 1.21736707315182e-10, 1.2171973876404676e-10, 1.2170267012760425e-10, 1.2168574973072064e-10, 1.2166872869774584e-10, 1.2165160364529274e-10, 1.2163483054376714e-10, 1.216177829944806e-10, 1.2160071829220893e-10, 1.2158383668625023e-10, 1.2156664483157553e-10, 1.2154980248864235e-10, 1.2153285659833147e-10, 1.2151585720329653e-10, 1.2149897882335794e-10, 1.2148193457877494e-10, 1.2146506705714807e-10, 1.2144812407812355e-10, 1.2143122563391355e-10, 1.2141420342068752e-10, 1.2139731213666848e-10, 1.2138021179080857e-10, 1.2136341893974509e-10, 1.2134644676917271e-10, 1.2132945217382617e-10, 1.2131275610336662e-10, 1.2129596994039362e-10, 1.212788158537594e-10, 1.2126208012685718e-10, 1.2124523030899936e-10, 1.2122834948987487e-10, 1.2121146363501173e-10, 1.2119449933278106e-10, 1.2117768657481286e-10, 1.211607546114669e-10, 1.2114396703219248e-10, 1.2112713979647547e-10, 1.2111019186039566e-10, 1.2109336478204552e-10, 1.2107649002154427e-10, 1.2105960330116344e-10, 1.2104291391879428e-10, 1.2102604860030313e-10, 1.210090799704845e-10, 1.2099230529529055e-10, 1.2097570875935437e-10, 1.2095867828436935e-10, 1.209419931509047e-10, 1.209252608073895e-10, 1.2090826747097778e-10, 1.208916082243576e-10, 1.2087482119586707e-10, 1.2085805903133653e-10, 1.208412584692982e-10, 1.2082447159817442e-10, 1.2080769582141267e-10, 1.2079077385086073e-10, 1.2077419879549757e-10, 1.2075736258987094e-10, 1.20740710346075e-10, 1.2072402914678128e-10, 1.207070927771639e-10, 1.206904916775894e-10, 1.2067372243155132e-10, 1.2065704020937316e-10, 1.206402197404301e-10, 1.2062348975741735e-10, 1.2060691281365224e-10, 1.2059012240177478e-10, 1.2057353609468277e-10, 1.2055674159126756e-10, 1.205400611788081e-10, 1.2052335920709216e-10, 1.2050655478956625e-10, 1.204899791047357e-10, 1.204732975120249e-10, 1.2045661355881165e-10, 1.2043994817488487e-10, 1.2042346675278878e-10, 1.2040659765749363e-10, 1.2038996020618013e-10, 1.2037320221187078e-10, 1.2035665855119124e-10, 1.2034008105664216e-10, 1.2032344549373074e-10, 1.203068114258042e-10, 1.202901899472246e-10, 1.2027354336863467e-10, 1.2025697413584439e-10, 1.2024025194249012e-10, 1.2022363982723718e-10, 1.2020714235372384e-10, 1.2019037483872084e-10, 1.2017386029090592e-10, 1.2015723007846691e-10, 1.20140645659777e-10, 1.2012402882351896e-10, 1.2010740765967302e-10, 1.200909176610844e-10, 1.2007435259851536e-10, 1.200578121638559e-10, 1.200411928097286e-10, 1.2002459603774206e-10, 1.2000822249061163e-10, 1.1999163130514787e-10, 1.1997513422505163e-10, 1.1995849102984872e-10, 1.1994182352146973e-10, 1.1992534280752435e-10, 1.1990882542710632e-10, 1.1989216523628524e-10, 1.1987581379919527e-10, 1.198593093228577e-10, 1.1984273883113271e-10, 1.1982611522810077e-10, 1.1980972665243766e-10, 1.1979314577450154e-10, 1.1977667694175228e-10, 1.1976016443970616e-10, 1.1974365838970032e-10, 1.197270975760358e-10, 1.1971074747656384e-10, 1.196942044453516e-10, 1.1967777707876354e-10, 1.1966113860456563e-10, 1.1964481486403863e-10, 1.1962818779893637e-10, 1.1961171495333282e-10, 1.1959523164283473e-10, 1.1957872032103978e-10, 1.1956235409146728e-10, 1.1954594356313058e-10, 1.195293948667123e-10, 1.1951309260675834e-10, 1.1949645169337448e-10, 1.1948011457666647e-10, 1.1946365062228918e-10, 1.1944714229046422e-10, 1.1943074191228835e-10, 1.1941440762818342e-10, 1.193979511487307e-10, 1.1938146760218237e-10, 1.1936516455539416e-10, 1.1934874875526846e-10, 1.1933218857107126e-10, 1.1931593753402223e-10, 1.1929951229188642e-10, 1.1928328006017422e-10, 1.1926687653466165e-10, 1.1925041376053558e-10, 1.192339661723091e-10, 1.1921772111519981e-10, 1.1920124079467157e-10, 1.1918501257581365e-10, 1.1916866279107545e-10, 1.1915224478781395e-10, 1.1913580585476343e-10, 1.1911954923119178e-10, 1.1910323485399153e-10, 1.1908686791626823e-10, 1.190706692823754e-10, 1.1905411476338423e-10, 1.1903782383384244e-10, 1.1902138120267125e-10, 1.1900512749038603e-10, 1.1898905711046417e-10, 1.18972616367695e-10, 1.1895621355033314e-10, 1.1893992608286176e-10, 1.1892369975240598e-10, 1.1890752574642288e-10, 1.1889129540311264e-10, 1.1887511667612457e-10, 1.1885866389479257e-10, 1.1884249398034725e-10, 1.1882609454637236e-10, 1.1881003415924448e-10, 1.1879359624907842e-10, 1.1877747393810079e-10, 1.1876125484651937e-10, 1.187450703756417e-10, 1.1872872916739605e-10, 1.1871237253720048e-10, 1.1869608908258328e-10, 1.186799245186104e-10, 1.1866364680788278e-10, 1.1864757516902617e-10, 1.1863137283701274e-10, 1.1861505350275715e-10, 1.185988931876888e-10, 1.185827285450324e-10, 1.1856644029072684e-10, 1.185504178290063e-10, 1.18534098730801e-10, 1.1851805494587425e-10, 1.1850178227088535e-10, 1.1848557466708297e-10, 1.184694151388487e-10, 1.184532798451072e-10, 1.1843701448767617e-10, 1.1842092278454808e-10, 1.184048870253299e-10, 1.1838872883471386e-10, 1.1837256096603738e-10, 1.1835623864181195e-10, 1.1834016582270408e-10, 1.183241039405912e-10, 1.1830797919042766e-10, 1.1829194327384275e-10, 1.182757616355682e-10, 1.182595988026304e-10, 1.1824352763587428e-10, 1.1822741862239425e-10, 1.182113260537486e-10, 1.181952891142792e-10, 1.1817925964973452e-10, 1.1816297792615255e-10, 1.1814707466980987e-10, 1.1813096022717409e-10, 1.1811492226482022e-10, 1.1809880207829498e-10, 1.180826783510158e-10, 1.180667018404112e-10, 1.180505873977754e-10, 1.1803454062287878e-10, 1.1801853130128902e-10, 1.1800267053399183e-10, 1.1798651674964714e-10, 1.179704679289817e-10, 1.1795441344311024e-10, 1.1793844897106857e-10, 1.1792227252589947e-10, 1.1790648280972856e-10, 1.1789044209345515e-10, 1.17874361484689e-10, 1.1785831502452602e-10, 1.1784247085943008e-10, 1.178263539776083e-10, 1.1781040894037077e-10, 1.1779432337454925e-10, 1.177782942247382e-10, 1.1776246264898916e-10, 1.1774640493709748e-10, 1.1773043102304565e-10, 1.1771441847543576e-10, 1.1769851490435933e-10, 1.1768258560380539e-10, 1.1766666999416623e-10, 1.176507756290498e-10, 1.1763477622157064e-10, 1.1761866657862323e-10, 1.1760288716998004e-10, 1.1758687084556617e-10, 1.1757092140205723e-10, 1.1755497833190518e-10, 1.1753910237870846e-10, 1.1752313885086785e-10, 1.1750733701745061e-10, 1.174911806365531e-10, 1.1747533316675354e-10, 1.1745949435213002e-10, 1.1744368819112486e-10, 1.1742789123607945e-10, 1.174119915204906e-10, 1.173960823628916e-10, 1.173801337849003e-10, 1.173642547630503e-10, 1.173483234954109e-10, 1.173326424410399e-10, 1.173165766247562e-10, 1.1730073804618286e-10, 1.172849820851982e-10, 1.1726904837837296e-10, 1.172531731333269e-10, 1.1723736760178908e-10, 1.1722148039686361e-10, 1.1720574772617057e-10, 1.1718979442717427e-10, 1.1717404365929511e-10, 1.1715837220430097e-10, 1.1714242315420914e-10, 1.1712647221571544e-10, 1.171107395450224e-10, 1.1709500183859058e-10, 1.1707915948321323e-10, 1.1706338432347458e-10, 1.1704756116685115e-10, 1.1703190371750549e-10, 1.170159785084893e-10, 1.1700006289884998e-10, 1.1698429127986513e-10, 1.169687070847814e-10, 1.1695303177429988e-10, 1.169370296129011e-10, 1.1692124131303172e-10, 1.1690562084489235e-10, 1.168898376594451e-10, 1.168741569984912e-10, 1.168585115877084e-10, 1.1684271581291436e-10, 1.168270058030456e-10, 1.1681113960659266e-10, 1.1679545446068392e-10, 1.1677970841380987e-10, 1.167640410503535e-10, 1.1674836526777143e-10, 1.1673256217541953e-10, 1.1671689984770194e-10, 1.1670124845697938e-10, 1.1668544221729081e-10, 1.1666967146382358e-10, 1.166541862524793e-10, 1.1663837718018768e-10, 1.1662267307157526e-10, 1.166071259363812e-10, 1.165914093171054e-10, 1.1657581150979032e-10, 1.1656004319550899e-10, 1.165442967552178e-10, 1.165287403353805e-10, 1.165131282076834e-10, 1.1649742110910116e-10, 1.1648189545448013e-10, 1.164660235928211e-10, 1.16450541056713e-10, 1.164348182214472e-10, 1.1641924582887597e-10, 1.1640375290655676e-10, 1.163881875168098e-10, 1.1637239008966399e-10, 1.163569217952545e-10, 1.1634118188568698e-10, 1.1632566087338758e-10, 1.1631009524759038e-10, 1.1629456864876837e-10, 1.1627887901790485e-10, 1.1626339231157558e-10, 1.1624769756628988e-10, 1.1623208677621087e-10, 1.1621649793880542e-10, 1.1620098440143073e-10, 1.1618536503485917e-10, 1.1616996283452056e-10, 1.1615442128584917e-10, 1.1613874990953857e-10, 1.1612320214487713e-10, 1.1610772267742229e-10, 1.160921842760876e-10, 1.1607664154716498e-10, 1.1606102084297533e-10, 1.1604543531027344e-10, 1.1603010486921184e-10, 1.1601440398661953e-10, 1.1599897660758726e-10, 1.159834261676896e-10, 1.15967974239431e-10, 1.1595227847126085e-10, 1.1593684707937427e-10, 1.1592151215335779e-10, 1.1590605865143083e-10, 1.1589051788959362e-10, 1.1587496792179654e-10, 1.1585937310445133e-10, 1.1584390717054432e-10, 1.1582853140783413e-10, 1.158132230768128e-10, 1.1579773975387055e-10, 1.1578219191052571e-10, 1.1576666090543228e-10, 1.1575126256058115e-10, 1.1573586728438328e-10, 1.1572030338962121e-10, 1.1570487199773463e-10, 1.1568944957575772e-10, 1.1567403557290645e-10, 1.1565849874524009e-10, 1.1564309465649943e-10, 1.1562776177625189e-10, 1.1561246052673815e-10, 1.1559700954268054e-10, 1.1558152220688396e-10, 1.155661844482645e-10, 1.1555074786327231e-10, 1.1553523346037998e-10, 1.1551983723998116e-10, 1.1550467046042835e-10, 1.1548916864688285e-10, 1.154737752590871e-10, 1.154583725866479e-10, 1.1544306181644069e-10, 1.154276581211171e-10, 1.1541225426842678e-10, 1.1539701297567744e-10, 1.153816501170477e-10, 1.1536635319512199e-10, 1.1535095595183869e-10, 1.153355827069978e-10, 1.1532024746624773e-10, 1.1530476579565714e-10, 1.152895832794208e-10, 1.1527421507031867e-10, 1.15258858821096e-10, 1.1524342270820436e-10, 1.1522834743746637e-10, 1.1521305767573168e-10, 1.1519766137664938e-10, 1.1518220622237062e-10, 1.1516687357817326e-10, 1.1515171309329385e-10, 1.1513632497728708e-10, 1.1512105079486907e-10, 1.1510589314259276e-10, 1.1509048716545002e-10, 1.1507522203162514e-10, 1.150598464262817e-10, 1.1504477052607644e-10, 1.1502941388343667e-10, 1.1501416015870728e-10, 1.1499899621175754e-10, 1.1498365884655518e-10, 1.1496831070172448e-10, 1.1495320002344852e-10, 1.1493787414602512e-10, 1.1492263954136623e-10, 1.149075911016737e-10, 1.148921829213954e-10, 1.1487699379575196e-10, 1.1486188516324486e-10, 1.1484659571624383e-10, 1.1483144868622887e-10, 1.1481612894611207e-10, 1.1480087876213644e-10, 1.1478572984371955e-10, 1.1477049980269889e-10, 1.1475523553439159e-10, 1.1474012178746232e-10, 1.147250467527746e-10, 1.1470972661924069e-10, 1.1469449004749641e-10, 1.1467942374666813e-10, 1.1466432927717612e-10, 1.146489577633704e-10, 1.146338815484315e-10, 1.14618725548507e-10, 1.1460356766018042e-10, 1.1458836665334088e-10, 1.1457327344278359e-10, 1.1455818959555315e-10, 1.1454291218711509e-10, 1.1452781740288944e-10, 1.1451288124443399e-10, 1.144975552883272e-10, 1.144825067699512e-10, 1.1446740750077089e-10, 1.1445230838895732e-10, 1.1443707952818797e-10, 1.1442202384962102e-10, 1.1440694857888312e-10, 1.1439182247865727e-10, 1.1437669102795903e-10, 1.1436160167288927e-10, 1.1434672374016297e-10, 1.1433150030854943e-10, 1.1431639726256498e-10, 1.1430140445204877e-10, 1.1428633492520034e-10, 1.1427114037040104e-10, 1.1425601906986368e-10, 1.1424097661011095e-10, 1.1422595075255928e-10, 1.1421107470823496e-10, 1.1419599566069296e-10, 1.1418092172757312e-10, 1.1416581726528721e-10, 1.1415078888986613e-10, 1.14135820392526e-10, 1.1412085756039199e-10, 1.141058161235237e-10, 1.140906652380213e-10, 1.1407562852215797e-10, 1.140606705683958e-10, 1.1404549135686308e-10, 1.1403057305954348e-10, 1.1401568017696776e-10, 1.1400058901217939e-10, 1.1398556276121064e-10, 1.1397069993570055e-10, 1.1395576550828036e-10, 1.1394065459395414e-10, 1.1392572063863441e-10, 1.1391066440928349e-10, 1.1389576538940123e-10, 1.1388063810892416e-10, 1.1386578464674075e-10, 1.138508518716723e-10, 1.1383586622134712e-10, 1.1382086538512238e-10, 1.1380600012042638e-10, 1.1379095443465345e-10, 1.1377603684548456e-10, 1.1376107566570226e-10, 1.1374623251104664e-10, 1.137313046930335e-10, 1.137162837138537e-10, 1.1370139807015238e-10, 1.1368648213333538e-10, 1.1367160522349343e-10, 1.1365665435123896e-10, 1.1364167979527564e-10, 1.1362678903715212e-10, 1.1361198719129081e-10, 1.1359709352188099e-10, 1.135822891581503e-10, 1.1356709397388362e-10, 1.1355235019638453e-10, 1.1353763081074495e-10, 1.1352274272785772e-10, 1.1350782734182464e-10, 1.134928828429269e-10, 1.1347803646225105e-10, 1.134631933075954e-10, 1.1344827957391405e-10, 1.1343348693401253e-10, 1.1341861096837156e-10, 1.1340374633314286e-10, 1.1338891387943207e-10, 1.1337409818528919e-10, 1.1335922056729649e-10, 1.1334434593927372e-10, 1.1332950986612569e-10, 1.133147737996015e-10, 1.1330000051582073e-10, 1.1328506388526481e-10, 1.1327022293374479e-10, 1.1325537458598358e-10, 1.1324053198211177e-10, 1.1322580150211028e-10, 1.1321106331113382e-10, 1.1319626240947345e-10, 1.1318141539933036e-10, 1.1316662519861481e-10, 1.1315187953271366e-10, 1.1313706612038985e-10, 1.1312231242878016e-10, 1.1310765638329178e-10, 1.1309286295655611e-10, 1.1307799312822182e-10, 1.1306309159047023e-10, 1.1304830799916172e-10, 1.1303374621640787e-10, 1.1301894586553139e-10, 1.1300424843256533e-10, 1.1298956067765966e-10, 1.1297474215091372e-10, 1.1296000372388707e-10, 1.1294529283605659e-10, 1.1293057683380393e-10, 1.1291575563182183e-10, 1.1290101618191069e-10, 1.1288641663111631e-10, 1.1287176326086413e-10, 1.1285694693725394e-10, 1.1284232094883117e-10, 1.1282756544750281e-10, 1.1281285322205423e-10, 1.1279817372890747e-10, 1.1278342829905655e-10, 1.1276865454317528e-10, 1.1275397662369685e-10, 1.1273941192965651e-10, 1.1272473338071073e-10, 1.1271018701990669e-10, 1.1269549879290051e-10, 1.1268075721853711e-10, 1.1266605844795299e-10, 1.1265137612220307e-10, 1.1263685037645456e-10, 1.1262205482526661e-10, 1.1260750736289471e-10, 1.1259278183994859e-10, 1.1257829362619028e-10, 1.1256362687975714e-10, 1.1254895785150482e-10, 1.1253433548251929e-10, 1.1251972420789574e-10, 1.1250516510037803e-10, 1.1249056853955346e-10, 1.1247580713696879e-10, 1.1246126014669749e-10, 1.1244662274917916e-10, 1.1243212666707901e-10, 1.124173597566551e-10, 1.1240293527646523e-10, 1.1238836114041473e-10, 1.1237369077454435e-10, 1.1235926487805283e-10, 1.1234479295176204e-10, 1.1233004366642373e-10, 1.1231547653319737e-10, 1.1230098477868528e-10, 1.1228642677273545e-10, 1.1227188788685611e-10, 1.1225739211948968e-10, 1.1224276235426287e-10, 1.1222818876899623e-10, 1.1221359378184011e-10, 1.1219901626240276e-10, 1.1218447045238268e-10, 1.1216995336181004e-10, 1.1215544705086562e-10, 1.1214095592582086e-10, 1.1212649092367077e-10, 1.1211200758828433e-10, 1.1209752968205373e-10, 1.1208294476637505e-10, 1.1206843585887787e-10, 1.120539291545164e-10, 1.12039403644818e-10, 1.1202499199002519e-10, 1.1201052069320173e-10, 1.1199603090577505e-10, 1.1198158093215766e-10, 1.1196699381334333e-10, 1.1195254124317322e-10, 1.1193817333636058e-10, 1.119235395582795e-10, 1.1190917149410004e-10, 1.1189475677065387e-10, 1.118803164750969e-10, 1.1186595384007334e-10, 1.1185140071249538e-10, 1.1183697489468734e-10, 1.1182238753982272e-10, 1.1180804732957311e-10, 1.1179361679075996e-10, 1.1177914643813745e-10, 1.1176464280242921e-10, 1.117503181714964e-10, 1.1173587158126607e-10, 1.11721406579116e-10, 1.1170694936662426e-10, 1.116925219751478e-10, 1.1167806051375154e-10, 1.1166375500288916e-10, 1.1164935090170435e-10, 1.116350212350328e-10, 1.1162054026014891e-10, 1.1160622011417082e-10, 1.1159180869542825e-10, 1.1157739397198209e-10, 1.1156291881967108e-10, 1.1154874982453844e-10, 1.1153422085276978e-10, 1.1151989346791726e-10, 1.1150552556110462e-10, 1.1149125057940836e-10, 1.114767063430566e-10, 1.1146246582469737e-10, 1.1144808273198509e-10, 1.1143375597659988e-10, 1.1141945093783811e-10, 1.1140506934011082e-10, 1.1139080741986182e-10, 1.1137631991425427e-10, 1.1136207160623664e-10, 1.1134776979349493e-10, 1.1133341534154674e-10, 1.1131907898678456e-10, 1.1130494823179297e-10, 1.1129047370894939e-10, 1.112762302793036e-10, 1.1126169194420817e-10, 1.11247514372583e-10, 1.1123330139341998e-10, 1.112189699170297e-10, 1.1120466346196639e-10, 1.1119030365954579e-10, 1.1117614339827255e-10, 1.1116184906045545e-10, 1.1114762183959376e-10, 1.1113324228763534e-10, 1.1111902616113553e-10, 1.1110477179449467e-10, 1.1109049209179333e-10, 1.1107616879847857e-10, 1.1106211609743737e-10, 1.1104777148091636e-10, 1.1103359359455759e-10, 1.110192652655041e-10, 1.1100505677129585e-10, 1.109907274980413e-10, 1.1097646203703858e-10, 1.1096241555198737e-10, 1.1094819981890463e-10, 1.109339424622939e-10, 1.1091961240220519e-10, 1.1090535174089095e-10, 1.1089126079970878e-10, 1.1087703169044498e-10, 1.1086277693038703e-10, 1.1084863405814914e-10, 1.1083436655137754e-10, 1.1082024161895885e-10, 1.1080604846801699e-10, 1.1079184626848214e-10, 1.1077767074262589e-10, 1.1076357193310192e-10, 1.1074939058467271e-10, 1.1073523166101754e-10, 1.1072104315239731e-10, 1.1070677320643982e-10, 1.1069256321724665e-10, 1.1067851389959238e-10, 1.1066453940986837e-10, 1.1065037364075584e-10, 1.1063613925970317e-10, 1.1062197954921388e-10, 1.1060792960209229e-10, 1.1059377894019599e-10, 1.1057958641872144e-10, 1.1056557730829365e-10, 1.1055137778399502e-10, 1.1053728149234043e-10, 1.1052319157404261e-10, 1.1050903603377439e-10, 1.1049501095061278e-10, 1.1048087264201317e-10, 1.1046680617137387e-10, 1.1045263473705528e-10, 1.1043847101371164e-10, 1.1042440485780595e-10, 1.104104159690166e-10, 1.103962701068088e-10, 1.1038215406561634e-10, 1.1036803574260473e-10, 1.1035404504409668e-10, 1.1033993443206001e-10, 1.1032584238930994e-10, 1.1031174121928346e-10, 1.1029779112141895e-10, 1.1028361000904002e-10, 1.1026965322308505e-10, 1.1025569053587372e-10, 1.1024154349341467e-10, 1.102274139973578e-10, 1.1021337671826646e-10, 1.1019936752915523e-10, 1.101852868168173e-10, 1.1017136008792788e-10, 1.1015742446781224e-10, 1.1014327388459934e-10, 1.1012921441678423e-10, 1.1011519743801469e-10, 1.1010123058058225e-10, 1.1008720848739049e-10, 1.1007305538630829e-10, 1.1005921662547995e-10, 1.1004514928932301e-10, 1.1003120705980031e-10, 1.1001723752713162e-10, 1.1000337059763962e-10, 1.09989267145794e-10, 1.0997526110401949e-10, 1.0996130180019516e-10, 1.0994735665938601e-10, 1.0993336950163174e-10, 1.099193939103399e-10, 1.0990542067955058e-10, 1.0989145681208803e-10, 1.098774843681329e-10, 1.0986356228156513e-10, 1.0984974586682741e-10, 1.0983579860156591e-10, 1.0982172748860493e-10, 1.098079197290431e-10, 1.0979403320738017e-10, 1.0978010663585757e-10, 1.097660416602032e-10, 1.0975218464482185e-10, 1.0973833762223459e-10, 1.0972429515003773e-10, 1.0971025897251424e-10, 1.096963747326704e-10, 1.096825226743444e-10, 1.0966867746147569e-10, 1.0965461579052483e-10, 1.0964077396104318e-10, 1.096269547923858e-10, 1.0961316229740702e-10, 1.0959910094118988e-10, 1.0958520867563737e-10, 1.0957151658069966e-10, 1.0955751958751815e-10, 1.0954364345206631e-10, 1.0952972112944828e-10, 1.0951589794793656e-10, 1.0950206461626402e-10, 1.0948819493285246e-10, 1.0947435208048636e-10, 1.094604778334365e-10, 1.0944663820709053e-10, 1.0943286648453404e-10, 1.0941909098517344e-10, 1.0940508903493667e-10, 1.0939131676159629e-10, 1.0937739223584251e-10, 1.093636290897785e-10, 1.0934975783269864e-10, 1.0933597643208173e-10, 1.0932213672705235e-10, 1.0930833439664633e-10, 1.0929454607188863e-10, 1.092809148779162e-10, 1.0926694455841344e-10, 1.0925321784277188e-10, 1.0923932817377224e-10, 1.0922569265221177e-10, 1.0921172485057827e-10, 1.0919792889352912e-10, 1.0918425717759653e-10, 1.0917041471864751e-10, 1.091566186829149e-10, 1.0914282028667974e-10, 1.0912911709738007e-10, 1.091153672488137e-10, 1.0910158742186517e-10, 1.0908777761653454e-10, 1.0907394782561581e-10, 1.0906020010150171e-10, 1.0904658834233337e-10, 1.0903285202731485e-10, 1.090190592962858e-10, 1.0900541181484594e-10, 1.0899176818889348e-10, 1.0897793139515042e-10, 1.089642003519209e-10, 1.0895062856392884e-10, 1.089367090739139e-10, 1.0892305820908699e-10, 1.0890939412544592e-10, 1.088956809433522e-10, 1.0888194266124828e-10, 1.0886828235441127e-10, 1.0885459128235787e-10, 1.0884073631274543e-10, 1.0882706609179782e-10, 1.0881340263762416e-10, 1.0879972761698796e-10, 1.0878623042087593e-10, 1.087723599506302e-10, 1.0875869956510976e-10, 1.0874515657524859e-10, 1.0873145590381828e-10, 1.0871758771539165e-10, 1.087040042822538e-10, 1.086903508995575e-10, 1.0867670585730356e-10, 1.0866313241695969e-10, 1.0864941333360963e-10, 1.0863567229758608e-10, 1.0862213450083051e-10, 1.0860834357952007e-10, 1.0859462913849163e-10, 1.0858115224270135e-10, 1.0856760209264921e-10, 1.0855387435412317e-10, 1.0854019532063279e-10, 1.0852675666498343e-10, 1.0851310060705101e-10, 1.0849948090085755e-10, 1.0848584506456347e-10, 1.0847232725339594e-10, 1.0845850383583401e-10, 1.0844517525828607e-10, 1.08431526596595e-10, 1.0841800351363848e-10, 1.0840436161872122e-10, 1.0839084475175478e-10, 1.0837709427372103e-10, 1.083634716562411e-10, 1.0834997225699332e-10, 1.0833628307334197e-10, 1.0832274291608383e-10, 1.0830919276603166e-10, 1.0829567936113556e-10, 1.0828202047060009e-10, 1.0826856678641802e-10, 1.0825493386141038e-10, 1.0824151361768087e-10, 1.0822800627140792e-10, 1.0821442189406902e-10, 1.082009608136457e-10, 1.0818745803101104e-10, 1.0817386491981269e-10, 1.0816028487006177e-10, 1.0814675588584894e-10, 1.0813319676588715e-10, 1.0811970657259926e-10, 1.0810618506331108e-10, 1.0809270966250573e-10, 1.080793207347765e-10, 1.0806558984891372e-10, 1.0805213097162608e-10, 1.0803868004136373e-10, 1.0802517426875908e-10, 1.080116710140239e-10, 1.0799824235116867e-10, 1.0798457952646229e-10, 1.0797116644292382e-10, 1.0795773636376701e-10, 1.0794411925412631e-10, 1.0793063283764253e-10, 1.0791714925376172e-10, 1.0790385608375182e-10, 1.0789029924560914e-10, 1.0787701111133801e-10, 1.0786351910833142e-10, 1.0784992788553523e-10, 1.0783646798536321e-10, 1.0782307126797557e-10, 1.0780968501548245e-10, 1.077962727187781e-10, 1.0778286089417428e-10, 1.0776931585854427e-10, 1.07755954233961e-10, 1.0774252171561826e-10, 1.0772916898226117e-10, 1.0771575141376785e-10, 1.0770221322359517e-10, 1.076888036808104e-10, 1.0767557809985638e-10, 1.0766208224136238e-10, 1.0764863288476833e-10, 1.0763522924323992e-10, 1.0762181214684711e-10, 1.0760846020032418e-10, 1.0759503704530819e-10, 1.0758161821788017e-10, 1.0756833960430256e-10, 1.075548655411153e-10, 1.0754148762906455e-10, 1.0752809704898353e-10, 1.0751487209749679e-10, 1.0750149662463195e-10, 1.0748805120220875e-10, 1.0747466329736387e-10, 1.0746122031412664e-10, 1.0744774357570315e-10, 1.0743449533392475e-10, 1.0742120428836717e-10, 1.0740787421583437e-10, 1.0739443272758206e-10, 1.0738112264063734e-10, 1.0736773347685783e-10, 1.073545100990395e-10, 1.073410957565663e-10, 1.0732783036180285e-10, 1.0731453160527025e-10, 1.0730120161142083e-10, 1.0728777286988228e-10, 1.0727450912747058e-10, 1.0726115796778179e-10, 1.0724775369678606e-10, 1.0723456257916899e-10, 1.0722122534644516e-10, 1.072079452378826e-10, 1.0719450201859508e-10, 1.0718147920480854e-10, 1.0716801497704856e-10, 1.0715481740739122e-10, 1.0714146648375267e-10, 1.071283162028294e-10, 1.0711510179492059e-10, 1.0710175826752336e-10, 1.0708843330941268e-10, 1.0707518640525242e-10, 1.0706184232707124e-10, 1.0704875121607811e-10, 1.0703538833256015e-10, 1.0702215071304313e-10, 1.070088599822192e-10, 1.0699557169058124e-10, 1.0698240354852204e-10, 1.0696907410545659e-10, 1.0695588881041238e-10, 1.0694272239938844e-10, 1.0692932709830236e-10, 1.0691615179605219e-10, 1.0690295485586225e-10, 1.0688966617080715e-10, 1.0687651549646672e-10, 1.0686324042364288e-10, 1.068500485191916e-10, 1.0683685850314236e-10, 1.068236631366207e-10, 1.0681045171868183e-10, 1.0679729404151719e-10, 1.0678409481950802e-10, 1.067708641241319e-10, 1.0675777356392264e-10, 1.0674446481459604e-10, 1.0673123616498865e-10, 1.0671814135587488e-10, 1.0670495873606688e-10, 1.0669187974232006e-10, 1.066785730387623e-10, 1.0666543715690444e-10, 1.0665216224144745e-10, 1.0663888795545786e-10, 1.0662585774542997e-10, 1.0661279370153251e-10, 1.0659964900713178e-10, 1.0658652453436956e-10, 1.065734750469044e-10, 1.0656020595402027e-10, 1.065470940706048e-10, 1.0653392868246536e-10, 1.0652065644224453e-10, 1.0650775865640874e-10, 1.0649471821753657e-10, 1.0648149704285392e-10, 1.0646833865753853e-10, 1.0645520694590182e-10, 1.0644198459096788e-10, 1.0642903967376489e-10, 1.0641594462860084e-10, 1.0640283888249193e-10, 1.0638976996022254e-10, 1.0637682307593406e-10, 1.0636363612853814e-10, 1.0635055202036914e-10, 1.0633732439364618e-10, 1.0632420865474326e-10, 1.0631121644880615e-10, 1.0629803437978212e-10, 1.0628506916225734e-10, 1.0627192753650997e-10, 1.0625880935842108e-10, 1.0624578772488578e-10, 1.0623278064778272e-10, 1.0621962816372377e-10, 1.0620662092925387e-10, 1.0619354500416027e-10, 1.0618046042389077e-10, 1.0616743965587307e-10, 1.0615443438848861e-10, 1.0614119519530326e-10, 1.061283376166939e-10, 1.0611521857308746e-10, 1.0610212038058669e-10, 1.0608894712410542e-10, 1.0607608183452113e-10, 1.0606305406367923e-10, 1.0604997184391224e-10, 1.060369909683873e-10, 1.0602392432793706e-10, 1.0601095037655284e-10, 1.059979526627765e-10, 1.0598489247436653e-10, 1.059718959408415e-10, 1.0595895975749781e-10, 1.0594577879004157e-10, 1.0593291058917078e-10, 1.0591982742520282e-10, 1.0590691413873376e-10, 1.0589391673969106e-10, 1.058808600133514e-10, 1.0586804209118459e-10, 1.0585514013512764e-10, 1.0584191817361079e-10, 1.0582904218308164e-10, 1.0581613109974817e-10, 1.0580329342804356e-10, 1.0579022041423648e-10, 1.0577714228600727e-10, 1.0576424402807097e-10, 1.0575117589263573e-10, 1.0573823121148297e-10, 1.0572540565702461e-10, 1.0571236002504687e-10, 1.0569944524359276e-10, 1.056865561129329e-10, 1.0567370301927833e-10, 1.0566070066318041e-10, 1.0564771388639913e-10, 1.0563472050021078e-10, 1.0562168328735879e-10, 1.0560889849091083e-10, 1.055960028295273e-10, 1.0558307357032433e-10, 1.055701564283678e-10, 1.0555712739859118e-10, 1.055443376450879e-10, 1.0553127242093918e-10, 1.0551847385489312e-10, 1.0550567363649529e-10, 1.0549272690957364e-10, 1.0547972227165657e-10, 1.0546690678867567e-10, 1.0545397697868881e-10, 1.0544120178161786e-10, 1.0542838637732046e-10, 1.0541534326321203e-10, 1.0540248237989917e-10, 1.05389619922918e-10, 1.0537685495469124e-10, 1.0536402955759966e-10, 1.0535090972715904e-10, 1.053381471981183e-10, 1.0532530134333829e-10, 1.053124869619252e-10, 1.0529974512662332e-10, 1.0528684230504869e-10, 1.0527394538473049e-10, 1.0526108977320666e-10]\n"
     ]
    }
   ],
   "source": [
    "print(train_losses_ortho)"
   ]
  },
  {
   "cell_type": "code",
   "execution_count": 77,
   "id": "f1eaad3b",
   "metadata": {},
   "outputs": [
    {
     "data": {
      "image/png": "[encoded data removed]",
      "text/plain": [
       "<Figure size 640x480 with 1 Axes>"
      ]
     },
     "metadata": {},
     "output_type": "display_data"
    }
   ],
   "source": [
    "plt.plot(train_losses_ortho,label=\"Training Loss\")\n",
    "plt.plot(test_losses_ortho,label=\"Test Loss\")\n",
    "plt.xlabel(\"Epoch\")\n",
    "plt.ylabel(\"Log Loss\")\n",
    "plt.yscale(\"log\")\n",
    "plt.title(\"Traing and Test loss with using Ortho-grad and no weight decay\")\n",
    "plt.legend()\n",
    "plt.show()"
   ]
  },
  {
   "cell_type": "code",
   "execution_count": null,
   "id": "af28d974",
   "metadata": {},
   "outputs": [],
   "source": []
  }
 ],
 "metadata": {
  "kernelspec": {
   "display_name": "ncl",
   "language": "python",
   "name": "python3"
  },
  "language_info": {
   "codemirror_mode": {
    "name": "ipython",
    "version": 3
   },
   "file_extension": ".py",
   "mimetype": "text/x-python",
   "name": "python",
   "nbconvert_exporter": "python",
   "pygments_lexer": "ipython3",
   "version": "3.12.11"
  }
 },
 "nbformat": 4,
 "nbformat_minor": 5
}
