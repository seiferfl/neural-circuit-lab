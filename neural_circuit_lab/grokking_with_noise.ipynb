{
 "cells": [
  {
   "cell_type": "markdown",
   "id": "ce9371d6",
   "metadata": {},
   "source": [
    "# Grokking on modular addition with noise\n",
    "The idea is to take the standard grokking setup, i.e. modular addition and to introduce some noise in the labels."
   ]
  },
  {
   "cell_type": "markdown",
   "id": "8cedf194",
   "metadata": {},
   "source": []
  },
  {
   "cell_type": "code",
   "execution_count": 6,
   "id": "c35b415c",
   "metadata": {},
   "outputs": [],
   "source": [
    "# Import stuff\n",
    "import numpy as np\n",
    "import torch as t\n",
    "import torch.nn as nn\n",
    "import torch.optim as optim\n",
    "import torch.nn.functional as F\n",
    "import einops"
   ]
  },
  {
   "cell_type": "code",
   "execution_count": 7,
   "id": "dd6a570f",
   "metadata": {},
   "outputs": [
    {
     "name": "stdout",
     "output_type": "stream",
     "text": [
      "Using cpu device\n"
     ]
    }
   ],
   "source": [
    "# Setup\n",
    "p = 97\n",
    "train_frac  = 0.3\n",
    "device = t.accelerator.current_accelerator().type if t.accelerator.is_available() else \"cpu\"\n",
    "device = \"cpu\"  # for the experiment we use cpu since mps cannot deal with float64 apparently\n",
    "print(f\"Using {device} device\")"
   ]
  },
  {
   "cell_type": "code",
   "execution_count": 8,
   "id": "e25ef548",
   "metadata": {},
   "outputs": [],
   "source": [
    "# Parameters for the noise: to each label, we add independently a random number distributed as X = Bin(p=1/2,n)-n/2\n",
    "n = 4\n",
    "p_bin = 0.5"
   ]
  },
  {
   "cell_type": "markdown",
   "id": "7ff0e445",
   "metadata": {},
   "source": [
    "## Generating a noisy Dataset\n"
   ]
  },
  {
   "cell_type": "code",
   "execution_count": 22,
   "id": "a349f193",
   "metadata": {},
   "outputs": [
    {
     "name": "stdout",
     "output_type": "stream",
     "text": [
      "tensor([[55,  9],\n",
      "        [51, 84],\n",
      "        [45,  6],\n",
      "        ...,\n",
      "        [52, 10],\n",
      "        [69, 30],\n",
      "        [22, 12]])\n",
      "tensor([65, 36, 52,  ..., 62,  0, 35])\n"
     ]
    }
   ],
   "source": [
    "a_vec = einops.repeat(t.arange(p),\"i -> (i j)\",j=p)\n",
    "b_vec = einops.repeat(t.arange(p),\"j -> (i j)\",i=p)\n",
    "\n",
    "# The dataset consists of pairs (x,y) with x = (a,b) and y = a+b mod p\n",
    "dataset = t.stack([a_vec,b_vec],dim=1).to(device=device)\n",
    "\n",
    "\n",
    "#Introduce noise:\n",
    "noise = t.tensor(np.random.binomial(n=n,p=p_bin,size= labels.shape)-int(n/2)).to(device)\n",
    "labels = (dataset[:,0] + dataset[:,1] + noise) % p  #Labels with noise\n",
    "\n",
    "# we randomly permute the dataset and split it into train and test dataset\n",
    "indices = t.randperm(p**2)\n",
    "train_indices = indices[:int(train_frac*p**2)]\n",
    "test_indices = indices[int(train_frac*p**2):]\n",
    "\n",
    "train_dataset = dataset[train_indices]\n",
    "train_labels = labels[train_indices]\n",
    "\n",
    "test_dataset = dataset[test_indices]\n",
    "test_labels = labels[test_indices]\n",
    "print(train_dataset)\n",
    "print(train_labels)"
   ]
  },
  {
   "cell_type": "markdown",
   "id": "4152ebe8",
   "metadata": {},
   "source": [
    "## Model architecture\n",
    "\n",
    "We take a simple one-layer MLP with a learned embedding and unembedding\n",
    "The architecture is:\n",
    "\n",
    "0. Token: the tokens $t_0,t_1$ are one hot encoded d_vocab dimensional vectors and the input sequence is $$t = (t_0,t_1)^T$$\n",
    "1. Embedding: The tokens are embedded in the d_model dimensional space by a learnable matrix W_E $$x_0 = Embed(t) = t @W_E$$\n",
    "2. Concat: We concatenate the n_ctx(=2) vectors to form a d_model * n_ctx dimensional vector $$x_1 = flat(x_0)$$\n",
    "3. MLP layer: A simple mlp with one hidden layer that is d_mlp = 4*d_model*n_ctx dimensional with ReLU activation function and bias:\n",
    "$$x_2 = ReLU(x_1 @ W_{in} + b_{in}) @ W_{out}$$\n",
    "4. Unembedding: a learned unembedding matrix W_U that maps back to the vocab.\n",
    "$$x_3 = x_2 @ W_U$$"
   ]
  },
  {
   "cell_type": "code",
   "execution_count": 23,
   "id": "b49349e4",
   "metadata": {},
   "outputs": [],
   "source": [
    "#Config for the transformer architecture\n",
    "d_vocab = p   #The input consists of the numbers from 0 to p-1 and p for the equal sign\n",
    "d_model = 128   #dimension of the model\n",
    "n_ctx = 2       #context length (a,b,=) where = is encoded as 97\n",
    "d_mlp = 2 * d_model * n_ctx\n",
    "act_type = \"ReLU\"   #or GeLU"
   ]
  },
  {
   "cell_type": "code",
   "execution_count": 24,
   "id": "8dcbfaa6",
   "metadata": {},
   "outputs": [],
   "source": [
    "from models.simple_models import SimpleMLP\n",
    "import tqdm"
   ]
  },
  {
   "cell_type": "code",
   "execution_count": 25,
   "id": "cbea40b3",
   "metadata": {},
   "outputs": [],
   "source": [
    "simpleMLP = SimpleMLP(d_model=d_model,d_vocab=d_vocab,n_ctx=n_ctx,act_type=\"ReLU\")"
   ]
  },
  {
   "cell_type": "markdown",
   "id": "c852e7a5",
   "metadata": {},
   "source": [
    "## Training\n"
   ]
  },
  {
   "cell_type": "code",
   "execution_count": 26,
   "id": "13b9da9a",
   "metadata": {},
   "outputs": [],
   "source": [
    "#training parameters\n",
    "n_epoch = 20000\n",
    "lr = 1e-3\n",
    "wd = 1.\n",
    "DATA_SEED = 346\n",
    "betas = (0.9,0.98)"
   ]
  },
  {
   "cell_type": "code",
   "execution_count": 27,
   "id": "f5720581",
   "metadata": {},
   "outputs": [],
   "source": [
    "optimizer = t.optim.AdamW(simpleMLP.parameters(),lr=lr, betas=betas,weight_decay=wd)\n",
    "#Define cross entropy loss\n",
    "def loss_fn(logits,labels):\n",
    "    if len(logits.shape) == 3:\n",
    "        logits = logits[:,-1]\n",
    "    logits = logits.to(t.float64)   #change to 64 to prevent slingshots\n",
    "    log_probs = logits.log_softmax(dim=-1)\n",
    "    correct_log_probs = log_probs.gather(dim=-1,index = labels[:,None])[:,0]\n",
    "    return -correct_log_probs.mean()"
   ]
  },
  {
   "cell_type": "code",
   "execution_count": null,
   "id": "7a7f1d1a",
   "metadata": {},
   "outputs": [
    {
     "name": "stderr",
     "output_type": "stream",
     "text": [
      "Training:  50%|█████     | 10083/20000 [05:41<05:42, 28.94epoch/s, test=14.384149091870109, train=7.701885993978802e-07]"
     ]
    }
   ],
   "source": [
    "train_losses, test_losses = [], []\n",
    "\n",
    "pbar = tqdm.tqdm(range(1, n_epoch + 1), desc=\"Training\", unit=\"epoch\",\n",
    "            dynamic_ncols=True, leave=True)\n",
    "\n",
    "for epoch in pbar:\n",
    "    # --- train ---\n",
    "    simpleMLP.train()\n",
    "    optimizer.zero_grad()\n",
    "    train_logits = simpleMLP(train_dataset)\n",
    "    train_loss = loss_fn(train_logits, train_labels)\n",
    "    train_loss.backward()\n",
    "    optimizer.step()\n",
    "\n",
    "    # --- eval ---\n",
    "    simpleMLP.eval()\n",
    "    with t.inference_mode():\n",
    "        test_logits = simpleMLP(test_dataset)\n",
    "        test_loss = loss_fn(test_logits, test_labels)\n",
    "\n",
    "    train_losses.append(train_loss.item())\n",
    "    test_losses.append(test_loss.item())\n",
    "\n",
    "    # show inline, keeps a single moving bar\n",
    "    pbar.set_postfix(train=f\"{train_loss.item()}\",\n",
    "                     test=f\"{test_loss.item()}\")\n",
    "# Final summary line\n",
    "print(f\"Final — Train: {train_losses[-1]:.4f} | Test: {test_losses[-1]:.4f}\")"
   ]
  },
  {
   "cell_type": "code",
   "execution_count": null,
   "id": "d094fe9c",
   "metadata": {},
   "outputs": [],
   "source": []
  }
 ],
 "metadata": {
  "kernelspec": {
   "display_name": "ncl",
   "language": "python",
   "name": "python3"
  },
  "language_info": {
   "codemirror_mode": {
    "name": "ipython",
    "version": 3
   },
   "file_extension": ".py",
   "mimetype": "text/x-python",
   "name": "python",
   "nbconvert_exporter": "python",
   "pygments_lexer": "ipython3",
   "version": "3.12.11"
  }
 },
 "nbformat": 4,
 "nbformat_minor": 5
}
